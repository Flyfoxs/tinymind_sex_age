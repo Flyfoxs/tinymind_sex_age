{
 "cells": [
  {
   "cell_type": "code",
   "execution_count": 2,
   "metadata": {
    "scrolled": true
   },
   "outputs": [
    {
     "name": "stderr",
     "output_type": "stream",
     "text": [
      "2018-09-22 14:21:27,892 util_log.py[33] INFO Begin to run get_lda_from_usage with:[5], {}\n",
      "2018-09-22 14:21:27,895 util_log.py[33] INFO Begin to run get_lda_app_and_usage with:[], {'group_level': 'app', 'drop': 0, 'agg_col': 'package', 'agg_method': None, 'n_topics': 5}\n",
      "2018-09-22 14:21:27,897 util_cache_file.py[79] DEBUG fn:get_lda_app_and_usage, para:[], kw:{'group_level': 'app', 'drop': 0, 'agg_col': 'package', 'agg_method': None, 'n_topics': 5}\n",
      "2018-09-22 14:21:27,899 util_cache_file.py[21] DEBUG try to read cache from file:./cache/get_lda_app_and_usage_[]_{'group_level': 'app', 'drop': 0, 'agg_col': 'package', 'agg_method': None, 'n_topics': 5}.csv, type:csv\n",
      "2018-09-22 14:21:28,120 util_cache_file.py[35] DEBUG Return 72727 resut from file cache:./cache/get_lda_app_and_usage_[]_{'group_level': 'app', 'drop': 0, 'agg_col': 'package', 'agg_method': None, 'n_topics': 5}.csv\n",
      "2018-09-22 14:21:28,122 util_log.py[38] INFO cost:   0.23 sec: ==='get_lda_app_and_usage' end ([], {'group_level': 'app', 'drop': 0, 'agg_col': 'package', 'agg_method': None, 'n_topics': 5}) \n",
      "2018-09-22 14:21:28,124 util_log.py[33] INFO Begin to run get_lda_app_and_usage with:[], {'group_level': 'usage', 'drop': 0, 'agg_col': 'package', 'agg_method': 'count', 'n_topics': 5}\n",
      "2018-09-22 14:21:28,126 util_cache_file.py[79] DEBUG fn:get_lda_app_and_usage, para:[], kw:{'group_level': 'usage', 'drop': 0, 'agg_col': 'package', 'agg_method': 'count', 'n_topics': 5}\n",
      "2018-09-22 14:21:28,128 util_cache_file.py[21] DEBUG try to read cache from file:./cache/get_lda_app_and_usage_[]_{'group_level': 'usage', 'drop': 0, 'agg_col': 'package', 'agg_method': 'count', 'n_topics': 5}.csv, type:csv\n",
      "2018-09-22 14:21:28,336 util_cache_file.py[35] DEBUG Return 72727 resut from file cache:./cache/get_lda_app_and_usage_[]_{'group_level': 'usage', 'drop': 0, 'agg_col': 'package', 'agg_method': 'count', 'n_topics': 5}.csv\n",
      "2018-09-22 14:21:28,338 util_log.py[38] INFO cost:   0.21 sec: ==='get_lda_app_and_usage' end ([], {'group_level': 'usage', 'drop': 0, 'agg_col': 'package', 'agg_method': 'count', 'n_topics': 5}) \n",
      "2018-09-22 14:21:28,340 util_log.py[33] INFO Begin to run get_lda_app_and_usage with:[], {'group_level': 'usage', 'drop': 0, 'agg_col': 'package', 'agg_method': 'sum', 'n_topics': 5}\n",
      "2018-09-22 14:21:28,342 util_cache_file.py[79] DEBUG fn:get_lda_app_and_usage, para:[], kw:{'group_level': 'usage', 'drop': 0, 'agg_col': 'package', 'agg_method': 'sum', 'n_topics': 5}\n",
      "2018-09-22 14:21:28,344 util_cache_file.py[21] DEBUG try to read cache from file:./cache/get_lda_app_and_usage_[]_{'group_level': 'usage', 'drop': 0, 'agg_col': 'package', 'agg_method': 'sum', 'n_topics': 5}.csv, type:csv\n",
      "2018-09-22 14:21:28,598 util_cache_file.py[35] DEBUG Return 72727 resut from file cache:./cache/get_lda_app_and_usage_[]_{'group_level': 'usage', 'drop': 0, 'agg_col': 'package', 'agg_method': 'sum', 'n_topics': 5}.csv\n",
      "2018-09-22 14:21:28,601 util_log.py[38] INFO cost:   0.26 sec: ==='get_lda_app_and_usage' end ([], {'group_level': 'usage', 'drop': 0, 'agg_col': 'package', 'agg_method': 'sum', 'n_topics': 5}) \n",
      "2018-09-22 14:21:28,602 util_log.py[33] INFO Begin to run get_lda_app_and_usage with:[], {'group_level': 'app', 'drop': 18363, 'agg_col': 'package', 'agg_method': None, 'n_topics': 5}\n",
      "2018-09-22 14:21:28,604 util_cache_file.py[79] DEBUG fn:get_lda_app_and_usage, para:[], kw:{'group_level': 'app', 'drop': 18363, 'agg_col': 'package', 'agg_method': None, 'n_topics': 5}\n",
      "2018-09-22 14:21:28,605 util_cache_file.py[21] DEBUG try to read cache from file:./cache/get_lda_app_and_usage_[]_{'group_level': 'app', 'drop': 18363, 'agg_col': 'package', 'agg_method': None, 'n_topics': 5}.csv, type:csv\n",
      "2018-09-22 14:21:28,796 util_cache_file.py[35] DEBUG Return 72727 resut from file cache:./cache/get_lda_app_and_usage_[]_{'group_level': 'app', 'drop': 18363, 'agg_col': 'package', 'agg_method': None, 'n_topics': 5}.csv\n",
      "2018-09-22 14:21:28,798 util_log.py[38] INFO cost:   0.20 sec: ==='get_lda_app_and_usage' end ([], {'group_level': 'app', 'drop': 18363, 'agg_col': 'package', 'agg_method': None, 'n_topics': 5}) \n",
      "2018-09-22 14:21:28,799 util_log.py[33] INFO Begin to run get_lda_app_and_usage with:[], {'group_level': 'usage', 'drop': 18363, 'agg_col': 'package', 'agg_method': 'count', 'n_topics': 5}\n",
      "2018-09-22 14:21:28,801 util_cache_file.py[79] DEBUG fn:get_lda_app_and_usage, para:[], kw:{'group_level': 'usage', 'drop': 18363, 'agg_col': 'package', 'agg_method': 'count', 'n_topics': 5}\n",
      "2018-09-22 14:21:28,803 util_cache_file.py[21] DEBUG try to read cache from file:./cache/get_lda_app_and_usage_[]_{'group_level': 'usage', 'drop': 18363, 'agg_col': 'package', 'agg_method': 'count', 'n_topics': 5}.csv, type:csv\n",
      "2018-09-22 14:21:28,989 util_cache_file.py[35] DEBUG Return 72727 resut from file cache:./cache/get_lda_app_and_usage_[]_{'group_level': 'usage', 'drop': 18363, 'agg_col': 'package', 'agg_method': 'count', 'n_topics': 5}.csv\n",
      "2018-09-22 14:21:28,991 util_log.py[38] INFO cost:   0.19 sec: ==='get_lda_app_and_usage' end ([], {'group_level': 'usage', 'drop': 18363, 'agg_col': 'package', 'agg_method': 'count', 'n_topics': 5}) \n",
      "2018-09-22 14:21:28,992 util_log.py[33] INFO Begin to run get_lda_app_and_usage with:[], {'group_level': 'usage', 'drop': 18363, 'agg_col': 'package', 'agg_method': 'sum', 'n_topics': 5}\n",
      "2018-09-22 14:21:28,994 util_cache_file.py[79] DEBUG fn:get_lda_app_and_usage, para:[], kw:{'group_level': 'usage', 'drop': 18363, 'agg_col': 'package', 'agg_method': 'sum', 'n_topics': 5}\n",
      "2018-09-22 14:21:28,996 util_cache_file.py[21] DEBUG try to read cache from file:./cache/get_lda_app_and_usage_[]_{'group_level': 'usage', 'drop': 18363, 'agg_col': 'package', 'agg_method': 'sum', 'n_topics': 5}.csv, type:csv\n",
      "2018-09-22 14:21:29,189 util_cache_file.py[35] DEBUG Return 72727 resut from file cache:./cache/get_lda_app_and_usage_[]_{'group_level': 'usage', 'drop': 18363, 'agg_col': 'package', 'agg_method': 'sum', 'n_topics': 5}.csv\n",
      "2018-09-22 14:21:29,193 util_log.py[38] INFO cost:   0.20 sec: ==='get_lda_app_and_usage' end ([], {'group_level': 'usage', 'drop': 18363, 'agg_col': 'package', 'agg_method': 'sum', 'n_topics': 5}) \n",
      "2018-09-22 14:21:29,195 util_log.py[33] INFO Begin to run get_lda_app_and_usage with:[], {'group_level': 'usage', 'drop': 18363, 'agg_col': 'p_sub_type', 'agg_method': 'count', 'n_topics': 5}\n",
      "2018-09-22 14:21:29,198 util_cache_file.py[79] DEBUG fn:get_lda_app_and_usage, para:[], kw:{'group_level': 'usage', 'drop': 18363, 'agg_col': 'p_sub_type', 'agg_method': 'count', 'n_topics': 5}\n",
      "2018-09-22 14:21:29,200 util_cache_file.py[21] DEBUG try to read cache from file:./cache/get_lda_app_and_usage_[]_{'group_level': 'usage', 'drop': 18363, 'agg_col': 'p_sub_type', 'agg_method': 'count', 'n_topics': 5}.csv, type:csv\n",
      "2018-09-22 14:21:29,396 util_cache_file.py[35] DEBUG Return 72727 resut from file cache:./cache/get_lda_app_and_usage_[]_{'group_level': 'usage', 'drop': 18363, 'agg_col': 'p_sub_type', 'agg_method': 'count', 'n_topics': 5}.csv\n",
      "2018-09-22 14:21:29,399 util_log.py[38] INFO cost:   0.20 sec: ==='get_lda_app_and_usage' end ([], {'group_level': 'usage', 'drop': 18363, 'agg_col': 'p_sub_type', 'agg_method': 'count', 'n_topics': 5}) \n",
      "2018-09-22 14:21:29,401 util_log.py[33] INFO Begin to run get_lda_app_and_usage with:[], {'group_level': 'usage', 'drop': 0, 'agg_col': 'p_sub_type', 'agg_method': 'count', 'n_topics': 5}\n",
      "2018-09-22 14:21:29,403 util_cache_file.py[79] DEBUG fn:get_lda_app_and_usage, para:[], kw:{'group_level': 'usage', 'drop': 0, 'agg_col': 'p_sub_type', 'agg_method': 'count', 'n_topics': 5}\n",
      "2018-09-22 14:21:29,405 util_cache_file.py[21] DEBUG try to read cache from file:./cache/get_lda_app_and_usage_[]_{'group_level': 'usage', 'drop': 0, 'agg_col': 'p_sub_type', 'agg_method': 'count', 'n_topics': 5}.csv, type:csv\n",
      "2018-09-22 14:21:29,602 util_cache_file.py[35] DEBUG Return 72727 resut from file cache:./cache/get_lda_app_and_usage_[]_{'group_level': 'usage', 'drop': 0, 'agg_col': 'p_sub_type', 'agg_method': 'count', 'n_topics': 5}.csv\n",
      "2018-09-22 14:21:29,604 util_log.py[38] INFO cost:   0.20 sec: ==='get_lda_app_and_usage' end ([], {'group_level': 'usage', 'drop': 0, 'agg_col': 'p_sub_type', 'agg_method': 'count', 'n_topics': 5}) \n"
     ]
    },
    {
     "name": "stderr",
     "output_type": "stream",
     "text": [
      "2018-09-22 14:21:29,605 util_log.py[33] INFO Begin to run get_lda_app_and_usage with:[], {'group_level': 'usage', 'drop': 18363, 'agg_col': 'p_sub_type', 'agg_method': 'sum', 'n_topics': 5}\n",
      "2018-09-22 14:21:29,607 util_cache_file.py[79] DEBUG fn:get_lda_app_and_usage, para:[], kw:{'group_level': 'usage', 'drop': 18363, 'agg_col': 'p_sub_type', 'agg_method': 'sum', 'n_topics': 5}\n",
      "2018-09-22 14:21:29,609 util_cache_file.py[21] DEBUG try to read cache from file:./cache/get_lda_app_and_usage_[]_{'group_level': 'usage', 'drop': 18363, 'agg_col': 'p_sub_type', 'agg_method': 'sum', 'n_topics': 5}.csv, type:csv\n",
      "2018-09-22 14:21:29,826 util_cache_file.py[35] DEBUG Return 72727 resut from file cache:./cache/get_lda_app_and_usage_[]_{'group_level': 'usage', 'drop': 18363, 'agg_col': 'p_sub_type', 'agg_method': 'sum', 'n_topics': 5}.csv\n",
      "2018-09-22 14:21:29,828 util_log.py[38] INFO cost:   0.22 sec: ==='get_lda_app_and_usage' end ([], {'group_level': 'usage', 'drop': 18363, 'agg_col': 'p_sub_type', 'agg_method': 'sum', 'n_topics': 5}) \n",
      "2018-09-22 14:21:29,831 util_log.py[33] INFO Begin to run get_lda_app_and_usage with:[], {'group_level': 'usage', 'drop': 0, 'agg_col': 'p_sub_type', 'agg_method': 'sum', 'n_topics': 5}\n",
      "2018-09-22 14:21:29,834 util_cache_file.py[79] DEBUG fn:get_lda_app_and_usage, para:[], kw:{'group_level': 'usage', 'drop': 0, 'agg_col': 'p_sub_type', 'agg_method': 'sum', 'n_topics': 5}\n",
      "2018-09-22 14:21:29,836 util_cache_file.py[21] DEBUG try to read cache from file:./cache/get_lda_app_and_usage_[]_{'group_level': 'usage', 'drop': 0, 'agg_col': 'p_sub_type', 'agg_method': 'sum', 'n_topics': 5}.csv, type:csv\n",
      "2018-09-22 14:21:30,066 util_cache_file.py[35] DEBUG Return 72727 resut from file cache:./cache/get_lda_app_and_usage_[]_{'group_level': 'usage', 'drop': 0, 'agg_col': 'p_sub_type', 'agg_method': 'sum', 'n_topics': 5}.csv\n",
      "2018-09-22 14:21:30,068 util_log.py[38] INFO cost:   0.24 sec: ==='get_lda_app_and_usage' end ([], {'group_level': 'usage', 'drop': 0, 'agg_col': 'p_sub_type', 'agg_method': 'sum', 'n_topics': 5}) \n",
      "2018-09-22 14:21:30,308 util_log.py[38] INFO cost:   2.42 sec: ==='get_lda_from_usage' end ([5], {}) \n",
      "2018-09-22 14:21:30,327 util_log.py[33] INFO Begin to run summary_time_trend_on_usage with:[], {'version': 4, 'drop_useless_pkg': True, 'drop_long': 0.3}\n",
      "2018-09-22 14:21:30,329 util_cache_file.py[79] DEBUG fn:summary_time_trend_on_usage, para:[], kw:{'version': 4, 'drop_useless_pkg': True, 'drop_long': 0.3}\n",
      "2018-09-22 14:21:30,332 util_cache_file.py[21] DEBUG try to read cache from file:./cache/summary_time_trend_on_usage_[]_{'version': 4, 'drop_useless_pkg': True, 'drop_long': 0.3}.h5, type:h5\n"
     ]
    },
    {
     "name": "stdout",
     "output_type": "stream",
     "text": [
      "Device_pkg all column:Index(['0', '0', '0', '0', '0', '0', '0', '0', '0', '0', '1', '1', '1', '1', '1', '1', '1', '1', '1', '1', '2', '2', '2', '2', '2', '2', '2', '2', '2', '2', '3', '3', '3', '3', '3', '3', '3', '3', '3', '3', '4', '4', '4', '4', '4', '4', '4', '4', '4', '4'], dtype='object')\n"
     ]
    },
    {
     "name": "stderr",
     "output_type": "stream",
     "text": [
      "2018-09-22 14:21:30,606 util_cache_file.py[35] DEBUG Return 72579 resut from file cache:./cache/summary_time_trend_on_usage_[]_{'version': 4, 'drop_useless_pkg': True, 'drop_long': 0.3}.h5\n",
      "2018-09-22 14:21:30,608 util_log.py[38] INFO cost:   0.28 sec: ==='summary_time_trend_on_usage' end ([], {'version': 4, 'drop_useless_pkg': True, 'drop_long': 0.3}) \n"
     ]
    },
    {
     "name": "stdout",
     "output_type": "stream",
     "text": [
      "Cal percentage for sum columns#24:['sum_span24_0_sum', 'sum_span24_1_sum', 'sum_span24_2_sum', 'sum_span24_3_sum', 'sum_span24_4_sum', 'sum_span24_5_sum', 'sum_span24_6_sum', 'sum_span24_7_sum', 'sum_span24_8_sum', 'sum_span24_9_sum', 'sum_span24_10_sum', 'sum_span24_11_sum', 'sum_span24_12_sum', 'sum_span24_13_sum', 'sum_span24_14_sum', 'sum_span24_15_sum', 'sum_span24_16_sum', 'sum_span24_17_sum', 'sum_span24_18_sum', 'sum_span24_19_sum', 'sum_span24_20_sum', 'sum_span24_21_sum', 'sum_span24_22_sum', 'sum_span24_23_sum']\n",
      "Cal percentage for count columns#24:['sum_span24_0_count', 'sum_span24_1_count', 'sum_span24_2_count', 'sum_span24_3_count', 'sum_span24_4_count', 'sum_span24_5_count', 'sum_span24_6_count', 'sum_span24_7_count', 'sum_span24_8_count', 'sum_span24_9_count', 'sum_span24_10_count', 'sum_span24_11_count', 'sum_span24_12_count', 'sum_span24_13_count', 'sum_span24_14_count', 'sum_span24_15_count', 'sum_span24_16_count', 'sum_span24_17_count', 'sum_span24_18_count', 'sum_span24_19_count', 'sum_span24_20_count', 'sum_span24_21_count', 'sum_span24_22_count', 'sum_span24_23_count']\n"
     ]
    },
    {
     "name": "stderr",
     "output_type": "stream",
     "text": [
      "2018-09-22 14:21:31,074 util_log.py[33] INFO Begin to run summary_top_on_usage with:['p_type', 3], {}\n",
      "2018-09-22 14:21:31,076 util_cache_file.py[79] DEBUG fn:summary_top_on_usage, para:['p_type', 3], kw:{}\n",
      "2018-09-22 14:21:31,139 util_log.py[33] INFO Begin to run summary_top_for_individual_file with:['./output/start_close/deviceid_package_start_close_40_34_32015584_32956609.csv'], {'gp_col': 'p_type', 'top': 3}\n",
      "2018-09-22 14:21:31,139 util_log.py[33] INFO Begin to run summary_top_for_individual_file with:['./output/start_close/deviceid_package_start_close_40_36_33897608_34837990.csv'], {'gp_col': 'p_type', 'top': 3}\n",
      "2018-09-22 14:21:31,139 util_log.py[33] INFO Begin to run summary_top_for_individual_file with:['./output/start_close/deviceid_package_start_close_40_38_35780089_36720940.csv'], {'gp_col': 'p_type', 'top': 3}\n",
      "2018-09-22 14:21:31,142 util_log.py[33] INFO Begin to run summary_top_for_individual_file with:['./output/start_close/deviceid_package_start_close_40_30_28246874_29190060.csv'], {'gp_col': 'p_type', 'top': 3}\n",
      "2018-09-22 14:21:31,143 util_log.py[33] INFO Begin to run summary_top_for_individual_file with:['./output/start_close/deviceid_package_start_close_40_28_26363738_27305449.csv'], {'gp_col': 'p_type', 'top': 3}\n",
      "2018-09-22 14:21:31,141 util_log.py[33] INFO Begin to run summary_top_for_individual_file with:['./output/start_close/deviceid_package_start_close_40_32_30130637_31071649.csv'], {'gp_col': 'p_type', 'top': 3}\n",
      "2018-09-22 14:21:31,143 util_log.py[33] INFO Begin to run summary_top_for_individual_file with:['./output/start_close/deviceid_package_start_close_40_26_24483920_25422309.csv'], {'gp_col': 'p_type', 'top': 3}\n",
      "2018-09-22 14:21:31,145 util_log.py[33] INFO Begin to run summary_top_for_individual_file with:['./output/start_close/deviceid_package_start_close_40_24_22597574_23542785.csv'], {'gp_col': 'p_type', 'top': 3}\n",
      "2018-09-22 14:21:31,151 util_cache_file.py[79] DEBUG fn:cal_duration_for_partition, para:['deviceid_package_start_close_40_36_33897608_34837990.csv'], kw:{}\n",
      "2018-09-22 14:21:31,151 util_cache_file.py[79] DEBUG fn:cal_duration_for_partition, para:['deviceid_package_start_close_40_34_32015584_32956609.csv'], kw:{}\n",
      "2018-09-22 14:21:31,153 util_cache_file.py[79] DEBUG fn:cal_duration_for_partition, para:['deviceid_package_start_close_40_30_28246874_29190060.csv'], kw:{}\n",
      "2018-09-22 14:21:31,154 util_cache_file.py[79] DEBUG fn:cal_duration_for_partition, para:['deviceid_package_start_close_40_28_26363738_27305449.csv'], kw:{}\n",
      "2018-09-22 14:21:31,153 util_cache_file.py[79] DEBUG fn:cal_duration_for_partition, para:['deviceid_package_start_close_40_32_30130637_31071649.csv'], kw:{}\n",
      "2018-09-22 14:21:31,153 util_cache_file.py[79] DEBUG fn:cal_duration_for_partition, para:['deviceid_package_start_close_40_38_35780089_36720940.csv'], kw:{}\n",
      "2018-09-22 14:21:31,157 util_cache_file.py[79] DEBUG fn:cal_duration_for_partition, para:['deviceid_package_start_close_40_26_24483920_25422309.csv'], kw:{}\n",
      "2018-09-22 14:21:31,158 util_cache_file.py[79] DEBUG fn:cal_duration_for_partition, para:['deviceid_package_start_close_40_24_22597574_23542785.csv'], kw:{}\n",
      "2018-09-22 14:21:31,158 util_cache_file.py[21] DEBUG try to read cache from file:./cache/cal_duration_for_partition_['deviceid_package_start_close_40_34_32015584_32956609.csv']_{}.csv, type:csv\n",
      "2018-09-22 14:21:31,159 util_cache_file.py[21] DEBUG try to read cache from file:./cache/cal_duration_for_partition_['deviceid_package_start_close_40_36_33897608_34837990.csv']_{}.csv, type:csv\n",
      "2018-09-22 14:21:31,161 util_cache_file.py[21] DEBUG try to read cache from file:./cache/cal_duration_for_partition_['deviceid_package_start_close_40_30_28246874_29190060.csv']_{}.csv, type:csv\n",
      "2018-09-22 14:21:31,162 util_cache_file.py[21] DEBUG try to read cache from file:./cache/cal_duration_for_partition_['deviceid_package_start_close_40_32_30130637_31071649.csv']_{}.csv, type:csv\n",
      "2018-09-22 14:21:31,162 util_cache_file.py[21] DEBUG try to read cache from file:./cache/cal_duration_for_partition_['deviceid_package_start_close_40_28_26363738_27305449.csv']_{}.csv, type:csv\n",
      "2018-09-22 14:21:31,161 util_cache_file.py[21] DEBUG try to read cache from file:./cache/cal_duration_for_partition_['deviceid_package_start_close_40_38_35780089_36720940.csv']_{}.csv, type:csv\n",
      "2018-09-22 14:21:31,165 util_cache_file.py[21] DEBUG try to read cache from file:./cache/cal_duration_for_partition_['deviceid_package_start_close_40_24_22597574_23542785.csv']_{}.csv, type:csv\n",
      "2018-09-22 14:21:31,166 util_cache_file.py[21] DEBUG try to read cache from file:./cache/cal_duration_for_partition_['deviceid_package_start_close_40_26_24483920_25422309.csv']_{}.csv, type:csv\n",
      "2018-09-22 14:21:48,458 util_cache_file.py[35] DEBUG Return 972106 resut from file cache:./cache/cal_duration_for_partition_['deviceid_package_start_close_40_30_28246874_29190060.csv']_{}.csv\n",
      "2018-09-22 14:21:48,461 util_log.py[33] INFO Begin to run get_package_label with:[], {}\n",
      "2018-09-22 14:21:48,491 util_log.py[38] INFO cost:   0.03 sec: ==='get_package_label' end ([], {}) \n",
      "2018-09-22 14:21:48,524 util_cache_file.py[35] DEBUG Return 977912 resut from file cache:./cache/cal_duration_for_partition_['deviceid_package_start_close_40_32_30130637_31071649.csv']_{}.csv\n",
      "2018-09-22 14:21:48,527 util_log.py[33] INFO Begin to run get_package_label with:[], {}\n",
      "2018-09-22 14:21:48,567 util_log.py[38] INFO cost:   0.04 sec: ==='get_package_label' end ([], {}) \n",
      "2018-09-22 14:21:48,886 util_cache_file.py[35] DEBUG Return 993561 resut from file cache:./cache/cal_duration_for_partition_['deviceid_package_start_close_40_24_22597574_23542785.csv']_{}.csv\n",
      "2018-09-22 14:21:48,890 util_log.py[33] INFO Begin to run get_package_label with:[], {}\n",
      "2018-09-22 14:21:48,931 util_log.py[38] INFO cost:   0.04 sec: ==='get_package_label' end ([], {}) \n",
      "2018-09-22 14:21:48,991 util_cache_file.py[35] DEBUG Return 989135 resut from file cache:./cache/cal_duration_for_partition_['deviceid_package_start_close_40_26_24483920_25422309.csv']_{}.csv\n",
      "2018-09-22 14:21:48,994 util_log.py[33] INFO Begin to run get_package_label with:[], {}\n",
      "2018-09-22 14:21:49,028 util_log.py[38] INFO cost:   0.03 sec: ==='get_package_label' end ([], {}) \n",
      "2018-09-22 14:21:49,330 util_cache_file.py[35] DEBUG Return 1007748 resut from file cache:./cache/cal_duration_for_partition_['deviceid_package_start_close_40_34_32015584_32956609.csv']_{}.csv\n",
      "2018-09-22 14:21:49,337 util_log.py[33] INFO Begin to run get_package_label with:[], {}\n",
      "2018-09-22 14:21:49,373 util_log.py[38] INFO cost:   0.04 sec: ==='get_package_label' end ([], {}) \n",
      "2018-09-22 14:21:49,546 util_cache_file.py[35] DEBUG Return 1015547 resut from file cache:./cache/cal_duration_for_partition_['deviceid_package_start_close_40_38_35780089_36720940.csv']_{}.csv\n",
      "2018-09-22 14:21:49,553 util_log.py[33] INFO Begin to run get_package_label with:[], {}\n",
      "2018-09-22 14:21:49,603 util_log.py[38] INFO cost:   0.05 sec: ==='get_package_label' end ([], {}) \n",
      "2018-09-22 14:21:49,699 util_cache_file.py[35] DEBUG Return 1019196 resut from file cache:./cache/cal_duration_for_partition_['deviceid_package_start_close_40_28_26363738_27305449.csv']_{}.csv\n",
      "2018-09-22 14:21:49,705 util_log.py[33] INFO Begin to run get_package_label with:[], {}\n",
      "2018-09-22 14:21:49,757 util_log.py[38] INFO cost:   0.05 sec: ==='get_package_label' end ([], {}) \n",
      "2018-09-22 14:21:50,677 util_cache_file.py[35] DEBUG Return 1054254 resut from file cache:./cache/cal_duration_for_partition_['deviceid_package_start_close_40_36_33897608_34837990.csv']_{}.csv\n",
      "2018-09-22 14:21:50,683 util_log.py[33] INFO Begin to run get_package_label with:[], {}\n",
      "2018-09-22 14:21:50,777 util_log.py[38] INFO cost:   0.09 sec: ==='get_package_label' end ([], {}) \n",
      "2018-09-22 14:21:56,274 util_log.py[38] INFO cost:  25.13 sec: ==='summary_top_for_individual_file' end (['./output/start_close/deviceid_package_start_close_40_30_28246874_29190060.csv'], {'gp_col': 'p_type', 'top': 3}) \n",
      "2018-09-22 14:21:56,278 util_log.py[33] INFO Begin to run summary_top_for_individual_file with:['./output/start_close/deviceid_package_start_close_40_29_27305449_28246874.csv'], {'gp_col': 'p_type', 'top': 3}\n",
      "2018-09-22 14:21:56,283 util_cache_file.py[79] DEBUG fn:cal_duration_for_partition, para:['deviceid_package_start_close_40_29_27305449_28246874.csv'], kw:{}\n"
     ]
    },
    {
     "name": "stderr",
     "output_type": "stream",
     "text": [
      "2018-09-22 14:21:56,286 util_cache_file.py[21] DEBUG try to read cache from file:./cache/cal_duration_for_partition_['deviceid_package_start_close_40_29_27305449_28246874.csv']_{}.csv, type:csv\n",
      "2018-09-22 14:21:56,914 util_log.py[38] INFO cost:  25.77 sec: ==='summary_top_for_individual_file' end (['./output/start_close/deviceid_package_start_close_40_24_22597574_23542785.csv'], {'gp_col': 'p_type', 'top': 3}) \n",
      "2018-09-22 14:21:56,917 util_log.py[33] INFO Begin to run summary_top_for_individual_file with:['./output/start_close/deviceid_package_start_close_40_23_21656025_22597574.csv'], {'gp_col': 'p_type', 'top': 3}\n",
      "2018-09-22 14:21:56,921 util_cache_file.py[79] DEBUG fn:cal_duration_for_partition, para:['deviceid_package_start_close_40_23_21656025_22597574.csv'], kw:{}\n",
      "2018-09-22 14:21:56,924 util_cache_file.py[21] DEBUG try to read cache from file:./cache/cal_duration_for_partition_['deviceid_package_start_close_40_23_21656025_22597574.csv']_{}.csv, type:csv\n",
      "2018-09-22 14:21:56,982 util_log.py[38] INFO cost:  25.84 sec: ==='summary_top_for_individual_file' end (['./output/start_close/deviceid_package_start_close_40_26_24483920_25422309.csv'], {'gp_col': 'p_type', 'top': 3}) \n",
      "2018-09-22 14:21:56,985 util_log.py[33] INFO Begin to run summary_top_for_individual_file with:['./output/start_close/deviceid_package_start_close_40_25_23542785_24483920.csv'], {'gp_col': 'p_type', 'top': 3}\n",
      "2018-09-22 14:21:56,991 util_cache_file.py[79] DEBUG fn:cal_duration_for_partition, para:['deviceid_package_start_close_40_25_23542785_24483920.csv'], kw:{}\n",
      "2018-09-22 14:21:56,994 util_cache_file.py[21] DEBUG try to read cache from file:./cache/cal_duration_for_partition_['deviceid_package_start_close_40_25_23542785_24483920.csv']_{}.csv, type:csv\n",
      "2018-09-22 14:21:57,471 util_log.py[38] INFO cost:  26.33 sec: ==='summary_top_for_individual_file' end (['./output/start_close/deviceid_package_start_close_40_38_35780089_36720940.csv'], {'gp_col': 'p_type', 'top': 3}) \n",
      "2018-09-22 14:21:57,475 util_log.py[33] INFO Begin to run summary_top_for_individual_file with:['./output/start_close/deviceid_package_start_close_40_37_34837990_35780089.csv'], {'gp_col': 'p_type', 'top': 3}\n",
      "2018-09-22 14:21:57,478 util_cache_file.py[79] DEBUG fn:cal_duration_for_partition, para:['deviceid_package_start_close_40_37_34837990_35780089.csv'], kw:{}\n",
      "2018-09-22 14:21:57,480 util_cache_file.py[21] DEBUG try to read cache from file:./cache/cal_duration_for_partition_['deviceid_package_start_close_40_37_34837990_35780089.csv']_{}.csv, type:csv\n",
      "2018-09-22 14:21:57,665 util_log.py[38] INFO cost:  26.52 sec: ==='summary_top_for_individual_file' end (['./output/start_close/deviceid_package_start_close_40_28_26363738_27305449.csv'], {'gp_col': 'p_type', 'top': 3}) \n",
      "2018-09-22 14:21:57,670 util_log.py[33] INFO Begin to run summary_top_for_individual_file with:['./output/start_close/deviceid_package_start_close_40_27_25422309_26363738.csv'], {'gp_col': 'p_type', 'top': 3}\n",
      "2018-09-22 14:21:57,673 util_cache_file.py[79] DEBUG fn:cal_duration_for_partition, para:['deviceid_package_start_close_40_27_25422309_26363738.csv'], kw:{}\n",
      "2018-09-22 14:21:57,676 util_cache_file.py[21] DEBUG try to read cache from file:./cache/cal_duration_for_partition_['deviceid_package_start_close_40_27_25422309_26363738.csv']_{}.csv, type:csv\n",
      "2018-09-22 14:21:57,878 util_log.py[38] INFO cost:  26.74 sec: ==='summary_top_for_individual_file' end (['./output/start_close/deviceid_package_start_close_40_32_30130637_31071649.csv'], {'gp_col': 'p_type', 'top': 3}) \n",
      "2018-09-22 14:21:57,881 util_log.py[33] INFO Begin to run summary_top_for_individual_file with:['./output/start_close/deviceid_package_start_close_40_31_29190060_30130637.csv'], {'gp_col': 'p_type', 'top': 3}\n",
      "2018-09-22 14:21:57,885 util_cache_file.py[79] DEBUG fn:cal_duration_for_partition, para:['deviceid_package_start_close_40_31_29190060_30130637.csv'], kw:{}\n",
      "2018-09-22 14:21:57,889 util_cache_file.py[21] DEBUG try to read cache from file:./cache/cal_duration_for_partition_['deviceid_package_start_close_40_31_29190060_30130637.csv']_{}.csv, type:csv\n",
      "2018-09-22 14:21:58,003 util_log.py[38] INFO cost:  26.86 sec: ==='summary_top_for_individual_file' end (['./output/start_close/deviceid_package_start_close_40_34_32015584_32956609.csv'], {'gp_col': 'p_type', 'top': 3}) \n",
      "2018-09-22 14:21:58,007 util_log.py[33] INFO Begin to run summary_top_for_individual_file with:['./output/start_close/deviceid_package_start_close_40_33_31071649_32015584.csv'], {'gp_col': 'p_type', 'top': 3}\n",
      "2018-09-22 14:21:58,011 util_cache_file.py[79] DEBUG fn:cal_duration_for_partition, para:['deviceid_package_start_close_40_33_31071649_32015584.csv'], kw:{}\n",
      "2018-09-22 14:21:58,014 util_cache_file.py[21] DEBUG try to read cache from file:./cache/cal_duration_for_partition_['deviceid_package_start_close_40_33_31071649_32015584.csv']_{}.csv, type:csv\n",
      "2018-09-22 14:21:59,249 util_log.py[38] INFO cost:  28.11 sec: ==='summary_top_for_individual_file' end (['./output/start_close/deviceid_package_start_close_40_36_33897608_34837990.csv'], {'gp_col': 'p_type', 'top': 3}) \n",
      "2018-09-22 14:21:59,252 util_log.py[33] INFO Begin to run summary_top_for_individual_file with:['./output/start_close/deviceid_package_start_close_40_35_32956609_33897608.csv'], {'gp_col': 'p_type', 'top': 3}\n",
      "2018-09-22 14:21:59,256 util_cache_file.py[79] DEBUG fn:cal_duration_for_partition, para:['deviceid_package_start_close_40_35_32956609_33897608.csv'], kw:{}\n",
      "2018-09-22 14:21:59,259 util_cache_file.py[21] DEBUG try to read cache from file:./cache/cal_duration_for_partition_['deviceid_package_start_close_40_35_32956609_33897608.csv']_{}.csv, type:csv\n",
      "2018-09-22 14:22:10,843 util_cache_file.py[35] DEBUG Return 994541 resut from file cache:./cache/cal_duration_for_partition_['deviceid_package_start_close_40_29_27305449_28246874.csv']_{}.csv\n",
      "2018-09-22 14:22:10,847 util_log.py[33] INFO Begin to run get_package_label with:[], {}\n",
      "2018-09-22 14:22:10,883 util_log.py[38] INFO cost:   0.04 sec: ==='get_package_label' end ([], {}) \n",
      "2018-09-22 14:22:13,138 util_cache_file.py[35] DEBUG Return 995527 resut from file cache:./cache/cal_duration_for_partition_['deviceid_package_start_close_40_37_34837990_35780089.csv']_{}.csv\n",
      "2018-09-22 14:22:13,141 util_log.py[33] INFO Begin to run get_package_label with:[], {}\n",
      "2018-09-22 14:22:13,172 util_log.py[38] INFO cost:   0.03 sec: ==='get_package_label' end ([], {}) \n",
      "2018-09-22 14:22:13,516 util_cache_file.py[35] DEBUG Return 1035283 resut from file cache:./cache/cal_duration_for_partition_['deviceid_package_start_close_40_23_21656025_22597574.csv']_{}.csv\n",
      "2018-09-22 14:22:13,520 util_log.py[33] INFO Begin to run get_package_label with:[], {}\n",
      "2018-09-22 14:22:13,552 util_log.py[38] INFO cost:   0.03 sec: ==='get_package_label' end ([], {}) \n",
      "2018-09-22 14:22:13,801 util_cache_file.py[35] DEBUG Return 1002562 resut from file cache:./cache/cal_duration_for_partition_['deviceid_package_start_close_40_33_31071649_32015584.csv']_{}.csv\n",
      "2018-09-22 14:22:13,804 util_log.py[33] INFO Begin to run get_package_label with:[], {}\n",
      "2018-09-22 14:22:13,834 util_log.py[38] INFO cost:   0.03 sec: ==='get_package_label' end ([], {}) \n",
      "2018-09-22 14:22:13,847 util_cache_file.py[35] DEBUG Return 1019594 resut from file cache:./cache/cal_duration_for_partition_['deviceid_package_start_close_40_27_25422309_26363738.csv']_{}.csv\n",
      "2018-09-22 14:22:13,850 util_log.py[33] INFO Begin to run get_package_label with:[], {}\n",
      "2018-09-22 14:22:13,894 util_log.py[38] INFO cost:   0.04 sec: ==='get_package_label' end ([], {}) \n",
      "2018-09-22 14:22:14,498 util_cache_file.py[35] DEBUG Return 1024393 resut from file cache:./cache/cal_duration_for_partition_['deviceid_package_start_close_40_31_29190060_30130637.csv']_{}.csv\n",
      "2018-09-22 14:22:14,506 util_log.py[33] INFO Begin to run get_package_label with:[], {}\n",
      "2018-09-22 14:22:14,541 util_log.py[38] INFO cost:   0.03 sec: ==='get_package_label' end ([], {}) \n",
      "2018-09-22 14:22:16,694 util_log.py[38] INFO cost:  20.42 sec: ==='summary_top_for_individual_file' end (['./output/start_close/deviceid_package_start_close_40_29_27305449_28246874.csv'], {'gp_col': 'p_type', 'top': 3}) \n",
      "2018-09-22 14:22:16,796 util_log.py[33] INFO Begin to run summary_top_for_individual_file with:['./output/start_close/deviceid_package_start_close_40_22_20715335_21656025.csv'], {'gp_col': 'p_type', 'top': 3}\n"
     ]
    },
    {
     "name": "stderr",
     "output_type": "stream",
     "text": [
      "2018-09-22 14:22:16,800 util_cache_file.py[79] DEBUG fn:cal_duration_for_partition, para:['deviceid_package_start_close_40_22_20715335_21656025.csv'], kw:{}\n",
      "2018-09-22 14:22:16,806 util_cache_file.py[21] DEBUG try to read cache from file:./cache/cal_duration_for_partition_['deviceid_package_start_close_40_22_20715335_21656025.csv']_{}.csv, type:csv\n",
      "2018-09-22 14:22:17,376 util_cache_file.py[35] DEBUG Return 1107074 resut from file cache:./cache/cal_duration_for_partition_['deviceid_package_start_close_40_25_23542785_24483920.csv']_{}.csv\n",
      "2018-09-22 14:22:17,381 util_log.py[33] INFO Begin to run get_package_label with:[], {}\n",
      "2018-09-22 14:22:17,431 util_log.py[38] INFO cost:   0.05 sec: ==='get_package_label' end ([], {}) \n",
      "2018-09-22 14:22:17,494 util_cache_file.py[35] DEBUG Return 1023219 resut from file cache:./cache/cal_duration_for_partition_['deviceid_package_start_close_40_35_32956609_33897608.csv']_{}.csv\n",
      "2018-09-22 14:22:17,501 util_log.py[33] INFO Begin to run get_package_label with:[], {}\n",
      "2018-09-22 14:22:17,549 util_log.py[38] INFO cost:   0.05 sec: ==='get_package_label' end ([], {}) \n",
      "2018-09-22 14:22:20,177 util_log.py[38] INFO cost:  22.69 sec: ==='summary_top_for_individual_file' end (['./output/start_close/deviceid_package_start_close_40_37_34837990_35780089.csv'], {'gp_col': 'p_type', 'top': 3}) \n",
      "2018-09-22 14:22:20,218 util_log.py[33] INFO Begin to run summary_top_for_individual_file with:['./output/start_close/deviceid_package_start_close_40_20_18835616_19772995.csv'], {'gp_col': 'p_type', 'top': 3}\n",
      "2018-09-22 14:22:20,223 util_cache_file.py[79] DEBUG fn:cal_duration_for_partition, para:['deviceid_package_start_close_40_20_18835616_19772995.csv'], kw:{}\n",
      "2018-09-22 14:22:20,225 util_cache_file.py[21] DEBUG try to read cache from file:./cache/cal_duration_for_partition_['deviceid_package_start_close_40_20_18835616_19772995.csv']_{}.csv, type:csv\n",
      "2018-09-22 14:22:21,304 util_log.py[38] INFO cost:  24.39 sec: ==='summary_top_for_individual_file' end (['./output/start_close/deviceid_package_start_close_40_23_21656025_22597574.csv'], {'gp_col': 'p_type', 'top': 3}) \n",
      "2018-09-22 14:22:21,366 util_log.py[33] INFO Begin to run summary_top_for_individual_file with:['./output/start_close/deviceid_package_start_close_40_18_16948183_17889682.csv'], {'gp_col': 'p_type', 'top': 3}\n",
      "2018-09-22 14:22:21,370 util_cache_file.py[79] DEBUG fn:cal_duration_for_partition, para:['deviceid_package_start_close_40_18_16948183_17889682.csv'], kw:{}\n",
      "2018-09-22 14:22:21,373 util_cache_file.py[21] DEBUG try to read cache from file:./cache/cal_duration_for_partition_['deviceid_package_start_close_40_18_16948183_17889682.csv']_{}.csv, type:csv\n",
      "2018-09-22 14:22:21,747 util_log.py[38] INFO cost:  23.74 sec: ==='summary_top_for_individual_file' end (['./output/start_close/deviceid_package_start_close_40_33_31071649_32015584.csv'], {'gp_col': 'p_type', 'top': 3}) \n",
      "2018-09-22 14:22:21,789 util_log.py[33] INFO Begin to run summary_top_for_individual_file with:['./output/start_close/deviceid_package_start_close_40_16_15065494_16007179.csv'], {'gp_col': 'p_type', 'top': 3}\n",
      "2018-09-22 14:22:21,793 util_cache_file.py[79] DEBUG fn:cal_duration_for_partition, para:['deviceid_package_start_close_40_16_15065494_16007179.csv'], kw:{}\n",
      "2018-09-22 14:22:21,798 util_cache_file.py[21] DEBUG try to read cache from file:./cache/cal_duration_for_partition_['deviceid_package_start_close_40_16_15065494_16007179.csv']_{}.csv, type:csv\n",
      "2018-09-22 14:22:22,354 util_log.py[38] INFO cost:  24.47 sec: ==='summary_top_for_individual_file' end (['./output/start_close/deviceid_package_start_close_40_31_29190060_30130637.csv'], {'gp_col': 'p_type', 'top': 3}) \n",
      "2018-09-22 14:22:22,386 util_log.py[38] INFO cost:  24.72 sec: ==='summary_top_for_individual_file' end (['./output/start_close/deviceid_package_start_close_40_27_25422309_26363738.csv'], {'gp_col': 'p_type', 'top': 3}) \n",
      "2018-09-22 14:22:22,435 util_log.py[33] INFO Begin to run summary_top_for_individual_file with:['./output/start_close/deviceid_package_start_close_40_14_13182781_14124453.csv'], {'gp_col': 'p_type', 'top': 3}\n",
      "2018-09-22 14:22:22,439 util_cache_file.py[79] DEBUG fn:cal_duration_for_partition, para:['deviceid_package_start_close_40_14_13182781_14124453.csv'], kw:{}\n",
      "2018-09-22 14:22:22,445 util_cache_file.py[21] DEBUG try to read cache from file:./cache/cal_duration_for_partition_['deviceid_package_start_close_40_14_13182781_14124453.csv']_{}.csv, type:csv\n",
      "2018-09-22 14:22:22,447 util_log.py[33] INFO Begin to run summary_top_for_individual_file with:['./output/start_close/deviceid_package_start_close_40_12_11300295_12240880.csv'], {'gp_col': 'p_type', 'top': 3}\n",
      "2018-09-22 14:22:22,452 util_cache_file.py[79] DEBUG fn:cal_duration_for_partition, para:['deviceid_package_start_close_40_12_11300295_12240880.csv'], kw:{}\n",
      "2018-09-22 14:22:22,456 util_cache_file.py[21] DEBUG try to read cache from file:./cache/cal_duration_for_partition_['deviceid_package_start_close_40_12_11300295_12240880.csv']_{}.csv, type:csv\n",
      "2018-09-22 14:22:24,084 util_log.py[38] INFO cost:  24.83 sec: ==='summary_top_for_individual_file' end (['./output/start_close/deviceid_package_start_close_40_35_32956609_33897608.csv'], {'gp_col': 'p_type', 'top': 3}) \n",
      "2018-09-22 14:22:24,112 util_log.py[33] INFO Begin to run summary_top_for_individual_file with:['./output/start_close/deviceid_package_start_close_40_10_9415641_10357590.csv'], {'gp_col': 'p_type', 'top': 3}\n",
      "2018-09-22 14:22:24,115 util_cache_file.py[79] DEBUG fn:cal_duration_for_partition, para:['deviceid_package_start_close_40_10_9415641_10357590.csv'], kw:{}\n",
      "2018-09-22 14:22:24,119 util_cache_file.py[21] DEBUG try to read cache from file:./cache/cal_duration_for_partition_['deviceid_package_start_close_40_10_9415641_10357590.csv']_{}.csv, type:csv\n",
      "2018-09-22 14:22:24,566 util_log.py[38] INFO cost:  27.58 sec: ==='summary_top_for_individual_file' end (['./output/start_close/deviceid_package_start_close_40_25_23542785_24483920.csv'], {'gp_col': 'p_type', 'top': 3}) \n",
      "2018-09-22 14:22:24,611 util_log.py[33] INFO Begin to run summary_top_for_individual_file with:['./output/start_close/deviceid_package_start_close_40_08_7533566_8474059.csv'], {'gp_col': 'p_type', 'top': 3}\n",
      "2018-09-22 14:22:24,615 util_cache_file.py[79] DEBUG fn:cal_duration_for_partition, para:['deviceid_package_start_close_40_08_7533566_8474059.csv'], kw:{}\n",
      "2018-09-22 14:22:24,619 util_cache_file.py[21] DEBUG try to read cache from file:./cache/cal_duration_for_partition_['deviceid_package_start_close_40_08_7533566_8474059.csv']_{}.csv, type:csv\n",
      "2018-09-22 14:22:31,466 util_cache_file.py[35] DEBUG Return 1043547 resut from file cache:./cache/cal_duration_for_partition_['deviceid_package_start_close_40_22_20715335_21656025.csv']_{}.csv\n",
      "2018-09-22 14:22:31,470 util_log.py[33] INFO Begin to run get_package_label with:[], {}\n",
      "2018-09-22 14:22:31,507 util_log.py[38] INFO cost:   0.04 sec: ==='get_package_label' end ([], {}) \n",
      "2018-09-22 14:22:34,612 util_cache_file.py[35] DEBUG Return 970269 resut from file cache:./cache/cal_duration_for_partition_['deviceid_package_start_close_40_16_15065494_16007179.csv']_{}.csv\n",
      "2018-09-22 14:22:34,615 util_log.py[33] INFO Begin to run get_package_label with:[], {}\n",
      "2018-09-22 14:22:34,643 util_log.py[38] INFO cost:   0.03 sec: ==='get_package_label' end ([], {}) \n",
      "2018-09-22 14:22:35,250 util_cache_file.py[35] DEBUG Return 991198 resut from file cache:./cache/cal_duration_for_partition_['deviceid_package_start_close_40_18_16948183_17889682.csv']_{}.csv\n",
      "2018-09-22 14:22:35,253 util_log.py[33] INFO Begin to run get_package_label with:[], {}\n",
      "2018-09-22 14:22:35,289 util_log.py[38] INFO cost:   0.04 sec: ==='get_package_label' end ([], {}) \n",
      "2018-09-22 14:22:35,643 util_cache_file.py[35] DEBUG Return 1047884 resut from file cache:./cache/cal_duration_for_partition_['deviceid_package_start_close_40_20_18835616_19772995.csv']_{}.csv\n",
      "2018-09-22 14:22:35,647 util_log.py[33] INFO Begin to run get_package_label with:[], {}\n",
      "2018-09-22 14:22:35,684 util_log.py[38] INFO cost:   0.04 sec: ==='get_package_label' end ([], {}) \n",
      "2018-09-22 14:22:35,969 util_cache_file.py[35] DEBUG Return 967290 resut from file cache:./cache/cal_duration_for_partition_['deviceid_package_start_close_40_12_11300295_12240880.csv']_{}.csv\n"
     ]
    },
    {
     "name": "stderr",
     "output_type": "stream",
     "text": [
      "2018-09-22 14:22:35,972 util_log.py[33] INFO Begin to run get_package_label with:[], {}\n",
      "2018-09-22 14:22:36,018 util_log.py[38] INFO cost:   0.05 sec: ==='get_package_label' end ([], {}) \n",
      "2018-09-22 14:22:37,651 util_log.py[38] INFO cost:  20.85 sec: ==='summary_top_for_individual_file' end (['./output/start_close/deviceid_package_start_close_40_22_20715335_21656025.csv'], {'gp_col': 'p_type', 'top': 3}) \n",
      "2018-09-22 14:22:37,673 util_log.py[33] INFO Begin to run summary_top_for_individual_file with:['./output/start_close/deviceid_package_start_close_40_21_19772995_20715335.csv'], {'gp_col': 'p_type', 'top': 3}\n",
      "2018-09-22 14:22:37,682 util_cache_file.py[79] DEBUG fn:cal_duration_for_partition, para:['deviceid_package_start_close_40_21_19772995_20715335.csv'], kw:{}\n",
      "2018-09-22 14:22:37,689 util_cache_file.py[21] DEBUG try to read cache from file:./cache/cal_duration_for_partition_['deviceid_package_start_close_40_21_19772995_20715335.csv']_{}.csv, type:csv\n",
      "2018-09-22 14:22:39,350 util_cache_file.py[35] DEBUG Return 983649 resut from file cache:./cache/cal_duration_for_partition_['deviceid_package_start_close_40_10_9415641_10357590.csv']_{}.csv\n",
      "2018-09-22 14:22:39,353 util_log.py[33] INFO Begin to run get_package_label with:[], {}\n",
      "2018-09-22 14:22:39,386 util_log.py[38] INFO cost:   0.03 sec: ==='get_package_label' end ([], {}) \n",
      "2018-09-22 14:22:39,523 util_cache_file.py[35] DEBUG Return 1065094 resut from file cache:./cache/cal_duration_for_partition_['deviceid_package_start_close_40_14_13182781_14124453.csv']_{}.csv\n",
      "2018-09-22 14:22:39,526 util_log.py[33] INFO Begin to run get_package_label with:[], {}\n",
      "2018-09-22 14:22:39,564 util_log.py[38] INFO cost:   0.04 sec: ==='get_package_label' end ([], {}) \n",
      "2018-09-22 14:22:41,281 util_log.py[38] INFO cost:  19.49 sec: ==='summary_top_for_individual_file' end (['./output/start_close/deviceid_package_start_close_40_16_15065494_16007179.csv'], {'gp_col': 'p_type', 'top': 3}) \n",
      "2018-09-22 14:22:41,285 util_log.py[33] INFO Begin to run summary_top_for_individual_file with:['./output/start_close/deviceid_package_start_close_40_15_14124453_15065494.csv'], {'gp_col': 'p_type', 'top': 3}\n",
      "2018-09-22 14:22:41,286 util_cache_file.py[79] DEBUG fn:cal_duration_for_partition, para:['deviceid_package_start_close_40_15_14124453_15065494.csv'], kw:{}\n",
      "2018-09-22 14:22:41,289 util_cache_file.py[21] DEBUG try to read cache from file:./cache/cal_duration_for_partition_['deviceid_package_start_close_40_15_14124453_15065494.csv']_{}.csv, type:csv\n",
      "2018-09-22 14:22:41,696 util_log.py[38] INFO cost:  20.33 sec: ==='summary_top_for_individual_file' end (['./output/start_close/deviceid_package_start_close_40_18_16948183_17889682.csv'], {'gp_col': 'p_type', 'top': 3}) \n",
      "2018-09-22 14:22:41,709 util_log.py[33] INFO Begin to run summary_top_for_individual_file with:['./output/start_close/deviceid_package_start_close_40_17_16007179_16948183.csv'], {'gp_col': 'p_type', 'top': 3}\n",
      "2018-09-22 14:22:41,713 util_cache_file.py[79] DEBUG fn:cal_duration_for_partition, para:['deviceid_package_start_close_40_17_16007179_16948183.csv'], kw:{}\n",
      "2018-09-22 14:22:41,718 util_cache_file.py[21] DEBUG try to read cache from file:./cache/cal_duration_for_partition_['deviceid_package_start_close_40_17_16007179_16948183.csv']_{}.csv, type:csv\n",
      "2018-09-22 14:22:41,917 util_cache_file.py[35] DEBUG Return 1066664 resut from file cache:./cache/cal_duration_for_partition_['deviceid_package_start_close_40_08_7533566_8474059.csv']_{}.csv\n",
      "2018-09-22 14:22:41,920 util_log.py[33] INFO Begin to run get_package_label with:[], {}\n",
      "2018-09-22 14:22:41,958 util_log.py[38] INFO cost:   0.04 sec: ==='get_package_label' end ([], {}) \n",
      "2018-09-22 14:22:42,269 util_log.py[38] INFO cost:  22.05 sec: ==='summary_top_for_individual_file' end (['./output/start_close/deviceid_package_start_close_40_20_18835616_19772995.csv'], {'gp_col': 'p_type', 'top': 3}) \n",
      "2018-09-22 14:22:42,273 util_log.py[33] INFO Begin to run summary_top_for_individual_file with:['./output/start_close/deviceid_package_start_close_40_19_17889682_18835616.csv'], {'gp_col': 'p_type', 'top': 3}\n",
      "2018-09-22 14:22:42,277 util_cache_file.py[79] DEBUG fn:cal_duration_for_partition, para:['deviceid_package_start_close_40_19_17889682_18835616.csv'], kw:{}\n",
      "2018-09-22 14:22:42,281 util_cache_file.py[21] DEBUG try to read cache from file:./cache/cal_duration_for_partition_['deviceid_package_start_close_40_19_17889682_18835616.csv']_{}.csv, type:csv\n",
      "2018-09-22 14:22:42,671 util_log.py[38] INFO cost:  20.22 sec: ==='summary_top_for_individual_file' end (['./output/start_close/deviceid_package_start_close_40_12_11300295_12240880.csv'], {'gp_col': 'p_type', 'top': 3}) \n",
      "2018-09-22 14:22:42,675 util_log.py[33] INFO Begin to run summary_top_for_individual_file with:['./output/start_close/deviceid_package_start_close_40_11_10357590_11300295.csv'], {'gp_col': 'p_type', 'top': 3}\n",
      "2018-09-22 14:22:42,679 util_cache_file.py[79] DEBUG fn:cal_duration_for_partition, para:['deviceid_package_start_close_40_11_10357590_11300295.csv'], kw:{}\n",
      "2018-09-22 14:22:42,682 util_cache_file.py[21] DEBUG try to read cache from file:./cache/cal_duration_for_partition_['deviceid_package_start_close_40_11_10357590_11300295.csv']_{}.csv, type:csv\n",
      "2018-09-22 14:22:44,867 util_log.py[38] INFO cost:  20.75 sec: ==='summary_top_for_individual_file' end (['./output/start_close/deviceid_package_start_close_40_10_9415641_10357590.csv'], {'gp_col': 'p_type', 'top': 3}) \n",
      "2018-09-22 14:22:44,870 util_log.py[33] INFO Begin to run summary_top_for_individual_file with:['./output/start_close/deviceid_package_start_close_40_09_8474059_9415641.csv'], {'gp_col': 'p_type', 'top': 3}\n",
      "2018-09-22 14:22:44,875 util_cache_file.py[79] DEBUG fn:cal_duration_for_partition, para:['deviceid_package_start_close_40_09_8474059_9415641.csv'], kw:{}\n",
      "2018-09-22 14:22:44,878 util_cache_file.py[21] DEBUG try to read cache from file:./cache/cal_duration_for_partition_['deviceid_package_start_close_40_09_8474059_9415641.csv']_{}.csv, type:csv\n",
      "2018-09-22 14:22:45,530 util_log.py[38] INFO cost:  23.10 sec: ==='summary_top_for_individual_file' end (['./output/start_close/deviceid_package_start_close_40_14_13182781_14124453.csv'], {'gp_col': 'p_type', 'top': 3}) \n",
      "2018-09-22 14:22:45,533 util_log.py[33] INFO Begin to run summary_top_for_individual_file with:['./output/start_close/deviceid_package_start_close_40_13_12240880_13182781.csv'], {'gp_col': 'p_type', 'top': 3}\n",
      "2018-09-22 14:22:45,537 util_cache_file.py[79] DEBUG fn:cal_duration_for_partition, para:['deviceid_package_start_close_40_13_12240880_13182781.csv'], kw:{}\n",
      "2018-09-22 14:22:45,539 util_cache_file.py[21] DEBUG try to read cache from file:./cache/cal_duration_for_partition_['deviceid_package_start_close_40_13_12240880_13182781.csv']_{}.csv, type:csv\n",
      "2018-09-22 14:22:47,964 util_log.py[38] INFO cost:  23.35 sec: ==='summary_top_for_individual_file' end (['./output/start_close/deviceid_package_start_close_40_08_7533566_8474059.csv'], {'gp_col': 'p_type', 'top': 3}) \n",
      "2018-09-22 14:22:47,968 util_log.py[33] INFO Begin to run summary_top_for_individual_file with:['./output/start_close/deviceid_package_start_close_40_07_6591324_7533566.csv'], {'gp_col': 'p_type', 'top': 3}\n",
      "2018-09-22 14:22:47,972 util_cache_file.py[79] DEBUG fn:cal_duration_for_partition, para:['deviceid_package_start_close_40_07_6591324_7533566.csv'], kw:{}\n",
      "2018-09-22 14:22:47,976 util_cache_file.py[21] DEBUG try to read cache from file:./cache/cal_duration_for_partition_['deviceid_package_start_close_40_07_6591324_7533566.csv']_{}.csv, type:csv\n",
      "2018-09-22 14:22:50,794 util_cache_file.py[35] DEBUG Return 975738 resut from file cache:./cache/cal_duration_for_partition_['deviceid_package_start_close_40_21_19772995_20715335.csv']_{}.csv\n",
      "2018-09-22 14:22:50,798 util_log.py[33] INFO Begin to run get_package_label with:[], {}\n",
      "2018-09-22 14:22:50,827 util_log.py[38] INFO cost:   0.03 sec: ==='get_package_label' end ([], {}) \n",
      "2018-09-22 14:22:54,959 util_cache_file.py[35] DEBUG Return 987077 resut from file cache:./cache/cal_duration_for_partition_['deviceid_package_start_close_40_15_14124453_15065494.csv']_{}.csv\n",
      "2018-09-22 14:22:54,962 util_log.py[33] INFO Begin to run get_package_label with:[], {}\n"
     ]
    },
    {
     "name": "stderr",
     "output_type": "stream",
     "text": [
      "2018-09-22 14:22:55,001 util_log.py[38] INFO cost:   0.04 sec: ==='get_package_label' end ([], {}) \n",
      "2018-09-22 14:22:55,776 util_cache_file.py[35] DEBUG Return 1013619 resut from file cache:./cache/cal_duration_for_partition_['deviceid_package_start_close_40_17_16007179_16948183.csv']_{}.csv\n",
      "2018-09-22 14:22:55,780 util_log.py[33] INFO Begin to run get_package_label with:[], {}\n",
      "2018-09-22 14:22:55,815 util_log.py[38] INFO cost:   0.04 sec: ==='get_package_label' end ([], {}) \n",
      "2018-09-22 14:22:57,055 util_log.py[38] INFO cost:  19.38 sec: ==='summary_top_for_individual_file' end (['./output/start_close/deviceid_package_start_close_40_21_19772995_20715335.csv'], {'gp_col': 'p_type', 'top': 3}) \n",
      "2018-09-22 14:22:57,125 util_log.py[33] INFO Begin to run summary_top_for_individual_file with:['./output/start_close/deviceid_package_start_close_40_06_5650114_6591324.csv'], {'gp_col': 'p_type', 'top': 3}\n",
      "2018-09-22 14:22:57,133 util_cache_file.py[79] DEBUG fn:cal_duration_for_partition, para:['deviceid_package_start_close_40_06_5650114_6591324.csv'], kw:{}\n",
      "2018-09-22 14:22:57,137 util_cache_file.py[21] DEBUG try to read cache from file:./cache/cal_duration_for_partition_['deviceid_package_start_close_40_06_5650114_6591324.csv']_{}.csv, type:csv\n",
      "2018-09-22 14:22:57,743 util_cache_file.py[35] DEBUG Return 1018256 resut from file cache:./cache/cal_duration_for_partition_['deviceid_package_start_close_40_11_10357590_11300295.csv']_{}.csv\n",
      "2018-09-22 14:22:57,746 util_log.py[33] INFO Begin to run get_package_label with:[], {}\n",
      "2018-09-22 14:22:57,790 util_log.py[38] INFO cost:   0.04 sec: ==='get_package_label' end ([], {}) \n",
      "2018-09-22 14:22:59,543 util_cache_file.py[35] DEBUG Return 1084503 resut from file cache:./cache/cal_duration_for_partition_['deviceid_package_start_close_40_19_17889682_18835616.csv']_{}.csv\n",
      "2018-09-22 14:22:59,547 util_log.py[33] INFO Begin to run get_package_label with:[], {}\n",
      "2018-09-22 14:22:59,582 util_log.py[38] INFO cost:   0.04 sec: ==='get_package_label' end ([], {}) \n",
      "2018-09-22 14:22:59,822 util_cache_file.py[35] DEBUG Return 989435 resut from file cache:./cache/cal_duration_for_partition_['deviceid_package_start_close_40_13_12240880_13182781.csv']_{}.csv\n",
      "2018-09-22 14:22:59,826 util_log.py[33] INFO Begin to run get_package_label with:[], {}\n",
      "2018-09-22 14:22:59,863 util_log.py[38] INFO cost:   0.04 sec: ==='get_package_label' end ([], {}) \n",
      "2018-09-22 14:23:01,256 util_log.py[38] INFO cost:  19.97 sec: ==='summary_top_for_individual_file' end (['./output/start_close/deviceid_package_start_close_40_15_14124453_15065494.csv'], {'gp_col': 'p_type', 'top': 3}) \n",
      "2018-09-22 14:23:01,305 util_log.py[33] INFO Begin to run summary_top_for_individual_file with:['./output/start_close/deviceid_package_start_close_40_04_3767625_4708450.csv'], {'gp_col': 'p_type', 'top': 3}\n",
      "2018-09-22 14:23:01,308 util_cache_file.py[79] DEBUG fn:cal_duration_for_partition, para:['deviceid_package_start_close_40_04_3767625_4708450.csv'], kw:{}\n",
      "2018-09-22 14:23:01,310 util_cache_file.py[21] DEBUG try to read cache from file:./cache/cal_duration_for_partition_['deviceid_package_start_close_40_04_3767625_4708450.csv']_{}.csv, type:csv\n",
      "2018-09-22 14:23:02,442 util_cache_file.py[35] DEBUG Return 1099869 resut from file cache:./cache/cal_duration_for_partition_['deviceid_package_start_close_40_09_8474059_9415641.csv']_{}.csv\n",
      "2018-09-22 14:23:02,451 util_log.py[33] INFO Begin to run get_package_label with:[], {}\n",
      "2018-09-22 14:23:02,483 util_log.py[38] INFO cost:   0.03 sec: ==='get_package_label' end ([], {}) \n",
      "2018-09-22 14:23:02,498 util_log.py[38] INFO cost:  20.79 sec: ==='summary_top_for_individual_file' end (['./output/start_close/deviceid_package_start_close_40_17_16007179_16948183.csv'], {'gp_col': 'p_type', 'top': 3}) \n",
      "2018-09-22 14:23:02,578 util_log.py[33] INFO Begin to run summary_top_for_individual_file with:['./output/start_close/deviceid_package_start_close_40_02_1890639_2824923.csv'], {'gp_col': 'p_type', 'top': 3}\n",
      "2018-09-22 14:23:02,582 util_cache_file.py[79] DEBUG fn:cal_duration_for_partition, para:['deviceid_package_start_close_40_02_1890639_2824923.csv'], kw:{}\n",
      "2018-09-22 14:23:02,586 util_cache_file.py[21] DEBUG try to read cache from file:./cache/cal_duration_for_partition_['deviceid_package_start_close_40_02_1890639_2824923.csv']_{}.csv, type:csv\n",
      "2018-09-22 14:23:04,126 util_log.py[38] INFO cost:  21.45 sec: ==='summary_top_for_individual_file' end (['./output/start_close/deviceid_package_start_close_40_11_10357590_11300295.csv'], {'gp_col': 'p_type', 'top': 3}) \n",
      "2018-09-22 14:23:04,176 util_log.py[33] INFO Begin to run summary_top_for_individual_file with:['./output/start_close/deviceid_package_start_close_40_00_0_943036.csv'], {'gp_col': 'p_type', 'top': 3}\n",
      "2018-09-22 14:23:04,179 util_cache_file.py[79] DEBUG fn:cal_duration_for_partition, para:['deviceid_package_start_close_40_00_0_943036.csv'], kw:{}\n",
      "2018-09-22 14:23:04,187 util_cache_file.py[21] DEBUG try to read cache from file:./cache/cal_duration_for_partition_['deviceid_package_start_close_40_00_0_943036.csv']_{}.csv, type:csv\n",
      "2018-09-22 14:23:04,407 util_cache_file.py[35] DEBUG Return 1059181 resut from file cache:./cache/cal_duration_for_partition_['deviceid_package_start_close_40_07_6591324_7533566.csv']_{}.csv\n",
      "2018-09-22 14:23:04,411 util_log.py[33] INFO Begin to run get_package_label with:[], {}\n",
      "2018-09-22 14:23:04,455 util_log.py[38] INFO cost:   0.04 sec: ==='get_package_label' end ([], {}) \n",
      "2018-09-22 14:23:06,206 util_log.py[38] INFO cost:  20.67 sec: ==='summary_top_for_individual_file' end (['./output/start_close/deviceid_package_start_close_40_13_12240880_13182781.csv'], {'gp_col': 'p_type', 'top': 3}) \n",
      "2018-09-22 14:23:06,299 util_log.py[38] INFO cost:  24.03 sec: ==='summary_top_for_individual_file' end (['./output/start_close/deviceid_package_start_close_40_19_17889682_18835616.csv'], {'gp_col': 'p_type', 'top': 3}) \n",
      "2018-09-22 14:23:08,666 util_log.py[38] INFO cost:  23.80 sec: ==='summary_top_for_individual_file' end (['./output/start_close/deviceid_package_start_close_40_09_8474059_9415641.csv'], {'gp_col': 'p_type', 'top': 3}) \n",
      "2018-09-22 14:23:10,228 util_log.py[38] INFO cost:  22.26 sec: ==='summary_top_for_individual_file' end (['./output/start_close/deviceid_package_start_close_40_07_6591324_7533566.csv'], {'gp_col': 'p_type', 'top': 3}) \n",
      "2018-09-22 14:23:11,558 util_cache_file.py[35] DEBUG Return 1074217 resut from file cache:./cache/cal_duration_for_partition_['deviceid_package_start_close_40_06_5650114_6591324.csv']_{}.csv\n",
      "2018-09-22 14:23:11,560 util_log.py[33] INFO Begin to run get_package_label with:[], {}\n",
      "2018-09-22 14:23:11,583 util_log.py[38] INFO cost:   0.02 sec: ==='get_package_label' end ([], {}) \n",
      "2018-09-22 14:23:13,026 util_cache_file.py[35] DEBUG Return 967341 resut from file cache:./cache/cal_duration_for_partition_['deviceid_package_start_close_40_02_1890639_2824923.csv']_{}.csv\n",
      "2018-09-22 14:23:13,029 util_log.py[33] INFO Begin to run get_package_label with:[], {}\n",
      "2018-09-22 14:23:13,055 util_log.py[38] INFO cost:   0.03 sec: ==='get_package_label' end ([], {}) \n",
      "2018-09-22 14:23:13,077 util_cache_file.py[35] DEBUG Return 1024602 resut from file cache:./cache/cal_duration_for_partition_['deviceid_package_start_close_40_04_3767625_4708450.csv']_{}.csv\n",
      "2018-09-22 14:23:13,082 util_log.py[33] INFO Begin to run get_package_label with:[], {}\n",
      "2018-09-22 14:23:13,112 util_log.py[38] INFO cost:   0.03 sec: ==='get_package_label' end ([], {}) \n",
      "2018-09-22 14:23:14,672 util_cache_file.py[35] DEBUG Return 1016983 resut from file cache:./cache/cal_duration_for_partition_['deviceid_package_start_close_40_00_0_943036.csv']_{}.csv\n",
      "2018-09-22 14:23:14,675 util_log.py[33] INFO Begin to run get_package_label with:[], {}\n",
      "2018-09-22 14:23:14,704 util_log.py[38] INFO cost:   0.03 sec: ==='get_package_label' end ([], {}) \n",
      "2018-09-22 14:23:15,557 util_log.py[38] INFO cost:  18.43 sec: ==='summary_top_for_individual_file' end (['./output/start_close/deviceid_package_start_close_40_06_5650114_6591324.csv'], {'gp_col': 'p_type', 'top': 3}) \n",
      "2018-09-22 14:23:15,560 util_log.py[33] INFO Begin to run summary_top_for_individual_file with:['./output/start_close/deviceid_package_start_close_40_05_4708450_5650114.csv'], {'gp_col': 'p_type', 'top': 3}\n"
     ]
    },
    {
     "name": "stderr",
     "output_type": "stream",
     "text": [
      "2018-09-22 14:23:15,563 util_cache_file.py[79] DEBUG fn:cal_duration_for_partition, para:['deviceid_package_start_close_40_05_4708450_5650114.csv'], kw:{}\n",
      "2018-09-22 14:23:15,565 util_cache_file.py[21] DEBUG try to read cache from file:./cache/cal_duration_for_partition_['deviceid_package_start_close_40_05_4708450_5650114.csv']_{}.csv, type:csv\n",
      "2018-09-22 14:23:16,660 util_log.py[38] INFO cost:  14.08 sec: ==='summary_top_for_individual_file' end (['./output/start_close/deviceid_package_start_close_40_02_1890639_2824923.csv'], {'gp_col': 'p_type', 'top': 3}) \n",
      "2018-09-22 14:23:16,663 util_log.py[33] INFO Begin to run summary_top_for_individual_file with:['./output/start_close/deviceid_package_start_close_40_01_943036_1890639.csv'], {'gp_col': 'p_type', 'top': 3}\n",
      "2018-09-22 14:23:16,666 util_cache_file.py[79] DEBUG fn:cal_duration_for_partition, para:['deviceid_package_start_close_40_01_943036_1890639.csv'], kw:{}\n",
      "2018-09-22 14:23:16,669 util_cache_file.py[21] DEBUG try to read cache from file:./cache/cal_duration_for_partition_['deviceid_package_start_close_40_01_943036_1890639.csv']_{}.csv, type:csv\n",
      "2018-09-22 14:23:16,869 util_log.py[38] INFO cost:  15.56 sec: ==='summary_top_for_individual_file' end (['./output/start_close/deviceid_package_start_close_40_04_3767625_4708450.csv'], {'gp_col': 'p_type', 'top': 3}) \n",
      "2018-09-22 14:23:16,872 util_log.py[33] INFO Begin to run summary_top_for_individual_file with:['./output/start_close/deviceid_package_start_close_40_03_2824923_3767625.csv'], {'gp_col': 'p_type', 'top': 3}\n",
      "2018-09-22 14:23:16,875 util_cache_file.py[79] DEBUG fn:cal_duration_for_partition, para:['deviceid_package_start_close_40_03_2824923_3767625.csv'], kw:{}\n",
      "2018-09-22 14:23:16,878 util_cache_file.py[21] DEBUG try to read cache from file:./cache/cal_duration_for_partition_['deviceid_package_start_close_40_03_2824923_3767625.csv']_{}.csv, type:csv\n",
      "2018-09-22 14:23:18,289 util_log.py[38] INFO cost:  14.11 sec: ==='summary_top_for_individual_file' end (['./output/start_close/deviceid_package_start_close_40_00_0_943036.csv'], {'gp_col': 'p_type', 'top': 3}) \n",
      "2018-09-22 14:23:23,441 util_cache_file.py[35] DEBUG Return 1011818 resut from file cache:./cache/cal_duration_for_partition_['deviceid_package_start_close_40_05_4708450_5650114.csv']_{}.csv\n",
      "2018-09-22 14:23:23,449 util_log.py[33] INFO Begin to run get_package_label with:[], {}\n",
      "2018-09-22 14:23:23,471 util_log.py[38] INFO cost:   0.02 sec: ==='get_package_label' end ([], {}) \n",
      "2018-09-22 14:23:24,577 util_cache_file.py[35] DEBUG Return 1031404 resut from file cache:./cache/cal_duration_for_partition_['deviceid_package_start_close_40_01_943036_1890639.csv']_{}.csv\n",
      "2018-09-22 14:23:24,580 util_log.py[33] INFO Begin to run get_package_label with:[], {}\n",
      "2018-09-22 14:23:24,605 util_log.py[38] INFO cost:   0.03 sec: ==='get_package_label' end ([], {}) \n",
      "2018-09-22 14:23:24,638 util_cache_file.py[35] DEBUG Return 1018824 resut from file cache:./cache/cal_duration_for_partition_['deviceid_package_start_close_40_03_2824923_3767625.csv']_{}.csv\n",
      "2018-09-22 14:23:24,641 util_log.py[33] INFO Begin to run get_package_label with:[], {}\n",
      "2018-09-22 14:23:24,671 util_log.py[38] INFO cost:   0.03 sec: ==='get_package_label' end ([], {}) \n",
      "2018-09-22 14:23:26,942 util_log.py[38] INFO cost:  11.38 sec: ==='summary_top_for_individual_file' end (['./output/start_close/deviceid_package_start_close_40_05_4708450_5650114.csv'], {'gp_col': 'p_type', 'top': 3}) \n",
      "2018-09-22 14:23:28,074 util_log.py[38] INFO cost:  11.41 sec: ==='summary_top_for_individual_file' end (['./output/start_close/deviceid_package_start_close_40_01_943036_1890639.csv'], {'gp_col': 'p_type', 'top': 3}) \n",
      "2018-09-22 14:23:28,076 util_log.py[38] INFO cost:  11.20 sec: ==='summary_top_for_individual_file' end (['./output/start_close/deviceid_package_start_close_40_03_2824923_3767625.csv'], {'gp_col': 'p_type', 'top': 3}) \n",
      "2018-09-22 14:23:28,682 util_cache_file.py[47] DEBUG ====Write 72727 records to File#./cache/summary_top_on_usage_['p_type', 3]_{}.h5\n",
      "/Users/lali2/dev/python/anaconda3/lib/python3.6/site-packages/pandas/core/generic.py:1471: PerformanceWarning: \n",
      "your performance may suffer as PyTables will pickle object types that it cannot\n",
      "map directly to c-types [inferred_type->mixed,key->block2_values] [items->['device', 'p_type_name_top#0', 'p_type_name_top#1', 'p_type_name_top#2']]\n",
      "\n",
      "  return pytables.to_hdf(path_or_buf, key, self, **kwargs)\n",
      "2018-09-22 14:23:28,932 util_log.py[38] INFO cost: 117.86 sec: ==='summary_top_on_usage' end (['p_type', 3], {}) \n",
      "2018-09-22 14:23:30,082 util_cache_file.py[79] DEBUG fn:get_tfidf, para:[], kw:{'summary': True}\n",
      "2018-09-22 14:23:30,084 util_cache_file.py[21] DEBUG try to read cache from file:./cache/get_tfidf_[]_{'summary': True}.csv, type:csv\n",
      "2018-09-22 14:23:30,173 util_cache_file.py[35] DEBUG Return 72727 resut from file cache:./cache/get_tfidf_[]_{'summary': True}.csv\n",
      "2018-09-22 14:23:30,732 util_log.py[33] INFO Begin to run extend_device_brand with:[], {}\n",
      "2018-09-22 14:23:30,735 util_log.py[33] INFO Begin to run get_brand with:[], {}\n",
      "2018-09-22 14:23:30,826 util_log.py[38] INFO cost:   0.09 sec: ==='get_brand' end ([], {}) \n"
     ]
    },
    {
     "name": "stdout",
     "output_type": "stream",
     "text": [
      "column list:Index(['device', '0', '0', '0', '0', '0', '0', '0', '0', '0',\n",
      "       ...\n",
      "       'p_type_dur_视频直播', 'p_type_dur_资讯', 'p_type_dur_输入法', 'p_type_dur_通讯', 'p_type_dur_金融', 'p_type_dur_音频娱乐', 'p_type_name_top#0', 'p_type_name_top#1', 'p_type_name_top#2', 'tfidf'], dtype='object', length=232)\n"
     ]
    },
    {
     "name": "stderr",
     "output_type": "stream",
     "text": [
      "2018-09-22 14:23:31,369 util_log.py[38] INFO cost:   0.64 sec: ==='extend_device_brand' end ([], {}) \n"
     ]
    }
   ],
   "source": [
    "from  tiny.package import *\n",
    "from  tiny.util import *\n",
    "from  tiny.lda import *\n",
    "from  tiny.tfidf import *\n",
    "from  tiny.usage import *\n",
    "drop_useless_pkg=True\n",
    "drop_long =0.3\n",
    "n_topics=5\n",
    "\n",
    "lda_feature = get_lda_from_usage(n_topics)\n",
    "\n",
    "feature = extend_feature(span_no=24, input=lda_feature,\n",
    "                         drop_useless_pkg=drop_useless_pkg, drop_long=drop_long)\n",
    "\n",
    "feature_label = attach_device_train_label(feature)"
   ]
  },
  {
   "cell_type": "code",
   "execution_count": 15,
   "metadata": {},
   "outputs": [
    {
     "name": "stderr",
     "output_type": "stream",
     "text": [
      "/Users/lali2/dev/python/anaconda3/lib/python3.6/site-packages/ipykernel_launcher.py:9: FutureWarning: 'labels' is deprecated. Use 'codes' instead\n",
      "  if __name__ == '__main__':\n"
     ]
    },
    {
     "data": {
      "text/plain": [
       "array([], dtype=int8)"
      ]
     },
     "execution_count": 15,
     "metadata": {},
     "output_type": "execute_result"
    }
   ],
   "source": [
    "train=feature_label[feature_label['sex'].notnull()]\n",
    "test =feature_label[feature_label['sex'].isnull()]\n",
    "\n",
    "X = train.drop(['sex', 'age', 'sex_age', 'device'], axis=1)\n",
    "Y = train['sex_age']\n",
    "\n",
    "Y = train['sex_age']\n",
    "Y_CAT = pd.Categorical(Y)\n",
    "tmp = Y_CAT.labels\n",
    "tmp[tmp==22]"
   ]
  },
  {
   "cell_type": "code",
   "execution_count": 2,
   "metadata": {},
   "outputs": [
    {
     "name": "stderr",
     "output_type": "stream",
     "text": [
      "2018-09-21 23:38:07,796 util_log.py[33] INFO Begin to run summary_top_for_individual_file with:['./output/start_close/deviceid_package_start_close_40_36_33897608_34837990.csv'], {'gp_col': 'p_type', 'top': 3}\n",
      "2018-09-21 23:38:07,796 util_log.py[33] INFO Begin to run summary_top_for_individual_file with:['./output/start_close/deviceid_package_start_close_40_37_34837990_35780089.csv'], {'gp_col': 'p_type', 'top': 3}\n",
      "2018-09-21 23:38:07,796 util_log.py[33] INFO Begin to run summary_top_for_individual_file with:['./output/start_close/deviceid_package_start_close_40_38_35780089_36720940.csv'], {'gp_col': 'p_type', 'top': 3}\n",
      "2018-09-21 23:38:07,802 util_cache_file.py[79] DEBUG fn:cal_duration_for_partition, para:['deviceid_package_start_close_40_37_34837990_35780089.csv'], kw:{}\n",
      "2018-09-21 23:38:07,802 util_cache_file.py[79] DEBUG fn:cal_duration_for_partition, para:['deviceid_package_start_close_40_38_35780089_36720940.csv'], kw:{}\n",
      "2018-09-21 23:38:07,804 util_cache_file.py[79] DEBUG fn:cal_duration_for_partition, para:['deviceid_package_start_close_40_36_33897608_34837990.csv'], kw:{}\n",
      "2018-09-21 23:38:07,806 util_cache_file.py[21] DEBUG try to read cache from file:./cache/cal_duration_for_partition_['deviceid_package_start_close_40_38_35780089_36720940.csv']_{}.csv, type:csv\n",
      "2018-09-21 23:38:07,806 util_cache_file.py[21] DEBUG try to read cache from file:./cache/cal_duration_for_partition_['deviceid_package_start_close_40_37_34837990_35780089.csv']_{}.csv, type:csv\n",
      "2018-09-21 23:38:07,807 util_cache_file.py[21] DEBUG try to read cache from file:./cache/cal_duration_for_partition_['deviceid_package_start_close_40_36_33897608_34837990.csv']_{}.csv, type:csv\n",
      "2018-09-21 23:38:16,136 util_cache_file.py[35] DEBUG Return 995527 resut from file cache:./cache/cal_duration_for_partition_['deviceid_package_start_close_40_37_34837990_35780089.csv']_{}.csv\n",
      "2018-09-21 23:38:16,138 util_log.py[33] INFO Begin to run get_package_label with:[], {}\n",
      "2018-09-21 23:38:16,158 util_log.py[38] INFO cost:   0.02 sec: ==='get_package_label' end ([], {}) \n",
      "2018-09-21 23:38:16,376 util_cache_file.py[35] DEBUG Return 1015547 resut from file cache:./cache/cal_duration_for_partition_['deviceid_package_start_close_40_38_35780089_36720940.csv']_{}.csv\n",
      "2018-09-21 23:38:16,379 util_log.py[33] INFO Begin to run get_package_label with:[], {}\n",
      "2018-09-21 23:38:16,397 util_log.py[38] INFO cost:   0.02 sec: ==='get_package_label' end ([], {}) \n",
      "2018-09-21 23:38:16,919 util_cache_file.py[35] DEBUG Return 1054254 resut from file cache:./cache/cal_duration_for_partition_['deviceid_package_start_close_40_36_33897608_34837990.csv']_{}.csv\n",
      "2018-09-21 23:38:16,922 util_log.py[33] INFO Begin to run get_package_label with:[], {}\n",
      "2018-09-21 23:38:16,945 util_log.py[38] INFO cost:   0.02 sec: ==='get_package_label' end ([], {}) \n",
      "2018-09-21 23:38:19,632 util_log.py[38] INFO cost:  11.84 sec: ==='summary_top_for_individual_file' end (['./output/start_close/deviceid_package_start_close_40_37_34837990_35780089.csv'], {'gp_col': 'p_type', 'top': 3}) \n",
      "2018-09-21 23:38:19,893 util_log.py[38] INFO cost:  12.10 sec: ==='summary_top_for_individual_file' end (['./output/start_close/deviceid_package_start_close_40_38_35780089_36720940.csv'], {'gp_col': 'p_type', 'top': 3}) \n",
      "2018-09-21 23:38:20,555 util_log.py[38] INFO cost:  12.76 sec: ==='summary_top_for_individual_file' end (['./output/start_close/deviceid_package_start_close_40_36_33897608_34837990.csv'], {'gp_col': 'p_type', 'top': 3}) \n",
      "Process ForkPoolWorker-2:\n",
      "Process ForkPoolWorker-1:\n",
      "Process ForkPoolWorker-3:\n",
      "Process ForkPoolWorker-4:\n",
      "Traceback (most recent call last):\n",
      "Traceback (most recent call last):\n",
      "Traceback (most recent call last):\n",
      "  File \"/Users/lali2/dev/python/anaconda3/lib/python3.6/multiprocessing/process.py\", line 258, in _bootstrap\n",
      "    self.run()\n",
      "  File \"/Users/lali2/dev/python/anaconda3/lib/python3.6/multiprocessing/process.py\", line 258, in _bootstrap\n",
      "    self.run()\n",
      "  File \"/Users/lali2/dev/python/anaconda3/lib/python3.6/multiprocessing/process.py\", line 258, in _bootstrap\n",
      "    self.run()\n",
      "Traceback (most recent call last):\n",
      "  File \"/Users/lali2/dev/python/anaconda3/lib/python3.6/multiprocessing/process.py\", line 93, in run\n",
      "    self._target(*self._args, **self._kwargs)\n",
      "  File \"/Users/lali2/dev/python/anaconda3/lib/python3.6/multiprocessing/process.py\", line 93, in run\n",
      "    self._target(*self._args, **self._kwargs)\n",
      "  File \"/Users/lali2/dev/python/anaconda3/lib/python3.6/multiprocessing/process.py\", line 93, in run\n",
      "    self._target(*self._args, **self._kwargs)\n",
      "  File \"/Users/lali2/dev/python/anaconda3/lib/python3.6/multiprocessing/pool.py\", line 108, in worker\n",
      "    task = get()\n",
      "  File \"/Users/lali2/dev/python/anaconda3/lib/python3.6/multiprocessing/pool.py\", line 108, in worker\n",
      "    task = get()\n",
      "  File \"/Users/lali2/dev/python/anaconda3/lib/python3.6/multiprocessing/pool.py\", line 108, in worker\n",
      "    task = get()\n",
      "  File \"/Users/lali2/dev/python/anaconda3/lib/python3.6/multiprocessing/process.py\", line 258, in _bootstrap\n",
      "    self.run()\n",
      "  File \"/Users/lali2/dev/python/anaconda3/lib/python3.6/multiprocessing/queues.py\", line 334, in get\n",
      "    with self._rlock:\n",
      "  File \"/Users/lali2/dev/python/anaconda3/lib/python3.6/multiprocessing/queues.py\", line 334, in get\n",
      "    with self._rlock:\n",
      "  File \"/Users/lali2/dev/python/anaconda3/lib/python3.6/multiprocessing/queues.py\", line 334, in get\n",
      "    with self._rlock:\n",
      "  File \"/Users/lali2/dev/python/anaconda3/lib/python3.6/multiprocessing/process.py\", line 93, in run\n",
      "    self._target(*self._args, **self._kwargs)\n",
      "  File \"/Users/lali2/dev/python/anaconda3/lib/python3.6/multiprocessing/synchronize.py\", line 96, in __enter__\n",
      "    return self._semlock.__enter__()\n",
      "  File \"/Users/lali2/dev/python/anaconda3/lib/python3.6/multiprocessing/synchronize.py\", line 96, in __enter__\n",
      "    return self._semlock.__enter__()\n",
      "  File \"/Users/lali2/dev/python/anaconda3/lib/python3.6/multiprocessing/synchronize.py\", line 96, in __enter__\n",
      "    return self._semlock.__enter__()\n",
      "  File \"/Users/lali2/dev/python/anaconda3/lib/python3.6/multiprocessing/pool.py\", line 108, in worker\n",
      "    task = get()\n",
      "KeyboardInterrupt\n",
      "KeyboardInterrupt\n",
      "KeyboardInterrupt\n",
      "  File \"/Users/lali2/dev/python/anaconda3/lib/python3.6/multiprocessing/queues.py\", line 335, in get\n",
      "    res = self._reader.recv_bytes()\n",
      "  File \"/Users/lali2/dev/python/anaconda3/lib/python3.6/multiprocessing/connection.py\", line 216, in recv_bytes\n",
      "    buf = self._recv_bytes(maxlength)\n",
      "  File \"/Users/lali2/dev/python/anaconda3/lib/python3.6/multiprocessing/connection.py\", line 407, in _recv_bytes\n",
      "    buf = self._recv(4)\n",
      "  File \"/Users/lali2/dev/python/anaconda3/lib/python3.6/multiprocessing/connection.py\", line 379, in _recv\n",
      "    chunk = read(handle, remaining)\n",
      "KeyboardInterrupt\n"
     ]
    }
   ],
   "source": [
    "\n",
    "\n",
    "from tiny.group_label import *\n",
    "gp_col = 'p_type'\n",
    "top=3\n",
    "rootdir = './output/start_close/'\n",
    "list_ = os.listdir(rootdir)  # 列出文件夹下所有的目录与文件\n",
    "path_list = sorted(list_, reverse=True)\n",
    "path_list = [os.path.join(rootdir, item) for item in path_list if item.endswith('csv')]\n",
    "\n",
    "from multiprocessing import Pool as ThreadPool\n",
    "\n",
    "pool = ThreadPool(processes=4)\n",
    "\n",
    "process_file = partial(summary_top_for_individual_file, gp_col=gp_col, top=top)\n",
    "results = pool.map(process_file, path_list[:3])\n",
    "\n",
    "results = [item for item in results if len(item)>0]\n"
   ]
  },
  {
   "cell_type": "code",
   "execution_count": 7,
   "metadata": {},
   "outputs": [
    {
     "name": "stdout",
     "output_type": "stream",
     "text": [
      "(1827, 102)\n",
      "(1927, 102)\n",
      "(1924, 102)\n",
      "102\n"
     ]
    }
   ],
   "source": [
    "for item in results:\n",
    "    print(item.shape)\n",
    "\n",
    "xx = pd.concat(results)\n",
    "\n",
    "print(len(list(xx.columns)))"
   ]
  },
  {
   "cell_type": "code",
   "execution_count": null,
   "metadata": {},
   "outputs": [],
   "source": [
    "\n",
    "#group by specific label\n",
    "#p_type, p_sub_type, combine_type, package\n",
    "gp_col = 'p_type' \n",
    "top = 3\n",
    "label_list = []\n",
    "value = 'package_cnt_daily'#,'package_dur_daily', 'duration_sum'\n",
    "\n",
    "#group by top#n\n",
    "gp = ex_input.groupby(['device', gp_col]).agg({'start':['count'], gp_col:['nunique'], 'duration':['sum'], 'start_base':['nunique']})\n",
    "gp.columns = [\"_\".join(x) for x in gp.columns.ravel()]\n",
    "\n",
    "gp[f'{gp_col}_cnt_daily'] = gp[f'start_count'] / gp['start_base_nunique']\n",
    "gp[f'{gp_col}_dur_daily'] = gp[f'duration_sum'] / gp['start_base_nunique']\n",
    "\n",
    "gp = gp.reset_index()\n",
    "gp = gp.sort_values(['device',f'{gp_col}_cnt_daily'], ascending=False)\n",
    "gp['cum_sn'] = gp.groupby('device').cumcount()\n",
    "gp = gp[gp.cum_sn < top]\n",
    "\n",
    "gp\n",
    "gp00 = gp.pivot(index='device', columns='cum_sn', values=f'{gp_col}_cnt_daily')\n",
    "gp00.columns = [f'{gp_col}_cnt_top#{item}' for item in gp00.columns]\n",
    "\n",
    "gp01 = gp.pivot(index='device', columns='cum_sn', values=f'{gp_col}_dur_daily')\n",
    "gp01.columns = [f'{gp_col}_dur_top#{item}' for item in gp01.columns]\n",
    "\n",
    "gp02 = gp.pivot(index='device', columns='cum_sn', values=gp_col)\n",
    "gp02.columns = [f'{gp_col}_name_top#{item}' for item in gp02.columns]\n",
    "\n",
    "\n",
    "\n",
    "\n",
    "\n",
    "gp = ex_input.groupby(['device', gp_col]).agg({'start':['count'],  'duration':['sum'], 'start_base':['nunique']})\n",
    "gp.columns = [\"_\".join(x) for x in gp.columns.ravel()]\n",
    "\n",
    "gp[f'{gp_col}_count'] = gp.count(axis=1)\n",
    "gp[f'{gp_col}_cnt_daily'] = gp[f'start_count'] / gp['start_base_nunique']\n",
    "gp[f'{gp_col}_dur_daily'] = gp[f'duration_sum'] / gp['start_base_nunique']\n",
    "gp\n",
    "gp = gp.reset_index()\n",
    "gp = gp.sort_values(['device',f'{gp_col}_cnt_daily'], ascending=False)\n",
    "gp\n",
    "gp['cum_sn'] = gp.groupby('device').cumcount()\n",
    "gp11 = gp.pivot(index='device', columns=gp_col, values=f'{gp_col}_cnt_daily')\n",
    "gp12 = gp.pivot(index='device', columns=gp_col, values=f'{gp_col}_dur_daily')\n",
    "\n",
    "\n",
    "\n",
    "tmp = ex_input.groupby('device')[gp_col].nunique().to_frame()\n",
    "tmp.rename(columns={gp_col:f'{gp_col}_count'}, inplace=True)\n",
    " \n",
    "\n",
    "df = pd.concat([gp00, gp01, gp02, gp11, gp12, tmp], axis=1)\n",
    "\n",
    "df.fillna(0)\n",
    " \n",
    "# gp[[f'{gp_col}_count','cum_sn']] = gp.groupby('device').agg({'duration_sum':'count', 'package_nunique':'cumcount'})\n",
    "# gp\n",
    "#len(list(gp.columns))"
   ]
  },
  {
   "cell_type": "code",
   "execution_count": null,
   "metadata": {},
   "outputs": [],
   "source": [
    "tmp = get_package_label()\n",
    "len(tmp.p_type.value_counts())"
   ]
  },
  {
   "cell_type": "code",
   "execution_count": null,
   "metadata": {},
   "outputs": [],
   "source": [
    "%matplotlib inline\n",
    "pd.set_option('display.height', 1000)\n",
    "df['month'] = df.start_base.dt.to_period('M')\n",
    "tmp = df.groupby('month')['month'].count()\n",
    "tmp = tmp.to_frame()\n",
    "tmp.rename(columns={'month':'count'}, inplace=True)\n",
    "tmp.reset_index(inplace=True)\n",
    "#tmp.dtypes\n",
    "\n",
    "#tmp.plot.line()"
   ]
  },
  {
   "cell_type": "code",
   "execution_count": null,
   "metadata": {},
   "outputs": [],
   "source": [
    "#tmp.set_index('month', inplace=True)\n",
    "tmp"
   ]
  },
  {
   "cell_type": "code",
   "execution_count": null,
   "metadata": {},
   "outputs": [],
   "source": [
    "total=df.groupby(['device']).agg({'package':'nunique', 'duration':'sum'})\n",
    "\n",
    "\n",
    "gp = df.groupby(['device', 'weekday']).agg({'package':'nunique', 'day_duration':'sum'})\n",
    "gp\n",
    "gp.reset_index(inplace=True)\n",
    "gp\n",
    "gp1=gp.pivot(index='device', columns='weekday',values='package')\n",
    "gp1.columns = [f'package_{col}' for col in gp1.columns]\n",
    "\n",
    "gp2=gp.pivot(index='device', columns='weekday',values='day_duration')\n",
    "gp2.columns = [f'duration_{col}' for col in gp2.columns]\n",
    "\n",
    "gp1.head()"
   ]
  },
  {
   "cell_type": "code",
   "execution_count": null,
   "metadata": {},
   "outputs": [],
   "source": [
    "merge = pd.concat([gp1, gp2, wk, total], axis=1)\n",
    "merge.head()"
   ]
  },
  {
   "cell_type": "code",
   "execution_count": null,
   "metadata": {},
   "outputs": [],
   "source": [
    "\n",
    "\n",
    "#转换为Percentage\n",
    "type_= 'package'\n",
    "for col in [col for col in merge.columns if f'{type_}_' in col]:\n",
    "    #print(col)\n",
    "    merge[col] = merge[col]/merge[type_]\n",
    "    \n",
    "type_= 'duration'\n",
    "for col in [col for col in merge.columns if f'{type_}_' in col]:\n",
    "   # print(col)\n",
    "    merge[col] = merge[col]/merge[type_]\n",
    "    \n",
    "merge.head()"
   ]
  },
  {
   "cell_type": "code",
   "execution_count": null,
   "metadata": {},
   "outputs": [],
   "source": [
    "df.describe()"
   ]
  },
  {
   "cell_type": "code",
   "execution_count": null,
   "metadata": {
    "collapsed": true
   },
   "outputs": [],
   "source": [
    "for col in tmp.columns:\n",
    "    if 'Unknown' in col:\n",
    "        print(col)\n",
    " \n"
   ]
  },
  {
   "cell_type": "code",
   "execution_count": null,
   "metadata": {
    "collapsed": true
   },
   "outputs": [],
   "source": [
    "pkg_label = get_package_label()\n",
    "pkg_label.set_index('package', inplace=True)\n",
    "pkg_label"
   ]
  },
  {
   "cell_type": "code",
   "execution_count": null,
   "metadata": {
    "collapsed": true
   },
   "outputs": [],
   "source": [
    "extend_time_span(version=0, trunc_long_time=False, mini=True, groupby=['device'], prefix='tol')\n"
   ]
  },
  {
   "cell_type": "code",
   "execution_count": null,
   "metadata": {
    "collapsed": true
   },
   "outputs": [],
   "source": [
    "columns = [ col for col in install.columns ]\n",
    "print(columns[:4])"
   ]
  },
  {
   "cell_type": "code",
   "execution_count": null,
   "metadata": {
    "collapsed": true
   },
   "outputs": [],
   "source": [
    "vectorizer = CountVectorizer()\n",
    "cntTf_app = vectorizer.fit_transform(apps)\n",
    "\n",
    "str(cntTf_app[:3])\n",
    "# cntTf_app = pd.DataFrame(cntTf_app,\n",
    "#                          columns=vectorizer.get_feature_names(),\n",
    "#                          index=deviceid_packages.device)"
   ]
  },
  {
   "cell_type": "code",
   "execution_count": null,
   "metadata": {
    "collapsed": true
   },
   "outputs": [],
   "source": []
  },
  {
   "cell_type": "code",
   "execution_count": null,
   "metadata": {
    "collapsed": true
   },
   "outputs": [],
   "source": [
    "mini = get_start_closed()\n",
    "tmp[tmp.device.isin(mini.device)][['device','duration_max_min', 'tol_day_cnt_nunique', 'gap']].sort_values('gap', ascending=False)\n",
    "\n",
    "\n",
    "#f993126b72f6297440c2dc8534b20a0b  49\n",
    "#fbf985012f537449b455d6a554479f8b  1161\n",
    "\n",
    "\n"
   ]
  },
  {
   "cell_type": "code",
   "execution_count": null,
   "metadata": {
    "collapsed": true
   },
   "outputs": [],
   "source": [
    "from  tiny.lda import *\n",
    "get_lda_from_usage()"
   ]
  },
  {
   "cell_type": "code",
   "execution_count": null,
   "metadata": {
    "collapsed": true
   },
   "outputs": [],
   "source": [
    "device= 'fa68862f9484c62aca5c3a4b8a2c70bc'\n",
    "mini[mini.device==device].sort_values('start')"
   ]
  },
  {
   "cell_type": "code",
   "execution_count": null,
   "metadata": {
    "collapsed": true
   },
   "outputs": [],
   "source": [
    "tmp[tmp.device==device]"
   ]
  },
  {
   "cell_type": "code",
   "execution_count": null,
   "metadata": {
    "collapsed": true
   },
   "outputs": [],
   "source": [
    "df2"
   ]
  },
  {
   "cell_type": "code",
   "execution_count": null,
   "metadata": {
    "collapsed": true
   },
   "outputs": [],
   "source": [
    "#df2.set_index('device', inplace=True)\n",
    "df.sort_index(ascending=False)\n"
   ]
  },
  {
   "cell_type": "code",
   "execution_count": null,
   "metadata": {
    "collapsed": true
   },
   "outputs": [],
   "source": [
    "split.head()"
   ]
  },
  {
   "cell_type": "code",
   "execution_count": null,
   "metadata": {
    "collapsed": true
   },
   "outputs": [],
   "source": [
    "print(pd.to_datetime('1488332491588', unit='ms'))  #fc6383d2bdb463fd01db6731594a6d36\t07e967d75aab2f6a52c558695a572a7c\n",
    "print(pd.to_datetime('1488332506604', unit='ms'))\n",
    "print(pd.to_datetime('1488363700875', unit='ms'))\n",
    "print(pd.to_datetime('1488363707487', unit='ms'))"
   ]
  },
  {
   "cell_type": "code",
   "execution_count": null,
   "metadata": {
    "collapsed": true
   },
   "outputs": [],
   "source": [
    "tmp = extend_time(tmp,2)\n",
    "#tmp['start'].astype\n",
    "#tmp['start'] = pd.to_datetime(tmp['start'])\n",
    "#tmp['start'].dt.date"
   ]
  },
  {
   "cell_type": "code",
   "execution_count": null,
   "metadata": {
    "collapsed": true
   },
   "outputs": [],
   "source": [
    "\n",
    "# def extend_percent(df):\n",
    "#     total = get_percent_duration(df, ['device'], 'total')\n",
    "\n",
    "#     max_week = get_max_week(df)\n",
    "\n",
    "#     merge = df.merge(max_week, on=['device', 'weekbegin'])\n",
    "\n",
    "#     max = get_percent_duration(merge, ['device'], prefix='max')\n",
    "\n",
    "#     return pd.concat( [total, max], axis=1 )\n",
    "\n",
    "\n",
    "# total = get_percent_duration(df, ['device'], 'total')\n",
    "\n",
    "\n",
    "# df = tmp\n",
    "# max_week = get_max_week(df)\n",
    "# max_week.head()\n",
    "# merge = df.merge(max_week, on=['device', 'weekbegin'])\n",
    "\n",
    " \n",
    "# def get_percent_duration(df, groupby=['device', 'weekday'], prefix=None):\n",
    "#     prefix = groupby[-1] if prefix is None else prefix\n",
    "#     columns = [key for key in df.columns if 'span_' in key]\n",
    "#     gp_map = [(key, 'sum') for key in columns if 'span_' in key]\n",
    "#     gp_map = dict(gp_map)\n",
    "#     # print(gp_map)\n",
    "\n",
    "#     gp_map['package'] = 'nunique'\n",
    "#     gp_map['start_base'] = 'nunique'\n",
    "#     df = df.groupby(groupby).agg(gp_map)\n",
    "#     #     df = df.groupby(groupby).agg({'span_0':'sum','span_1':'sum','span_2':'sum',\n",
    "#     #                                                  'span_3':'sum','package':'nunique' })\n",
    "#     df['total'] = df[[key for key in columns if 'span_' in key]].sum(axis=1)\n",
    "\n",
    "#     for col in columns:\n",
    "#         df[f'{col}_p'] = round(df[col] / df['total'], 3)\n",
    "\n",
    "#     df.rename({'package':'package_cnt', 'start_base':'start_base_cnt'}, axis=1, inplace=True)\n",
    "\n",
    "#     df.columns = [f'{prefix}_{key}' for key in df.columns]\n",
    "#     return df\n",
    "\n",
    "per = extend_percent(tmp)\n",
    "per.head()\n",
    "\n",
    "# max_week = get_max_week(tmp)\n",
    "# max_week\n",
    "\n",
    "# merge= tmp.merge(max_week, on = ['device','weekbegin'])\n",
    "\n",
    "# print(len(merge))\n",
    "\n",
    "# get_percent_duration(merge, ['device'], prefix='max')\n",
    "\n",
    "\n",
    "    "
   ]
  },
  {
   "cell_type": "code",
   "execution_count": null,
   "metadata": {
    "collapsed": true
   },
   "outputs": [],
   "source": [
    "per\n",
    "#tmp[tmp.device=='fc6383d2bdb463fd01db6731594a6d36'].sort_values('start')"
   ]
  },
  {
   "cell_type": "code",
   "execution_count": null,
   "metadata": {
    "collapsed": true
   },
   "outputs": [],
   "source": [
    "print('yes')"
   ]
  },
  {
   "cell_type": "code",
   "execution_count": null,
   "metadata": {
    "collapsed": true
   },
   "outputs": [],
   "source": [
    "#tmp['start_base']  = tmp['start'].dt.date\n",
    "# tmp = tmp[tmp.device.isin(['fff885dafce62310951c835247f30a38',\n",
    "# 'fc65f1731b785a8ce82d20a30dee9259'])]\n",
    "\n",
    "df = tmp.groupby(['device','weekbegin']).package.nunique().to_frame().reset_index()\n",
    "\n",
    "# .to_frame().reset_index()\n",
    "# df.sort_values(['device', 'package'])\n",
    "\n",
    "df.sort_values(by=['device', 'package', 'weekbegin'], ascending=False).groupby('device').nth(0)\n"
   ]
  },
  {
   "cell_type": "code",
   "execution_count": null,
   "metadata": {
    "collapsed": true
   },
   "outputs": [],
   "source": [
    "xx = df\n",
    "\n"
   ]
  },
  {
   "cell_type": "code",
   "execution_count": null,
   "metadata": {
    "collapsed": true
   },
   "outputs": [],
   "source": [
    "from lightgbm.sklearn import LGBMRegressor, LGBMClassifier\n",
    "from xgboost.sklearn import XGBRegressor\n",
    "import lightgbm as lgb\n",
    "from sklearn.cross_validation import train_test_split\n",
    "\n",
    "from tiny.lda import *\n",
    "from  tiny.util import *\n",
    "\n",
    "# New add\n",
    "# deviceid_train.rename({'device_id':'device'}, axis=1, inplace=True)\n",
    "deviceid_train = get_lda_feature()\n",
    "deviceid_train2 = get_lda_from_usage(mini=mini)\n",
    "\n",
    "core_list = ['0', '1', '2', '3','4']\n",
    "# for col in core_list:\n",
    "#     deviceid_train_2[col] =  deviceid_train_2[col].apply(lambda val: 1 if val > 0 else 0)\n",
    "deviceid_train = pd.concat([deviceid_train,deviceid_train2[core_list] ], axis=1)\n",
    "\n",
    "deviceid_train = extend_feature(span_no=24, input=deviceid_train, trunc_long_time=False)\n",
    "\n",
    "#deviceid_train = extend_feature(span_no=4,input=deviceid_train,  trunc_long_time=False)\n",
    "\n",
    "\n",
    "\n",
    "#print(len(deviceid_train))\n",
    "#deviceid_train.groupby('max_day_cnt')['max_day_cnt'].count()\n",
    "\n",
    "#\n",
    "#\n",
    "# col_drop = [item for item in deviceid_train.columns if 'max_' in str(item)]\n",
    "# deviceid_train.drop(columns=col_drop, inplace=True )\n",
    "\n",
    "#deviceid_train.drop(columns=['tfidf_sum'], inplace=True )\n",
    "deviceid_train.head()\n",
    "\n",
    "\n",
    "train=deviceid_train[deviceid_train['sex'].notnull()]\n",
    "test=deviceid_train[deviceid_train['sex'].isnull()]\n",
    "\n",
    "X = train.drop(['sex', 'age', 'sex_age', 'device'], axis=1)\n",
    "Y = train['sex_age']\n",
    "Y_CAT = pd.Categorical(Y)\n",
    "X_train, X_test, y_train, y_test = train_test_split(X, Y_CAT.labels, test_size=0.3, random_state=666)\n",
    "# lgb_train = lgb.Dataset(X_train, label=y_train)\n",
    "# lgb_eval = lgb.Dataset(X_test, y_test, reference=lgb_train)\n",
    "params = {\n",
    "    'boosting_type': 'gbdt',\n",
    "    'max_depth': 3,\n",
    "    'metric': {'multi_logloss'},\n",
    "    'num_class': 22,\n",
    "    'objective': 'multiclass',\n",
    "    'random_state': 47,\n",
    "\n",
    "    \"min_data_in_leaf\":1000,\n",
    "    'verbose': -1\n",
    "\n",
    "}\n",
    "\n",
    "\n",
    "gbm = LGBMClassifier(\n",
    "        n_estimators=1000,\n",
    "\n",
    "        )\n",
    "\n",
    "gbm.set_params(**params)\n",
    "\n",
    "print(gbm)\n",
    "\n",
    "gbm.fit(X_train, y_train, eval_set=[(X_test, y_test)],early_stopping_rounds=100,)\n",
    "\n",
    "#y_pred = gbm.predict(X_test, num_iteration=gbm.best_iteration)#\n",
    "print('Feature importances:', list(gbm.feature_importances_))\n",
    "\n",
    "best = round(gbm.best_score_.get('valid_0').get('multi_logloss'), 5)\n",
    "best\n",
    "\n",
    "\n",
    "pre_x=test.drop(['sex','age','sex_age','device'],axis=1)\n"
   ]
  },
  {
   "cell_type": "code",
   "execution_count": null,
   "metadata": {
    "collapsed": true
   },
   "outputs": [],
   "source": [
    "sub=pd.DataFrame(gbm.predict_proba(pre_x.values,num_iteration=gbm.best_iteration_))\n",
    "\n",
    "sub.head()"
   ]
  },
  {
   "cell_type": "code",
   "execution_count": null,
   "metadata": {
    "collapsed": true
   },
   "outputs": [],
   "source": [
    "tmp = extend_cols(tmp)\n",
    "tmp, tmp_new = split_days(tmp)\n",
    "\n",
    "tmp.head()"
   ]
  },
  {
   "cell_type": "code",
   "execution_count": null,
   "metadata": {
    "collapsed": true
   },
   "outputs": [],
   "source": [
    "tmp, tmp_new = split_days(tmp)\n",
    "tmp.head()"
   ]
  },
  {
   "cell_type": "code",
   "execution_count": null,
   "metadata": {
    "collapsed": true
   },
   "outputs": [],
   "source": [
    "trainn_label = get_train_label()\n",
    "trainn_label.head()"
   ]
  },
  {
   "cell_type": "code",
   "execution_count": null,
   "metadata": {
    "collapsed": true
   },
   "outputs": [],
   "source": [
    "from  tiny.util import *\n",
    "\n",
    "tmp = extend_feature( span_no=2, trunc_long_time=False, mini=True)"
   ]
  },
  {
   "cell_type": "code",
   "execution_count": null,
   "metadata": {
    "collapsed": true
   },
   "outputs": [],
   "source": [
    "tmp.head()"
   ]
  },
  {
   "cell_type": "code",
   "execution_count": null,
   "metadata": {
    "collapsed": true
   },
   "outputs": [],
   "source": [
    "tmp = extend_time_span(version=1, trunc_long_time=False, mini=True, groupby=['device'], prefix='tol')\n",
    "tmp.head()"
   ]
  },
  {
   "cell_type": "code",
   "execution_count": null,
   "metadata": {
    "collapsed": true
   },
   "outputs": [],
   "source": [
    "from tiny.lda import *\n",
    "from  tiny.util import *\n",
    "\n",
    "tmp = extend_package(version=1)\n",
    "tmp.head(3).sum(axis=1)"
   ]
  },
  {
   "cell_type": "code",
   "execution_count": null,
   "metadata": {
    "collapsed": true
   },
   "outputs": [],
   "source": [
    "tmp = tmp/tmp\n",
    "\n",
    "tmp.head(3).sum(axis=1)"
   ]
  },
  {
   "cell_type": "code",
   "execution_count": null,
   "metadata": {
    "collapsed": true
   },
   "outputs": [],
   "source": [
    "tmp.head(3).count(axis=1)"
   ]
  },
  {
   "cell_type": "code",
   "execution_count": null,
   "metadata": {
    "collapsed": true
   },
   "outputs": [],
   "source": [
    "tmp.head(3)"
   ]
  },
  {
   "cell_type": "code",
   "execution_count": null,
   "metadata": {
    "collapsed": true
   },
   "outputs": [],
   "source": []
  }
 ],
 "metadata": {
  "kernelspec": {
   "display_name": "Python 3",
   "language": "python",
   "name": "python3"
  },
  "language_info": {
   "codemirror_mode": {
    "name": "ipython",
    "version": 3
   },
   "file_extension": ".py",
   "mimetype": "text/x-python",
   "name": "python",
   "nbconvert_exporter": "python",
   "pygments_lexer": "ipython3",
   "version": "3.6.3"
  }
 },
 "nbformat": 4,
 "nbformat_minor": 2
}
