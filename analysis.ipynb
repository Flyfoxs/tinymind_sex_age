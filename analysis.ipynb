{
 "cells": [
  {
   "cell_type": "code",
   "execution_count": 3,
   "metadata": {
    "scrolled": true
   },
   "outputs": [
    {
     "name": "stderr",
     "output_type": "stream",
     "text": [
      "2018-09-16 13:13:28,369 util_log.py[33] INFO Begin to run extend_package with:[], {'version': 1, 'mini': False, 'type': 'combine_type'}\n",
      "2018-09-16 13:13:28,374 util_cache_file.py[69] DEBUG fn:extend_package, para:[], kw:{'version': 1, 'mini': False, 'type': 'combine_type'}\n",
      "2018-09-16 13:13:28,377 util_cache_file.py[20] DEBUG try to read cache from file:./cache/extend_package_[]_{'version': 1, 'mini': False, 'type': 'combine_type'}.pkl, type:<class 'type'>\n",
      "2018-09-16 13:13:28,468 util_cache_file.py[25] DEBUG Load to <class 'pandas.core.sparse.frame.SparseDataFrame'> for pkl@./cache/extend_package_[]_{'version': 1, 'mini': False, 'type': 'combine_type'}.pkl\n",
      "2018-09-16 13:13:28,471 util_cache_file.py[31] DEBUG Return 72727 resut from file cache:./cache/extend_package_[]_{'version': 1, 'mini': False, 'type': 'combine_type'}.pkl\n",
      "2018-09-16 13:13:28,474 util_log.py[38] INFO cost: 0.11 sec: ==='extend_package' end ([], {'version': 1, 'mini': False, 'type': 'combine_type'}) \n"
     ]
    },
    {
     "name": "stdout",
     "output_type": "stream",
     "text": [
      "begin\n"
     ]
    },
    {
     "data": {
      "text/plain": [
       "count_combine_type_ACT(动作类游戏)_动作冒险                  0.000000\n",
       "count_combine_type_ACT(动作类游戏)_格斗                    0.000000\n",
       "count_combine_type_RPG(角色扮演游戏)_ARPG(即时战斗角色扮演游戏)     0.000000\n",
       "count_combine_type_RPG(角色扮演游戏)_MOBA(多人在线战术竞技游戏)     0.000000\n",
       "count_combine_type_RPG(角色扮演游戏)_回合制                  0.000000\n",
       "count_combine_type_RPG(角色扮演游戏)_放置类                  0.000000\n",
       "count_combine_type_SIM(模拟游戏)_恋爱养成                   0.000000\n",
       "count_combine_type_SIM(模拟游戏)_模拟养成                   0.000000\n",
       "count_combine_type_SIM(模拟游戏)_模拟经营                   0.000000\n",
       "count_combine_type_SIM(模拟游戏)_沙盒                     0.000000\n",
       "count_combine_type_SLG(策略游戏)_塔防                     0.000000\n",
       "count_combine_type_SLG(策略游戏)_策略                     0.000000\n",
       "count_combine_type_TAB(桌面游戏)_桌游                     0.000000\n",
       "count_combine_type_TAB(桌面游戏)_棋牌                    32.000000\n",
       "count_combine_type_Unknown                         77.000000\n",
       "count_combine_type_交通出行_互联网巴士                       0.000000\n",
       "count_combine_type_交通出行_公共交通                        0.000000\n",
       "count_combine_type_交通出行_共享单车                        0.000000\n",
       "count_combine_type_交通出行_在线停车                        0.000000\n",
       "count_combine_type_交通出行_城市用车                        0.000000\n",
       "count_combine_type_交通出行_接单助手                        0.000000\n",
       "count_combine_type_交通出行_汽车分时租赁                      0.000000\n",
       "count_combine_type_交通出行_车辆充电加油                      0.000000\n",
       "count_combine_type_交通出行_长短租车                        0.000000\n",
       "count_combine_type_企业级应用_任务管理/项目管理                  0.000000\n",
       "count_combine_type_企业级应用_企业社交                       0.000000\n",
       "count_combine_type_企业级应用_广告/营销工具                    0.000000\n",
       "count_combine_type_企业级应用_考勤管理                       0.000000\n",
       "count_combine_type_企业级应用_视频会议/监控                    0.000000\n",
       "count_combine_type_企业级应用_进销存管理                      0.000000\n",
       "                                                     ...    \n",
       "duration_combine_type_资讯_网络媒体                       0.000000\n",
       "duration_combine_type_资讯_聚合资讯                       0.000000\n",
       "duration_combine_type_资讯_财经资讯                       0.000000\n",
       "duration_combine_type_输入法_中文输入法                     0.000000\n",
       "duration_combine_type_输入法_外文输入法                     0.000000\n",
       "duration_combine_type_通讯_企业即时通讯                     0.000000\n",
       "duration_combine_type_通讯_网络电话                       0.000000\n",
       "duration_combine_type_金融_保险服务                       0.000000\n",
       "duration_combine_type_金融_信用服务                       0.000000\n",
       "duration_combine_type_金融_外汇查询                       0.000000\n",
       "duration_combine_type_金融_大宗商品投资                     0.000000\n",
       "duration_combine_type_金融_彩票服务                       0.000000\n",
       "duration_combine_type_金融_投资理财                       0.000000\n",
       "duration_combine_type_金融_支付                         0.010254\n",
       "duration_combine_type_金融_消费金融                       0.000000\n",
       "duration_combine_type_金融_理财兼职                       0.000000\n",
       "duration_combine_type_金融_网络借贷                       0.000000\n",
       "duration_combine_type_金融_证券服务应用                     0.000000\n",
       "duration_combine_type_金融_贷款计算器                      0.000000\n",
       "duration_combine_type_金融_金融工具                       0.000000\n",
       "duration_combine_type_金融_银行服务应用                     0.000000\n",
       "duration_combine_type_音频娱乐_MV视频                     0.000000\n",
       "duration_combine_type_音频娱乐_有声阅读                     0.000000\n",
       "duration_combine_type_音频娱乐_移动K歌                     0.000000\n",
       "duration_combine_type_音频娱乐_移动电台                     0.000000\n",
       "duration_combine_type_音频娱乐_移动音乐                     0.000000\n",
       "duration_combine_type_音频娱乐_铃声工具                     0.000000\n",
       "duration_combine_type_音频娱乐_音乐学习                     0.000000\n",
       "duration_combine_type_音频娱乐_音乐播放器                    0.000000\n",
       "duration_combine_type_音频娱乐_音乐编辑                     0.000000\n",
       "Length: 578, dtype: float64"
      ]
     },
     "execution_count": 3,
     "metadata": {},
     "output_type": "execute_result"
    }
   ],
   "source": [
    "from  tiny.package import *\n",
    "from  tiny.util import *\n",
    "from  tiny.lda import *\n",
    "from  tiny.tfidf import *\n",
    "print('begin')\n",
    "# cntTf = get_cntTf('app')\n",
    "\n",
    "tmp=extend_package(version=1, mini=False,type='combine_type')\n",
    "tmp.head().sum(axis=0)"
   ]
  },
  {
   "cell_type": "code",
   "execution_count": 5,
   "metadata": {},
   "outputs": [
    {
     "name": "stdout",
     "output_type": "stream",
     "text": [
      "<class 'pandas.core.sparse.frame.SparseDataFrame'>\n",
      "0.012623831941445904\n"
     ]
    }
   ],
   "source": [
    "print(type(tmp))\n",
    "print(tmp.density)"
   ]
  },
  {
   "cell_type": "code",
   "execution_count": null,
   "metadata": {},
   "outputs": [],
   "source": [
    "for col in tmp.columns:\n",
    "    if 'Unknown' in col:\n",
    "        print(col)\n",
    " \n"
   ]
  },
  {
   "cell_type": "code",
   "execution_count": null,
   "metadata": {},
   "outputs": [],
   "source": [
    "pkg_label = get_package_label()\n",
    "pkg_label.set_index('package', inplace=True)\n",
    "pkg_label"
   ]
  },
  {
   "cell_type": "code",
   "execution_count": null,
   "metadata": {},
   "outputs": [],
   "source": [
    "extend_time_span(version=0, trunc_long_time=False, mini=True, groupby=['device'], prefix='tol')\n"
   ]
  },
  {
   "cell_type": "code",
   "execution_count": null,
   "metadata": {},
   "outputs": [],
   "source": [
    "columns = [ col for col in install.columns ]\n",
    "print(columns[:4])"
   ]
  },
  {
   "cell_type": "code",
   "execution_count": null,
   "metadata": {},
   "outputs": [],
   "source": [
    "vectorizer = CountVectorizer()\n",
    "cntTf_app = vectorizer.fit_transform(apps)\n",
    "\n",
    "str(cntTf_app[:3])\n",
    "# cntTf_app = pd.DataFrame(cntTf_app,\n",
    "#                          columns=vectorizer.get_feature_names(),\n",
    "#                          index=deviceid_packages.device)"
   ]
  },
  {
   "cell_type": "code",
   "execution_count": null,
   "metadata": {},
   "outputs": [],
   "source": []
  },
  {
   "cell_type": "code",
   "execution_count": null,
   "metadata": {
    "collapsed": true
   },
   "outputs": [],
   "source": [
    "mini = get_start_closed()\n",
    "tmp[tmp.device.isin(mini.device)][['device','duration_max_min', 'tol_day_cnt_nunique', 'gap']].sort_values('gap', ascending=False)\n",
    "\n",
    "\n",
    "#f993126b72f6297440c2dc8534b20a0b  49\n",
    "#fbf985012f537449b455d6a554479f8b  1161\n",
    "\n",
    "\n"
   ]
  },
  {
   "cell_type": "code",
   "execution_count": null,
   "metadata": {
    "collapsed": true
   },
   "outputs": [],
   "source": [
    "from  tiny.lda import *\n",
    "get_lda_from_usage()"
   ]
  },
  {
   "cell_type": "code",
   "execution_count": null,
   "metadata": {
    "collapsed": true
   },
   "outputs": [],
   "source": [
    "device= 'fa68862f9484c62aca5c3a4b8a2c70bc'\n",
    "mini[mini.device==device].sort_values('start')"
   ]
  },
  {
   "cell_type": "code",
   "execution_count": null,
   "metadata": {
    "collapsed": true
   },
   "outputs": [],
   "source": [
    "tmp[tmp.device==device]"
   ]
  },
  {
   "cell_type": "code",
   "execution_count": null,
   "metadata": {
    "collapsed": true
   },
   "outputs": [],
   "source": [
    "df2"
   ]
  },
  {
   "cell_type": "code",
   "execution_count": null,
   "metadata": {
    "collapsed": true
   },
   "outputs": [],
   "source": [
    "#df2.set_index('device', inplace=True)\n",
    "df.sort_index(ascending=False)\n"
   ]
  },
  {
   "cell_type": "code",
   "execution_count": null,
   "metadata": {
    "collapsed": true
   },
   "outputs": [],
   "source": [
    "split.head()"
   ]
  },
  {
   "cell_type": "code",
   "execution_count": null,
   "metadata": {
    "collapsed": true
   },
   "outputs": [],
   "source": [
    "print(pd.to_datetime('1488332491588', unit='ms'))  #fc6383d2bdb463fd01db6731594a6d36\t07e967d75aab2f6a52c558695a572a7c\n",
    "print(pd.to_datetime('1488332506604', unit='ms'))\n",
    "print(pd.to_datetime('1488363700875', unit='ms'))\n",
    "print(pd.to_datetime('1488363707487', unit='ms'))"
   ]
  },
  {
   "cell_type": "code",
   "execution_count": null,
   "metadata": {
    "collapsed": true
   },
   "outputs": [],
   "source": [
    "tmp = extend_time(tmp,2)\n",
    "#tmp['start'].astype\n",
    "#tmp['start'] = pd.to_datetime(tmp['start'])\n",
    "#tmp['start'].dt.date"
   ]
  },
  {
   "cell_type": "code",
   "execution_count": null,
   "metadata": {
    "collapsed": true
   },
   "outputs": [],
   "source": [
    "\n",
    "# def extend_percent(df):\n",
    "#     total = get_percent_duration(df, ['device'], 'total')\n",
    "\n",
    "#     max_week = get_max_week(df)\n",
    "\n",
    "#     merge = df.merge(max_week, on=['device', 'weekbegin'])\n",
    "\n",
    "#     max = get_percent_duration(merge, ['device'], prefix='max')\n",
    "\n",
    "#     return pd.concat( [total, max], axis=1 )\n",
    "\n",
    "\n",
    "# total = get_percent_duration(df, ['device'], 'total')\n",
    "\n",
    "\n",
    "# df = tmp\n",
    "# max_week = get_max_week(df)\n",
    "# max_week.head()\n",
    "# merge = df.merge(max_week, on=['device', 'weekbegin'])\n",
    "\n",
    " \n",
    "# def get_percent_duration(df, groupby=['device', 'weekday'], prefix=None):\n",
    "#     prefix = groupby[-1] if prefix is None else prefix\n",
    "#     columns = [key for key in df.columns if 'span_' in key]\n",
    "#     gp_map = [(key, 'sum') for key in columns if 'span_' in key]\n",
    "#     gp_map = dict(gp_map)\n",
    "#     # print(gp_map)\n",
    "\n",
    "#     gp_map['package'] = 'nunique'\n",
    "#     gp_map['start_base'] = 'nunique'\n",
    "#     df = df.groupby(groupby).agg(gp_map)\n",
    "#     #     df = df.groupby(groupby).agg({'span_0':'sum','span_1':'sum','span_2':'sum',\n",
    "#     #                                                  'span_3':'sum','package':'nunique' })\n",
    "#     df['total'] = df[[key for key in columns if 'span_' in key]].sum(axis=1)\n",
    "\n",
    "#     for col in columns:\n",
    "#         df[f'{col}_p'] = round(df[col] / df['total'], 3)\n",
    "\n",
    "#     df.rename({'package':'package_cnt', 'start_base':'start_base_cnt'}, axis=1, inplace=True)\n",
    "\n",
    "#     df.columns = [f'{prefix}_{key}' for key in df.columns]\n",
    "#     return df\n",
    "\n",
    "per = extend_percent(tmp)\n",
    "per.head()\n",
    "\n",
    "# max_week = get_max_week(tmp)\n",
    "# max_week\n",
    "\n",
    "# merge= tmp.merge(max_week, on = ['device','weekbegin'])\n",
    "\n",
    "# print(len(merge))\n",
    "\n",
    "# get_percent_duration(merge, ['device'], prefix='max')\n",
    "\n",
    "\n",
    "    "
   ]
  },
  {
   "cell_type": "code",
   "execution_count": null,
   "metadata": {
    "collapsed": true
   },
   "outputs": [],
   "source": [
    "per\n",
    "#tmp[tmp.device=='fc6383d2bdb463fd01db6731594a6d36'].sort_values('start')"
   ]
  },
  {
   "cell_type": "code",
   "execution_count": null,
   "metadata": {
    "collapsed": true
   },
   "outputs": [],
   "source": [
    "print('yes')"
   ]
  },
  {
   "cell_type": "code",
   "execution_count": null,
   "metadata": {
    "collapsed": true
   },
   "outputs": [],
   "source": [
    "#tmp['start_base']  = tmp['start'].dt.date\n",
    "# tmp = tmp[tmp.device.isin(['fff885dafce62310951c835247f30a38',\n",
    "# 'fc65f1731b785a8ce82d20a30dee9259'])]\n",
    "\n",
    "df = tmp.groupby(['device','weekbegin']).package.nunique().to_frame().reset_index()\n",
    "\n",
    "# .to_frame().reset_index()\n",
    "# df.sort_values(['device', 'package'])\n",
    "\n",
    "df.sort_values(by=['device', 'package', 'weekbegin'], ascending=False).groupby('device').nth(0)\n"
   ]
  },
  {
   "cell_type": "code",
   "execution_count": null,
   "metadata": {
    "collapsed": true
   },
   "outputs": [],
   "source": [
    "xx = df\n",
    "\n"
   ]
  },
  {
   "cell_type": "code",
   "execution_count": null,
   "metadata": {},
   "outputs": [],
   "source": [
    "from lightgbm.sklearn import LGBMRegressor, LGBMClassifier\n",
    "from xgboost.sklearn import XGBRegressor\n",
    "import lightgbm as lgb\n",
    "from sklearn.cross_validation import train_test_split\n",
    "\n",
    "from tiny.lda import *\n",
    "from  tiny.util import *\n",
    "\n",
    "# New add\n",
    "# deviceid_train.rename({'device_id':'device'}, axis=1, inplace=True)\n",
    "deviceid_train = get_lda_feature()\n",
    "deviceid_train2 = get_lda_from_usage(mini=mini)\n",
    "\n",
    "core_list = ['0', '1', '2', '3','4']\n",
    "# for col in core_list:\n",
    "#     deviceid_train_2[col] =  deviceid_train_2[col].apply(lambda val: 1 if val > 0 else 0)\n",
    "deviceid_train = pd.concat([deviceid_train,deviceid_train2[core_list] ], axis=1)\n",
    "\n",
    "deviceid_train = extend_feature(span_no=24, input=deviceid_train, trunc_long_time=False)\n",
    "\n",
    "#deviceid_train = extend_feature(span_no=4,input=deviceid_train,  trunc_long_time=False)\n",
    "\n",
    "\n",
    "\n",
    "#print(len(deviceid_train))\n",
    "#deviceid_train.groupby('max_day_cnt')['max_day_cnt'].count()\n",
    "\n",
    "#\n",
    "#\n",
    "# col_drop = [item for item in deviceid_train.columns if 'max_' in str(item)]\n",
    "# deviceid_train.drop(columns=col_drop, inplace=True )\n",
    "\n",
    "#deviceid_train.drop(columns=['tfidf_sum'], inplace=True )\n",
    "deviceid_train.head()\n",
    "\n",
    "\n",
    "train=deviceid_train[deviceid_train['sex'].notnull()]\n",
    "test=deviceid_train[deviceid_train['sex'].isnull()]\n",
    "\n",
    "X = train.drop(['sex', 'age', 'sex_age', 'device'], axis=1)\n",
    "Y = train['sex_age']\n",
    "Y_CAT = pd.Categorical(Y)\n",
    "X_train, X_test, y_train, y_test = train_test_split(X, Y_CAT.labels, test_size=0.3, random_state=666)\n",
    "# lgb_train = lgb.Dataset(X_train, label=y_train)\n",
    "# lgb_eval = lgb.Dataset(X_test, y_test, reference=lgb_train)\n",
    "params = {\n",
    "    'boosting_type': 'gbdt',\n",
    "    'max_depth': 3,\n",
    "    'metric': {'multi_logloss'},\n",
    "    'num_class': 22,\n",
    "    'objective': 'multiclass',\n",
    "    'random_state': 47,\n",
    "\n",
    "    \"min_data_in_leaf\":1000,\n",
    "    'verbose': -1\n",
    "\n",
    "}\n",
    "\n",
    "\n",
    "gbm = LGBMClassifier(\n",
    "        n_estimators=1000,\n",
    "\n",
    "        )\n",
    "\n",
    "gbm.set_params(**params)\n",
    "\n",
    "print(gbm)\n",
    "\n",
    "gbm.fit(X_train, y_train, eval_set=[(X_test, y_test)],early_stopping_rounds=100,)\n",
    "\n",
    "#y_pred = gbm.predict(X_test, num_iteration=gbm.best_iteration)#\n",
    "print('Feature importances:', list(gbm.feature_importances_))\n",
    "\n",
    "best = round(gbm.best_score_.get('valid_0').get('multi_logloss'), 5)\n",
    "best\n",
    "\n",
    "\n",
    "pre_x=test.drop(['sex','age','sex_age','device'],axis=1)\n"
   ]
  },
  {
   "cell_type": "code",
   "execution_count": null,
   "metadata": {},
   "outputs": [],
   "source": [
    "sub=pd.DataFrame(gbm.predict_proba(pre_x.values,num_iteration=gbm.best_iteration_))\n",
    "\n",
    "sub.head()"
   ]
  },
  {
   "cell_type": "code",
   "execution_count": null,
   "metadata": {
    "collapsed": true
   },
   "outputs": [],
   "source": [
    "tmp = extend_cols(tmp)\n",
    "tmp, tmp_new = split_days(tmp)\n",
    "\n",
    "tmp.head()"
   ]
  },
  {
   "cell_type": "code",
   "execution_count": null,
   "metadata": {
    "collapsed": true
   },
   "outputs": [],
   "source": [
    "tmp, tmp_new = split_days(tmp)\n",
    "tmp.head()"
   ]
  },
  {
   "cell_type": "code",
   "execution_count": null,
   "metadata": {
    "collapsed": true
   },
   "outputs": [],
   "source": [
    "trainn_label = get_train_label()\n",
    "trainn_label.head()"
   ]
  },
  {
   "cell_type": "code",
   "execution_count": null,
   "metadata": {
    "collapsed": true
   },
   "outputs": [],
   "source": [
    "from  tiny.util import *\n",
    "\n",
    "tmp = extend_feature( span_no=2, trunc_long_time=False, mini=True)"
   ]
  },
  {
   "cell_type": "code",
   "execution_count": null,
   "metadata": {
    "collapsed": true
   },
   "outputs": [],
   "source": [
    "tmp.head()"
   ]
  },
  {
   "cell_type": "code",
   "execution_count": null,
   "metadata": {
    "collapsed": true
   },
   "outputs": [],
   "source": [
    "tmp = extend_time_span(version=1, trunc_long_time=False, mini=True, groupby=['device'], prefix='tol')\n",
    "tmp.head()"
   ]
  },
  {
   "cell_type": "code",
   "execution_count": null,
   "metadata": {
    "collapsed": true
   },
   "outputs": [],
   "source": [
    "from tiny.lda import *\n",
    "from  tiny.util import *\n",
    "\n",
    "tmp = extend_package(version=1)\n",
    "tmp.head(3).sum(axis=1)"
   ]
  },
  {
   "cell_type": "code",
   "execution_count": null,
   "metadata": {
    "collapsed": true
   },
   "outputs": [],
   "source": [
    "tmp = tmp/tmp\n",
    "\n",
    "tmp.head(3).sum(axis=1)"
   ]
  },
  {
   "cell_type": "code",
   "execution_count": null,
   "metadata": {
    "collapsed": true
   },
   "outputs": [],
   "source": [
    "tmp.head(3).count(axis=1)"
   ]
  },
  {
   "cell_type": "code",
   "execution_count": null,
   "metadata": {
    "collapsed": true
   },
   "outputs": [],
   "source": [
    "tmp.head(3)"
   ]
  },
  {
   "cell_type": "code",
   "execution_count": null,
   "metadata": {
    "collapsed": true
   },
   "outputs": [],
   "source": []
  }
 ],
 "metadata": {
  "kernelspec": {
   "display_name": "Python 3",
   "language": "python",
   "name": "python3"
  },
  "language_info": {
   "codemirror_mode": {
    "name": "ipython",
    "version": 3
   },
   "file_extension": ".py",
   "mimetype": "text/x-python",
   "name": "python",
   "nbconvert_exporter": "python",
   "pygments_lexer": "ipython3",
   "version": "3.6.3"
  }
 },
 "nbformat": 4,
 "nbformat_minor": 2
}
