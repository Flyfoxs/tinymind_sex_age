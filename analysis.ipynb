{
 "cells": [
  {
   "cell_type": "code",
   "execution_count": 1,
   "metadata": {},
   "outputs": [
    {
     "name": "stderr",
     "output_type": "stream",
     "text": [
      "2018-09-14 15:08:47,768 util_log.py[33] INFO Begin to run get_drop_list_for_install with:[], {}\n"
     ]
    },
    {
     "name": "stdout",
     "output_type": "stream",
     "text": [
      "begin\n"
     ]
    },
    {
     "name": "stderr",
     "output_type": "stream",
     "text": [
      "2018-09-14 15:09:27,120 util_log.py[38] INFO cost:39.35 sec: ==='get_drop_list_for_install' end ([], {}) \n"
     ]
    },
    {
     "data": {
      "text/html": [
       "<div>\n",
       "<style scoped>\n",
       "    .dataframe tbody tr th:only-of-type {\n",
       "        vertical-align: middle;\n",
       "    }\n",
       "\n",
       "    .dataframe tbody tr th {\n",
       "        vertical-align: top;\n",
       "    }\n",
       "\n",
       "    .dataframe thead th {\n",
       "        text-align: right;\n",
       "    }\n",
       "</style>\n",
       "<table border=\"1\" class=\"dataframe\">\n",
       "  <thead>\n",
       "    <tr style=\"text-align: right;\">\n",
       "      <th></th>\n",
       "      <th>package</th>\n",
       "      <th>0</th>\n",
       "    </tr>\n",
       "  </thead>\n",
       "  <tbody>\n",
       "    <tr>\n",
       "      <th>0</th>\n",
       "      <td>000533a8532cde925ccb4d232c0c6453</td>\n",
       "      <td>0</td>\n",
       "    </tr>\n",
       "  </tbody>\n",
       "</table>\n",
       "</div>"
      ],
      "text/plain": [
       "                            package  0\n",
       "0  000533a8532cde925ccb4d232c0c6453  0"
      ]
     },
     "execution_count": 1,
     "metadata": {},
     "output_type": "execute_result"
    }
   ],
   "source": [
    "from  tiny.package import *\n",
    "from  tiny.util import *\n",
    "print('begin')\n",
    "install = get_drop_list_for_install()\n",
    "\n",
    "install[install.package=='000533a8532cde925ccb4d232c0c6453']\n",
    "\n"
   ]
  },
  {
   "cell_type": "code",
   "execution_count": 4,
   "metadata": {},
   "outputs": [
    {
     "name": "stdout",
     "output_type": "stream",
     "text": [
      "[]\n"
     ]
    }
   ],
   "source": [
    "ls = ['000533a8532cde925ccb4d232c0c6453']\n",
    "columns = [ col for col in install.columns if col in install.package.values ]\n",
    "print(columns)"
   ]
  },
  {
   "cell_type": "code",
   "execution_count": 11,
   "metadata": {},
   "outputs": [],
   "source": [
    "if '000533a8532cde925ccb4d232c0c6453' in install.package.values:\n",
    "    print('yes')\n"
   ]
  },
  {
   "cell_type": "code",
   "execution_count": 7,
   "metadata": {},
   "outputs": [
    {
     "name": "stdout",
     "output_type": "stream",
     "text": [
      "['package', 0]\n"
     ]
    }
   ],
   "source": [
    "columns = [ col for col in install.columns ]\n",
    "print(columns[:4])"
   ]
  },
  {
   "cell_type": "code",
   "execution_count": 12,
   "metadata": {},
   "outputs": [
    {
     "data": {
      "text/plain": [
       "'  (0, 19174)\\t1\\n  (0, 19760)\\t1\\n  (0, 3317)\\t1\\n  (1, 12416)\\t1\\n  (1, 14995)\\t1\\n  (1, 481)\\t1\\n  (1, 21901)\\t1\\n  (1, 25568)\\t1\\n  (1, 7243)\\t1\\n  (1, 21752)\\t1\\n  (1, 7597)\\t1\\n  (1, 6170)\\t1\\n  (1, 30950)\\t1\\n  (1, 31306)\\t1\\n  (1, 1459)\\t1\\n  (1, 19246)\\t1\\n  (1, 33185)\\t1\\n  (1, 25912)\\t1\\n  (1, 12838)\\t1\\n  (1, 20763)\\t1\\n  (1, 19174)\\t1\\n  (1, 3317)\\t1\\n  (2, 26794)\\t1'"
      ]
     },
     "execution_count": 12,
     "metadata": {},
     "output_type": "execute_result"
    }
   ],
   "source": [
    "vectorizer = CountVectorizer()\n",
    "cntTf_app = vectorizer.fit_transform(apps)\n",
    "\n",
    "str(cntTf_app[:3])\n",
    "# cntTf_app = pd.DataFrame(cntTf_app,\n",
    "#                          columns=vectorizer.get_feature_names(),\n",
    "#                          index=deviceid_packages.device)"
   ]
  },
  {
   "cell_type": "code",
   "execution_count": 11,
   "metadata": {},
   "outputs": [
    {
     "data": {
      "text/plain": [
       "0        00009270c4ec26e1d76f5d86847009c9\n",
       "1        000189ef5d5b951841d416a8c6c5b995\n",
       "2        00026d79a6f0955fc860947724e24765\n",
       "3        0002e3afb8146bc08e40575e45f0eca6\n",
       "4        0004709a296f9b925ae283efe2f043e7\n",
       "5        000536b155abcf97971a6b99a6d7dbef\n",
       "6        0007c510ab41f8aedb2a759c2fce7aae\n",
       "7        0007f90fc1f2da95e0b8c307e1598d21\n",
       "8        000b216af4bf2cb7d8fe3cd66ddd03a8\n",
       "9        000c6986f9c8431c12342193a978a582\n",
       "10       000d87246382e5ed2888357424872081\n",
       "11       000ef93f440c2dec1da90f25227cef1c\n",
       "12       000efa9b64b19f672bf0963b76f3add9\n",
       "13       000f30a1b1adf884c3f5cf8cb57b6f5c\n",
       "14       000f3724e549428a979f20a9926be846\n",
       "15       00105d9dc897b8365cf8c2a806c9ab33\n",
       "16       00116cc2d1848d962760efb447064079\n",
       "17       0013db8950e57afea8917d42aeb04d95\n",
       "18       00176483b491cf4b06e1c5f5835b66a1\n",
       "19       001831aa77641c0372eae802b0e7f77d\n",
       "20       00187be1b35be18bdd38e24493a55fc0\n",
       "21       001a4843fecc535dc69a2c7ef753b004\n",
       "22       001a812beb1b7e8466602e5701bd635e\n",
       "23       001a98576195f8ca110af7ced599ce91\n",
       "24       001d18454f11c09c58d6de2830b186a0\n",
       "25       001f2064ee32272f356d5dd195a0a420\n",
       "26       002008e67e0b89857da2a7fb6f8b2bf2\n",
       "27       0020e547280f55d63d242231ca0292c9\n",
       "28       0023f2bf5c9e030e2423fb9b8b433844\n",
       "29       0024168ffc1b755a6ed9e3b2d9e046ba\n",
       "30       00263fedc1fbd9890e96730e018bd36c\n",
       "31       00269bb60aebfc9a3160ea1b69f21bea\n",
       "32       00269f0264d5ce76391f91b82fd19ad3\n",
       "33       00279fdcec5b60aaffebc74099fa7292\n",
       "34       0027ad5aa57a76f77e37218465dd6c71\n",
       "35       0027d1aab92d6abbc76bd2f36d934214\n",
       "36       0027dd48fb44a9a85c78b8341ed46e2b\n",
       "37       00288a2dde010f81d9c2b6e56cb6f11c\n",
       "38       0028ca86e61f338f5a3930872f58fe30\n",
       "39       00293e173dba9bd4bcd60f9f85818010\n",
       "40       002b672b2e269305e646ca5e7952dc7e\n",
       "41       002e38981e875e29f3d676dbfad92909\n",
       "42       002f37b0dfa6feb41b898b4455fa869b\n",
       "43       003092fd9548e11576ba7a0791ac5875\n",
       "44       003107a7f17f65e71a8cc87b2230a7ea\n",
       "45       003270cb1c8e271914a8ef6fef79134a\n",
       "46       0032c9ef7ac5d8d2342399b0ccd48a0a\n",
       "47       0033ba37aa083cefbf7f1141dfd34221\n",
       "48       00353b048682780af05a2eb973d19983\n",
       "49       0038471ebb7644ca4b240cb9991bdbe4\n",
       "50       00389f2cdd49bf1218f2709b632c7e53\n",
       "51       0039e66b76f09a906f4f39423cadb1e3\n",
       "52       003a2a42c8bc29ba4981f66d07f0eec4\n",
       "53       003aef512465ed3ae4abd791599b3941\n",
       "54       003b5f8b672351eadeff4310af80f1fe\n",
       "55       003bd9bb5c8d1a2c32e52eef45453c5c\n",
       "56       003be14bf4c4fa19f534155a826631cc\n",
       "57       003c0c32526ff7da96a1d923b0e940f3\n",
       "58       003c538585b8c0a2ca8af030597a3dee\n",
       "59       00402fe5acb03695cfed70927ef16b8f\n",
       "60       00407e0117e02a92a8b2f807caacf968\n",
       "61       0040d238e8e56956712d75787bbe1019\n",
       "62       00412ac416a6716ab4acbef9e70e458b\n",
       "63       0041f6db75767cd5453cc22608139816\n",
       "64       0042226e9f8f47623b32c5dcfa8a734e\n",
       "65       0042389c61e9f5f2bbf4aff2c7baa646\n",
       "66       0042791d729724742ad5cd45201f3a5f\n",
       "67       00429571e21bf3d4abc7d39dfe0d9977\n",
       "68       004316e2c8965bb81fe9516de7cbd65f\n",
       "69       00441e429854352f05349e81e7f3d253\n",
       "70       00442aacbdbe516fe27cddff2f0f97e0\n",
       "71       0045d5bec9117eaf41d3b2c0cc1d8840\n",
       "72       0046616b5fb8f0fb4f0b16cd038e0c49\n",
       "73       00478f80bd716240cda7f4eca9c83ac0\n",
       "74       00488f906c1bfadab8d3ccf765489814\n",
       "75       0048e4b8361d1e1461af1869a98a7dfd\n",
       "76       00491e1806f991952dbb04f6a835345a\n",
       "77       0049bfe333780420e4300a3583270202\n",
       "78       0049ef13a7d43e27c181e8103e238d84\n",
       "79       004b6da131358718381b8ca0c29d6976\n",
       "80       004de148ca3fbfd679feea8d85e9e5c0\n",
       "81       004e9fc6f0c560a54bfed72d6eb7eff1\n",
       "82       004fc92b96f9354565c10316170cec82\n",
       "83       0050996e21d55cdca8ac266b6305be4d\n",
       "84       0051622f9586f30a4c9b9a8f981fce29\n",
       "85       00522fcaf1b66a11450014edbc5f8cb6\n",
       "86       0054168eea3dae305e25d5be6bb99ec5\n",
       "87       0056a4805edf11b6a85d4f987adaf317\n",
       "88       0057828dd9c0471b26172f3f8654d252\n",
       "89       00593795a4d41c27a3017202908c08e9\n",
       "90       00594c352330479643b9b2fa742bae56\n",
       "91       005985236818a3e428659d4d408ad3ae\n",
       "92       005acc35628bd76d9f56848c3d52dd15\n",
       "93       005b17bae67d86878e73eed2f0e911af\n",
       "94       005b785855ef11bb9650d44131c71f28\n",
       "95       005b7aac91516eecf48797241f01ff37\n",
       "96       005ec0fb152ca95cba3468defcbae6db\n",
       "97       005f44cf4c686434121e781e567b0d07\n",
       "98       0062ba90d62739ed7c37bf892c54cbf6\n",
       "99       0062da47a2f9dcd94f34ea66a10b51cb\n",
       "100      00631ad95a0e4331ce0563da40bcfce3\n",
       "101      0063a65f56a7420f17b4918f00b044c2\n",
       "102      0064f705da9c33fb375bf78c6bb8d16a\n",
       "103      0067c386534ba9ff3a94e3439bff6bd7\n",
       "104      0069c4183cfa885b55767a135801fe3c\n",
       "105      006a19ec8528ec1c3c92c575f189b7ad\n",
       "106      006afb5afd4ccc0efc3bed8f984d0b51\n",
       "107      006c101b8ca7815f66460664fb1b9bd0\n",
       "108      006d37ecb923ad1626fed3673c94a4fd\n",
       "109      006d4302584fdfded3c51f5ed4f2d69b\n",
       "110      006f1c417505fbb2c812ef4888c2cddd\n",
       "111      006f6cd19279c6383f1290c30d309afb\n",
       "112      006f92adf21bbd6cdb8592ef7b45a33a\n",
       "113      0070c1d2e89d8496cae3f50a08385d63\n",
       "114      0071e16388c271eb5f0e0b61263dd511\n",
       "115      0071e9c1bfb7da839d1708ad0e88c8ac\n",
       "116      007267cbd9aed347be44e5c634a736f3\n",
       "117      0074548af03f5d891bc6bc7710ae24c2\n",
       "118      0074f24bd6989de6130e5502ce4c1bec\n",
       "119      00752db508a8568d6b686ef3a75c1757\n",
       "120      007585c76919b0252eff8f9415045a54\n",
       "121      00768e96862c9bc75645cccd164650b1\n",
       "122      007723f03ea0b8033c2dde19ab4f641b\n",
       "123      0078932f6dadbfe4f11990d52015c1d4\n",
       "124      0078d9dd6c6100aa4d7ba96bac90e23d\n",
       "125      00798149aba92ede693911be9bc6b69d\n",
       "126      007989827d89ca2a0b7c1333504f3039\n",
       "127      0079aa61c8dd401b93fbfe1714c81b94\n",
       "128      007a3f90ddd5705000f2d60c9a45ef06\n",
       "129      007a440e651a0d7917c8e63fb8e6969f\n",
       "130      007b1962db97033835bf9ad4359556f3\n",
       "131      007b1c6c82f598b606377c8b223fb5f4\n",
       "132      007c2343d99b3d0c43bb097aa32cd5ce\n",
       "133      007c4f3a2ba8e2ea8612887c1ce28ab7\n",
       "134      007e4d97db622a050e3c02633616ec13\n",
       "135      008032a44e20fb826d49ba58d8b01367\n",
       "136      0080f68c9713faa5ac0253235a4c046c\n",
       "137      008492fd2d04916099e973e61318b088\n",
       "138      00860d3146a920785fed92047bf53618\n",
       "139      00866f8d94925e305fe9759843d55c6a\n",
       "140      00873e66784e1a74f146638bc242e958\n",
       "141      008796be909fe846886b6cc22cec9753\n",
       "142      00883c4552b526e08451daa037470714\n",
       "143      0089cd6d5dcb0a8967a506bf7f0953b5\n",
       "144      008ac2eee65d681cfa94fa6cda3d625b\n",
       "145      008b72cc93b983405ca4002db0b3c5f2\n",
       "146      008cab828701bff042dc4e2bbef1b2fd\n",
       "147      008d3ef69271ac27b32176011ccb196c\n",
       "148      008f5237446957e84d9ae54033283fd1\n",
       "149      009098a38d27cb0ee1f00590220643fe\n",
       "150      0090ca656d76b2e7babb05b20e1b45db\n",
       "151      009118ea19683cbb003918bd6cedc841\n",
       "152      009129edc85003fcb6c1f6fda995b151\n",
       "153      00915afef35c6767a38a0b4a49f4882c\n",
       "154      0093c53c90664cc69a4b845954a2c33b\n",
       "155      0093d61b96932dec09c60b3ca1811c38\n",
       "156      009578f51051102a12c9083f03eda8e3\n",
       "157      0095b0cf4f35b920f55347b243ef1d63\n",
       "158      0095d2c4120a352e942e99d906c8ee22\n",
       "159      00969758692cd35f19281857f2cbc56a\n",
       "160      0097509d8d64563f82865bc844f0a42f\n",
       "161      0097937edb38b0cedf6aeb972ccde8bc\n",
       "162      0097c4d21e650f26bf0854240a75e904\n",
       "163      009855b5ca15bc3be4b9e0d291d29141\n",
       "164      00985f060e6e0e7267c380c1629a58fc\n",
       "165      009a2cdde87d633c2c62da79191a2c47\n",
       "166      009da8c7f6ca9a8373b454edb479b561\n",
       "167      009e10f9b7a82a3b7ecd7b4dc109197f\n",
       "168      009e6e8d080b8e864413d950200138dd\n",
       "169      00a42b101f254c79e473f87a67b2b212\n",
       "170      00a47f7b21df0315f1111163deef7606\n",
       "171      00a5ec5b4ee3b8752303265719b94300\n",
       "172      00a776dd3829708218e5209499cec392\n",
       "173      00a78b9603e7d8909dbbfcf85f719df7\n",
       "174      00a78e36e8d555830cd09740e5f5fd9e\n",
       "175      00a87d48e1e34e591c7b115d0a3deebd\n",
       "176      00aa3eaeba3906d79d15e9352bb61d17\n",
       "177      00aa87d3659a6faf5239ae0ce0f235de\n",
       "178      00abdb498f1c3051b0933076bbe13d46\n",
       "179      00adb6bf14a83310105b1c62a914eae8\n",
       "180      00adc7ff45cdf025af442dd7a8018223\n",
       "181      00b03c6deada880e52e4d79476defcaf\n",
       "182      00b05a290ba6a880f49cffb5a73ed9c3\n",
       "183      00b133d93290e2a3964a9f2cc9b80405\n",
       "184      00b324b9106dd12ae5aa27934871c3bd\n",
       "185      00b3d67940a5ec933712e193dd628599\n",
       "186      00b3f6b801826f3f9a87e571fed4311d\n",
       "187      00b4c7e385dc24ee8e88fd5fa5dbbdef\n",
       "188      00b610a6fe1e6c951d9ba9c620b236d4\n",
       "189      00b747b1f895340cf57bfae6ba2f2a4e\n",
       "190      00b83ec88be0e0af3b369eb992ed7298\n",
       "191      00b951f03e60ac29c44dde9ab8932075\n",
       "192      00ba185f70e2403debc48e7fa8bf5885\n",
       "193      00ba8f3c5925606097e67528413ffdc6\n",
       "194      00bb133b81e10476fe6f02dfeffa6482\n",
       "195      00bbc1e5eaaead9d4e8f7f7171358f03\n",
       "196      00bd7595bf5dc34a7f4dbf4bced30983\n",
       "197      00bedc96771d6c3a3d75bf8dc8cc2e13\n",
       "198      00bf9e1212f43c15f7cf5be06beb7e23\n",
       "199      00c095d2df52b782c42f66f105515eed\n",
       "200      00c0d3eec485590f52a6e02e15693892\n",
       "201      00c34a769d181be59954911c5e75f68d\n",
       "202      00c47242c1d875875e0b05f2c6184543\n",
       "203      00c49ddd06f13a62d2be5115c7d86e90\n",
       "204      00c4c1aa5ecea4a1f5fb137ec0a0da7f\n",
       "205      00c6cfccf48ce87ec193bd10947dec59\n",
       "206      00c6f59ac9c77f1ea0280be554f54cb3\n",
       "207      00c712502cd49019f1b6aac9019cdbc9\n",
       "208      00c796084a88a3925143598cc4321062\n",
       "209      00c9f1f5f6e82d44197bb63e7fec6e5b\n",
       "210      00ca176f6a13f03025f63f55d71ddd32\n",
       "211      00ca78b64286d1c7df26cc20e2559e5e\n",
       "212      00cb36a334af3ee3140c2512fb7e8758\n",
       "213      00cc8c565417dfa824d30965d45aaee4\n",
       "214      00ceeafeee83412dff4c9f0ba52c1b23\n",
       "215      00cef3e7c5b3d4f06af150c840d73d16\n",
       "216      00cf7b2d7ebf4f357b73aa9ff360079c\n",
       "217      00d09eb1ec4c871b9020674a03f2693d\n",
       "218      00d31ac5b3d33bfeb3dfbed37313bd2d\n",
       "219      00d409cd7363fc7ac654f022328642d6\n",
       "220      00d496d7757f064d8a1208a9f36cb228\n",
       "221      00d49cd821c2db5e520ad17b77186e2e\n",
       "222      00d4c48e0c1cea5d3f34bf48881be1d7\n",
       "223      00d69efe88dfa1b32e51fd47a6a38a28\n",
       "224      00d81ebb75962104c42ff8621c6adc41\n",
       "225      00d83a1d87c19b634f97fcffa57111db\n",
       "226      00d86fdce00657b3e4a757007b26cabb\n",
       "227      00d8a3d2697de7e0742d5c1d045bb201\n",
       "228      00d902148893281fca0131e19c7066c6\n",
       "229      00da2efce568a0a9484a5cd93a95b263\n",
       "230      00dced56ac22232dc19773775de09f52\n",
       "231      00ddbb7c5dccba3cdad155a6a1a64d1e\n",
       "232      00ddf96f56d08a6da82bdfb2601486f4\n",
       "233      00de1da0100b202107394510e75e5eb4\n",
       "234      00dea24736907526660ce92a8f5470ce\n",
       "235      00dffa399820e50161e1782253b66daf\n",
       "236      00e10ec550dd10ed053c39423f524795\n",
       "237      00e12b0de7559a109c0c3271c02abb09\n",
       "238      00e2315b3459f711b61dca9b9e9bd5d0\n",
       "239      00e258043a2867b225fc4cd016cbf0ee\n",
       "240      00e3437442c4cbcd5935635485886112\n",
       "241      00e3cf8ebf560286d656d764e08e0691\n",
       "242      00e400d760ecfc63e7a932b80ab46d5d\n",
       "243      00e48d1ecc8407bb21ef52897b2419fc\n",
       "244      00e4a7f6637ba91c3fb391ce6f70bfbf\n",
       "245      00e52ded9145b12129ab7070569e549b\n",
       "246      00e5679dce614db004748625e6141abc\n",
       "247      00e61df52b5fd900b25f64a013543de2\n",
       "248      00e659a3b0007dcf07e2023d7113c9d0\n",
       "249      00e951e1e73092ac016daa06407790e5\n",
       "                       ...               \n",
       "72477    ff13803558727dd2de81383e2ee22148\n",
       "72478    ff1394662d455bbaa035e723eacdccbd\n",
       "72479    ff14abe368453a526e5caff154ba9b6e\n",
       "72480    ff14bd38e16616f0c05bae4f57a1d6ff\n",
       "72481    ff1618e26dbd2fe3df0b3a38c526c279\n",
       "72482    ff16e315940d310d7dcfe2b3270a62cc\n",
       "72483    ff1789754830ffc50524f1bfe6cee58a\n",
       "72484    ff18e56241b98a0be4ef1cba1f78eb0b\n",
       "72485    ff19ecf988de17722834a761dc69dbf0\n",
       "72486    ff19f9f89fbb752a396909440562f8d1\n",
       "72487    ff1a54b1869b68158afe839b3cfb0d9e\n",
       "72488    ff1a6b70fe51b71b5ce4ba0a913beb5e\n",
       "72489    ff1a882bc1c2d3d20b8236812514fd4f\n",
       "72490    ff1b2215236e0ad6f529181f53e4f558\n",
       "72491    ff1dfe773a9dc8a80df76785b1e20489\n",
       "72492    ff1f264b5718592f2c61d78466525a20\n",
       "72493    ff212edc9e9d71ee0a5503e7880603f4\n",
       "72494    ff23fb52b9b47b54b4d31f12dcdac684\n",
       "72495    ff240aac566f08070b1b52df40265c31\n",
       "72496    ff241c035c4ad108c50701825b0b5d31\n",
       "72497    ff27cf0153fdb882f29bdc1ffbe71bdc\n",
       "72498    ff28ddd80ca15bb3c6b5aac9768ccfe8\n",
       "72499    ff2a817edfc0138ac2b9c70de71e5ff2\n",
       "72500    ff2d430c2071fcebc701572940058cc5\n",
       "72501    ff2f471127a2fafd2216855163f2a026\n",
       "72502    ff2f4faf697e5195202ee3b0e0a1d70d\n",
       "72503    ff30ba506f0338ba3e45e91e4bd1a071\n",
       "72504    ff314d64996163fd247fc0075020b1aa\n",
       "72505    ff31bccef05697308ec14cc70beb3fdc\n",
       "72506    ff34338ea888682b8dfd9a3a5213032a\n",
       "72507    ff345d4d445f83f20ed56b231c306ef8\n",
       "72508    ff351f12812161e188f528edc4db8702\n",
       "72509    ff366acc1a361dcb9ffd4b42df824b22\n",
       "72510    ff374a362ae04d4e38fc3d0bec4d3195\n",
       "72511    ff3833d6d6c7c51175a1da4e2b7277a7\n",
       "72512    ff38c7d1bf5f51ff3bc885d6308b1602\n",
       "72513    ff39150de9214d41945ecc9d35397522\n",
       "72514    ff3d76e84736f5c30b83f6b858ac0bbc\n",
       "72515    ff3d9ec2f513ff773f0d98ed6fd3ddd0\n",
       "72516    ff3da68dcbf65be5f55c4636b311ac2e\n",
       "72517    ff3e66f05d1e672e56516c726192548b\n",
       "72518    ff3f44094111ff58487531c2a4e8e5a1\n",
       "72519    ff3f97822343b28ace20e6bfb70ed8ae\n",
       "72520    ff3fbb67effe0e511c3ee45da0dc3ae5\n",
       "72521    ff40e28e69bd2d3efa64d70b61eaef21\n",
       "72522    ff411be1e0877ed4417523c1ad7d67a4\n",
       "72523    ff41b85f1b5cbc68f3bd095dc4be9573\n",
       "72524    ff424c91e48ec87b9321705bca436b6b\n",
       "72525    ff4285336ff65dfe786b894c1f369f98\n",
       "72526    ff43961ee513d26a521311da48f80f4f\n",
       "72527    ff471dc114370ddf175253c50af585b5\n",
       "72528    ff48724091c41ead98d7e9a6cffe066f\n",
       "72529    ff4881e6feed485e119159fa6d080a16\n",
       "72530    ff4ae7bfe119f672eb519fec97b69657\n",
       "72531    ff4af8c6dd5ce30e3a75ce1c18a8d0a8\n",
       "72532    ff4b2ae84e678da0442ab4eddc170429\n",
       "72533    ff4d2e2c93ecc3f4ba95084053547343\n",
       "72534    ff4e31674a9d49f5c7cdf5446631ae52\n",
       "72535    ff4e959940c11c5969c9550684fb6468\n",
       "72536    ff4ea205dc823adf903112b25140b4c2\n",
       "72537    ff4fd63dc2da8e9d25d3049f612c7f70\n",
       "72538    ff52904bf2319a9bb4f2045b6d3c0f3e\n",
       "72539    ff555e1e967e03039f617c5ac17da42d\n",
       "72540    ff56281804983d40a7ed654e0262d962\n",
       "72541    ff56356e0a7c39c8cee2f66e0d5959d6\n",
       "72542    ff566a495eeed06f2b5e5051eb9241db\n",
       "72543    ff56ed1f3eaee4895023a6181aaf34e8\n",
       "72544    ff58019cfa1cf8843bbbc1b77073e0f0\n",
       "72545    ff590948a2f19e905a45eaee0ef88f76\n",
       "72546    ff5951a69e6391adcd0b6b082fb24c17\n",
       "72547    ff59548d72eb27d85cd687053b2e4be0\n",
       "72548    ff595530467f074271c39e7ac676f2df\n",
       "72549    ff599020ee70dfa72b11432272415722\n",
       "72550    ff59c5b14c322776ecc4fc82172f896e\n",
       "72551    ff5a32e1c5146b4f26f8043264e950ee\n",
       "72552    ff5ad7109838f542967f1f8ec1c4282c\n",
       "72553    ff5b9bce05963f82f8043ba7ebc2f04d\n",
       "72554    ff5d159aa0e9c216d791aef530e9431a\n",
       "72555    ff5e561790602d11b7088d12b4849869\n",
       "72556    ff5f2f815f41717600549b5f0b7d0a8c\n",
       "72557    ff6048c805002d5f43916a0c10add06e\n",
       "72558    ff6145bd2165048f98648e30c65b91f9\n",
       "72559    ff6220a01db2996d367a105e3b7cbcf7\n",
       "72560    ff6256c313ee13ee5f7cf66ac1470282\n",
       "72561    ff6284f2c127ecfafa595bc90450b146\n",
       "72562    ff62e4dc5f249df1f931a507cb06985f\n",
       "72563    ff631e6d9d085ac78fa7437f4b7436f4\n",
       "72564    ff63a48ab21065f06a80ab28221fbedb\n",
       "72565    ff64c9b261006a3b9180600e4c9c632c\n",
       "72566    ff65178711c264612f2c09c9e351bc98\n",
       "72567    ff65725cb84e8645f045ec1f6a72281c\n",
       "72568    ff67517fbbbfee437fd6dd4968791f76\n",
       "72569    ff67b48ddfe5e1f75b92033a5d5d184c\n",
       "72570    ff67c045dd518992359a27d6c127d6b9\n",
       "72571    ff67fa48bd6ec332eb795531f1a508f6\n",
       "72572    ff69dbadbfb4c85f06033dc38c5a8ef5\n",
       "72573    ff6a5c862441aefe647b9952cb161e86\n",
       "72574    ff6d637c8161bc12d032925c6ab8f492\n",
       "72575    ff6db0ce40536159b09410598f56ec95\n",
       "72576    ff6e9e4cf5cd2533bf14485cdafe7e75\n",
       "72577    ff71be9597e1c1c910d55ee3281afc93\n",
       "72578    ff735fb39c5ef3f1294c9d9c638c2af4\n",
       "72579    ff73b032a9d17389ee1014f6d8a08f59\n",
       "72580    ff744806bc293401e62ff3ad04d31b3b\n",
       "72581    ff744e66c287ecca84abb276fceac74e\n",
       "72582    ff74d6beed2c710f892d05c539200b9d\n",
       "72583    ff760de9a7af53a10fb98072e6988e8b\n",
       "72584    ff7781369df92b18dc516bc90585f3bb\n",
       "72585    ff78d46c195eea0ae395121247b79a29\n",
       "72586    ff7987929626eed6f35ccb2af81c0dce\n",
       "72587    ff79eebc95ed182f4e4ca392dcc6c8af\n",
       "72588    ff7c00ad1acb0b830e5ca4b41103761b\n",
       "72589    ff804705a111ecd5c590ccecea623ca4\n",
       "72590    ff8065ba8c86e63af21ffa022ae6cdfa\n",
       "72591    ff838292385427fb0329c49591c9e1d2\n",
       "72592    ff83edc74126e971f8cb69bca43a9a03\n",
       "72593    ff842af3e83ef1da0260558b25adc85f\n",
       "72594    ff885a0b934061805ffe934e0af72c00\n",
       "72595    ff8886451761ef6e6cb5153a5e45419b\n",
       "72596    ff899cb708e5079d5f7a0e6433059349\n",
       "72597    ff8a15ba9f3080a42c12da1b74fe134f\n",
       "72598    ff8a9c8d360de5ee402d4b9d903bf5ae\n",
       "72599    ff8c6b61e5daa363748b33090cbbc587\n",
       "72600    ff8d701b86004ca48595fd4030a85bf2\n",
       "72601    ff8d7dc17aa5520a717ecb78eb606531\n",
       "72602    ff8e3d886e96641664aa4f36f68aacbd\n",
       "72603    ff8e8a7faa5ea401841b6b42f9c144e3\n",
       "72604    ff8f6d9399e1c11a66f3284b1c365047\n",
       "72605    ff90771d3b1f1bf147f3fc2702e780aa\n",
       "72606    ff90f23c0d4a14e23689dd5930bf69ce\n",
       "72607    ff94178ab3e50fcdafe6adaab7df9a8c\n",
       "72608    ff95c7a32a2c40fddd96f890412e8982\n",
       "72609    ff965955a142d5b69adfbf20a4e84bee\n",
       "72610    ff97ce5bdba6a4f94879a72c0879c7e7\n",
       "72611    ff97e9b692ac8b11e0c8e70e5757a6e6\n",
       "72612    ff9889a050103020ef7022d4701e3c92\n",
       "72613    ff992c05ad64e2cb7353503e9fdd4778\n",
       "72614    ff999aa3ac8c74ba760661b3ac580e1e\n",
       "72615    ff9b6ecc5cff7ba6ae1551b34e3bbc02\n",
       "72616    ff9d7f995ceb8a4533baab7b3438f476\n",
       "72617    ff9e9c514af0728415b02a63bc1adfe5\n",
       "72618    ff9ed1eb7b58f1be7019b345e018b0ad\n",
       "72619    ff9ff377bee5ec7f0ec579c60edfb7a0\n",
       "72620    ffa15cc7d00319930108c564e7a7f36a\n",
       "72621    ffa19083533d60ef1618ff33b2235c49\n",
       "72622    ffa2fd5379ea617c1864a590fc028cac\n",
       "72623    ffa39bbcdfe202c8312fca11dfec84bb\n",
       "72624    ffa659f5de309617cb57796fcf85bbbc\n",
       "72625    ffa6c1c6ff8bb068ba664774ad4712be\n",
       "72626    ffa8a81b3ad37d7f12ad0e25837cf541\n",
       "72627    ffa993fb0f7cb174a4176d0ba2953964\n",
       "72628    ffa9a3cd0904aa78053b64e2380c8643\n",
       "72629    ffafb0b5c32af03d9d2f6ee6d3a70d18\n",
       "72630    ffaff30e0abc653f643521797e3e8473\n",
       "72631    ffb080cbf1850a5f2a4ad657ef781912\n",
       "72632    ffb0ccf1bafb9af4f02c7482957daa51\n",
       "72633    ffb16c832b587d56ecfd086a6c23edda\n",
       "72634    ffb1994fbd919edfd998106e085ae004\n",
       "72635    ffb1c8f7df40f7944fafa2ef12596eca\n",
       "72636    ffb38fb60ea7b928b4c50d4ff85119cf\n",
       "72637    ffb39a39de79f65262a757f9715e8b45\n",
       "72638    ffb3aae78fccf5e1e8c54745cec918ae\n",
       "72639    ffb4e372d737f91f36b86c53b4414e62\n",
       "72640    ffb58aff07ca4045d8940632f7f17591\n",
       "72641    ffb5ba8117fd3408a1239daabcf551ed\n",
       "72642    ffb7c73d50b81ce04a9872525cd5e0dc\n",
       "72643    ffb980cca93bb606fd55a5aa33c4d95f\n",
       "72644    ffba3a30e151c1b9c819caa29755f607\n",
       "72645    ffbacab079564ba50cc84e93bcf12c21\n",
       "72646    ffbaf87f8e60084d75fb36ac4c81c6c8\n",
       "72647    ffbb06bf65c04f77f47ff386049a2306\n",
       "72648    ffbb1693b648349d275ac6a5f47189a0\n",
       "72649    ffbb222ef60ce1fe51d04bfa9abecc85\n",
       "72650    ffbb8af994e67564dd951782cadab36a\n",
       "72651    ffbc3331fc8de9a996cf522cb42420da\n",
       "72652    ffbc3fa84648b5cb04fa57ed67d92d3e\n",
       "72653    ffbe02728c71ab581e41a6f3afb6d7cc\n",
       "72654    ffbe1476d35f302aeacb7dfffa2dd814\n",
       "72655    ffbed1e04ea5457a68824e4ba9b1aecc\n",
       "72656    ffbee7a13c87c3ed6a0e0e46b3289e64\n",
       "72657    ffbf55d45ffb5ee908ab4a73707f1f51\n",
       "72658    ffc0a01182ee939d91b7bca5a6da5801\n",
       "72659    ffc0e336431c70ddb05b08a129a755bc\n",
       "72660    ffc16081c3f80e37fdb3a199cb39ea89\n",
       "72661    ffc219784477b35d4a700b4b6fa11556\n",
       "72662    ffc23942cd9ef664e79c8adb39918630\n",
       "72663    ffc347be11630ed0193a4c6f39e801fd\n",
       "72664    ffc4403e9d732bf894efadaf295d3412\n",
       "72665    ffc48ae6cf7131638391bc0dc56b32f3\n",
       "72666    ffc623cddddde35ddffaeec57a33f9a0\n",
       "72667    ffc62ae3e3e9671d5aff5bbed93eb282\n",
       "72668    ffc7e06344336b643117dae4717a099e\n",
       "72669    ffc8b1309a4b362e3af38241be60ca44\n",
       "72670    ffcbe156e1b5825d3853c2692f2f8f35\n",
       "72671    ffcc11a0b435931e12e5cdd0c2906310\n",
       "72672    ffce15619a3d8f7974a27e38b1286300\n",
       "72673    ffced9d07392e3d103670e2b1474a722\n",
       "72674    ffcf59b8bd7fef60f6edae955dda54db\n",
       "72675    ffcf7bfc7a552fd2dbca4b77a963f8a2\n",
       "72676    ffcfdb057187bc047d43252b58e50353\n",
       "72677    ffd076a56a09bfd6ff0bb7dd4a00c8ea\n",
       "72678    ffd17567cd893a48b6cc9746b33b3335\n",
       "72679    ffd214408210c1285e70b51ac68576ac\n",
       "72680    ffd23bd2d423b7a253907fd11ab4cc71\n",
       "72681    ffd3c7b8d902873deb6b00fe65eb6c5e\n",
       "72682    ffd3d11d3c21a581b28a29a6f47bb507\n",
       "72683    ffd64556848807417e4fb5cf66fa558e\n",
       "72684    ffd69b9562966d5333ff227a6b5f3f53\n",
       "72685    ffd6f7f4449f0c4a1380d7867a9498a5\n",
       "72686    ffd9993fd4d8da084d186661444de438\n",
       "72687    ffd9f3d7c061be326f5a46b0e98c8244\n",
       "72688    ffdc7eb4d4163aa454e17d28dc62d434\n",
       "72689    ffdc8d2a7ea183fddc173aeee0e2892e\n",
       "72690    ffdd02fa79948d5b03248986a2eccdfa\n",
       "72691    ffdd19133566a4f87e56b67ab08c1081\n",
       "72692    ffdd2f129b2e68257d60c6319700a96f\n",
       "72693    ffdf2e423faec196148d502f76727bdc\n",
       "72694    ffe0bb551591c32d54d4834c79bf9447\n",
       "72695    ffe27a16ec85ead1c61d5571c6847712\n",
       "72696    ffe326022ebe2d10d82dcb3e358e8806\n",
       "72697    ffe332da1ae6ca7dc3949cc16bf39894\n",
       "72698    ffe4ae678dd3378c924659f8da7237d1\n",
       "72699    ffe5a0318563b04c45fe8692e70d3862\n",
       "72700    ffe5d6487111796b0d05ef3152acd285\n",
       "72701    ffe68383faf774dd4b1c8e8a04e221bc\n",
       "72702    ffe7a9e1f83e92a612ac79a0baeb5d5c\n",
       "72703    ffe9b2f2fbc73eb7489b35b6890ee3ba\n",
       "72704    ffe9bb42871fb9a311e94cfdbccaa4bc\n",
       "72705    ffeb0aa51d22ef0fbe083de3aa0fb6c7\n",
       "72706    ffeb5f3e33dcd33ca03d8358db477de4\n",
       "72707    ffece57ee64e803f24509856e6a1fdb7\n",
       "72708    ffed080f96e4e15ca990446c93a6ec08\n",
       "72709    ffed1585a7d5a0e4904c49511ebb5fe7\n",
       "72710    ffed379b11df21e8c875269504fbbf56\n",
       "72711    fff1bb2fb2290954f2647e51bf2cbb55\n",
       "72712    fff20cece2d28f5887093a8bb99a4784\n",
       "72713    fff2482b0839185753d006d4308fc45d\n",
       "72714    fff3d89ca5e98deb3f0f3d9a7cb759db\n",
       "72715    fff44e91c179b3f2c9aca59974a085c2\n",
       "72716    fff548ab6a5c03de4930e423b4a03255\n",
       "72717    fff666bdf845968584aee667c7a3c2e5\n",
       "72718    fff7359714103b0c27ec976cfc9d9d72\n",
       "72719    fff7d19f41e131dae5aa387016365d27\n",
       "72720    fff7e79738fd06c5c6571f4ad41ff019\n",
       "72721    fff885dafce62310951c835247f30a38\n",
       "72722    fff9e9479d0e4ecfe81500652b65e3f8\n",
       "72723    fffd8514a3a6d4f124c42dd8e9b03748\n",
       "72724    fffd941753a652129001367d10a63ba8\n",
       "72725    fffdd71cc550f48ff62a2686673a79f9\n",
       "72726    ffffd3e28611498c446f41688d27d450\n",
       "Name: device, Length: 72727, dtype: object"
      ]
     },
     "execution_count": 11,
     "metadata": {},
     "output_type": "execute_result"
    }
   ],
   "source": []
  },
  {
   "cell_type": "code",
   "execution_count": null,
   "metadata": {
    "collapsed": true
   },
   "outputs": [],
   "source": [
    "mini = get_start_closed()\n",
    "tmp[tmp.device.isin(mini.device)][['device','duration_max_min', 'tol_day_cnt_nunique', 'gap']].sort_values('gap', ascending=False)\n",
    "\n",
    "\n",
    "#f993126b72f6297440c2dc8534b20a0b  49\n",
    "#fbf985012f537449b455d6a554479f8b  1161\n",
    "\n",
    "\n"
   ]
  },
  {
   "cell_type": "code",
   "execution_count": null,
   "metadata": {
    "collapsed": true
   },
   "outputs": [],
   "source": [
    "from  tiny.lda import *\n",
    "get_lda_from_usage()"
   ]
  },
  {
   "cell_type": "code",
   "execution_count": null,
   "metadata": {
    "collapsed": true
   },
   "outputs": [],
   "source": [
    "device= 'fa68862f9484c62aca5c3a4b8a2c70bc'\n",
    "mini[mini.device==device].sort_values('start')"
   ]
  },
  {
   "cell_type": "code",
   "execution_count": null,
   "metadata": {
    "collapsed": true
   },
   "outputs": [],
   "source": [
    "tmp[tmp.device==device]"
   ]
  },
  {
   "cell_type": "code",
   "execution_count": null,
   "metadata": {
    "collapsed": true
   },
   "outputs": [],
   "source": [
    "df2"
   ]
  },
  {
   "cell_type": "code",
   "execution_count": null,
   "metadata": {
    "collapsed": true
   },
   "outputs": [],
   "source": [
    "#df2.set_index('device', inplace=True)\n",
    "df.sort_index(ascending=False)\n"
   ]
  },
  {
   "cell_type": "code",
   "execution_count": null,
   "metadata": {
    "collapsed": true
   },
   "outputs": [],
   "source": [
    "split.head()"
   ]
  },
  {
   "cell_type": "code",
   "execution_count": null,
   "metadata": {
    "collapsed": true
   },
   "outputs": [],
   "source": [
    "print(pd.to_datetime('1488332491588', unit='ms'))  #fc6383d2bdb463fd01db6731594a6d36\t07e967d75aab2f6a52c558695a572a7c\n",
    "print(pd.to_datetime('1488332506604', unit='ms'))\n",
    "print(pd.to_datetime('1488363700875', unit='ms'))\n",
    "print(pd.to_datetime('1488363707487', unit='ms'))"
   ]
  },
  {
   "cell_type": "code",
   "execution_count": null,
   "metadata": {
    "collapsed": true
   },
   "outputs": [],
   "source": [
    "tmp = extend_time(tmp,2)\n",
    "#tmp['start'].astype\n",
    "#tmp['start'] = pd.to_datetime(tmp['start'])\n",
    "#tmp['start'].dt.date"
   ]
  },
  {
   "cell_type": "code",
   "execution_count": null,
   "metadata": {
    "collapsed": true
   },
   "outputs": [],
   "source": [
    "\n",
    "# def extend_percent(df):\n",
    "#     total = get_percent_duration(df, ['device'], 'total')\n",
    "\n",
    "#     max_week = get_max_week(df)\n",
    "\n",
    "#     merge = df.merge(max_week, on=['device', 'weekbegin'])\n",
    "\n",
    "#     max = get_percent_duration(merge, ['device'], prefix='max')\n",
    "\n",
    "#     return pd.concat( [total, max], axis=1 )\n",
    "\n",
    "\n",
    "# total = get_percent_duration(df, ['device'], 'total')\n",
    "\n",
    "\n",
    "# df = tmp\n",
    "# max_week = get_max_week(df)\n",
    "# max_week.head()\n",
    "# merge = df.merge(max_week, on=['device', 'weekbegin'])\n",
    "\n",
    " \n",
    "# def get_percent_duration(df, groupby=['device', 'weekday'], prefix=None):\n",
    "#     prefix = groupby[-1] if prefix is None else prefix\n",
    "#     columns = [key for key in df.columns if 'span_' in key]\n",
    "#     gp_map = [(key, 'sum') for key in columns if 'span_' in key]\n",
    "#     gp_map = dict(gp_map)\n",
    "#     # print(gp_map)\n",
    "\n",
    "#     gp_map['package'] = 'nunique'\n",
    "#     gp_map['start_base'] = 'nunique'\n",
    "#     df = df.groupby(groupby).agg(gp_map)\n",
    "#     #     df = df.groupby(groupby).agg({'span_0':'sum','span_1':'sum','span_2':'sum',\n",
    "#     #                                                  'span_3':'sum','package':'nunique' })\n",
    "#     df['total'] = df[[key for key in columns if 'span_' in key]].sum(axis=1)\n",
    "\n",
    "#     for col in columns:\n",
    "#         df[f'{col}_p'] = round(df[col] / df['total'], 3)\n",
    "\n",
    "#     df.rename({'package':'package_cnt', 'start_base':'start_base_cnt'}, axis=1, inplace=True)\n",
    "\n",
    "#     df.columns = [f'{prefix}_{key}' for key in df.columns]\n",
    "#     return df\n",
    "\n",
    "per = extend_percent(tmp)\n",
    "per.head()\n",
    "\n",
    "# max_week = get_max_week(tmp)\n",
    "# max_week\n",
    "\n",
    "# merge= tmp.merge(max_week, on = ['device','weekbegin'])\n",
    "\n",
    "# print(len(merge))\n",
    "\n",
    "# get_percent_duration(merge, ['device'], prefix='max')\n",
    "\n",
    "\n",
    "    "
   ]
  },
  {
   "cell_type": "code",
   "execution_count": null,
   "metadata": {
    "collapsed": true
   },
   "outputs": [],
   "source": [
    "per\n",
    "#tmp[tmp.device=='fc6383d2bdb463fd01db6731594a6d36'].sort_values('start')"
   ]
  },
  {
   "cell_type": "code",
   "execution_count": null,
   "metadata": {
    "collapsed": true
   },
   "outputs": [],
   "source": [
    "print('yes')"
   ]
  },
  {
   "cell_type": "code",
   "execution_count": null,
   "metadata": {
    "collapsed": true
   },
   "outputs": [],
   "source": [
    "#tmp['start_base']  = tmp['start'].dt.date\n",
    "# tmp = tmp[tmp.device.isin(['fff885dafce62310951c835247f30a38',\n",
    "# 'fc65f1731b785a8ce82d20a30dee9259'])]\n",
    "\n",
    "df = tmp.groupby(['device','weekbegin']).package.nunique().to_frame().reset_index()\n",
    "\n",
    "# .to_frame().reset_index()\n",
    "# df.sort_values(['device', 'package'])\n",
    "\n",
    "df.sort_values(by=['device', 'package', 'weekbegin'], ascending=False).groupby('device').nth(0)\n"
   ]
  },
  {
   "cell_type": "code",
   "execution_count": null,
   "metadata": {
    "collapsed": true
   },
   "outputs": [],
   "source": [
    "xx = df\n",
    "\n"
   ]
  },
  {
   "cell_type": "code",
   "execution_count": null,
   "metadata": {
    "collapsed": true
   },
   "outputs": [],
   "source": [
    "\n",
    "\n",
    "import numpy as np\n",
    "from tqdm import tqdm\n",
    "from sklearn.decomposition import LatentDirichletAllocation\n",
    "\n",
    "from sklearn.feature_extraction.text import TfidfTransformer\n",
    "from sklearn.feature_extraction.text import CountVectorizer\n",
    "\n",
    "path = './input/'\n",
    "data = pd.DataFrame()\n",
    "sex_age = pd.read_excel('./input/性别年龄对照表.xlsx')\n",
    "deviceid_packages = pd.read_csv(path + 'deviceid_packages.tsv', sep='\\t', names=['device', 'apps'])\n",
    "deviceid_test = pd.read_csv(path + 'deviceid_test.tsv', sep='\\t', names=['device'])\n",
    "deviceid_train = pd.read_csv(path + 'deviceid_train.tsv', sep='\\t', names=['device', 'sex', 'age'])\n",
    "\n",
    "deviceid_train = pd.concat([deviceid_train, deviceid_test])\n",
    "\n",
    "deviceid_packages['apps'] = deviceid_packages['apps'].apply(lambda x: x.split(','))\n",
    "deviceid_packages['app_lenghth'] = deviceid_packages['apps'].apply(lambda x: len(x))\n",
    "\n",
    "deviceid_packages.head()\n",
    "# apps = deviceid_packages['apps'].apply(lambda x: ' '.join(x)).tolist()\n",
    "\n",
    "# vectorizer = CountVectorizer()\n",
    "# transformer = TfidfTransformer()\n",
    "# cntTf = vectorizer.fit_transform(apps)\n",
    "# tfidf = transformer.fit_transform(cntTf)\n",
    "# #word = vectorizer.get_feature_names()\n",
    "# weight = tfidf.toarray()\n",
    "# df_weight = pd.DataFrame(weight)\n",
    "# feature = df_weight.columns\n",
    "# df_weight['sum'] = 0\n",
    "# for f in tqdm(feature):\n",
    "#     df_weight['sum'] += df_weight[f]\n",
    "# deviceid_packages['tfidf_sum'] = df_weight['sum']\n",
    "\n",
    "# lda = LatentDirichletAllocation(n_topics=5,\n",
    "#                                 learning_offset=50.,\n",
    "#                                 random_state=666)\n",
    "# docres = lda.fit_transform(cntTf)\n",
    "\n",
    "# deviceid_packages = pd.concat([deviceid_packages, pd.DataFrame(docres)], axis=1)\n",
    "\n",
    "# temp = deviceid_packages.drop('apps', axis=1)\n",
    "# deviceid_train = pd.merge(deviceid_train, temp, on='device', how='left')\n",
    "\n",
    "# deviceid_train['sex'] = deviceid_train['sex'].apply(lambda x: str(x))\n",
    "# deviceid_train['age'] = deviceid_train['age'].apply(lambda x: str(x))\n",
    "\n",
    "\n"
   ]
  },
  {
   "cell_type": "code",
   "execution_count": null,
   "metadata": {
    "collapsed": true
   },
   "outputs": [],
   "source": [
    "from tiny.lda import *\n",
    "get_lda_from_usage()"
   ]
  },
  {
   "cell_type": "code",
   "execution_count": null,
   "metadata": {
    "collapsed": true
   },
   "outputs": [],
   "source": [
    "tmp = extend_cols(tmp)\n",
    "tmp, tmp_new = split_days(tmp)\n",
    "\n",
    "tmp.head()"
   ]
  },
  {
   "cell_type": "code",
   "execution_count": null,
   "metadata": {
    "collapsed": true
   },
   "outputs": [],
   "source": [
    "tmp, tmp_new = split_days(tmp)\n",
    "tmp.head()"
   ]
  },
  {
   "cell_type": "code",
   "execution_count": null,
   "metadata": {
    "collapsed": true
   },
   "outputs": [],
   "source": [
    "trainn_label = get_train_label()\n",
    "trainn_label.head()"
   ]
  },
  {
   "cell_type": "code",
   "execution_count": null,
   "metadata": {
    "collapsed": true
   },
   "outputs": [],
   "source": [
    "from  tiny.util import *\n",
    "\n",
    "tmp = extend_feature( span_no=2, trunc_long_time=False, mini=True)"
   ]
  },
  {
   "cell_type": "code",
   "execution_count": null,
   "metadata": {
    "collapsed": true
   },
   "outputs": [],
   "source": [
    "tmp.head()"
   ]
  },
  {
   "cell_type": "code",
   "execution_count": null,
   "metadata": {
    "collapsed": true
   },
   "outputs": [],
   "source": [
    "tmp = extend_time_span(version=1, trunc_long_time=False, mini=True, groupby=['device'], prefix='tol')\n",
    "tmp.head()"
   ]
  },
  {
   "cell_type": "code",
   "execution_count": null,
   "metadata": {
    "collapsed": true
   },
   "outputs": [],
   "source": [
    "from tiny.lda import *\n",
    "from  tiny.util import *\n",
    "\n",
    "tmp = extend_package(version=1)\n",
    "tmp.head(3).sum(axis=1)"
   ]
  },
  {
   "cell_type": "code",
   "execution_count": null,
   "metadata": {
    "collapsed": true
   },
   "outputs": [],
   "source": [
    "tmp = tmp/tmp\n",
    "\n",
    "tmp.head(3).sum(axis=1)"
   ]
  },
  {
   "cell_type": "code",
   "execution_count": null,
   "metadata": {
    "collapsed": true
   },
   "outputs": [],
   "source": [
    "tmp.head(3).count(axis=1)"
   ]
  },
  {
   "cell_type": "code",
   "execution_count": null,
   "metadata": {
    "collapsed": true
   },
   "outputs": [],
   "source": [
    "tmp.head(3)"
   ]
  },
  {
   "cell_type": "code",
   "execution_count": null,
   "metadata": {
    "collapsed": true
   },
   "outputs": [],
   "source": []
  }
 ],
 "metadata": {
  "kernelspec": {
   "display_name": "Python 3",
   "language": "python",
   "name": "python3"
  },
  "language_info": {
   "codemirror_mode": {
    "name": "ipython",
    "version": 3
   },
   "file_extension": ".py",
   "mimetype": "text/x-python",
   "name": "python",
   "nbconvert_exporter": "python",
   "pygments_lexer": "ipython3",
   "version": "3.6.3"
  }
 },
 "nbformat": 4,
 "nbformat_minor": 2
}
