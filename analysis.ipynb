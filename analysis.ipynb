{
 "cells": [
  {
   "cell_type": "code",
   "execution_count": 3,
   "metadata": {},
   "outputs": [
    {
     "name": "stderr",
     "output_type": "stream",
     "text": [
      "2018-09-13 21:29:27,379 util_cache_file.py[68] DEBUG fn:extend_package, para:[], kw:{'version': 1, 'mini': False}\n",
      "2018-09-13 21:29:27,383 util_cache_file.py[20] DEBUG try to read cache from file:./cache/extend_package_[]_{'version': 1, 'mini': False}.pkl, type:pkl\n",
      "2018-09-13 21:29:32,676 util_cache_file.py[30] DEBUG Return 72727 resut from file cache:./cache/extend_package_[]_{'version': 1, 'mini': False}.pkl\n"
     ]
    },
    {
     "name": "stdout",
     "output_type": "stream",
     "text": [
      "Index(['count_00001de888265b507927b24bc2ef2652', 'count_0002b5a7599da4996f1a93559bdbab95', 'count_000533a8532cde925ccb4d232c0c6453', 'count_0006d5218cb48df4b7035df5cb4c78ea', 'count_0006ebf20cb258c845991c5f28f6cbda', 'count_000ff845ed5b170f986d9b00f0b919e5', 'count_001016d53c89de63fcc81aff70f8b571', 'count_00109029d1c197730e38d3bc72014ce5', 'count_0013b6d971b3969107b63663b7961e24', 'count_0013dbb43e3e47141e54358b1e44b770',\n",
      "       ...\n",
      "       'duration_ffe30aff5424f434555b3b818939cff6', 'duration_ffe5dba99b04c876752414f27c215d58', 'duration_ffe6f66e2eaec415ea550fce434cb710', 'duration_ffe72dccb112deb7db715c6454c18bb2', 'duration_ffee0fe573100b1e185f6c5a849e1ad6', 'duration_ffeee1acd92a108acac8fefe036a2b79', 'duration_ffef0034959c5277e0d4a76743ca2a73', 'duration_fff10b6d77a9b22fd2fa07cffeb63086', 'duration_fff35718904998c9e2815cfa21ea046e', 'duration_fff797374df27b03b463171b0496a627'], dtype='object', length=70000)\n"
     ]
    }
   ],
   "source": [
    "from  tiny.util import *\n",
    "\n",
    "p = extend_package(version=1,mini=False) \n",
    "p.head()\n",
    "print(p.columns)"
   ]
  },
  {
   "cell_type": "code",
   "execution_count": null,
   "metadata": {},
   "outputs": [],
   "source": [
    "p.head().sum(axis=1)"
   ]
  },
  {
   "cell_type": "code",
   "execution_count": null,
   "metadata": {},
   "outputs": [],
   "source": [
    "tmp['duration_max_min'] = (tmp.tol_day_cnt_max - tmp.tol_day_cnt_min).dt.days\n",
    "\n",
    "\n",
    "\n",
    "tmp['gap']  = tmp.duration_max_min - tmp.tol_day_cnt_nunique\n",
    "\n",
    "tmp[['device','duration_max_min', 'tol_day_cnt_nunique', 'gap']].sort_values('gap', ascending=False)\n",
    "\n",
    "\n"
   ]
  },
  {
   "cell_type": "code",
   "execution_count": null,
   "metadata": {},
   "outputs": [],
   "source": [
    "mini = get_start_closed()\n",
    "tmp[tmp.device.isin(mini.device)][['device','duration_max_min', 'tol_day_cnt_nunique', 'gap']].sort_values('gap', ascending=False)\n",
    "\n",
    "\n",
    "#f993126b72f6297440c2dc8534b20a0b  49\n",
    "#fbf985012f537449b455d6a554479f8b  1161\n",
    "\n",
    "\n"
   ]
  },
  {
   "cell_type": "code",
   "execution_count": null,
   "metadata": {},
   "outputs": [],
   "source": [
    "from  tiny.lda import *\n",
    "get_lda_from_usage()"
   ]
  },
  {
   "cell_type": "code",
   "execution_count": null,
   "metadata": {},
   "outputs": [],
   "source": [
    "device= 'fa68862f9484c62aca5c3a4b8a2c70bc'\n",
    "mini[mini.device==device].sort_values('start')"
   ]
  },
  {
   "cell_type": "code",
   "execution_count": null,
   "metadata": {},
   "outputs": [],
   "source": [
    "tmp[tmp.device==device]"
   ]
  },
  {
   "cell_type": "code",
   "execution_count": null,
   "metadata": {},
   "outputs": [],
   "source": [
    "df2"
   ]
  },
  {
   "cell_type": "code",
   "execution_count": null,
   "metadata": {},
   "outputs": [],
   "source": [
    "#df2.set_index('device', inplace=True)\n",
    "df.sort_index(ascending=False)\n"
   ]
  },
  {
   "cell_type": "code",
   "execution_count": null,
   "metadata": {},
   "outputs": [],
   "source": [
    "split.head()"
   ]
  },
  {
   "cell_type": "code",
   "execution_count": null,
   "metadata": {
    "collapsed": true
   },
   "outputs": [],
   "source": [
    "print(pd.to_datetime('1488332491588', unit='ms'))  #fc6383d2bdb463fd01db6731594a6d36\t07e967d75aab2f6a52c558695a572a7c\n",
    "print(pd.to_datetime('1488332506604', unit='ms'))\n",
    "print(pd.to_datetime('1488363700875', unit='ms'))\n",
    "print(pd.to_datetime('1488363707487', unit='ms'))"
   ]
  },
  {
   "cell_type": "code",
   "execution_count": null,
   "metadata": {
    "collapsed": true
   },
   "outputs": [],
   "source": [
    "tmp = extend_time(tmp,2)\n",
    "#tmp['start'].astype\n",
    "#tmp['start'] = pd.to_datetime(tmp['start'])\n",
    "#tmp['start'].dt.date"
   ]
  },
  {
   "cell_type": "code",
   "execution_count": null,
   "metadata": {
    "collapsed": true
   },
   "outputs": [],
   "source": [
    "\n",
    "# def extend_percent(df):\n",
    "#     total = get_percent_duration(df, ['device'], 'total')\n",
    "\n",
    "#     max_week = get_max_week(df)\n",
    "\n",
    "#     merge = df.merge(max_week, on=['device', 'weekbegin'])\n",
    "\n",
    "#     max = get_percent_duration(merge, ['device'], prefix='max')\n",
    "\n",
    "#     return pd.concat( [total, max], axis=1 )\n",
    "\n",
    "\n",
    "# total = get_percent_duration(df, ['device'], 'total')\n",
    "\n",
    "\n",
    "# df = tmp\n",
    "# max_week = get_max_week(df)\n",
    "# max_week.head()\n",
    "# merge = df.merge(max_week, on=['device', 'weekbegin'])\n",
    "\n",
    " \n",
    "# def get_percent_duration(df, groupby=['device', 'weekday'], prefix=None):\n",
    "#     prefix = groupby[-1] if prefix is None else prefix\n",
    "#     columns = [key for key in df.columns if 'span_' in key]\n",
    "#     gp_map = [(key, 'sum') for key in columns if 'span_' in key]\n",
    "#     gp_map = dict(gp_map)\n",
    "#     # print(gp_map)\n",
    "\n",
    "#     gp_map['package'] = 'nunique'\n",
    "#     gp_map['start_base'] = 'nunique'\n",
    "#     df = df.groupby(groupby).agg(gp_map)\n",
    "#     #     df = df.groupby(groupby).agg({'span_0':'sum','span_1':'sum','span_2':'sum',\n",
    "#     #                                                  'span_3':'sum','package':'nunique' })\n",
    "#     df['total'] = df[[key for key in columns if 'span_' in key]].sum(axis=1)\n",
    "\n",
    "#     for col in columns:\n",
    "#         df[f'{col}_p'] = round(df[col] / df['total'], 3)\n",
    "\n",
    "#     df.rename({'package':'package_cnt', 'start_base':'start_base_cnt'}, axis=1, inplace=True)\n",
    "\n",
    "#     df.columns = [f'{prefix}_{key}' for key in df.columns]\n",
    "#     return df\n",
    "\n",
    "per = extend_percent(tmp)\n",
    "per.head()\n",
    "\n",
    "# max_week = get_max_week(tmp)\n",
    "# max_week\n",
    "\n",
    "# merge= tmp.merge(max_week, on = ['device','weekbegin'])\n",
    "\n",
    "# print(len(merge))\n",
    "\n",
    "# get_percent_duration(merge, ['device'], prefix='max')\n",
    "\n",
    "\n",
    "    "
   ]
  },
  {
   "cell_type": "code",
   "execution_count": null,
   "metadata": {
    "collapsed": true
   },
   "outputs": [],
   "source": [
    "per\n",
    "#tmp[tmp.device=='fc6383d2bdb463fd01db6731594a6d36'].sort_values('start')"
   ]
  },
  {
   "cell_type": "code",
   "execution_count": null,
   "metadata": {
    "collapsed": true
   },
   "outputs": [],
   "source": [
    "print('yes')"
   ]
  },
  {
   "cell_type": "code",
   "execution_count": null,
   "metadata": {
    "collapsed": true
   },
   "outputs": [],
   "source": [
    "#tmp['start_base']  = tmp['start'].dt.date\n",
    "# tmp = tmp[tmp.device.isin(['fff885dafce62310951c835247f30a38',\n",
    "# 'fc65f1731b785a8ce82d20a30dee9259'])]\n",
    "\n",
    "df = tmp.groupby(['device','weekbegin']).package.nunique().to_frame().reset_index()\n",
    "\n",
    "# .to_frame().reset_index()\n",
    "# df.sort_values(['device', 'package'])\n",
    "\n",
    "df.sort_values(by=['device', 'package', 'weekbegin'], ascending=False).groupby('device').nth(0)\n"
   ]
  },
  {
   "cell_type": "code",
   "execution_count": null,
   "metadata": {
    "collapsed": true
   },
   "outputs": [],
   "source": [
    "xx = df\n",
    "\n"
   ]
  },
  {
   "cell_type": "code",
   "execution_count": null,
   "metadata": {},
   "outputs": [],
   "source": [
    "\n",
    "\n",
    "import numpy as np\n",
    "from tqdm import tqdm\n",
    "from sklearn.decomposition import LatentDirichletAllocation\n",
    "\n",
    "from sklearn.feature_extraction.text import TfidfTransformer\n",
    "from sklearn.feature_extraction.text import CountVectorizer\n",
    "\n",
    "path = './input/'\n",
    "data = pd.DataFrame()\n",
    "sex_age = pd.read_excel('./input/性别年龄对照表.xlsx')\n",
    "deviceid_packages = pd.read_csv(path + 'deviceid_packages.tsv', sep='\\t', names=['device', 'apps'])\n",
    "deviceid_test = pd.read_csv(path + 'deviceid_test.tsv', sep='\\t', names=['device'])\n",
    "deviceid_train = pd.read_csv(path + 'deviceid_train.tsv', sep='\\t', names=['device', 'sex', 'age'])\n",
    "\n",
    "deviceid_train = pd.concat([deviceid_train, deviceid_test])\n",
    "\n",
    "deviceid_packages['apps'] = deviceid_packages['apps'].apply(lambda x: x.split(','))\n",
    "deviceid_packages['app_lenghth'] = deviceid_packages['apps'].apply(lambda x: len(x))\n",
    "\n",
    "deviceid_packages.head()\n",
    "# apps = deviceid_packages['apps'].apply(lambda x: ' '.join(x)).tolist()\n",
    "\n",
    "# vectorizer = CountVectorizer()\n",
    "# transformer = TfidfTransformer()\n",
    "# cntTf = vectorizer.fit_transform(apps)\n",
    "# tfidf = transformer.fit_transform(cntTf)\n",
    "# #word = vectorizer.get_feature_names()\n",
    "# weight = tfidf.toarray()\n",
    "# df_weight = pd.DataFrame(weight)\n",
    "# feature = df_weight.columns\n",
    "# df_weight['sum'] = 0\n",
    "# for f in tqdm(feature):\n",
    "#     df_weight['sum'] += df_weight[f]\n",
    "# deviceid_packages['tfidf_sum'] = df_weight['sum']\n",
    "\n",
    "# lda = LatentDirichletAllocation(n_topics=5,\n",
    "#                                 learning_offset=50.,\n",
    "#                                 random_state=666)\n",
    "# docres = lda.fit_transform(cntTf)\n",
    "\n",
    "# deviceid_packages = pd.concat([deviceid_packages, pd.DataFrame(docres)], axis=1)\n",
    "\n",
    "# temp = deviceid_packages.drop('apps', axis=1)\n",
    "# deviceid_train = pd.merge(deviceid_train, temp, on='device', how='left')\n",
    "\n",
    "# deviceid_train['sex'] = deviceid_train['sex'].apply(lambda x: str(x))\n",
    "# deviceid_train['age'] = deviceid_train['age'].apply(lambda x: str(x))\n",
    "\n",
    "\n"
   ]
  },
  {
   "cell_type": "code",
   "execution_count": null,
   "metadata": {},
   "outputs": [],
   "source": [
    "from tiny.lda import *\n",
    "get_lda_from_usage()"
   ]
  },
  {
   "cell_type": "code",
   "execution_count": null,
   "metadata": {
    "collapsed": true
   },
   "outputs": [],
   "source": [
    "tmp = extend_cols(tmp)\n",
    "tmp, tmp_new = split_days(tmp)\n",
    "\n",
    "tmp.head()"
   ]
  },
  {
   "cell_type": "code",
   "execution_count": null,
   "metadata": {
    "collapsed": true
   },
   "outputs": [],
   "source": [
    "tmp, tmp_new = split_days(tmp)\n",
    "tmp.head()"
   ]
  },
  {
   "cell_type": "code",
   "execution_count": null,
   "metadata": {
    "collapsed": true
   },
   "outputs": [],
   "source": [
    "trainn_label = get_train_label()\n",
    "trainn_label.head()"
   ]
  },
  {
   "cell_type": "code",
   "execution_count": null,
   "metadata": {},
   "outputs": [],
   "source": [
    "from  tiny.util import *\n",
    "\n",
    "tmp = extend_feature( span_no=2, trunc_long_time=False, mini=True)"
   ]
  },
  {
   "cell_type": "code",
   "execution_count": null,
   "metadata": {},
   "outputs": [],
   "source": [
    "tmp.head()"
   ]
  },
  {
   "cell_type": "code",
   "execution_count": null,
   "metadata": {},
   "outputs": [],
   "source": [
    "tmp = extend_time_span(version=1, trunc_long_time=False, mini=True, groupby=['device'], prefix='tol')\n",
    "tmp.head()"
   ]
  },
  {
   "cell_type": "code",
   "execution_count": null,
   "metadata": {},
   "outputs": [],
   "source": [
    "from tiny.lda import *\n",
    "from  tiny.util import *\n",
    "\n",
    "tmp = extend_package(version=1)\n",
    "tmp.head(3).sum(axis=1)"
   ]
  },
  {
   "cell_type": "code",
   "execution_count": null,
   "metadata": {},
   "outputs": [],
   "source": [
    "tmp = tmp/tmp\n",
    "\n",
    "tmp.head(3).sum(axis=1)"
   ]
  },
  {
   "cell_type": "code",
   "execution_count": null,
   "metadata": {},
   "outputs": [],
   "source": [
    "tmp.head(3).count(axis=1)"
   ]
  },
  {
   "cell_type": "code",
   "execution_count": null,
   "metadata": {},
   "outputs": [],
   "source": [
    "tmp.head(3)"
   ]
  },
  {
   "cell_type": "code",
   "execution_count": null,
   "metadata": {
    "collapsed": true
   },
   "outputs": [],
   "source": []
  }
 ],
 "metadata": {
  "kernelspec": {
   "display_name": "Python 3",
   "language": "python",
   "name": "python3"
  },
  "language_info": {
   "codemirror_mode": {
    "name": "ipython",
    "version": 3
   },
   "file_extension": ".py",
   "mimetype": "text/x-python",
   "name": "python",
   "nbconvert_exporter": "python",
   "pygments_lexer": "ipython3",
   "version": "3.6.3"
  }
 },
 "nbformat": 4,
 "nbformat_minor": 2
}
