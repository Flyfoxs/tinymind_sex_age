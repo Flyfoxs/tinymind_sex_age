{
 "cells": [
  {
   "cell_type": "code",
   "execution_count": null,
   "metadata": {
    "collapsed": true
   },
   "outputs": [],
   "source": [
    "print('yes')"
   ]
  },
  {
   "cell_type": "code",
   "execution_count": null,
   "metadata": {},
   "outputs": [],
   "source": [
    "\n",
    "from  tiny.util import *\n",
    "tmp = get_start_closed('./output/start_close/deviceid_package_start_close_40_00_0_943036.csv')\n",
    "#tmp = tmp[(tmp.device=='00009270c4ec26e1d76f5d86847009c9') & (tmp.start_t==1488257470444)]\n",
    "#tmp = extend_cols(tmp)\n",
    "#\n",
    "tmp.head(2)\n"
   ]
  },
  {
   "cell_type": "code",
   "execution_count": null,
   "metadata": {},
   "outputs": [
    {
     "name": "stderr",
     "output_type": "stream",
     "text": [
      "2018-09-09 16:04:16,014 util_log.py[29] INFO Begin to run extend_feature with:[], {'version': '1'}\n",
      "2018-09-09 16:04:16,018 util_cache_file.py[60] DEBUG fn:extend_feature, para:[], kw:{'version': '1'}\n",
      "2018-09-09 16:04:16,020 util_cache_file.py[31] DEBUG Can not find cache from file:./cache/extend_feature_[]_{'version': '1'}.csv\n",
      "2018-09-09 16:04:16,022 util_log.py[29] INFO Begin to run get_start_closed with:[], {}\n"
     ]
    },
    {
     "name": "stdout",
     "output_type": "stream",
     "text": [
      "Try to summary file:./output/start_close/deviceid_package_start_close_40_38_35780089_36720940.csv\n",
      "Sort the df#940851 by device(begin)\n",
      "Sort the df by device(end)\n",
      "Remove 8 records data\n"
     ]
    },
    {
     "name": "stderr",
     "output_type": "stream",
     "text": [
      "2018-09-09 16:04:17,701 util_log.py[34] INFO cost: 1.68 sec: ==='get_start_closed' end ([], {}) \n",
      "2018-09-09 16:04:17,703 util_log.py[29] INFO Begin to run split_days_all with:[], {}\n",
      "2018-09-09 16:04:21,212 util_log.py[29] INFO Begin to run split_days with:[], {}\n"
     ]
    },
    {
     "name": "stdout",
     "output_type": "stream",
     "text": [
      "Out loop: The original Df size is 940843\n",
      "The input df#940843 before split\n"
     ]
    },
    {
     "name": "stderr",
     "output_type": "stream",
     "text": [
      "/Users/lali2/dev/python/anaconda3/lib/python3.6/site-packages/pandas/core/generic.py:3643: SettingWithCopyWarning: \n",
      "A value is trying to be set on a copy of a slice from a DataFrame.\n",
      "Try using .loc[row_indexer,col_indexer] = value instead\n",
      "\n",
      "See the caveats in the documentation: http://pandas.pydata.org/pandas-docs/stable/indexing.html#indexing-view-versus-copy\n",
      "  self[name] = value\n",
      "2018-09-09 16:04:21,504 util_log.py[29] INFO Begin to run split_days with:[], {}\n",
      "2018-09-09 16:04:21,689 util_log.py[29] INFO Begin to run split_days with:[], {}\n"
     ]
    },
    {
     "name": "stdout",
     "output_type": "stream",
     "text": [
      "The input df#1231 before split\n"
     ]
    },
    {
     "name": "stderr",
     "output_type": "stream",
     "text": [
      "2018-09-09 16:04:21,861 util_log.py[29] INFO Begin to run split_days with:[], {}\n",
      "2018-09-09 16:04:22,028 util_log.py[29] INFO Begin to run split_days with:[], {}\n",
      "2018-09-09 16:04:22,190 util_log.py[29] INFO Begin to run split_days with:[], {}\n"
     ]
    },
    {
     "name": "stdout",
     "output_type": "stream",
     "text": [
      "The input df#836 before split\n",
      "The input df#442 before split\n",
      "The input df#279 before split\n",
      "The input df#200 before split"
     ]
    },
    {
     "name": "stderr",
     "output_type": "stream",
     "text": [
      "2018-09-09 16:04:22,348 util_log.py[29] INFO Begin to run split_days with:[], {}\n",
      "2018-09-09 16:04:22,516 util_log.py[29] INFO Begin to run split_days with:[], {}\n"
     ]
    },
    {
     "name": "stdout",
     "output_type": "stream",
     "text": [
      "\n",
      "The input df#159 before split\n"
     ]
    },
    {
     "name": "stderr",
     "output_type": "stream",
     "text": [
      "2018-09-09 16:04:22,678 util_log.py[29] INFO Begin to run split_days with:[], {}\n",
      "2018-09-09 16:04:22,844 util_log.py[29] INFO Begin to run split_days with:[], {}\n",
      "2018-09-09 16:04:23,005 util_log.py[29] INFO Begin to run split_days with:[], {}\n"
     ]
    },
    {
     "name": "stdout",
     "output_type": "stream",
     "text": [
      "The input df#126 before split\n",
      "The input df#102 before split\n",
      "The input df#70 before split\n"
     ]
    },
    {
     "name": "stderr",
     "output_type": "stream",
     "text": [
      "2018-09-09 16:04:23,160 util_log.py[29] INFO Begin to run split_days with:[], {}\n",
      "2018-09-09 16:04:23,303 util_log.py[29] INFO Begin to run split_days with:[], {}\n",
      "2018-09-09 16:04:23,442 util_log.py[29] INFO Begin to run split_days with:[], {}\n"
     ]
    },
    {
     "name": "stdout",
     "output_type": "stream",
     "text": [
      "The input df#52 before split\n",
      "The input df#37 before split\n",
      "The input df#19 before split\n"
     ]
    },
    {
     "name": "stderr",
     "output_type": "stream",
     "text": [
      "2018-09-09 16:04:23,590 util_log.py[29] INFO Begin to run split_days with:[], {}\n",
      "2018-09-09 16:04:23,595 util_log.py[34] INFO cost: 0.00 sec: ==='split_days' end ([], {}) \n",
      "2018-09-09 16:04:23,599 util_log.py[34] INFO cost: 0.16 sec: ==='split_days' end ([], {}) \n",
      "2018-09-09 16:04:23,603 util_log.py[34] INFO cost: 0.30 sec: ==='split_days' end ([], {}) \n",
      "2018-09-09 16:04:23,608 util_log.py[34] INFO cost: 0.45 sec: ==='split_days' end ([], {}) \n",
      "2018-09-09 16:04:23,614 util_log.py[34] INFO cost: 0.61 sec: ==='split_days' end ([], {}) \n",
      "2018-09-09 16:04:23,619 util_log.py[34] INFO cost: 0.77 sec: ==='split_days' end ([], {}) \n",
      "2018-09-09 16:04:23,623 util_log.py[34] INFO cost: 0.94 sec: ==='split_days' end ([], {}) \n",
      "2018-09-09 16:04:23,631 util_log.py[34] INFO cost: 1.12 sec: ==='split_days' end ([], {}) \n",
      "2018-09-09 16:04:23,638 util_log.py[34] INFO cost: 1.29 sec: ==='split_days' end ([], {}) \n",
      "2018-09-09 16:04:23,643 util_log.py[34] INFO cost: 1.45 sec: ==='split_days' end ([], {}) \n",
      "2018-09-09 16:04:23,648 util_log.py[34] INFO cost: 1.62 sec: ==='split_days' end ([], {}) \n",
      "2018-09-09 16:04:23,652 util_log.py[34] INFO cost: 1.79 sec: ==='split_days' end ([], {}) \n",
      "2018-09-09 16:04:23,657 util_log.py[34] INFO cost: 1.97 sec: ==='split_days' end ([], {}) \n",
      "2018-09-09 16:04:23,661 util_log.py[34] INFO cost: 2.16 sec: ==='split_days' end ([], {}) \n",
      "2018-09-09 16:04:23,765 util_log.py[34] INFO cost: 2.55 sec: ==='split_days' end ([], {}) \n"
     ]
    },
    {
     "name": "stdout",
     "output_type": "stream",
     "text": [
      "The input df#8 before split\n",
      "The input df#3 before split\n",
      "The output df#11 after split\n",
      "The output df#30 after split\n",
      "The output df#67 after split\n",
      "The output df#119 after split\n",
      "The output df#189 after split\n",
      "The output df#291 after split\n",
      "The output df#417 after split\n",
      "The output df#576 after split\n",
      "The output df#776 after split\n",
      "The output df#1055 after split\n",
      "The output df#1497 after split\n",
      "The output df#2333 after split\n",
      "The output df#3564 after split\n",
      "The output df#944407 after split\n",
      "Out loop: The new Df size is 944407\n"
     ]
    },
    {
     "name": "stderr",
     "output_type": "stream",
     "text": [
      "2018-09-09 16:04:31,409 util_log.py[34] INFO cost:13.71 sec: ==='split_days_all' end ([], {}) \n",
      "2018-09-09 16:04:31,411 util_log.py[29] INFO Begin to run extend_time with:[], {'span_no': 4}\n"
     ]
    },
    {
     "name": "stdout",
     "output_type": "stream",
     "text": [
      "Try to cal for range#0\n"
     ]
    },
    {
     "name": "stderr",
     "output_type": "stream",
     "text": [
      "/Users/lali2/Documents/workspace_py/tinymind_3/tiny/util.py:179: SettingWithCopyWarning: \n",
      "A value is trying to be set on a copy of a slice from a DataFrame\n",
      "\n",
      "See the caveats in the documentation: http://pandas.pydata.org/pandas-docs/stable/indexing.html#indexing-view-versus-copy\n",
      "  df[f'span_{sn}'][df[f'span_{sn}'] <= 0] = 0\n"
     ]
    },
    {
     "name": "stdout",
     "output_type": "stream",
     "text": [
      "Try to cal for range#1\n",
      "Try to cal for range#2\n",
      "Try to cal for range#3\n"
     ]
    },
    {
     "name": "stderr",
     "output_type": "stream",
     "text": [
      "2018-09-09 16:06:12,987 util_log.py[34] INFO cost:101.58 sec: ==='extend_time' end ([], {'span_no': 4}) \n",
      "2018-09-09 16:06:12,989 util_log.py[29] INFO Begin to run get_percent_duration with:[['device']], {}\n",
      "2018-09-09 16:06:14,127 util_log.py[34] INFO cost: 1.14 sec: ==='get_percent_duration' end ([['device']], {}) \n",
      "2018-09-09 16:06:14,129 util_log.py[29] INFO Begin to run get_max_week with:[], {}\n",
      "2018-09-09 16:06:14,835 util_log.py[34] INFO cost: 0.71 sec: ==='get_max_week' end ([], {}) \n",
      "2018-09-09 16:06:15,088 util_log.py[29] INFO Begin to run get_percent_duration with:[['device']], {'prefix': 'max'}\n",
      "2018-09-09 16:06:15,456 util_log.py[34] INFO cost: 0.37 sec: ==='get_percent_duration' end ([['device']], {'prefix': 'max'}) \n",
      "2018-09-09 16:06:15,470 util_log.py[29] INFO Begin to run get_start_closed with:[], {}\n"
     ]
    },
    {
     "name": "stdout",
     "output_type": "stream",
     "text": [
      "Try to summary file:./output/start_close/deviceid_package_start_close_40_37_34837990_35780089.csv\n",
      "Sort the df#942099 by device(begin)\n"
     ]
    },
    {
     "name": "stderr",
     "output_type": "stream",
     "text": [
      "2018-09-09 16:06:16,998 util_log.py[34] INFO cost: 1.53 sec: ==='get_start_closed' end ([], {}) \n"
     ]
    },
    {
     "name": "stdout",
     "output_type": "stream",
     "text": [
      "Sort the df by device(end)\n",
      "Remove 0 records data\n"
     ]
    },
    {
     "name": "stderr",
     "output_type": "stream",
     "text": [
      "2018-09-09 16:06:17,000 util_log.py[29] INFO Begin to run split_days_all with:[], {}\n",
      "2018-09-09 16:06:20,627 util_log.py[29] INFO Begin to run split_days with:[], {}\n"
     ]
    },
    {
     "name": "stdout",
     "output_type": "stream",
     "text": [
      "Out loop: The original Df size is 942099\n",
      "The input df#942099 before split\n"
     ]
    },
    {
     "name": "stderr",
     "output_type": "stream",
     "text": [
      "2018-09-09 16:06:20,882 util_log.py[29] INFO Begin to run split_days with:[], {}\n",
      "2018-09-09 16:06:21,055 util_log.py[29] INFO Begin to run split_days with:[], {}\n"
     ]
    },
    {
     "name": "stdout",
     "output_type": "stream",
     "text": [
      "The input df#1245 before split\n"
     ]
    },
    {
     "name": "stderr",
     "output_type": "stream",
     "text": [
      "2018-09-09 16:06:21,222 util_log.py[29] INFO Begin to run split_days with:[], {}\n",
      "2018-09-09 16:06:21,391 util_log.py[29] INFO Begin to run split_days with:[], {}\n"
     ]
    },
    {
     "name": "stdout",
     "output_type": "stream",
     "text": [
      "The input df#842 before split\n",
      "The input df#441 before split\n",
      "The input df#299 before split\n"
     ]
    },
    {
     "name": "stderr",
     "output_type": "stream",
     "text": [
      "2018-09-09 16:06:21,548 util_log.py[29] INFO Begin to run split_days with:[], {}\n",
      "2018-09-09 16:06:21,728 util_log.py[29] INFO Begin to run split_days with:[], {}\n"
     ]
    },
    {
     "name": "stdout",
     "output_type": "stream",
     "text": [
      "The input df#210 before split\n"
     ]
    },
    {
     "name": "stderr",
     "output_type": "stream",
     "text": [
      "2018-09-09 16:06:21,871 util_log.py[29] INFO Begin to run split_days with:[], {}\n",
      "2018-09-09 16:06:22,047 util_log.py[29] INFO Begin to run split_days with:[], {}\n"
     ]
    },
    {
     "name": "stdout",
     "output_type": "stream",
     "text": [
      "The input df#157 before split\n",
      "The input df#125 before split\n",
      "The input df#101 before split"
     ]
    },
    {
     "name": "stderr",
     "output_type": "stream",
     "text": [
      "2018-09-09 16:06:22,209 util_log.py[29] INFO Begin to run split_days with:[], {}\n",
      "2018-09-09 16:06:22,366 util_log.py[29] INFO Begin to run split_days with:[], {}\n",
      "2018-09-09 16:06:22,525 util_log.py[29] INFO Begin to run split_days with:[], {}\n"
     ]
    },
    {
     "name": "stdout",
     "output_type": "stream",
     "text": [
      "\n",
      "The input df#73 before split\n",
      "The input df#54 before split\n"
     ]
    },
    {
     "name": "stderr",
     "output_type": "stream",
     "text": [
      "2018-09-09 16:06:22,679 util_log.py[29] INFO Begin to run split_days with:[], {}\n",
      "2018-09-09 16:06:22,845 util_log.py[29] INFO Begin to run split_days with:[], {}\n"
     ]
    },
    {
     "name": "stdout",
     "output_type": "stream",
     "text": [
      "The input df#39 before split\n",
      "The input df#22 before split\n"
     ]
    },
    {
     "name": "stderr",
     "output_type": "stream",
     "text": [
      "2018-09-09 16:06:22,997 util_log.py[29] INFO Begin to run split_days with:[], {}\n",
      "2018-09-09 16:06:23,003 util_log.py[34] INFO cost: 0.01 sec: ==='split_days' end ([], {}) \n",
      "2018-09-09 16:06:23,008 util_log.py[34] INFO cost: 0.16 sec: ==='split_days' end ([], {}) \n",
      "2018-09-09 16:06:23,015 util_log.py[34] INFO cost: 0.34 sec: ==='split_days' end ([], {}) \n",
      "2018-09-09 16:06:23,021 util_log.py[34] INFO cost: 0.50 sec: ==='split_days' end ([], {}) \n",
      "2018-09-09 16:06:23,025 util_log.py[34] INFO cost: 0.66 sec: ==='split_days' end ([], {}) \n",
      "2018-09-09 16:06:23,030 util_log.py[34] INFO cost: 0.82 sec: ==='split_days' end ([], {}) \n",
      "2018-09-09 16:06:23,037 util_log.py[34] INFO cost: 0.99 sec: ==='split_days' end ([], {}) \n",
      "2018-09-09 16:06:23,043 util_log.py[34] INFO cost: 1.17 sec: ==='split_days' end ([], {}) \n",
      "2018-09-09 16:06:23,050 util_log.py[34] INFO cost: 1.32 sec: ==='split_days' end ([], {}) \n",
      "2018-09-09 16:06:23,054 util_log.py[34] INFO cost: 1.51 sec: ==='split_days' end ([], {}) \n",
      "2018-09-09 16:06:23,061 util_log.py[34] INFO cost: 1.67 sec: ==='split_days' end ([], {}) \n",
      "2018-09-09 16:06:23,068 util_log.py[34] INFO cost: 1.85 sec: ==='split_days' end ([], {}) \n",
      "2018-09-09 16:06:23,074 util_log.py[34] INFO cost: 2.02 sec: ==='split_days' end ([], {}) \n",
      "2018-09-09 16:06:23,078 util_log.py[34] INFO cost: 2.20 sec: ==='split_days' end ([], {}) \n",
      "2018-09-09 16:06:23,167 util_log.py[34] INFO cost: 2.54 sec: ==='split_days' end ([], {}) \n"
     ]
    },
    {
     "name": "stdout",
     "output_type": "stream",
     "text": [
      "The input df#11 before split\n",
      "The input df#4 before split\n",
      "The output df#15 after split\n",
      "The output df#37 after split\n",
      "The output df#76 after split\n",
      "The output df#130 after split\n",
      "The output df#203 after split\n",
      "The output df#304 after split\n",
      "The output df#429 after split\n",
      "The output df#586 after split\n",
      "The output df#796 after split\n",
      "The output df#1095 after split\n",
      "The output df#1536 after split\n",
      "The output df#2378 after split\n",
      "The output df#3623 after split\n",
      "The output df#945722 after split\n",
      "Out loop: The new Df size is 945722\n"
     ]
    },
    {
     "name": "stderr",
     "output_type": "stream",
     "text": [
      "2018-09-09 16:06:28,752 util_log.py[34] INFO cost:11.75 sec: ==='split_days_all' end ([], {}) \n",
      "2018-09-09 16:06:28,754 util_log.py[29] INFO Begin to run extend_time with:[], {'span_no': 4}\n"
     ]
    },
    {
     "name": "stdout",
     "output_type": "stream",
     "text": [
      "Try to cal for range#0\n",
      "Try to cal for range#1\n",
      "Try to cal for range#2\n",
      "Try to cal for range#3\n"
     ]
    },
    {
     "name": "stderr",
     "output_type": "stream",
     "text": [
      "2018-09-09 16:08:12,239 util_log.py[34] INFO cost:103.49 sec: ==='extend_time' end ([], {'span_no': 4}) \n",
      "2018-09-09 16:08:12,241 util_log.py[29] INFO Begin to run get_percent_duration with:[['device']], {}\n",
      "2018-09-09 16:08:13,336 util_log.py[34] INFO cost: 1.09 sec: ==='get_percent_duration' end ([['device']], {}) \n",
      "2018-09-09 16:08:13,338 util_log.py[29] INFO Begin to run get_max_week with:[], {}\n",
      "2018-09-09 16:08:14,015 util_log.py[34] INFO cost: 0.68 sec: ==='get_max_week' end ([], {}) \n",
      "2018-09-09 16:08:14,241 util_log.py[29] INFO Begin to run get_percent_duration with:[['device']], {'prefix': 'max'}\n",
      "2018-09-09 16:08:14,620 util_log.py[34] INFO cost: 0.38 sec: ==='get_percent_duration' end ([['device']], {'prefix': 'max'}) \n",
      "2018-09-09 16:08:14,636 util_log.py[29] INFO Begin to run get_start_closed with:[], {}\n"
     ]
    },
    {
     "name": "stdout",
     "output_type": "stream",
     "text": [
      "Try to summary file:./output/start_close/deviceid_package_start_close_40_36_33897608_34837990.csv\n",
      "Sort the df#940382 by device(begin)\n",
      "Sort the df by device(end)\n",
      "Remove 17 records data\n"
     ]
    },
    {
     "name": "stderr",
     "output_type": "stream",
     "text": [
      "2018-09-09 16:08:16,242 util_log.py[34] INFO cost: 1.61 sec: ==='get_start_closed' end ([], {}) \n",
      "2018-09-09 16:08:16,245 util_log.py[29] INFO Begin to run split_days_all with:[], {}\n",
      "2018-09-09 16:08:19,849 util_log.py[29] INFO Begin to run split_days with:[], {}\n"
     ]
    },
    {
     "name": "stdout",
     "output_type": "stream",
     "text": [
      "Out loop: The original Df size is 940365\n",
      "The input df#940365 before split\n"
     ]
    },
    {
     "name": "stderr",
     "output_type": "stream",
     "text": [
      "2018-09-09 16:08:20,115 util_log.py[29] INFO Begin to run split_days with:[], {}\n",
      "2018-09-09 16:08:20,289 util_log.py[29] INFO Begin to run split_days with:[], {}\n"
     ]
    },
    {
     "name": "stdout",
     "output_type": "stream",
     "text": [
      "The input df#1385 before split\n",
      "The input df#979 before split\n"
     ]
    },
    {
     "name": "stderr",
     "output_type": "stream",
     "text": [
      "2018-09-09 16:08:20,457 util_log.py[29] INFO Begin to run split_days with:[], {}\n",
      "2018-09-09 16:08:20,622 util_log.py[29] INFO Begin to run split_days with:[], {}\n"
     ]
    },
    {
     "name": "stdout",
     "output_type": "stream",
     "text": [
      "The input df#546 before split\n",
      "The input df#360 before split"
     ]
    },
    {
     "name": "stderr",
     "output_type": "stream",
     "text": [
      "2018-09-09 16:08:20,782 util_log.py[29] INFO Begin to run split_days with:[], {}\n",
      "2018-09-09 16:08:20,944 util_log.py[29] INFO Begin to run split_days with:[], {}\n",
      "2018-09-09 16:08:21,102 util_log.py[29] INFO Begin to run split_days with:[], {}\n"
     ]
    },
    {
     "name": "stdout",
     "output_type": "stream",
     "text": [
      "\n",
      "The input df#249 before split\n",
      "The input df#200 before split\n"
     ]
    },
    {
     "name": "stderr",
     "output_type": "stream",
     "text": [
      "2018-09-09 16:08:21,261 util_log.py[29] INFO Begin to run split_days with:[], {}\n",
      "2018-09-09 16:08:21,427 util_log.py[29] INFO Begin to run split_days with:[], {}\n",
      "2018-09-09 16:08:21,587 util_log.py[29] INFO Begin to run split_days with:[], {}\n"
     ]
    },
    {
     "name": "stdout",
     "output_type": "stream",
     "text": [
      "The input df#155 before split\n",
      "The input df#129 before split\n",
      "The input df#95 before split\n"
     ]
    },
    {
     "name": "stderr",
     "output_type": "stream",
     "text": [
      "2018-09-09 16:08:21,753 util_log.py[29] INFO Begin to run split_days with:[], {}\n",
      "2018-09-09 16:08:21,916 util_log.py[29] INFO Begin to run split_days with:[], {}\n",
      "2018-09-09 16:08:22,083 util_log.py[29] INFO Begin to run split_days with:[], {}\n"
     ]
    },
    {
     "name": "stdout",
     "output_type": "stream",
     "text": [
      "The input df#71 before split\n",
      "The input df#52 before split\n",
      "The input df#32 before split\n"
     ]
    },
    {
     "name": "stderr",
     "output_type": "stream",
     "text": [
      "2018-09-09 16:08:22,247 util_log.py[29] INFO Begin to run split_days with:[], {}\n",
      "2018-09-09 16:08:22,252 util_log.py[34] INFO cost: 0.00 sec: ==='split_days' end ([], {}) \n",
      "2018-09-09 16:08:22,256 util_log.py[34] INFO cost: 0.17 sec: ==='split_days' end ([], {}) \n",
      "2018-09-09 16:08:22,260 util_log.py[34] INFO cost: 0.34 sec: ==='split_days' end ([], {}) \n",
      "2018-09-09 16:08:22,265 util_log.py[34] INFO cost: 0.51 sec: ==='split_days' end ([], {}) \n",
      "2018-09-09 16:08:22,270 util_log.py[34] INFO cost: 0.68 sec: ==='split_days' end ([], {}) \n",
      "2018-09-09 16:08:22,275 util_log.py[34] INFO cost: 0.85 sec: ==='split_days' end ([], {}) \n",
      "2018-09-09 16:08:22,280 util_log.py[34] INFO cost: 1.02 sec: ==='split_days' end ([], {}) \n",
      "2018-09-09 16:08:22,286 util_log.py[34] INFO cost: 1.18 sec: ==='split_days' end ([], {}) \n",
      "2018-09-09 16:08:22,291 util_log.py[34] INFO cost: 1.35 sec: ==='split_days' end ([], {}) \n",
      "2018-09-09 16:08:22,296 util_log.py[34] INFO cost: 1.51 sec: ==='split_days' end ([], {}) \n",
      "2018-09-09 16:08:22,303 util_log.py[34] INFO cost: 1.68 sec: ==='split_days' end ([], {}) \n",
      "2018-09-09 16:08:22,307 util_log.py[34] INFO cost: 1.85 sec: ==='split_days' end ([], {}) \n",
      "2018-09-09 16:08:22,312 util_log.py[34] INFO cost: 2.02 sec: ==='split_days' end ([], {}) \n",
      "2018-09-09 16:08:22,318 util_log.py[34] INFO cost: 2.20 sec: ==='split_days' end ([], {}) \n",
      "2018-09-09 16:08:22,398 util_log.py[34] INFO cost: 2.55 sec: ==='split_days' end ([], {}) \n"
     ]
    },
    {
     "name": "stdout",
     "output_type": "stream",
     "text": [
      "The input df#21 before split\n",
      "The input df#11 before split\n",
      "The output df#32 after split\n",
      "The output df#64 after split\n",
      "The output df#116 after split\n",
      "The output df#187 after split\n",
      "The output df#282 after split\n",
      "The output df#411 after split\n",
      "The output df#566 after split\n",
      "The output df#766 after split\n",
      "The output df#1015 after split\n",
      "The output df#1375 after split\n",
      "The output df#1921 after split\n",
      "The output df#2900 after split\n",
      "The output df#4285 after split\n",
      "The output df#944650 after split\n",
      "Out loop: The new Df size is 944650\n"
     ]
    },
    {
     "name": "stderr",
     "output_type": "stream",
     "text": [
      "2018-09-09 16:08:28,001 util_log.py[34] INFO cost:11.76 sec: ==='split_days_all' end ([], {}) \n",
      "2018-09-09 16:08:28,003 util_log.py[29] INFO Begin to run extend_time with:[], {'span_no': 4}\n"
     ]
    },
    {
     "name": "stdout",
     "output_type": "stream",
     "text": [
      "Try to cal for range#0\n",
      "Try to cal for range#1\n",
      "Try to cal for range#2\n",
      "Try to cal for range#3\n"
     ]
    },
    {
     "name": "stderr",
     "output_type": "stream",
     "text": [
      "2018-09-09 16:10:07,057 util_log.py[34] INFO cost:99.05 sec: ==='extend_time' end ([], {'span_no': 4}) \n",
      "2018-09-09 16:10:07,059 util_log.py[29] INFO Begin to run get_percent_duration with:[['device']], {}\n",
      "2018-09-09 16:10:08,085 util_log.py[34] INFO cost: 1.03 sec: ==='get_percent_duration' end ([['device']], {}) \n",
      "2018-09-09 16:10:08,087 util_log.py[29] INFO Begin to run get_max_week with:[], {}\n",
      "2018-09-09 16:10:08,742 util_log.py[34] INFO cost: 0.66 sec: ==='get_max_week' end ([], {}) \n",
      "2018-09-09 16:10:08,962 util_log.py[29] INFO Begin to run get_percent_duration with:[['device']], {'prefix': 'max'}\n",
      "2018-09-09 16:10:09,326 util_log.py[34] INFO cost: 0.36 sec: ==='get_percent_duration' end ([['device']], {'prefix': 'max'}) \n",
      "2018-09-09 16:10:09,341 util_log.py[29] INFO Begin to run get_start_closed with:[], {}\n"
     ]
    },
    {
     "name": "stdout",
     "output_type": "stream",
     "text": [
      "Try to summary file:./output/start_close/deviceid_package_start_close_40_35_32956609_33897608.csv\n",
      "Sort the df#940999 by device(begin)\n",
      "Sort the df by device(end)\n",
      "Remove 7 records data\n"
     ]
    },
    {
     "name": "stderr",
     "output_type": "stream",
     "text": [
      "2018-09-09 16:10:10,914 util_log.py[34] INFO cost: 1.57 sec: ==='get_start_closed' end ([], {}) \n",
      "2018-09-09 16:10:10,916 util_log.py[29] INFO Begin to run split_days_all with:[], {}\n",
      "2018-09-09 16:10:14,420 util_log.py[29] INFO Begin to run split_days with:[], {}\n"
     ]
    },
    {
     "name": "stdout",
     "output_type": "stream",
     "text": [
      "Out loop: The original Df size is 940992\n",
      "The input df#940992 before split\n"
     ]
    },
    {
     "name": "stderr",
     "output_type": "stream",
     "text": [
      "2018-09-09 16:10:14,675 util_log.py[29] INFO Begin to run split_days with:[], {}\n",
      "2018-09-09 16:10:14,842 util_log.py[29] INFO Begin to run split_days with:[], {}\n"
     ]
    },
    {
     "name": "stdout",
     "output_type": "stream",
     "text": [
      "The input df#1299 before split\n"
     ]
    },
    {
     "name": "stderr",
     "output_type": "stream",
     "text": [
      "2018-09-09 16:10:15,004 util_log.py[29] INFO Begin to run split_days with:[], {}\n",
      "2018-09-09 16:10:15,171 util_log.py[29] INFO Begin to run split_days with:[], {}\n"
     ]
    },
    {
     "name": "stdout",
     "output_type": "stream",
     "text": [
      "The input df#884 before split\n",
      "The input df#482 before split\n",
      "The input df#319 before split\n"
     ]
    },
    {
     "name": "stderr",
     "output_type": "stream",
     "text": [
      "2018-09-09 16:10:15,331 util_log.py[29] INFO Begin to run split_days with:[], {}\n",
      "2018-09-09 16:10:15,492 util_log.py[29] INFO Begin to run split_days with:[], {}\n"
     ]
    },
    {
     "name": "stdout",
     "output_type": "stream",
     "text": [
      "The input df#224 before split\n"
     ]
    },
    {
     "name": "stderr",
     "output_type": "stream",
     "text": [
      "2018-09-09 16:10:15,645 util_log.py[29] INFO Begin to run split_days with:[], {}\n",
      "2018-09-09 16:10:15,810 util_log.py[29] INFO Begin to run split_days with:[], {}\n",
      "2018-09-09 16:10:15,968 util_log.py[29] INFO Begin to run split_days with:[], {}\n"
     ]
    },
    {
     "name": "stdout",
     "output_type": "stream",
     "text": [
      "The input df#169 before split\n",
      "The input df#141 before split\n",
      "The input df#118 before split\n"
     ]
    },
    {
     "name": "stderr",
     "output_type": "stream",
     "text": [
      "2018-09-09 16:10:16,131 util_log.py[29] INFO Begin to run split_days with:[], {}\n",
      "2018-09-09 16:10:16,285 util_log.py[29] INFO Begin to run split_days with:[], {}\n",
      "2018-09-09 16:10:16,448 util_log.py[29] INFO Begin to run split_days with:[], {}\n"
     ]
    },
    {
     "name": "stdout",
     "output_type": "stream",
     "text": [
      "The input df#83 before split\n",
      "The input df#55 before split\n",
      "The input df#34 before split\n"
     ]
    },
    {
     "name": "stderr",
     "output_type": "stream",
     "text": [
      "2018-09-09 16:10:16,611 util_log.py[29] INFO Begin to run split_days with:[], {}\n",
      "2018-09-09 16:10:16,777 util_log.py[29] INFO Begin to run split_days with:[], {}\n",
      "2018-09-09 16:10:16,780 util_log.py[34] INFO cost: 0.00 sec: ==='split_days' end ([], {}) \n",
      "2018-09-09 16:10:16,784 util_log.py[34] INFO cost: 0.17 sec: ==='split_days' end ([], {}) \n",
      "2018-09-09 16:10:16,789 util_log.py[34] INFO cost: 0.34 sec: ==='split_days' end ([], {}) \n",
      "2018-09-09 16:10:16,793 util_log.py[34] INFO cost: 0.51 sec: ==='split_days' end ([], {}) \n",
      "2018-09-09 16:10:16,799 util_log.py[34] INFO cost: 0.67 sec: ==='split_days' end ([], {}) \n",
      "2018-09-09 16:10:16,803 util_log.py[34] INFO cost: 0.83 sec: ==='split_days' end ([], {}) \n",
      "2018-09-09 16:10:16,808 util_log.py[34] INFO cost: 1.00 sec: ==='split_days' end ([], {}) \n",
      "2018-09-09 16:10:16,814 util_log.py[34] INFO cost: 1.17 sec: ==='split_days' end ([], {}) \n",
      "2018-09-09 16:10:16,818 util_log.py[34] INFO cost: 1.33 sec: ==='split_days' end ([], {}) \n",
      "2018-09-09 16:10:16,822 util_log.py[34] INFO cost: 1.49 sec: ==='split_days' end ([], {}) \n",
      "2018-09-09 16:10:16,828 util_log.py[34] INFO cost: 1.66 sec: ==='split_days' end ([], {}) \n",
      "2018-09-09 16:10:16,832 util_log.py[34] INFO cost: 1.83 sec: ==='split_days' end ([], {}) \n",
      "2018-09-09 16:10:16,836 util_log.py[34] INFO cost: 1.99 sec: ==='split_days' end ([], {}) \n",
      "2018-09-09 16:10:16,840 util_log.py[34] INFO cost: 2.16 sec: ==='split_days' end ([], {}) \n"
     ]
    },
    {
     "name": "stdout",
     "output_type": "stream",
     "text": [
      "The input df#19 before split\n",
      "The input df#12 before split\n",
      "The input df#7 before split\n",
      "The output df#19 after split\n",
      "The output df#38 after split\n",
      "The output df#72 after split\n",
      "The output df#127 after split\n",
      "The output df#210 after split\n",
      "The output df#328 after split\n",
      "The output df#469 after split\n",
      "The output df#638 after split\n",
      "The output df#862 after split\n",
      "The output df#1181 after split\n",
      "The output df#1663 after split\n",
      "The output df#2547 after split\n",
      "The output df#3846 after split\n"
     ]
    },
    {
     "name": "stderr",
     "output_type": "stream",
     "text": [
      "2018-09-09 16:10:16,920 util_log.py[34] INFO cost: 2.50 sec: ==='split_days' end ([], {}) \n"
     ]
    },
    {
     "name": "stdout",
     "output_type": "stream",
     "text": [
      "The output df#944838 after split\n",
      "Out loop: The new Df size is 944838\n"
     ]
    },
    {
     "name": "stderr",
     "output_type": "stream",
     "text": [
      "2018-09-09 16:10:22,346 util_log.py[34] INFO cost:11.43 sec: ==='split_days_all' end ([], {}) \n",
      "2018-09-09 16:10:22,348 util_log.py[29] INFO Begin to run extend_time with:[], {'span_no': 4}\n"
     ]
    },
    {
     "name": "stdout",
     "output_type": "stream",
     "text": [
      "Try to cal for range#0\n",
      "Try to cal for range#1\n",
      "Try to cal for range#2\n",
      "Try to cal for range#3\n"
     ]
    },
    {
     "name": "stderr",
     "output_type": "stream",
     "text": [
      "2018-09-09 16:12:02,445 util_log.py[34] INFO cost:100.10 sec: ==='extend_time' end ([], {'span_no': 4}) \n",
      "2018-09-09 16:12:02,447 util_log.py[29] INFO Begin to run get_percent_duration with:[['device']], {}\n",
      "2018-09-09 16:12:03,676 util_log.py[34] INFO cost: 1.23 sec: ==='get_percent_duration' end ([['device']], {}) \n",
      "2018-09-09 16:12:03,678 util_log.py[29] INFO Begin to run get_max_week with:[], {}\n",
      "2018-09-09 16:12:04,447 util_log.py[34] INFO cost: 0.77 sec: ==='get_max_week' end ([], {}) \n",
      "2018-09-09 16:12:04,721 util_log.py[29] INFO Begin to run get_percent_duration with:[['device']], {'prefix': 'max'}\n",
      "2018-09-09 16:12:05,163 util_log.py[34] INFO cost: 0.44 sec: ==='get_percent_duration' end ([['device']], {'prefix': 'max'}) \n",
      "2018-09-09 16:12:05,180 util_log.py[29] INFO Begin to run get_start_closed with:[], {}\n"
     ]
    },
    {
     "name": "stdout",
     "output_type": "stream",
     "text": [
      "Try to summary file:./output/start_close/deviceid_package_start_close_40_34_32015584_32956609.csv\n",
      "Sort the df#941025 by device(begin)\n",
      "Sort the df by device(end)\n",
      "Remove 5 records data\n"
     ]
    },
    {
     "name": "stderr",
     "output_type": "stream",
     "text": [
      "2018-09-09 16:12:06,892 util_log.py[34] INFO cost: 1.71 sec: ==='get_start_closed' end ([], {}) \n",
      "2018-09-09 16:12:06,894 util_log.py[29] INFO Begin to run split_days_all with:[], {}\n",
      "2018-09-09 16:12:10,606 util_log.py[29] INFO Begin to run split_days with:[], {}\n"
     ]
    },
    {
     "name": "stdout",
     "output_type": "stream",
     "text": [
      "Out loop: The original Df size is 941020\n",
      "The input df#941020 before split\n"
     ]
    },
    {
     "name": "stderr",
     "output_type": "stream",
     "text": [
      "2018-09-09 16:12:10,880 util_log.py[29] INFO Begin to run split_days with:[], {}\n",
      "2018-09-09 16:12:11,062 util_log.py[29] INFO Begin to run split_days with:[], {}\n"
     ]
    },
    {
     "name": "stdout",
     "output_type": "stream",
     "text": [
      "The input df#1105 before split\n",
      "The input df#767 before split\n"
     ]
    },
    {
     "name": "stderr",
     "output_type": "stream",
     "text": [
      "2018-09-09 16:12:11,226 util_log.py[29] INFO Begin to run split_days with:[], {}\n",
      "2018-09-09 16:12:11,399 util_log.py[29] INFO Begin to run split_days with:[], {}\n"
     ]
    },
    {
     "name": "stdout",
     "output_type": "stream",
     "text": [
      "The input df#423 before split\n"
     ]
    },
    {
     "name": "stderr",
     "output_type": "stream",
     "text": [
      "2018-09-09 16:12:11,574 util_log.py[29] INFO Begin to run split_days with:[], {}\n",
      "2018-09-09 16:12:11,753 util_log.py[29] INFO Begin to run split_days with:[], {}\n",
      "2018-09-09 16:12:11,909 util_log.py[29] INFO Begin to run split_days with:[], {}\n"
     ]
    },
    {
     "name": "stdout",
     "output_type": "stream",
     "text": [
      "The input df#270 before split\n",
      "The input df#191 before split\n",
      "The input df#146 before split\n"
     ]
    },
    {
     "name": "stderr",
     "output_type": "stream",
     "text": [
      "2018-09-09 16:12:12,074 util_log.py[29] INFO Begin to run split_days with:[], {}\n",
      "2018-09-09 16:12:12,241 util_log.py[29] INFO Begin to run split_days with:[], {}\n"
     ]
    },
    {
     "name": "stdout",
     "output_type": "stream",
     "text": [
      "The input df#112 before split\n",
      "The input df#101 before split\n",
      "The input df#71 before split\n"
     ]
    },
    {
     "name": "stderr",
     "output_type": "stream",
     "text": [
      "2018-09-09 16:12:12,406 util_log.py[29] INFO Begin to run split_days with:[], {}\n",
      "2018-09-09 16:12:12,574 util_log.py[29] INFO Begin to run split_days with:[], {}\n",
      "2018-09-09 16:12:12,743 util_log.py[29] INFO Begin to run split_days with:[], {}\n"
     ]
    },
    {
     "name": "stdout",
     "output_type": "stream",
     "text": [
      "The input df#46 before split\n",
      "The input df#33 before split\n"
     ]
    },
    {
     "name": "stderr",
     "output_type": "stream",
     "text": [
      "2018-09-09 16:12:12,900 util_log.py[29] INFO Begin to run split_days with:[], {}\n",
      "2018-09-09 16:12:13,064 util_log.py[29] INFO Begin to run split_days with:[], {}\n",
      "2018-09-09 16:12:13,068 util_log.py[34] INFO cost: 0.00 sec: ==='split_days' end ([], {}) \n",
      "2018-09-09 16:12:13,072 util_log.py[34] INFO cost: 0.17 sec: ==='split_days' end ([], {}) \n",
      "2018-09-09 16:12:13,076 util_log.py[34] INFO cost: 0.33 sec: ==='split_days' end ([], {}) \n",
      "2018-09-09 16:12:13,081 util_log.py[34] INFO cost: 0.51 sec: ==='split_days' end ([], {}) \n",
      "2018-09-09 16:12:13,087 util_log.py[34] INFO cost: 0.68 sec: ==='split_days' end ([], {}) \n",
      "2018-09-09 16:12:13,092 util_log.py[34] INFO cost: 0.85 sec: ==='split_days' end ([], {}) \n",
      "2018-09-09 16:12:13,098 util_log.py[34] INFO cost: 1.02 sec: ==='split_days' end ([], {}) \n",
      "2018-09-09 16:12:13,103 util_log.py[34] INFO cost: 1.19 sec: ==='split_days' end ([], {}) \n",
      "2018-09-09 16:12:13,108 util_log.py[34] INFO cost: 1.36 sec: ==='split_days' end ([], {}) \n",
      "2018-09-09 16:12:13,112 util_log.py[34] INFO cost: 1.54 sec: ==='split_days' end ([], {}) \n",
      "2018-09-09 16:12:13,120 util_log.py[34] INFO cost: 1.72 sec: ==='split_days' end ([], {}) \n",
      "2018-09-09 16:12:13,125 util_log.py[34] INFO cost: 1.90 sec: ==='split_days' end ([], {}) \n",
      "2018-09-09 16:12:13,129 util_log.py[34] INFO cost: 2.07 sec: ==='split_days' end ([], {}) \n",
      "2018-09-09 16:12:13,136 util_log.py[34] INFO cost: 2.26 sec: ==='split_days' end ([], {}) \n"
     ]
    },
    {
     "name": "stdout",
     "output_type": "stream",
     "text": [
      "The input df#20 before split\n",
      "The input df#13 before split\n",
      "The input df#7 before split\n",
      "The output df#20 after split\n",
      "The output df#40 after split\n",
      "The output df#73 after split\n",
      "The output df#119 after split\n",
      "The output df#190 after split\n",
      "The output df#291 after split\n",
      "The output df#403 after split\n",
      "The output df#549 after split\n",
      "The output df#740 after split\n",
      "The output df#1010 after split\n",
      "The output df#1433 after split\n",
      "The output df#2200 after split\n",
      "The output df#3305 after split\n"
     ]
    },
    {
     "name": "stderr",
     "output_type": "stream",
     "text": [
      "2018-09-09 16:12:13,232 util_log.py[34] INFO cost: 2.63 sec: ==='split_days' end ([], {}) \n"
     ]
    },
    {
     "name": "stdout",
     "output_type": "stream",
     "text": [
      "The output df#944325 after split\n",
      "Out loop: The new Df size is 944325\n"
     ]
    },
    {
     "name": "stderr",
     "output_type": "stream",
     "text": [
      "2018-09-09 16:12:19,320 util_log.py[34] INFO cost:12.43 sec: ==='split_days_all' end ([], {}) \n",
      "2018-09-09 16:12:19,322 util_log.py[29] INFO Begin to run extend_time with:[], {'span_no': 4}\n"
     ]
    },
    {
     "name": "stdout",
     "output_type": "stream",
     "text": [
      "Try to cal for range#0\n",
      "Try to cal for range#1\n",
      "Try to cal for range#2\n",
      "Try to cal for range#3\n"
     ]
    },
    {
     "name": "stderr",
     "output_type": "stream",
     "text": [
      "2018-09-09 16:14:02,156 util_log.py[34] INFO cost:102.83 sec: ==='extend_time' end ([], {'span_no': 4}) \n",
      "2018-09-09 16:14:02,163 util_log.py[29] INFO Begin to run get_percent_duration with:[['device']], {}\n",
      "2018-09-09 16:14:03,178 util_log.py[34] INFO cost: 1.01 sec: ==='get_percent_duration' end ([['device']], {}) \n",
      "2018-09-09 16:14:03,179 util_log.py[29] INFO Begin to run get_max_week with:[], {}\n",
      "2018-09-09 16:14:03,843 util_log.py[34] INFO cost: 0.66 sec: ==='get_max_week' end ([], {}) \n",
      "2018-09-09 16:14:04,067 util_log.py[29] INFO Begin to run get_percent_duration with:[['device']], {'prefix': 'max'}\n",
      "2018-09-09 16:14:04,425 util_log.py[34] INFO cost: 0.36 sec: ==='get_percent_duration' end ([['device']], {'prefix': 'max'}) \n",
      "2018-09-09 16:14:04,441 util_log.py[29] INFO Begin to run get_start_closed with:[], {}\n"
     ]
    },
    {
     "name": "stdout",
     "output_type": "stream",
     "text": [
      "Try to summary file:./output/start_close/deviceid_package_start_close_40_33_31071649_32015584.csv\n",
      "Sort the df#943935 by device(begin)\n"
     ]
    },
    {
     "name": "stderr",
     "output_type": "stream",
     "text": [
      "2018-09-09 16:14:05,939 util_log.py[34] INFO cost: 1.50 sec: ==='get_start_closed' end ([], {}) \n",
      "2018-09-09 16:14:05,941 util_log.py[29] INFO Begin to run split_days_all with:[], {}\n"
     ]
    },
    {
     "name": "stdout",
     "output_type": "stream",
     "text": [
      "Sort the df by device(end)\n",
      "Remove 0 records data\n"
     ]
    },
    {
     "name": "stderr",
     "output_type": "stream",
     "text": [
      "2018-09-09 16:14:09,498 util_log.py[29] INFO Begin to run split_days with:[], {}\n"
     ]
    },
    {
     "name": "stdout",
     "output_type": "stream",
     "text": [
      "Out loop: The original Df size is 943935\n",
      "The input df#943935 before split\n"
     ]
    },
    {
     "name": "stderr",
     "output_type": "stream",
     "text": [
      "2018-09-09 16:14:09,754 util_log.py[29] INFO Begin to run split_days with:[], {}\n",
      "2018-09-09 16:14:09,919 util_log.py[29] INFO Begin to run split_days with:[], {}\n"
     ]
    },
    {
     "name": "stdout",
     "output_type": "stream",
     "text": [
      "The input df#1168 before split\n"
     ]
    },
    {
     "name": "stderr",
     "output_type": "stream",
     "text": [
      "2018-09-09 16:14:10,083 util_log.py[29] INFO Begin to run split_days with:[], {}\n",
      "2018-09-09 16:14:10,250 util_log.py[29] INFO Begin to run split_days with:[], {}\n",
      "2018-09-09 16:14:10,412 util_log.py[29] INFO Begin to run split_days with:[], {}\n"
     ]
    },
    {
     "name": "stdout",
     "output_type": "stream",
     "text": [
      "The input df#803 before split\n",
      "The input df#440 before split\n",
      "The input df#293 before split\n"
     ]
    },
    {
     "name": "stderr",
     "output_type": "stream",
     "text": [
      "2018-09-09 16:14:10,571 util_log.py[29] INFO Begin to run split_days with:[], {}\n",
      "2018-09-09 16:14:10,737 util_log.py[29] INFO Begin to run split_days with:[], {}\n"
     ]
    },
    {
     "name": "stdout",
     "output_type": "stream",
     "text": [
      "The input df#206 before split\n",
      "The input df#160 before split\n",
      "The input df#132 before split\n"
     ]
    },
    {
     "name": "stderr",
     "output_type": "stream",
     "text": [
      "2018-09-09 16:14:10,897 util_log.py[29] INFO Begin to run split_days with:[], {}\n",
      "2018-09-09 16:14:11,058 util_log.py[29] INFO Begin to run split_days with:[], {}\n",
      "2018-09-09 16:14:11,224 util_log.py[29] INFO Begin to run split_days with:[], {}\n"
     ]
    },
    {
     "name": "stdout",
     "output_type": "stream",
     "text": [
      "The input df#111 before split\n",
      "The input df#77 before split\n"
     ]
    },
    {
     "name": "stderr",
     "output_type": "stream",
     "text": [
      "2018-09-09 16:14:11,388 util_log.py[29] INFO Begin to run split_days with:[], {}\n",
      "2018-09-09 16:14:11,551 util_log.py[29] INFO Begin to run split_days with:[], {}\n",
      "2018-09-09 16:14:11,716 util_log.py[29] INFO Begin to run split_days with:[], {}\n"
     ]
    },
    {
     "name": "stdout",
     "output_type": "stream",
     "text": [
      "The input df#52 before split\n",
      "The input df#41 before split\n",
      "The input df#31 before split\n"
     ]
    },
    {
     "name": "stderr",
     "output_type": "stream",
     "text": [
      "2018-09-09 16:14:11,878 util_log.py[29] INFO Begin to run split_days with:[], {}\n",
      "2018-09-09 16:14:11,882 util_log.py[34] INFO cost: 0.00 sec: ==='split_days' end ([], {}) \n",
      "2018-09-09 16:14:11,887 util_log.py[34] INFO cost: 0.17 sec: ==='split_days' end ([], {}) \n",
      "2018-09-09 16:14:11,890 util_log.py[34] INFO cost: 0.34 sec: ==='split_days' end ([], {}) \n",
      "2018-09-09 16:14:11,895 util_log.py[34] INFO cost: 0.51 sec: ==='split_days' end ([], {}) \n",
      "2018-09-09 16:14:11,899 util_log.py[34] INFO cost: 0.68 sec: ==='split_days' end ([], {}) \n",
      "2018-09-09 16:14:11,906 util_log.py[34] INFO cost: 0.85 sec: ==='split_days' end ([], {}) \n",
      "2018-09-09 16:14:11,911 util_log.py[34] INFO cost: 1.01 sec: ==='split_days' end ([], {}) \n",
      "2018-09-09 16:14:11,915 util_log.py[34] INFO cost: 1.18 sec: ==='split_days' end ([], {}) \n",
      "2018-09-09 16:14:11,922 util_log.py[34] INFO cost: 1.35 sec: ==='split_days' end ([], {}) \n",
      "2018-09-09 16:14:11,926 util_log.py[34] INFO cost: 1.51 sec: ==='split_days' end ([], {}) \n",
      "2018-09-09 16:14:11,931 util_log.py[34] INFO cost: 1.68 sec: ==='split_days' end ([], {}) \n",
      "2018-09-09 16:14:11,937 util_log.py[34] INFO cost: 1.85 sec: ==='split_days' end ([], {}) \n",
      "2018-09-09 16:14:11,941 util_log.py[34] INFO cost: 2.02 sec: ==='split_days' end ([], {}) \n",
      "2018-09-09 16:14:11,946 util_log.py[34] INFO cost: 2.19 sec: ==='split_days' end ([], {}) \n",
      "2018-09-09 16:14:12,031 util_log.py[34] INFO cost: 2.53 sec: ==='split_days' end ([], {}) \n"
     ]
    },
    {
     "name": "stdout",
     "output_type": "stream",
     "text": [
      "The input df#16 before split\n",
      "The input df#3 before split\n",
      "The output df#19 after split\n",
      "The output df#50 after split\n",
      "The output df#91 after split\n",
      "The output df#143 after split\n",
      "The output df#220 after split\n",
      "The output df#331 after split\n",
      "The output df#463 after split\n",
      "The output df#623 after split\n",
      "The output df#829 after split\n",
      "The output df#1122 after split\n",
      "The output df#1562 after split\n",
      "The output df#2365 after split\n",
      "The output df#3533 after split\n",
      "The output df#947468 after split\n",
      "Out loop: The new Df size is 947468\n"
     ]
    },
    {
     "name": "stderr",
     "output_type": "stream",
     "text": [
      "2018-09-09 16:14:17,533 util_log.py[34] INFO cost:11.59 sec: ==='split_days_all' end ([], {}) \n",
      "2018-09-09 16:14:17,535 util_log.py[29] INFO Begin to run extend_time with:[], {'span_no': 4}\n"
     ]
    },
    {
     "name": "stdout",
     "output_type": "stream",
     "text": [
      "Try to cal for range#0\n",
      "Try to cal for range#1\n",
      "Try to cal for range#2\n",
      "Try to cal for range#3\n"
     ]
    },
    {
     "name": "stderr",
     "output_type": "stream",
     "text": [
      "2018-09-09 16:15:55,300 util_log.py[34] INFO cost:97.76 sec: ==='extend_time' end ([], {'span_no': 4}) \n",
      "2018-09-09 16:15:55,302 util_log.py[29] INFO Begin to run get_percent_duration with:[['device']], {}\n",
      "2018-09-09 16:15:56,355 util_log.py[34] INFO cost: 1.05 sec: ==='get_percent_duration' end ([['device']], {}) \n",
      "2018-09-09 16:15:56,356 util_log.py[29] INFO Begin to run get_max_week with:[], {}\n",
      "2018-09-09 16:15:57,045 util_log.py[34] INFO cost: 0.69 sec: ==='get_max_week' end ([], {}) \n",
      "2018-09-09 16:15:57,318 util_log.py[29] INFO Begin to run get_percent_duration with:[['device']], {'prefix': 'max'}\n",
      "2018-09-09 16:15:57,716 util_log.py[34] INFO cost: 0.40 sec: ==='get_percent_duration' end ([['device']], {'prefix': 'max'}) \n",
      "2018-09-09 16:15:57,730 util_log.py[29] INFO Begin to run get_start_closed with:[], {}\n"
     ]
    },
    {
     "name": "stdout",
     "output_type": "stream",
     "text": [
      "Try to summary file:./output/start_close/deviceid_package_start_close_40_32_30130637_31071649.csv\n",
      "Sort the df#941012 by device(begin)\n",
      "Sort the df by device(end)\n",
      "Remove 5 records data\n"
     ]
    },
    {
     "name": "stderr",
     "output_type": "stream",
     "text": [
      "2018-09-09 16:15:59,395 util_log.py[34] INFO cost: 1.66 sec: ==='get_start_closed' end ([], {}) \n",
      "2018-09-09 16:15:59,397 util_log.py[29] INFO Begin to run split_days_all with:[], {}\n",
      "2018-09-09 16:16:02,986 util_log.py[29] INFO Begin to run split_days with:[], {}\n"
     ]
    },
    {
     "name": "stdout",
     "output_type": "stream",
     "text": [
      "Out loop: The original Df size is 941007\n",
      "The input df#941007 before split\n"
     ]
    },
    {
     "name": "stderr",
     "output_type": "stream",
     "text": [
      "2018-09-09 16:16:03,247 util_log.py[29] INFO Begin to run split_days with:[], {}\n",
      "2018-09-09 16:16:03,412 util_log.py[29] INFO Begin to run split_days with:[], {}\n"
     ]
    },
    {
     "name": "stdout",
     "output_type": "stream",
     "text": [
      "The input df#1223 before split\n",
      "The input df#827 before split\n"
     ]
    },
    {
     "name": "stderr",
     "output_type": "stream",
     "text": [
      "2018-09-09 16:16:03,576 util_log.py[29] INFO Begin to run split_days with:[], {}\n",
      "2018-09-09 16:16:03,743 util_log.py[29] INFO Begin to run split_days with:[], {}\n"
     ]
    },
    {
     "name": "stdout",
     "output_type": "stream",
     "text": [
      "The input df#453 before split\n",
      "The input df#290 before split\n"
     ]
    },
    {
     "name": "stderr",
     "output_type": "stream",
     "text": [
      "2018-09-09 16:16:03,904 util_log.py[29] INFO Begin to run split_days with:[], {}\n",
      "2018-09-09 16:16:04,064 util_log.py[29] INFO Begin to run split_days with:[], {}\n",
      "2018-09-09 16:16:04,226 util_log.py[29] INFO Begin to run split_days with:[], {}\n"
     ]
    },
    {
     "name": "stdout",
     "output_type": "stream",
     "text": [
      "The input df#205 before split\n",
      "The input df#163 before split\n"
     ]
    },
    {
     "name": "stderr",
     "output_type": "stream",
     "text": [
      "2018-09-09 16:16:04,388 util_log.py[29] INFO Begin to run split_days with:[], {}\n",
      "2018-09-09 16:16:04,555 util_log.py[29] INFO Begin to run split_days with:[], {}\n",
      "2018-09-09 16:16:04,713 util_log.py[29] INFO Begin to run split_days with:[], {}\n"
     ]
    },
    {
     "name": "stdout",
     "output_type": "stream",
     "text": [
      "The input df#141 before split\n",
      "The input df#108 before split\n",
      "The input df#80 before split\n"
     ]
    },
    {
     "name": "stderr",
     "output_type": "stream",
     "text": [
      "2018-09-09 16:16:04,880 util_log.py[29] INFO Begin to run split_days with:[], {}\n",
      "2018-09-09 16:16:05,045 util_log.py[29] INFO Begin to run split_days with:[], {}\n"
     ]
    },
    {
     "name": "stdout",
     "output_type": "stream",
     "text": [
      "The input df#52 before split\n",
      "The input df#32 before split\n"
     ]
    },
    {
     "name": "stderr",
     "output_type": "stream",
     "text": [
      "2018-09-09 16:16:05,208 util_log.py[29] INFO Begin to run split_days with:[], {}\n",
      "2018-09-09 16:16:05,369 util_log.py[29] INFO Begin to run split_days with:[], {}\n",
      "2018-09-09 16:16:05,375 util_log.py[34] INFO cost: 0.01 sec: ==='split_days' end ([], {}) \n",
      "2018-09-09 16:16:05,379 util_log.py[34] INFO cost: 0.17 sec: ==='split_days' end ([], {}) \n",
      "2018-09-09 16:16:05,383 util_log.py[34] INFO cost: 0.34 sec: ==='split_days' end ([], {}) \n",
      "2018-09-09 16:16:05,388 util_log.py[34] INFO cost: 0.51 sec: ==='split_days' end ([], {}) \n",
      "2018-09-09 16:16:05,392 util_log.py[34] INFO cost: 0.68 sec: ==='split_days' end ([], {}) \n",
      "2018-09-09 16:16:05,398 util_log.py[34] INFO cost: 0.84 sec: ==='split_days' end ([], {}) \n",
      "2018-09-09 16:16:05,402 util_log.py[34] INFO cost: 1.01 sec: ==='split_days' end ([], {}) \n",
      "2018-09-09 16:16:05,409 util_log.py[34] INFO cost: 1.18 sec: ==='split_days' end ([], {}) \n",
      "2018-09-09 16:16:05,413 util_log.py[34] INFO cost: 1.35 sec: ==='split_days' end ([], {}) \n",
      "2018-09-09 16:16:05,417 util_log.py[34] INFO cost: 1.51 sec: ==='split_days' end ([], {}) \n",
      "2018-09-09 16:16:05,422 util_log.py[34] INFO cost: 1.68 sec: ==='split_days' end ([], {}) \n",
      "2018-09-09 16:16:05,427 util_log.py[34] INFO cost: 1.85 sec: ==='split_days' end ([], {}) \n",
      "2018-09-09 16:16:05,432 util_log.py[34] INFO cost: 2.02 sec: ==='split_days' end ([], {}) \n",
      "2018-09-09 16:16:05,437 util_log.py[34] INFO cost: 2.19 sec: ==='split_days' end ([], {}) \n",
      "2018-09-09 16:16:05,521 util_log.py[34] INFO cost: 2.54 sec: ==='split_days' end ([], {}) \n"
     ]
    },
    {
     "name": "stdout",
     "output_type": "stream",
     "text": [
      "The input df#25 before split\n",
      "The input df#13 before split\n",
      "The input df#4 before split\n",
      "The output df#17 after split\n",
      "The output df#42 after split\n",
      "The output df#74 after split\n",
      "The output df#126 after split\n",
      "The output df#206 after split\n",
      "The output df#314 after split\n",
      "The output df#455 after split\n",
      "The output df#618 after split\n",
      "The output df#823 after split\n",
      "The output df#1113 after split\n",
      "The output df#1566 after split\n",
      "The output df#2393 after split\n",
      "The output df#3616 after split\n",
      "The output df#944623 after split\n",
      "Out loop: The new Df size is 944623\n"
     ]
    },
    {
     "name": "stderr",
     "output_type": "stream",
     "text": [
      "2018-09-09 16:16:11,258 util_log.py[34] INFO cost:11.86 sec: ==='split_days_all' end ([], {}) \n",
      "2018-09-09 16:16:11,260 util_log.py[29] INFO Begin to run extend_time with:[], {'span_no': 4}\n"
     ]
    },
    {
     "name": "stdout",
     "output_type": "stream",
     "text": [
      "Try to cal for range#0\n",
      "Try to cal for range#1\n",
      "Try to cal for range#2\n",
      "Try to cal for range#3\n"
     ]
    },
    {
     "name": "stderr",
     "output_type": "stream",
     "text": [
      "2018-09-09 16:17:55,580 util_log.py[34] INFO cost:104.32 sec: ==='extend_time' end ([], {'span_no': 4}) \n",
      "2018-09-09 16:17:55,587 util_log.py[29] INFO Begin to run get_percent_duration with:[['device']], {}\n",
      "2018-09-09 16:17:56,644 util_log.py[34] INFO cost: 1.06 sec: ==='get_percent_duration' end ([['device']], {}) \n",
      "2018-09-09 16:17:56,646 util_log.py[29] INFO Begin to run get_max_week with:[], {}\n",
      "2018-09-09 16:17:57,337 util_log.py[34] INFO cost: 0.69 sec: ==='get_max_week' end ([], {}) \n",
      "2018-09-09 16:17:57,567 util_log.py[29] INFO Begin to run get_percent_duration with:[['device']], {'prefix': 'max'}\n",
      "2018-09-09 16:17:57,925 util_log.py[34] INFO cost: 0.36 sec: ==='get_percent_duration' end ([['device']], {'prefix': 'max'}) \n",
      "2018-09-09 16:17:57,939 util_log.py[29] INFO Begin to run get_start_closed with:[], {}\n"
     ]
    },
    {
     "name": "stdout",
     "output_type": "stream",
     "text": [
      "Try to summary file:./output/start_close/deviceid_package_start_close_40_31_29190060_30130637.csv\n",
      "Sort the df#940577 by device(begin)\n",
      "Sort the df by device(end)\n",
      "Remove 1 records data\n"
     ]
    },
    {
     "name": "stderr",
     "output_type": "stream",
     "text": [
      "2018-09-09 16:17:59,534 util_log.py[34] INFO cost: 1.59 sec: ==='get_start_closed' end ([], {}) \n",
      "2018-09-09 16:17:59,535 util_log.py[29] INFO Begin to run split_days_all with:[], {}\n",
      "2018-09-09 16:18:03,031 util_log.py[29] INFO Begin to run split_days with:[], {}\n"
     ]
    },
    {
     "name": "stdout",
     "output_type": "stream",
     "text": [
      "Out loop: The original Df size is 940576\n",
      "The input df#940576 before split\n"
     ]
    },
    {
     "name": "stderr",
     "output_type": "stream",
     "text": [
      "2018-09-09 16:18:03,287 util_log.py[29] INFO Begin to run split_days with:[], {}\n",
      "2018-09-09 16:18:03,449 util_log.py[29] INFO Begin to run split_days with:[], {}\n"
     ]
    },
    {
     "name": "stdout",
     "output_type": "stream",
     "text": [
      "The input df#1137 before split\n"
     ]
    },
    {
     "name": "stderr",
     "output_type": "stream",
     "text": [
      "2018-09-09 16:18:03,604 util_log.py[29] INFO Begin to run split_days with:[], {}\n",
      "2018-09-09 16:18:03,762 util_log.py[29] INFO Begin to run split_days with:[], {}\n",
      "2018-09-09 16:18:03,917 util_log.py[29] INFO Begin to run split_days with:[], {}\n"
     ]
    },
    {
     "name": "stdout",
     "output_type": "stream",
     "text": [
      "The input df#784 before split\n",
      "The input df#429 before split\n",
      "The input df#276 before split\n"
     ]
    },
    {
     "name": "stderr",
     "output_type": "stream",
     "text": [
      "2018-09-09 16:18:04,081 util_log.py[29] INFO Begin to run split_days with:[], {}\n",
      "2018-09-09 16:18:04,238 util_log.py[29] INFO Begin to run split_days with:[], {}\n"
     ]
    },
    {
     "name": "stdout",
     "output_type": "stream",
     "text": [
      "The input df#199 before split\n",
      "The input df#142 before split\n",
      "The input df#118 before split\n"
     ]
    },
    {
     "name": "stderr",
     "output_type": "stream",
     "text": [
      "2018-09-09 16:18:04,398 util_log.py[29] INFO Begin to run split_days with:[], {}\n",
      "2018-09-09 16:18:04,560 util_log.py[29] INFO Begin to run split_days with:[], {}\n",
      "2018-09-09 16:18:04,721 util_log.py[29] INFO Begin to run split_days with:[], {}\n"
     ]
    },
    {
     "name": "stdout",
     "output_type": "stream",
     "text": [
      "The input df#101 before split\n",
      "The input df#80 before split\n"
     ]
    },
    {
     "name": "stderr",
     "output_type": "stream",
     "text": [
      "2018-09-09 16:18:04,884 util_log.py[29] INFO Begin to run split_days with:[], {}\n",
      "2018-09-09 16:18:05,051 util_log.py[29] INFO Begin to run split_days with:[], {}\n"
     ]
    },
    {
     "name": "stdout",
     "output_type": "stream",
     "text": [
      "The input df#63 before split\n",
      "The input df#44 before split\n",
      "The input df#29 before split\n"
     ]
    },
    {
     "name": "stderr",
     "output_type": "stream",
     "text": [
      "2018-09-09 16:18:05,216 util_log.py[29] INFO Begin to run split_days with:[], {}\n",
      "2018-09-09 16:18:05,379 util_log.py[29] INFO Begin to run split_days with:[], {}\n",
      "2018-09-09 16:18:05,382 util_log.py[34] INFO cost: 0.00 sec: ==='split_days' end ([], {}) \n",
      "2018-09-09 16:18:05,386 util_log.py[34] INFO cost: 0.17 sec: ==='split_days' end ([], {}) \n",
      "2018-09-09 16:18:05,390 util_log.py[34] INFO cost: 0.34 sec: ==='split_days' end ([], {}) \n",
      "2018-09-09 16:18:05,394 util_log.py[34] INFO cost: 0.51 sec: ==='split_days' end ([], {}) \n",
      "2018-09-09 16:18:05,399 util_log.py[34] INFO cost: 0.68 sec: ==='split_days' end ([], {}) \n",
      "2018-09-09 16:18:05,405 util_log.py[34] INFO cost: 0.84 sec: ==='split_days' end ([], {}) \n",
      "2018-09-09 16:18:05,408 util_log.py[34] INFO cost: 1.01 sec: ==='split_days' end ([], {}) \n",
      "2018-09-09 16:18:05,412 util_log.py[34] INFO cost: 1.17 sec: ==='split_days' end ([], {}) \n",
      "2018-09-09 16:18:05,418 util_log.py[34] INFO cost: 1.34 sec: ==='split_days' end ([], {}) \n",
      "2018-09-09 16:18:05,422 util_log.py[34] INFO cost: 1.51 sec: ==='split_days' end ([], {}) \n",
      "2018-09-09 16:18:05,427 util_log.py[34] INFO cost: 1.67 sec: ==='split_days' end ([], {}) \n",
      "2018-09-09 16:18:05,434 util_log.py[34] INFO cost: 1.83 sec: ==='split_days' end ([], {}) \n",
      "2018-09-09 16:18:05,438 util_log.py[34] INFO cost: 1.99 sec: ==='split_days' end ([], {}) \n",
      "2018-09-09 16:18:05,443 util_log.py[34] INFO cost: 2.16 sec: ==='split_days' end ([], {}) \n",
      "2018-09-09 16:18:05,525 util_log.py[34] INFO cost: 2.49 sec: ==='split_days' end ([], {}) \n"
     ]
    },
    {
     "name": "stdout",
     "output_type": "stream",
     "text": [
      "The input df#11 before split\n",
      "The input df#5 before split\n",
      "The output df#16 after split\n",
      "The output df#45 after split\n",
      "The output df#89 after split\n",
      "The output df#152 after split\n",
      "The output df#232 after split\n",
      "The output df#333 after split\n",
      "The output df#451 after split\n",
      "The output df#593 after split\n",
      "The output df#792 after split\n",
      "The output df#1068 after split\n",
      "The output df#1497 after split\n",
      "The output df#2281 after split\n",
      "The output df#3418 after split\n",
      "The output df#943994 after split\n",
      "Out loop: The new Df size is 943994\n"
     ]
    },
    {
     "name": "stderr",
     "output_type": "stream",
     "text": [
      "2018-09-09 16:18:10,956 util_log.py[34] INFO cost:11.42 sec: ==='split_days_all' end ([], {}) \n",
      "2018-09-09 16:18:10,958 util_log.py[29] INFO Begin to run extend_time with:[], {'span_no': 4}\n"
     ]
    },
    {
     "name": "stdout",
     "output_type": "stream",
     "text": [
      "Try to cal for range#0\n",
      "Try to cal for range#1\n",
      "Try to cal for range#2\n",
      "Try to cal for range#3\n"
     ]
    },
    {
     "name": "stderr",
     "output_type": "stream",
     "text": [
      "2018-09-09 16:19:50,920 util_log.py[34] INFO cost:99.96 sec: ==='extend_time' end ([], {'span_no': 4}) \n",
      "2018-09-09 16:19:50,923 util_log.py[29] INFO Begin to run get_percent_duration with:[['device']], {}\n",
      "2018-09-09 16:19:52,043 util_log.py[34] INFO cost: 1.12 sec: ==='get_percent_duration' end ([['device']], {}) \n",
      "2018-09-09 16:19:52,046 util_log.py[29] INFO Begin to run get_max_week with:[], {}\n",
      "2018-09-09 16:19:52,797 util_log.py[34] INFO cost: 0.75 sec: ==='get_max_week' end ([], {}) \n",
      "2018-09-09 16:19:53,074 util_log.py[29] INFO Begin to run get_percent_duration with:[['device']], {'prefix': 'max'}\n",
      "2018-09-09 16:19:53,465 util_log.py[34] INFO cost: 0.39 sec: ==='get_percent_duration' end ([['device']], {'prefix': 'max'}) \n",
      "2018-09-09 16:19:53,479 util_log.py[29] INFO Begin to run get_start_closed with:[], {}\n"
     ]
    },
    {
     "name": "stdout",
     "output_type": "stream",
     "text": [
      "Try to summary file:./output/start_close/deviceid_package_start_close_40_30_28246874_29190060.csv\n",
      "Sort the df#943186 by device(begin)\n",
      "Sort the df by device(end)\n",
      "Remove 0 records data\n"
     ]
    },
    {
     "name": "stderr",
     "output_type": "stream",
     "text": [
      "2018-09-09 16:19:55,125 util_log.py[34] INFO cost: 1.65 sec: ==='get_start_closed' end ([], {}) \n",
      "2018-09-09 16:19:55,127 util_log.py[29] INFO Begin to run split_days_all with:[], {}\n",
      "2018-09-09 16:19:58,883 util_log.py[29] INFO Begin to run split_days with:[], {}\n"
     ]
    },
    {
     "name": "stdout",
     "output_type": "stream",
     "text": [
      "Out loop: The original Df size is 943186\n",
      "The input df#943186 before split\n"
     ]
    },
    {
     "name": "stderr",
     "output_type": "stream",
     "text": [
      "2018-09-09 16:19:59,165 util_log.py[29] INFO Begin to run split_days with:[], {}\n",
      "2018-09-09 16:19:59,351 util_log.py[29] INFO Begin to run split_days with:[], {}\n"
     ]
    },
    {
     "name": "stdout",
     "output_type": "stream",
     "text": [
      "The input df#1254 before split\n"
     ]
    },
    {
     "name": "stderr",
     "output_type": "stream",
     "text": [
      "2018-09-09 16:19:59,521 util_log.py[29] INFO Begin to run split_days with:[], {}\n",
      "2018-09-09 16:19:59,699 util_log.py[29] INFO Begin to run split_days with:[], {}\n",
      "2018-09-09 16:19:59,871 util_log.py[29] INFO Begin to run split_days with:[], {}\n"
     ]
    },
    {
     "name": "stdout",
     "output_type": "stream",
     "text": [
      "The input df#874 before split\n",
      "The input df#477 before split\n",
      "The input df#328 before split\n"
     ]
    },
    {
     "name": "stderr",
     "output_type": "stream",
     "text": [
      "2018-09-09 16:20:00,027 util_log.py[29] INFO Begin to run split_days with:[], {}\n",
      "2018-09-09 16:20:00,196 util_log.py[29] INFO Begin to run split_days with:[], {}\n",
      "2018-09-09 16:20:00,365 util_log.py[29] INFO Begin to run split_days with:[], {}\n"
     ]
    },
    {
     "name": "stdout",
     "output_type": "stream",
     "text": [
      "The input df#225 before split\n",
      "The input df#166 before split\n",
      "The input df#132 before split\n"
     ]
    },
    {
     "name": "stderr",
     "output_type": "stream",
     "text": [
      "2018-09-09 16:20:00,528 util_log.py[29] INFO Begin to run split_days with:[], {}\n",
      "2018-09-09 16:20:00,682 util_log.py[29] INFO Begin to run split_days with:[], {}\n",
      "2018-09-09 16:20:00,851 util_log.py[29] INFO Begin to run split_days with:[], {}\n"
     ]
    },
    {
     "name": "stdout",
     "output_type": "stream",
     "text": [
      "The input df#101 before split\n",
      "The input df#80 before split\n",
      "The input df#55 before split\n"
     ]
    },
    {
     "name": "stderr",
     "output_type": "stream",
     "text": [
      "2018-09-09 16:20:01,014 util_log.py[29] INFO Begin to run split_days with:[], {}\n",
      "2018-09-09 16:20:01,179 util_log.py[29] INFO Begin to run split_days with:[], {}\n"
     ]
    },
    {
     "name": "stdout",
     "output_type": "stream",
     "text": [
      "The input df#32 before split\n",
      "The input df#17 before split\n"
     ]
    },
    {
     "name": "stderr",
     "output_type": "stream",
     "text": [
      "2018-09-09 16:20:01,352 util_log.py[29] INFO Begin to run split_days with:[], {}\n",
      "2018-09-09 16:20:01,356 util_log.py[34] INFO cost: 0.00 sec: ==='split_days' end ([], {}) \n",
      "2018-09-09 16:20:01,361 util_log.py[34] INFO cost: 0.18 sec: ==='split_days' end ([], {}) \n",
      "2018-09-09 16:20:01,366 util_log.py[34] INFO cost: 0.35 sec: ==='split_days' end ([], {}) \n",
      "2018-09-09 16:20:01,371 util_log.py[34] INFO cost: 0.52 sec: ==='split_days' end ([], {}) \n",
      "2018-09-09 16:20:01,374 util_log.py[34] INFO cost: 0.69 sec: ==='split_days' end ([], {}) \n",
      "2018-09-09 16:20:01,381 util_log.py[34] INFO cost: 0.85 sec: ==='split_days' end ([], {}) \n",
      "2018-09-09 16:20:01,385 util_log.py[34] INFO cost: 1.02 sec: ==='split_days' end ([], {}) \n",
      "2018-09-09 16:20:01,391 util_log.py[34] INFO cost: 1.19 sec: ==='split_days' end ([], {}) \n",
      "2018-09-09 16:20:01,395 util_log.py[34] INFO cost: 1.37 sec: ==='split_days' end ([], {}) \n",
      "2018-09-09 16:20:01,402 util_log.py[34] INFO cost: 1.53 sec: ==='split_days' end ([], {}) \n",
      "2018-09-09 16:20:01,410 util_log.py[34] INFO cost: 1.71 sec: ==='split_days' end ([], {}) \n",
      "2018-09-09 16:20:01,416 util_log.py[34] INFO cost: 1.89 sec: ==='split_days' end ([], {}) \n",
      "2018-09-09 16:20:01,424 util_log.py[34] INFO cost: 2.07 sec: ==='split_days' end ([], {}) \n",
      "2018-09-09 16:20:01,428 util_log.py[34] INFO cost: 2.26 sec: ==='split_days' end ([], {}) \n",
      "2018-09-09 16:20:01,515 util_log.py[34] INFO cost: 2.63 sec: ==='split_days' end ([], {}) \n"
     ]
    },
    {
     "name": "stdout",
     "output_type": "stream",
     "text": [
      "The input df#12 before split\n",
      "The input df#5 before split\n",
      "The output df#17 after split\n",
      "The output df#34 after split\n",
      "The output df#66 after split\n",
      "The output df#121 after split\n",
      "The output df#201 after split\n",
      "The output df#302 after split\n",
      "The output df#434 after split\n",
      "The output df#600 after split\n",
      "The output df#825 after split\n",
      "The output df#1153 after split\n",
      "The output df#1630 after split\n",
      "The output df#2504 after split\n",
      "The output df#3758 after split\n",
      "The output df#946944 after split\n",
      "Out loop: The new Df size is 946944\n"
     ]
    },
    {
     "name": "stderr",
     "output_type": "stream",
     "text": [
      "2018-09-09 16:20:07,558 util_log.py[34] INFO cost:12.43 sec: ==='split_days_all' end ([], {}) \n",
      "2018-09-09 16:20:07,560 util_log.py[29] INFO Begin to run extend_time with:[], {'span_no': 4}\n"
     ]
    },
    {
     "name": "stdout",
     "output_type": "stream",
     "text": [
      "Try to cal for range#0\n",
      "Try to cal for range#1\n",
      "Try to cal for range#2\n",
      "Try to cal for range#3\n"
     ]
    },
    {
     "name": "stderr",
     "output_type": "stream",
     "text": [
      "2018-09-09 16:21:53,550 util_log.py[34] INFO cost:105.99 sec: ==='extend_time' end ([], {'span_no': 4}) \n",
      "2018-09-09 16:21:53,552 util_log.py[29] INFO Begin to run get_percent_duration with:[['device']], {}\n",
      "2018-09-09 16:21:54,826 util_log.py[34] INFO cost: 1.27 sec: ==='get_percent_duration' end ([['device']], {}) \n",
      "2018-09-09 16:21:54,828 util_log.py[29] INFO Begin to run get_max_week with:[], {}\n",
      "2018-09-09 16:21:55,621 util_log.py[34] INFO cost: 0.79 sec: ==='get_max_week' end ([], {}) \n",
      "2018-09-09 16:21:55,890 util_log.py[29] INFO Begin to run get_percent_duration with:[['device']], {'prefix': 'max'}\n",
      "2018-09-09 16:21:56,348 util_log.py[34] INFO cost: 0.46 sec: ==='get_percent_duration' end ([['device']], {'prefix': 'max'}) \n",
      "2018-09-09 16:21:56,369 util_log.py[29] INFO Begin to run get_start_closed with:[], {}\n"
     ]
    },
    {
     "name": "stdout",
     "output_type": "stream",
     "text": [
      "Try to summary file:./output/start_close/deviceid_package_start_close_40_29_27305449_28246874.csv\n",
      "Sort the df#941425 by device(begin)\n",
      "Sort the df by device(end)\n",
      "Remove 7 records data\n"
     ]
    },
    {
     "name": "stderr",
     "output_type": "stream",
     "text": [
      "2018-09-09 16:21:58,235 util_log.py[34] INFO cost: 1.87 sec: ==='get_start_closed' end ([], {}) \n",
      "2018-09-09 16:21:58,238 util_log.py[29] INFO Begin to run split_days_all with:[], {}\n",
      "2018-09-09 16:22:02,107 util_log.py[29] INFO Begin to run split_days with:[], {}\n"
     ]
    },
    {
     "name": "stdout",
     "output_type": "stream",
     "text": [
      "Out loop: The original Df size is 941418\n",
      "The input df#941418 before split\n"
     ]
    },
    {
     "name": "stderr",
     "output_type": "stream",
     "text": [
      "2018-09-09 16:22:02,368 util_log.py[29] INFO Begin to run split_days with:[], {}\n",
      "2018-09-09 16:22:02,548 util_log.py[29] INFO Begin to run split_days with:[], {}\n"
     ]
    },
    {
     "name": "stdout",
     "output_type": "stream",
     "text": [
      "The input df#1303 before split\n",
      "The input df#898 before split"
     ]
    },
    {
     "name": "stderr",
     "output_type": "stream",
     "text": [
      "2018-09-09 16:22:02,726 util_log.py[29] INFO Begin to run split_days with:[], {}\n",
      "2018-09-09 16:22:02,899 util_log.py[29] INFO Begin to run split_days with:[], {}\n"
     ]
    },
    {
     "name": "stdout",
     "output_type": "stream",
     "text": [
      "\n",
      "The input df#454 before split\n",
      "The input df#301 before split\n"
     ]
    },
    {
     "name": "stderr",
     "output_type": "stream",
     "text": [
      "2018-09-09 16:22:03,075 util_log.py[29] INFO Begin to run split_days with:[], {}\n",
      "2018-09-09 16:22:03,248 util_log.py[29] INFO Begin to run split_days with:[], {}\n"
     ]
    },
    {
     "name": "stdout",
     "output_type": "stream",
     "text": [
      "The input df#213 before split\n",
      "The input df#160 before split\n"
     ]
    },
    {
     "name": "stderr",
     "output_type": "stream",
     "text": [
      "2018-09-09 16:22:03,418 util_log.py[29] INFO Begin to run split_days with:[], {}\n",
      "2018-09-09 16:22:03,601 util_log.py[29] INFO Begin to run split_days with:[], {}\n",
      "2018-09-09 16:22:03,768 util_log.py[29] INFO Begin to run split_days with:[], {}\n"
     ]
    },
    {
     "name": "stdout",
     "output_type": "stream",
     "text": [
      "The input df#121 before split\n",
      "The input df#98 before split\n"
     ]
    },
    {
     "name": "stderr",
     "output_type": "stream",
     "text": [
      "2018-09-09 16:22:03,929 util_log.py[29] INFO Begin to run split_days with:[], {}\n",
      "2018-09-09 16:22:04,104 util_log.py[29] INFO Begin to run split_days with:[], {}\n"
     ]
    },
    {
     "name": "stdout",
     "output_type": "stream",
     "text": [
      "The input df#69 before split\n",
      "The input df#45 before split\n",
      "The input df#33 before split\n"
     ]
    },
    {
     "name": "stderr",
     "output_type": "stream",
     "text": [
      "2018-09-09 16:22:04,258 util_log.py[29] INFO Begin to run split_days with:[], {}\n",
      "2018-09-09 16:22:04,424 util_log.py[29] INFO Begin to run split_days with:[], {}\n"
     ]
    },
    {
     "name": "stdout",
     "output_type": "stream",
     "text": [
      "The input df#19 before split\n",
      "The input df#13 before split"
     ]
    },
    {
     "name": "stderr",
     "output_type": "stream",
     "text": [
      "2018-09-09 16:22:04,594 util_log.py[29] INFO Begin to run split_days with:[], {}\n",
      "2018-09-09 16:22:04,597 util_log.py[34] INFO cost: 0.00 sec: ==='split_days' end ([], {}) \n",
      "2018-09-09 16:22:04,601 util_log.py[34] INFO cost: 0.18 sec: ==='split_days' end ([], {}) \n",
      "2018-09-09 16:22:04,605 util_log.py[34] INFO cost: 0.35 sec: ==='split_days' end ([], {}) \n",
      "2018-09-09 16:22:04,609 util_log.py[34] INFO cost: 0.51 sec: ==='split_days' end ([], {}) \n",
      "2018-09-09 16:22:04,613 util_log.py[34] INFO cost: 0.68 sec: ==='split_days' end ([], {}) \n",
      "2018-09-09 16:22:04,617 util_log.py[34] INFO cost: 0.85 sec: ==='split_days' end ([], {}) \n",
      "2018-09-09 16:22:04,621 util_log.py[34] INFO cost: 1.02 sec: ==='split_days' end ([], {}) \n",
      "2018-09-09 16:22:04,626 util_log.py[34] INFO cost: 1.21 sec: ==='split_days' end ([], {}) \n",
      "2018-09-09 16:22:04,632 util_log.py[34] INFO cost: 1.38 sec: ==='split_days' end ([], {}) \n",
      "2018-09-09 16:22:04,635 util_log.py[34] INFO cost: 1.56 sec: ==='split_days' end ([], {}) \n",
      "2018-09-09 16:22:04,640 util_log.py[34] INFO cost: 1.74 sec: ==='split_days' end ([], {}) \n",
      "2018-09-09 16:22:04,647 util_log.py[34] INFO cost: 1.92 sec: ==='split_days' end ([], {}) \n",
      "2018-09-09 16:22:04,651 util_log.py[34] INFO cost: 2.10 sec: ==='split_days' end ([], {}) \n",
      "2018-09-09 16:22:04,657 util_log.py[34] INFO cost: 2.29 sec: ==='split_days' end ([], {}) \n",
      "2018-09-09 16:22:04,742 util_log.py[34] INFO cost: 2.64 sec: ==='split_days' end ([], {}) \n"
     ]
    },
    {
     "name": "stdout",
     "output_type": "stream",
     "text": [
      "\n",
      "The input df#6 before split\n",
      "The output df#19 after split\n",
      "The output df#38 after split\n",
      "The output df#71 after split\n",
      "The output df#116 after split\n",
      "The output df#185 after split\n",
      "The output df#283 after split\n",
      "The output df#404 after split\n",
      "The output df#564 after split\n",
      "The output df#777 after split\n",
      "The output df#1078 after split\n",
      "The output df#1532 after split\n",
      "The output df#2430 after split\n",
      "The output df#3733 after split\n",
      "The output df#945151 after split\n",
      "Out loop: The new Df size is 945151\n"
     ]
    },
    {
     "name": "stderr",
     "output_type": "stream",
     "text": [
      "2018-09-09 16:22:10,372 util_log.py[34] INFO cost:12.13 sec: ==='split_days_all' end ([], {}) \n",
      "2018-09-09 16:22:10,374 util_log.py[29] INFO Begin to run extend_time with:[], {'span_no': 4}\n"
     ]
    },
    {
     "name": "stdout",
     "output_type": "stream",
     "text": [
      "Try to cal for range#0\n",
      "Try to cal for range#1\n",
      "Try to cal for range#2\n",
      "Try to cal for range#3\n"
     ]
    },
    {
     "name": "stderr",
     "output_type": "stream",
     "text": [
      "2018-09-09 16:23:51,004 util_log.py[34] INFO cost:100.63 sec: ==='extend_time' end ([], {'span_no': 4}) \n",
      "2018-09-09 16:23:51,011 util_log.py[29] INFO Begin to run get_percent_duration with:[['device']], {}\n",
      "2018-09-09 16:23:52,065 util_log.py[34] INFO cost: 1.05 sec: ==='get_percent_duration' end ([['device']], {}) \n",
      "2018-09-09 16:23:52,067 util_log.py[29] INFO Begin to run get_max_week with:[], {}\n",
      "2018-09-09 16:23:52,745 util_log.py[34] INFO cost: 0.68 sec: ==='get_max_week' end ([], {}) \n",
      "2018-09-09 16:23:52,970 util_log.py[29] INFO Begin to run get_percent_duration with:[['device']], {'prefix': 'max'}\n",
      "2018-09-09 16:23:53,335 util_log.py[34] INFO cost: 0.36 sec: ==='get_percent_duration' end ([['device']], {'prefix': 'max'}) \n",
      "2018-09-09 16:23:53,350 util_log.py[29] INFO Begin to run get_start_closed with:[], {}\n"
     ]
    },
    {
     "name": "stdout",
     "output_type": "stream",
     "text": [
      "Try to summary file:./output/start_close/deviceid_package_start_close_40_28_26363738_27305449.csv\n",
      "Sort the df#941711 by device(begin)\n"
     ]
    },
    {
     "name": "stderr",
     "output_type": "stream",
     "text": [
      "2018-09-09 16:23:54,894 util_log.py[34] INFO cost: 1.54 sec: ==='get_start_closed' end ([], {}) \n",
      "2018-09-09 16:23:54,896 util_log.py[29] INFO Begin to run split_days_all with:[], {}\n"
     ]
    },
    {
     "name": "stdout",
     "output_type": "stream",
     "text": [
      "Sort the df by device(end)\n",
      "Remove 0 records data\n"
     ]
    },
    {
     "name": "stderr",
     "output_type": "stream",
     "text": [
      "2018-09-09 16:23:58,886 util_log.py[29] INFO Begin to run split_days with:[], {}\n"
     ]
    },
    {
     "name": "stdout",
     "output_type": "stream",
     "text": [
      "Out loop: The original Df size is 941711\n",
      "The input df#941711 before split\n"
     ]
    },
    {
     "name": "stderr",
     "output_type": "stream",
     "text": [
      "2018-09-09 16:23:59,216 util_log.py[29] INFO Begin to run split_days with:[], {}\n",
      "2018-09-09 16:23:59,401 util_log.py[29] INFO Begin to run split_days with:[], {}\n"
     ]
    },
    {
     "name": "stdout",
     "output_type": "stream",
     "text": [
      "The input df#1187 before split\n",
      "The input df#837 before split\n"
     ]
    },
    {
     "name": "stderr",
     "output_type": "stream",
     "text": [
      "2018-09-09 16:23:59,581 util_log.py[29] INFO Begin to run split_days with:[], {}\n",
      "2018-09-09 16:23:59,770 util_log.py[29] INFO Begin to run split_days with:[], {}\n",
      "2018-09-09 16:23:59,940 util_log.py[29] INFO Begin to run split_days with:[], {}\n"
     ]
    },
    {
     "name": "stdout",
     "output_type": "stream",
     "text": [
      "The input df#433 before split\n",
      "The input df#293 before split\n"
     ]
    },
    {
     "name": "stderr",
     "output_type": "stream",
     "text": [
      "2018-09-09 16:24:00,191 util_log.py[29] INFO Begin to run split_days with:[], {}\n",
      "2018-09-09 16:24:00,352 util_log.py[29] INFO Begin to run split_days with:[], {}\n"
     ]
    },
    {
     "name": "stdout",
     "output_type": "stream",
     "text": [
      "The input df#216 before split\n",
      "The input df#160 before split\n",
      "The input df#129 before split\n"
     ]
    },
    {
     "name": "stderr",
     "output_type": "stream",
     "text": [
      "2018-09-09 16:24:00,504 util_log.py[29] INFO Begin to run split_days with:[], {}\n",
      "2018-09-09 16:24:00,674 util_log.py[29] INFO Begin to run split_days with:[], {}\n"
     ]
    },
    {
     "name": "stdout",
     "output_type": "stream",
     "text": [
      "The input df#108 before split\n"
     ]
    },
    {
     "name": "stderr",
     "output_type": "stream",
     "text": [
      "2018-09-09 16:24:00,813 util_log.py[29] INFO Begin to run split_days with:[], {}\n",
      "2018-09-09 16:24:00,979 util_log.py[29] INFO Begin to run split_days with:[], {}\n"
     ]
    },
    {
     "name": "stdout",
     "output_type": "stream",
     "text": [
      "The input df#71 before split\n",
      "The input df#51 before split\n"
     ]
    },
    {
     "name": "stderr",
     "output_type": "stream",
     "text": [
      "2018-09-09 16:24:01,206 util_log.py[29] INFO Begin to run split_days with:[], {}\n",
      "2018-09-09 16:24:01,379 util_log.py[29] INFO Begin to run split_days with:[], {}\n"
     ]
    },
    {
     "name": "stdout",
     "output_type": "stream",
     "text": [
      "The input df#36 before split\n",
      "The input df#29 before split\n",
      "The input df#15 before split\n"
     ]
    },
    {
     "name": "stderr",
     "output_type": "stream",
     "text": [
      "2018-09-09 16:24:01,537 util_log.py[29] INFO Begin to run split_days with:[], {}\n",
      "2018-09-09 16:24:01,541 util_log.py[34] INFO cost: 0.00 sec: ==='split_days' end ([], {}) \n",
      "2018-09-09 16:24:01,545 util_log.py[34] INFO cost: 0.17 sec: ==='split_days' end ([], {}) \n",
      "2018-09-09 16:24:01,549 util_log.py[34] INFO cost: 0.34 sec: ==='split_days' end ([], {}) \n",
      "2018-09-09 16:24:01,553 util_log.py[34] INFO cost: 0.57 sec: ==='split_days' end ([], {}) \n",
      "2018-09-09 16:24:01,557 util_log.py[34] INFO cost: 0.74 sec: ==='split_days' end ([], {}) \n",
      "2018-09-09 16:24:01,563 util_log.py[34] INFO cost: 0.89 sec: ==='split_days' end ([], {}) \n",
      "2018-09-09 16:24:01,568 util_log.py[34] INFO cost: 1.06 sec: ==='split_days' end ([], {}) \n",
      "2018-09-09 16:24:01,572 util_log.py[34] INFO cost: 1.22 sec: ==='split_days' end ([], {}) \n",
      "2018-09-09 16:24:01,577 util_log.py[34] INFO cost: 1.39 sec: ==='split_days' end ([], {}) \n",
      "2018-09-09 16:24:01,585 util_log.py[34] INFO cost: 1.64 sec: ==='split_days' end ([], {}) \n",
      "2018-09-09 16:24:01,597 util_log.py[34] INFO cost: 1.83 sec: ==='split_days' end ([], {}) \n",
      "2018-09-09 16:24:01,611 util_log.py[34] INFO cost: 2.03 sec: ==='split_days' end ([], {}) \n",
      "2018-09-09 16:24:01,621 util_log.py[34] INFO cost: 2.22 sec: ==='split_days' end ([], {}) \n",
      "2018-09-09 16:24:01,625 util_log.py[34] INFO cost: 2.41 sec: ==='split_days' end ([], {}) \n",
      "2018-09-09 16:24:01,715 util_log.py[34] INFO cost: 2.83 sec: ==='split_days' end ([], {}) \n"
     ]
    },
    {
     "name": "stdout",
     "output_type": "stream",
     "text": [
      "The input df#9 before split\n",
      "The output df#24 after split\n",
      "The output df#53 after split\n",
      "The output df#89 after split\n",
      "The output df#140 after split\n",
      "The output df#211 after split\n",
      "The output df#319 after split\n",
      "The output df#448 after split\n",
      "The output df#608 after split\n",
      "The output df#824 after split\n",
      "The output df#1117 after split\n",
      "The output df#1550 after split\n",
      "The output df#2387 after split\n",
      "The output df#3574 after split\n",
      "The output df#945285 after split\n",
      "Out loop: The new Df size is 945285\n"
     ]
    },
    {
     "name": "stderr",
     "output_type": "stream",
     "text": [
      "2018-09-09 16:24:07,991 util_log.py[34] INFO cost:13.09 sec: ==='split_days_all' end ([], {}) \n",
      "2018-09-09 16:24:07,993 util_log.py[29] INFO Begin to run extend_time with:[], {'span_no': 4}\n"
     ]
    },
    {
     "name": "stdout",
     "output_type": "stream",
     "text": [
      "Try to cal for range#0\n",
      "Try to cal for range#1\n",
      "Try to cal for range#2\n",
      "Try to cal for range#3\n"
     ]
    },
    {
     "name": "stderr",
     "output_type": "stream",
     "text": [
      "2018-09-09 16:25:55,995 util_log.py[34] INFO cost:108.00 sec: ==='extend_time' end ([], {'span_no': 4}) \n",
      "2018-09-09 16:25:55,996 util_log.py[29] INFO Begin to run get_percent_duration with:[['device']], {}\n",
      "2018-09-09 16:25:57,157 util_log.py[34] INFO cost: 1.16 sec: ==='get_percent_duration' end ([['device']], {}) \n",
      "2018-09-09 16:25:57,159 util_log.py[29] INFO Begin to run get_max_week with:[], {}\n",
      "2018-09-09 16:25:57,875 util_log.py[34] INFO cost: 0.72 sec: ==='get_max_week' end ([], {}) \n",
      "2018-09-09 16:25:58,134 util_log.py[29] INFO Begin to run get_percent_duration with:[['device']], {'prefix': 'max'}\n",
      "2018-09-09 16:25:58,614 util_log.py[34] INFO cost: 0.48 sec: ==='get_percent_duration' end ([['device']], {'prefix': 'max'}) \n",
      "2018-09-09 16:25:58,630 util_log.py[29] INFO Begin to run get_start_closed with:[], {}\n"
     ]
    },
    {
     "name": "stdout",
     "output_type": "stream",
     "text": [
      "Try to summary file:./output/start_close/deviceid_package_start_close_40_27_25422309_26363738.csv\n",
      "Sort the df#941429 by device(begin)\n",
      "Sort the df by device(end)\n",
      "Remove 16 records data\n"
     ]
    },
    {
     "name": "stderr",
     "output_type": "stream",
     "text": [
      "2018-09-09 16:26:00,335 util_log.py[34] INFO cost: 1.71 sec: ==='get_start_closed' end ([], {}) \n",
      "2018-09-09 16:26:00,337 util_log.py[29] INFO Begin to run split_days_all with:[], {}\n",
      "2018-09-09 16:26:04,168 util_log.py[29] INFO Begin to run split_days with:[], {}\n"
     ]
    },
    {
     "name": "stdout",
     "output_type": "stream",
     "text": [
      "Out loop: The original Df size is 941413\n",
      "The input df#941413 before split\n"
     ]
    },
    {
     "name": "stderr",
     "output_type": "stream",
     "text": [
      "2018-09-09 16:26:04,508 util_log.py[29] INFO Begin to run split_days with:[], {}\n",
      "2018-09-09 16:26:04,693 util_log.py[29] INFO Begin to run split_days with:[], {}\n"
     ]
    },
    {
     "name": "stdout",
     "output_type": "stream",
     "text": [
      "The input df#1256 before split\n",
      "The input df#865 before split"
     ]
    },
    {
     "name": "stderr",
     "output_type": "stream",
     "text": [
      "2018-09-09 16:26:04,871 util_log.py[29] INFO Begin to run split_days with:[], {}\n",
      "2018-09-09 16:26:05,051 util_log.py[29] INFO Begin to run split_days with:[], {}\n"
     ]
    },
    {
     "name": "stdout",
     "output_type": "stream",
     "text": [
      "\n",
      "The input df#446 before split\n",
      "The input df#299 before split"
     ]
    },
    {
     "name": "stderr",
     "output_type": "stream",
     "text": [
      "2018-09-09 16:26:05,226 util_log.py[29] INFO Begin to run split_days with:[], {}\n",
      "2018-09-09 16:26:05,397 util_log.py[29] INFO Begin to run split_days with:[], {}\n"
     ]
    },
    {
     "name": "stdout",
     "output_type": "stream",
     "text": [
      "\n",
      "The input df#217 before split\n",
      "The input df#164 before split\n"
     ]
    },
    {
     "name": "stderr",
     "output_type": "stream",
     "text": [
      "2018-09-09 16:26:05,576 util_log.py[29] INFO Begin to run split_days with:[], {}\n",
      "2018-09-09 16:26:05,748 util_log.py[29] INFO Begin to run split_days with:[], {}\n"
     ]
    },
    {
     "name": "stdout",
     "output_type": "stream",
     "text": [
      "The input df#134 before split\n"
     ]
    },
    {
     "name": "stderr",
     "output_type": "stream",
     "text": [
      "2018-09-09 16:26:05,906 util_log.py[29] INFO Begin to run split_days with:[], {}\n",
      "2018-09-09 16:26:06,092 util_log.py[29] INFO Begin to run split_days with:[], {}\n",
      "2018-09-09 16:26:06,248 util_log.py[29] INFO Begin to run split_days with:[], {}\n"
     ]
    },
    {
     "name": "stdout",
     "output_type": "stream",
     "text": [
      "The input df#104 before split\n",
      "The input df#77 before split\n",
      "The input df#51 before split\n"
     ]
    },
    {
     "name": "stderr",
     "output_type": "stream",
     "text": [
      "2018-09-09 16:26:06,413 util_log.py[29] INFO Begin to run split_days with:[], {}\n",
      "2018-09-09 16:26:06,597 util_log.py[29] INFO Begin to run split_days with:[], {}\n"
     ]
    },
    {
     "name": "stdout",
     "output_type": "stream",
     "text": [
      "The input df#33 before split\n",
      "The input df#20 before split\n",
      "The input df#9 before split\n"
     ]
    },
    {
     "name": "stderr",
     "output_type": "stream",
     "text": [
      "2018-09-09 16:26:06,760 util_log.py[29] INFO Begin to run split_days with:[], {}\n",
      "2018-09-09 16:26:06,764 util_log.py[34] INFO cost: 0.00 sec: ==='split_days' end ([], {}) \n",
      "2018-09-09 16:26:06,768 util_log.py[34] INFO cost: 0.17 sec: ==='split_days' end ([], {}) \n",
      "2018-09-09 16:26:06,772 util_log.py[34] INFO cost: 0.36 sec: ==='split_days' end ([], {}) \n",
      "2018-09-09 16:26:06,776 util_log.py[34] INFO cost: 0.53 sec: ==='split_days' end ([], {}) \n",
      "2018-09-09 16:26:06,780 util_log.py[34] INFO cost: 0.69 sec: ==='split_days' end ([], {}) \n",
      "2018-09-09 16:26:06,784 util_log.py[34] INFO cost: 0.88 sec: ==='split_days' end ([], {}) \n",
      "2018-09-09 16:26:06,790 util_log.py[34] INFO cost: 1.04 sec: ==='split_days' end ([], {}) \n",
      "2018-09-09 16:26:06,794 util_log.py[34] INFO cost: 1.22 sec: ==='split_days' end ([], {}) \n",
      "2018-09-09 16:26:06,798 util_log.py[34] INFO cost: 1.40 sec: ==='split_days' end ([], {}) \n",
      "2018-09-09 16:26:06,802 util_log.py[34] INFO cost: 1.58 sec: ==='split_days' end ([], {}) \n",
      "2018-09-09 16:26:06,808 util_log.py[34] INFO cost: 1.76 sec: ==='split_days' end ([], {}) \n",
      "2018-09-09 16:26:06,813 util_log.py[34] INFO cost: 1.94 sec: ==='split_days' end ([], {}) \n",
      "2018-09-09 16:26:06,819 util_log.py[34] INFO cost: 2.13 sec: ==='split_days' end ([], {}) \n",
      "2018-09-09 16:26:06,823 util_log.py[34] INFO cost: 2.32 sec: ==='split_days' end ([], {}) \n",
      "2018-09-09 16:26:06,905 util_log.py[34] INFO cost: 2.74 sec: ==='split_days' end ([], {}) \n"
     ]
    },
    {
     "name": "stdout",
     "output_type": "stream",
     "text": [
      "The input df#5 before split\n",
      "The output df#14 after split\n",
      "The output df#34 after split\n",
      "The output df#67 after split\n",
      "The output df#118 after split\n",
      "The output df#195 after split\n",
      "The output df#299 after split\n",
      "The output df#433 after split\n",
      "The output df#597 after split\n",
      "The output df#814 after split\n",
      "The output df#1113 after split\n",
      "The output df#1559 after split\n",
      "The output df#2424 after split\n",
      "The output df#3680 after split\n",
      "The output df#945093 after split\n",
      "Out loop: The new Df size is 945093\n"
     ]
    },
    {
     "name": "stderr",
     "output_type": "stream",
     "text": [
      "2018-09-09 16:26:16,155 util_log.py[34] INFO cost:15.82 sec: ==='split_days_all' end ([], {}) \n",
      "2018-09-09 16:26:16,157 util_log.py[29] INFO Begin to run extend_time with:[], {'span_no': 4}\n"
     ]
    },
    {
     "name": "stdout",
     "output_type": "stream",
     "text": [
      "Try to cal for range#0\n",
      "Try to cal for range#1\n",
      "Try to cal for range#2\n",
      "Try to cal for range#3\n"
     ]
    },
    {
     "name": "stderr",
     "output_type": "stream",
     "text": [
      "2018-09-09 16:28:00,812 util_log.py[34] INFO cost:104.65 sec: ==='extend_time' end ([], {'span_no': 4}) \n",
      "2018-09-09 16:28:00,814 util_log.py[29] INFO Begin to run get_percent_duration with:[['device']], {}\n",
      "2018-09-09 16:28:01,885 util_log.py[34] INFO cost: 1.07 sec: ==='get_percent_duration' end ([['device']], {}) \n",
      "2018-09-09 16:28:01,887 util_log.py[29] INFO Begin to run get_max_week with:[], {}\n",
      "2018-09-09 16:28:02,592 util_log.py[34] INFO cost: 0.70 sec: ==='get_max_week' end ([], {}) \n",
      "2018-09-09 16:28:02,826 util_log.py[29] INFO Begin to run get_percent_duration with:[['device']], {'prefix': 'max'}\n",
      "2018-09-09 16:28:03,219 util_log.py[34] INFO cost: 0.39 sec: ==='get_percent_duration' end ([['device']], {'prefix': 'max'}) \n",
      "2018-09-09 16:28:03,235 util_log.py[29] INFO Begin to run get_start_closed with:[], {}\n"
     ]
    },
    {
     "name": "stdout",
     "output_type": "stream",
     "text": [
      "Try to summary file:./output/start_close/deviceid_package_start_close_40_26_24483920_25422309.csv\n",
      "Sort the df#938389 by device(begin)\n"
     ]
    },
    {
     "name": "stderr",
     "output_type": "stream",
     "text": [
      "2018-09-09 16:28:04,752 util_log.py[34] INFO cost: 1.52 sec: ==='get_start_closed' end ([], {}) \n",
      "2018-09-09 16:28:04,754 util_log.py[29] INFO Begin to run split_days_all with:[], {}\n"
     ]
    },
    {
     "name": "stdout",
     "output_type": "stream",
     "text": [
      "Sort the df by device(end)\n",
      "Remove 0 records data\n"
     ]
    },
    {
     "name": "stderr",
     "output_type": "stream",
     "text": [
      "2018-09-09 16:28:08,464 util_log.py[29] INFO Begin to run split_days with:[], {}\n"
     ]
    },
    {
     "name": "stdout",
     "output_type": "stream",
     "text": [
      "Out loop: The original Df size is 938389\n",
      "The input df#938389 before split\n"
     ]
    },
    {
     "name": "stderr",
     "output_type": "stream",
     "text": [
      "2018-09-09 16:28:08,753 util_log.py[29] INFO Begin to run split_days with:[], {}\n",
      "2018-09-09 16:28:08,937 util_log.py[29] INFO Begin to run split_days with:[], {}\n"
     ]
    },
    {
     "name": "stdout",
     "output_type": "stream",
     "text": [
      "The input df#1270 before split\n"
     ]
    },
    {
     "name": "stderr",
     "output_type": "stream",
     "text": [
      "2018-09-09 16:28:09,117 util_log.py[29] INFO Begin to run split_days with:[], {}\n",
      "2018-09-09 16:28:09,296 util_log.py[29] INFO Begin to run split_days with:[], {}\n"
     ]
    },
    {
     "name": "stdout",
     "output_type": "stream",
     "text": [
      "The input df#863 before split\n",
      "The input df#452 before split\n",
      "The input df#300 before split\n"
     ]
    },
    {
     "name": "stderr",
     "output_type": "stream",
     "text": [
      "2018-09-09 16:28:09,480 util_log.py[29] INFO Begin to run split_days with:[], {}\n",
      "2018-09-09 16:28:09,647 util_log.py[29] INFO Begin to run split_days with:[], {}\n",
      "2018-09-09 16:28:09,827 util_log.py[29] INFO Begin to run split_days with:[], {}\n"
     ]
    },
    {
     "name": "stdout",
     "output_type": "stream",
     "text": [
      "The input df#212 before split\n",
      "The input df#157 before split\n"
     ]
    },
    {
     "name": "stderr",
     "output_type": "stream",
     "text": [
      "2018-09-09 16:28:10,001 util_log.py[29] INFO Begin to run split_days with:[], {}\n",
      "2018-09-09 16:28:10,155 util_log.py[29] INFO Begin to run split_days with:[], {}\n"
     ]
    },
    {
     "name": "stdout",
     "output_type": "stream",
     "text": [
      "The input df#125 before split\n",
      "The input df#103 before split\n",
      "The input df#76 before split\n"
     ]
    },
    {
     "name": "stderr",
     "output_type": "stream",
     "text": [
      "2018-09-09 16:28:10,326 util_log.py[29] INFO Begin to run split_days with:[], {}\n",
      "2018-09-09 16:28:10,501 util_log.py[29] INFO Begin to run split_days with:[], {}\n"
     ]
    },
    {
     "name": "stdout",
     "output_type": "stream",
     "text": [
      "The input df#56 before split\n",
      "The input df#35 before split\n"
     ]
    },
    {
     "name": "stderr",
     "output_type": "stream",
     "text": [
      "2018-09-09 16:28:10,668 util_log.py[29] INFO Begin to run split_days with:[], {}\n",
      "2018-09-09 16:28:10,832 util_log.py[29] INFO Begin to run split_days with:[], {}\n"
     ]
    },
    {
     "name": "stdout",
     "output_type": "stream",
     "text": [
      "The input df#26 before split\n"
     ]
    },
    {
     "name": "stderr",
     "output_type": "stream",
     "text": [
      "2018-09-09 16:28:10,993 util_log.py[29] INFO Begin to run split_days with:[], {}\n",
      "2018-09-09 16:28:10,998 util_log.py[34] INFO cost: 0.00 sec: ==='split_days' end ([], {}) \n",
      "2018-09-09 16:28:11,003 util_log.py[34] INFO cost: 0.17 sec: ==='split_days' end ([], {}) \n",
      "2018-09-09 16:28:11,008 util_log.py[34] INFO cost: 0.34 sec: ==='split_days' end ([], {}) \n",
      "2018-09-09 16:28:11,014 util_log.py[34] INFO cost: 0.51 sec: ==='split_days' end ([], {}) \n",
      "2018-09-09 16:28:11,019 util_log.py[34] INFO cost: 0.69 sec: ==='split_days' end ([], {}) \n",
      "2018-09-09 16:28:11,023 util_log.py[34] INFO cost: 0.87 sec: ==='split_days' end ([], {}) \n",
      "2018-09-09 16:28:11,029 util_log.py[34] INFO cost: 1.03 sec: ==='split_days' end ([], {}) \n",
      "2018-09-09 16:28:11,036 util_log.py[34] INFO cost: 1.21 sec: ==='split_days' end ([], {}) \n",
      "2018-09-09 16:28:11,042 util_log.py[34] INFO cost: 1.40 sec: ==='split_days' end ([], {}) \n",
      "2018-09-09 16:28:11,046 util_log.py[34] INFO cost: 1.57 sec: ==='split_days' end ([], {}) \n",
      "2018-09-09 16:28:11,051 util_log.py[34] INFO cost: 1.75 sec: ==='split_days' end ([], {}) \n",
      "2018-09-09 16:28:11,056 util_log.py[34] INFO cost: 1.94 sec: ==='split_days' end ([], {}) \n",
      "2018-09-09 16:28:11,060 util_log.py[34] INFO cost: 2.12 sec: ==='split_days' end ([], {}) \n",
      "2018-09-09 16:28:11,068 util_log.py[34] INFO cost: 2.31 sec: ==='split_days' end ([], {}) \n",
      "2018-09-09 16:28:11,155 util_log.py[34] INFO cost: 2.69 sec: ==='split_days' end ([], {}) \n"
     ]
    },
    {
     "name": "stdout",
     "output_type": "stream",
     "text": [
      "The input df#14 before split\n",
      "The input df#5 before split\n",
      "The output df#19 after split\n",
      "The output df#45 after split\n",
      "The output df#80 after split\n",
      "The output df#136 after split\n",
      "The output df#212 after split\n",
      "The output df#315 after split\n",
      "The output df#440 after split\n",
      "The output df#597 after split\n",
      "The output df#809 after split\n",
      "The output df#1109 after split\n",
      "The output df#1561 after split\n",
      "The output df#2424 after split\n",
      "The output df#3694 after split\n",
      "The output df#942083 after split\n",
      "Out loop: The new Df size is 942083\n"
     ]
    },
    {
     "name": "stderr",
     "output_type": "stream",
     "text": [
      "2018-09-09 16:28:16,849 util_log.py[34] INFO cost:12.10 sec: ==='split_days_all' end ([], {}) \n",
      "2018-09-09 16:28:16,851 util_log.py[29] INFO Begin to run extend_time with:[], {'span_no': 4}\n"
     ]
    },
    {
     "name": "stdout",
     "output_type": "stream",
     "text": [
      "Try to cal for range#0\n",
      "Try to cal for range#1\n",
      "Try to cal for range#2\n",
      "Try to cal for range#3\n"
     ]
    },
    {
     "name": "stderr",
     "output_type": "stream",
     "text": [
      "2018-09-09 16:29:54,669 util_log.py[34] INFO cost:97.82 sec: ==='extend_time' end ([], {'span_no': 4}) \n",
      "2018-09-09 16:29:54,671 util_log.py[29] INFO Begin to run get_percent_duration with:[['device']], {}\n",
      "2018-09-09 16:29:55,705 util_log.py[34] INFO cost: 1.03 sec: ==='get_percent_duration' end ([['device']], {}) \n",
      "2018-09-09 16:29:55,707 util_log.py[29] INFO Begin to run get_max_week with:[], {}\n",
      "2018-09-09 16:29:56,387 util_log.py[34] INFO cost: 0.68 sec: ==='get_max_week' end ([], {}) \n",
      "2018-09-09 16:29:56,620 util_log.py[29] INFO Begin to run get_percent_duration with:[['device']], {'prefix': 'max'}\n",
      "2018-09-09 16:29:56,988 util_log.py[34] INFO cost: 0.37 sec: ==='get_percent_duration' end ([['device']], {'prefix': 'max'}) \n",
      "2018-09-09 16:29:57,003 util_log.py[29] INFO Begin to run get_start_closed with:[], {}\n"
     ]
    },
    {
     "name": "stdout",
     "output_type": "stream",
     "text": [
      "Try to summary file:./output/start_close/deviceid_package_start_close_40_25_23542785_24483920.csv\n",
      "Sort the df#941135 by device(begin)\n"
     ]
    },
    {
     "name": "stderr",
     "output_type": "stream",
     "text": [
      "2018-09-09 16:29:58,524 util_log.py[34] INFO cost: 1.52 sec: ==='get_start_closed' end ([], {}) \n",
      "2018-09-09 16:29:58,526 util_log.py[29] INFO Begin to run split_days_all with:[], {}\n"
     ]
    },
    {
     "name": "stdout",
     "output_type": "stream",
     "text": [
      "Sort the df by device(end)\n",
      "Remove 0 records data\n"
     ]
    },
    {
     "name": "stderr",
     "output_type": "stream",
     "text": [
      "2018-09-09 16:30:02,078 util_log.py[29] INFO Begin to run split_days with:[], {}\n"
     ]
    },
    {
     "name": "stdout",
     "output_type": "stream",
     "text": [
      "Out loop: The original Df size is 941135\n",
      "The input df#941135 before split\n"
     ]
    },
    {
     "name": "stderr",
     "output_type": "stream",
     "text": [
      "2018-09-09 16:30:02,374 util_log.py[29] INFO Begin to run split_days with:[], {}\n",
      "2018-09-09 16:30:02,558 util_log.py[29] INFO Begin to run split_days with:[], {}\n"
     ]
    },
    {
     "name": "stdout",
     "output_type": "stream",
     "text": [
      "The input df#1334 before split\n",
      "The input df#935 before split\n"
     ]
    },
    {
     "name": "stderr",
     "output_type": "stream",
     "text": [
      "2018-09-09 16:30:02,741 util_log.py[29] INFO Begin to run split_days with:[], {}\n",
      "2018-09-09 16:30:02,922 util_log.py[29] INFO Begin to run split_days with:[], {}\n"
     ]
    },
    {
     "name": "stdout",
     "output_type": "stream",
     "text": [
      "The input df#518 before split\n",
      "The input df#337 before split\n"
     ]
    },
    {
     "name": "stderr",
     "output_type": "stream",
     "text": [
      "2018-09-09 16:30:03,093 util_log.py[29] INFO Begin to run split_days with:[], {}\n",
      "2018-09-09 16:30:03,259 util_log.py[29] INFO Begin to run split_days with:[], {}\n"
     ]
    },
    {
     "name": "stdout",
     "output_type": "stream",
     "text": [
      "The input df#257 before split\n",
      "The input df#202 before split\n"
     ]
    },
    {
     "name": "stderr",
     "output_type": "stream",
     "text": [
      "2018-09-09 16:30:03,428 util_log.py[29] INFO Begin to run split_days with:[], {}\n",
      "2018-09-09 16:30:03,582 util_log.py[29] INFO Begin to run split_days with:[], {}\n",
      "2018-09-09 16:30:03,747 util_log.py[29] INFO Begin to run split_days with:[], {}\n"
     ]
    },
    {
     "name": "stdout",
     "output_type": "stream",
     "text": [
      "The input df#160 before split\n",
      "The input df#131 before split\n"
     ]
    },
    {
     "name": "stderr",
     "output_type": "stream",
     "text": [
      "2018-09-09 16:30:03,911 util_log.py[29] INFO Begin to run split_days with:[], {}\n",
      "2018-09-09 16:30:04,080 util_log.py[29] INFO Begin to run split_days with:[], {}\n"
     ]
    },
    {
     "name": "stdout",
     "output_type": "stream",
     "text": [
      "The input df#95 before split\n",
      "The input df#69 before split\n",
      "The input df#44 before split\n"
     ]
    },
    {
     "name": "stderr",
     "output_type": "stream",
     "text": [
      "2018-09-09 16:30:04,248 util_log.py[29] INFO Begin to run split_days with:[], {}\n",
      "2018-09-09 16:30:04,422 util_log.py[29] INFO Begin to run split_days with:[], {}\n"
     ]
    },
    {
     "name": "stdout",
     "output_type": "stream",
     "text": [
      "The input df#30 before split\n",
      "The input df#16 before split\n"
     ]
    },
    {
     "name": "stderr",
     "output_type": "stream",
     "text": [
      "2018-09-09 16:30:04,585 util_log.py[29] INFO Begin to run split_days with:[], {}\n",
      "2018-09-09 16:30:04,589 util_log.py[34] INFO cost: 0.00 sec: ==='split_days' end ([], {}) \n",
      "2018-09-09 16:30:04,594 util_log.py[34] INFO cost: 0.17 sec: ==='split_days' end ([], {}) \n",
      "2018-09-09 16:30:04,597 util_log.py[34] INFO cost: 0.35 sec: ==='split_days' end ([], {}) \n",
      "2018-09-09 16:30:04,601 util_log.py[34] INFO cost: 0.52 sec: ==='split_days' end ([], {}) \n",
      "2018-09-09 16:30:04,605 util_log.py[34] INFO cost: 0.69 sec: ==='split_days' end ([], {}) \n",
      "2018-09-09 16:30:04,610 util_log.py[34] INFO cost: 0.86 sec: ==='split_days' end ([], {}) \n",
      "2018-09-09 16:30:04,616 util_log.py[34] INFO cost: 1.03 sec: ==='split_days' end ([], {}) \n",
      "2018-09-09 16:30:04,620 util_log.py[34] INFO cost: 1.19 sec: ==='split_days' end ([], {}) \n",
      "2018-09-09 16:30:04,626 util_log.py[34] INFO cost: 1.37 sec: ==='split_days' end ([], {}) \n",
      "2018-09-09 16:30:04,630 util_log.py[34] INFO cost: 1.54 sec: ==='split_days' end ([], {}) \n",
      "2018-09-09 16:30:04,636 util_log.py[34] INFO cost: 1.71 sec: ==='split_days' end ([], {}) \n",
      "2018-09-09 16:30:04,641 util_log.py[34] INFO cost: 1.90 sec: ==='split_days' end ([], {}) \n",
      "2018-09-09 16:30:04,647 util_log.py[34] INFO cost: 2.09 sec: ==='split_days' end ([], {}) \n",
      "2018-09-09 16:30:04,652 util_log.py[34] INFO cost: 2.28 sec: ==='split_days' end ([], {}) \n",
      "2018-09-09 16:30:04,738 util_log.py[34] INFO cost: 2.66 sec: ==='split_days' end ([], {}) \n"
     ]
    },
    {
     "name": "stdout",
     "output_type": "stream",
     "text": [
      "The input df#10 before split\n",
      "The output df#26 after split\n",
      "The output df#56 after split\n",
      "The output df#100 after split\n",
      "The output df#169 after split\n",
      "The output df#264 after split\n",
      "The output df#395 after split\n",
      "The output df#555 after split\n",
      "The output df#757 after split\n",
      "The output df#1014 after split\n",
      "The output df#1351 after split\n",
      "The output df#1869 after split\n",
      "The output df#2804 after split\n",
      "The output df#4138 after split\n",
      "The output df#945273 after split\n",
      "Out loop: The new Df size is 945273\n"
     ]
    },
    {
     "name": "stderr",
     "output_type": "stream",
     "text": [
      "2018-09-09 16:30:10,385 util_log.py[34] INFO cost:11.86 sec: ==='split_days_all' end ([], {}) \n",
      "2018-09-09 16:30:10,387 util_log.py[29] INFO Begin to run extend_time with:[], {'span_no': 4}\n"
     ]
    },
    {
     "name": "stdout",
     "output_type": "stream",
     "text": [
      "Try to cal for range#0\n",
      "Try to cal for range#1\n",
      "Try to cal for range#2\n",
      "Try to cal for range#3\n"
     ]
    },
    {
     "name": "stderr",
     "output_type": "stream",
     "text": [
      "2018-09-09 16:31:49,079 util_log.py[34] INFO cost:98.69 sec: ==='extend_time' end ([], {'span_no': 4}) \n",
      "2018-09-09 16:31:49,081 util_log.py[29] INFO Begin to run get_percent_duration with:[['device']], {}\n",
      "2018-09-09 16:31:50,150 util_log.py[34] INFO cost: 1.07 sec: ==='get_percent_duration' end ([['device']], {}) \n",
      "2018-09-09 16:31:50,152 util_log.py[29] INFO Begin to run get_max_week with:[], {}\n",
      "2018-09-09 16:31:50,844 util_log.py[34] INFO cost: 0.69 sec: ==='get_max_week' end ([], {}) \n",
      "2018-09-09 16:31:51,081 util_log.py[29] INFO Begin to run get_percent_duration with:[['device']], {'prefix': 'max'}\n",
      "2018-09-09 16:31:51,457 util_log.py[34] INFO cost: 0.38 sec: ==='get_percent_duration' end ([['device']], {'prefix': 'max'}) \n",
      "2018-09-09 16:31:51,472 util_log.py[29] INFO Begin to run get_start_closed with:[], {}\n"
     ]
    },
    {
     "name": "stdout",
     "output_type": "stream",
     "text": [
      "Try to summary file:./output/start_close/deviceid_package_start_close_40_24_22597574_23542785.csv\n",
      "Sort the df#945211 by device(begin)\n",
      "Sort the df by device(end)\n",
      "Remove 18 records data\n"
     ]
    },
    {
     "name": "stderr",
     "output_type": "stream",
     "text": [
      "2018-09-09 16:31:53,142 util_log.py[34] INFO cost: 1.67 sec: ==='get_start_closed' end ([], {}) \n",
      "2018-09-09 16:31:53,145 util_log.py[29] INFO Begin to run split_days_all with:[], {}\n",
      "2018-09-09 16:31:56,791 util_log.py[29] INFO Begin to run split_days with:[], {}\n"
     ]
    },
    {
     "name": "stdout",
     "output_type": "stream",
     "text": [
      "Out loop: The original Df size is 945193\n",
      "The input df#945193 before split\n"
     ]
    },
    {
     "name": "stderr",
     "output_type": "stream",
     "text": [
      "2018-09-09 16:31:57,070 util_log.py[29] INFO Begin to run split_days with:[], {}\n",
      "2018-09-09 16:31:57,249 util_log.py[29] INFO Begin to run split_days with:[], {}\n"
     ]
    },
    {
     "name": "stdout",
     "output_type": "stream",
     "text": [
      "The input df#1487 before split\n",
      "The input df#1007 before split\n"
     ]
    },
    {
     "name": "stderr",
     "output_type": "stream",
     "text": [
      "2018-09-09 16:31:57,433 util_log.py[29] INFO Begin to run split_days with:[], {}\n",
      "2018-09-09 16:31:57,611 util_log.py[29] INFO Begin to run split_days with:[], {}\n"
     ]
    },
    {
     "name": "stdout",
     "output_type": "stream",
     "text": [
      "The input df#511 before split\n",
      "The input df#344 before split\n"
     ]
    },
    {
     "name": "stderr",
     "output_type": "stream",
     "text": [
      "2018-09-09 16:31:57,787 util_log.py[29] INFO Begin to run split_days with:[], {}\n",
      "2018-09-09 16:31:57,961 util_log.py[29] INFO Begin to run split_days with:[], {}\n",
      "2018-09-09 16:31:58,127 util_log.py[29] INFO Begin to run split_days with:[], {}\n"
     ]
    },
    {
     "name": "stdout",
     "output_type": "stream",
     "text": [
      "The input df#248 before split\n",
      "The input df#190 before split\n"
     ]
    },
    {
     "name": "stderr",
     "output_type": "stream",
     "text": [
      "2018-09-09 16:31:58,294 util_log.py[29] INFO Begin to run split_days with:[], {}\n",
      "2018-09-09 16:31:58,459 util_log.py[29] INFO Begin to run split_days with:[], {}\n",
      "2018-09-09 16:31:58,624 util_log.py[29] INFO Begin to run split_days with:[], {}\n"
     ]
    },
    {
     "name": "stdout",
     "output_type": "stream",
     "text": [
      "The input df#155 before split\n",
      "The input df#125 before split\n",
      "The input df#81 before split\n"
     ]
    },
    {
     "name": "stderr",
     "output_type": "stream",
     "text": [
      "2018-09-09 16:31:58,787 util_log.py[29] INFO Begin to run split_days with:[], {}\n",
      "2018-09-09 16:31:58,958 util_log.py[29] INFO Begin to run split_days with:[], {}\n",
      "2018-09-09 16:31:59,120 util_log.py[29] INFO Begin to run split_days with:[], {}\n"
     ]
    },
    {
     "name": "stdout",
     "output_type": "stream",
     "text": [
      "The input df#50 before split\n",
      "The input df#34 before split\n",
      "The input df#24 before split\n"
     ]
    },
    {
     "name": "stderr",
     "output_type": "stream",
     "text": [
      "2018-09-09 16:31:59,286 util_log.py[29] INFO Begin to run split_days with:[], {}\n",
      "2018-09-09 16:31:59,291 util_log.py[34] INFO cost: 0.00 sec: ==='split_days' end ([], {}) \n",
      "2018-09-09 16:31:59,295 util_log.py[34] INFO cost: 0.18 sec: ==='split_days' end ([], {}) \n",
      "2018-09-09 16:31:59,299 util_log.py[34] INFO cost: 0.34 sec: ==='split_days' end ([], {}) \n",
      "2018-09-09 16:31:59,304 util_log.py[34] INFO cost: 0.52 sec: ==='split_days' end ([], {}) \n",
      "2018-09-09 16:31:59,308 util_log.py[34] INFO cost: 0.68 sec: ==='split_days' end ([], {}) \n",
      "2018-09-09 16:31:59,312 util_log.py[34] INFO cost: 0.85 sec: ==='split_days' end ([], {}) \n",
      "2018-09-09 16:31:59,316 util_log.py[34] INFO cost: 1.02 sec: ==='split_days' end ([], {}) \n",
      "2018-09-09 16:31:59,320 util_log.py[34] INFO cost: 1.19 sec: ==='split_days' end ([], {}) \n",
      "2018-09-09 16:31:59,326 util_log.py[34] INFO cost: 1.36 sec: ==='split_days' end ([], {}) \n",
      "2018-09-09 16:31:59,330 util_log.py[34] INFO cost: 1.54 sec: ==='split_days' end ([], {}) \n",
      "2018-09-09 16:31:59,336 util_log.py[34] INFO cost: 1.72 sec: ==='split_days' end ([], {}) \n",
      "2018-09-09 16:31:59,343 util_log.py[34] INFO cost: 1.91 sec: ==='split_days' end ([], {}) \n",
      "2018-09-09 16:31:59,347 util_log.py[34] INFO cost: 2.10 sec: ==='split_days' end ([], {}) \n",
      "2018-09-09 16:31:59,350 util_log.py[34] INFO cost: 2.28 sec: ==='split_days' end ([], {}) \n",
      "2018-09-09 16:31:59,434 util_log.py[34] INFO cost: 2.64 sec: ==='split_days' end ([], {}) \n"
     ]
    },
    {
     "name": "stdout",
     "output_type": "stream",
     "text": [
      "The input df#15 before split\n",
      "The input df#5 before split\n",
      "The output df#20 after split\n",
      "The output df#44 after split\n",
      "The output df#78 after split\n",
      "The output df#128 after split\n",
      "The output df#209 after split\n",
      "The output df#334 after split\n",
      "The output df#489 after split\n",
      "The output df#679 after split\n",
      "The output df#927 after split\n",
      "The output df#1271 after split\n",
      "The output df#1782 after split\n",
      "The output df#2789 after split\n",
      "The output df#4276 after split\n",
      "The output df#949469 after split\n",
      "Out loop: The new Df size is 949469\n"
     ]
    },
    {
     "name": "stderr",
     "output_type": "stream",
     "text": [
      "2018-09-09 16:32:05,055 util_log.py[34] INFO cost:11.91 sec: ==='split_days_all' end ([], {}) \n",
      "2018-09-09 16:32:05,057 util_log.py[29] INFO Begin to run extend_time with:[], {'span_no': 4}\n"
     ]
    },
    {
     "name": "stdout",
     "output_type": "stream",
     "text": [
      "Try to cal for range#0\n",
      "Try to cal for range#1\n",
      "Try to cal for range#2\n",
      "Try to cal for range#3\n"
     ]
    },
    {
     "name": "stderr",
     "output_type": "stream",
     "text": [
      "2018-09-09 16:33:45,542 util_log.py[34] INFO cost:100.49 sec: ==='extend_time' end ([], {'span_no': 4}) \n",
      "2018-09-09 16:33:45,549 util_log.py[29] INFO Begin to run get_percent_duration with:[['device']], {}\n",
      "2018-09-09 16:33:46,588 util_log.py[34] INFO cost: 1.04 sec: ==='get_percent_duration' end ([['device']], {}) \n",
      "2018-09-09 16:33:46,589 util_log.py[29] INFO Begin to run get_max_week with:[], {}\n",
      "2018-09-09 16:33:47,274 util_log.py[34] INFO cost: 0.68 sec: ==='get_max_week' end ([], {}) \n",
      "2018-09-09 16:33:47,506 util_log.py[29] INFO Begin to run get_percent_duration with:[['device']], {'prefix': 'max'}\n",
      "2018-09-09 16:33:47,873 util_log.py[34] INFO cost: 0.37 sec: ==='get_percent_duration' end ([['device']], {'prefix': 'max'}) \n",
      "2018-09-09 16:33:47,888 util_log.py[29] INFO Begin to run get_start_closed with:[], {}\n"
     ]
    },
    {
     "name": "stdout",
     "output_type": "stream",
     "text": [
      "Try to summary file:./output/start_close/deviceid_package_start_close_40_23_21656025_22597574.csv\n",
      "Sort the df#941549 by device(begin)\n",
      "Sort the df by device(end)\n",
      "Remove 3 records data\n"
     ]
    },
    {
     "name": "stderr",
     "output_type": "stream",
     "text": [
      "2018-09-09 16:33:49,486 util_log.py[34] INFO cost: 1.60 sec: ==='get_start_closed' end ([], {}) \n",
      "2018-09-09 16:33:49,488 util_log.py[29] INFO Begin to run split_days_all with:[], {}\n",
      "2018-09-09 16:33:52,949 util_log.py[29] INFO Begin to run split_days with:[], {}\n"
     ]
    },
    {
     "name": "stdout",
     "output_type": "stream",
     "text": [
      "Out loop: The original Df size is 941546\n",
      "The input df#941546 before split\n"
     ]
    },
    {
     "name": "stderr",
     "output_type": "stream",
     "text": [
      "2018-09-09 16:33:53,222 util_log.py[29] INFO Begin to run split_days with:[], {}\n",
      "2018-09-09 16:33:53,399 util_log.py[29] INFO Begin to run split_days with:[], {}\n"
     ]
    },
    {
     "name": "stdout",
     "output_type": "stream",
     "text": [
      "The input df#1129 before split\n",
      "The input df#751 before split\n"
     ]
    },
    {
     "name": "stderr",
     "output_type": "stream",
     "text": [
      "2018-09-09 16:33:53,568 util_log.py[29] INFO Begin to run split_days with:[], {}\n",
      "2018-09-09 16:33:53,733 util_log.py[29] INFO Begin to run split_days with:[], {}\n",
      "2018-09-09 16:33:53,899 util_log.py[29] INFO Begin to run split_days with:[], {}\n"
     ]
    },
    {
     "name": "stdout",
     "output_type": "stream",
     "text": [
      "The input df#401 before split\n",
      "The input df#255 before split\n"
     ]
    },
    {
     "name": "stderr",
     "output_type": "stream",
     "text": [
      "2018-09-09 16:33:54,066 util_log.py[29] INFO Begin to run split_days with:[], {}\n",
      "2018-09-09 16:33:54,229 util_log.py[29] INFO Begin to run split_days with:[], {}\n"
     ]
    },
    {
     "name": "stdout",
     "output_type": "stream",
     "text": [
      "The input df#184 before split\n",
      "The input df#145 before split\n",
      "The input df#114 before split\n"
     ]
    },
    {
     "name": "stderr",
     "output_type": "stream",
     "text": [
      "2018-09-09 16:33:54,393 util_log.py[29] INFO Begin to run split_days with:[], {}\n",
      "2018-09-09 16:33:54,562 util_log.py[29] INFO Begin to run split_days with:[], {}\n",
      "2018-09-09 16:33:54,728 util_log.py[29] INFO Begin to run split_days with:[], {}\n"
     ]
    },
    {
     "name": "stdout",
     "output_type": "stream",
     "text": [
      "The input df#91 before split\n",
      "The input df#60 before split\n"
     ]
    },
    {
     "name": "stderr",
     "output_type": "stream",
     "text": [
      "2018-09-09 16:33:54,897 util_log.py[29] INFO Begin to run split_days with:[], {}\n",
      "2018-09-09 16:33:55,061 util_log.py[29] INFO Begin to run split_days with:[], {}\n"
     ]
    },
    {
     "name": "stdout",
     "output_type": "stream",
     "text": [
      "The input df#41 before split\n",
      "The input df#28 before split\n",
      "The input df#15 before split\n"
     ]
    },
    {
     "name": "stderr",
     "output_type": "stream",
     "text": [
      "2018-09-09 16:33:55,223 util_log.py[29] INFO Begin to run split_days with:[], {}\n",
      "2018-09-09 16:33:55,385 util_log.py[29] INFO Begin to run split_days with:[], {}\n",
      "2018-09-09 16:33:55,388 util_log.py[34] INFO cost: 0.00 sec: ==='split_days' end ([], {}) \n",
      "2018-09-09 16:33:55,393 util_log.py[34] INFO cost: 0.17 sec: ==='split_days' end ([], {}) \n",
      "2018-09-09 16:33:55,397 util_log.py[34] INFO cost: 0.34 sec: ==='split_days' end ([], {}) \n",
      "2018-09-09 16:33:55,401 util_log.py[34] INFO cost: 0.50 sec: ==='split_days' end ([], {}) \n",
      "2018-09-09 16:33:55,407 util_log.py[34] INFO cost: 0.68 sec: ==='split_days' end ([], {}) \n",
      "2018-09-09 16:33:55,412 util_log.py[34] INFO cost: 0.85 sec: ==='split_days' end ([], {}) \n",
      "2018-09-09 16:33:55,417 util_log.py[34] INFO cost: 1.02 sec: ==='split_days' end ([], {}) \n",
      "2018-09-09 16:33:55,422 util_log.py[34] INFO cost: 1.19 sec: ==='split_days' end ([], {}) \n",
      "2018-09-09 16:33:55,426 util_log.py[34] INFO cost: 1.36 sec: ==='split_days' end ([], {}) \n",
      "2018-09-09 16:33:55,432 util_log.py[34] INFO cost: 1.53 sec: ==='split_days' end ([], {}) \n",
      "2018-09-09 16:33:55,440 util_log.py[34] INFO cost: 1.71 sec: ==='split_days' end ([], {}) \n",
      "2018-09-09 16:33:55,445 util_log.py[34] INFO cost: 1.88 sec: ==='split_days' end ([], {}) \n",
      "2018-09-09 16:33:55,452 util_log.py[34] INFO cost: 2.05 sec: ==='split_days' end ([], {}) \n",
      "2018-09-09 16:33:55,457 util_log.py[34] INFO cost: 2.23 sec: ==='split_days' end ([], {}) \n"
     ]
    },
    {
     "name": "stdout",
     "output_type": "stream",
     "text": [
      "The input df#8 before split\n",
      "The input df#1 before split\n",
      "The output df#9 after split\n",
      "The output df#24 after split\n",
      "The output df#52 after split\n",
      "The output df#93 after split\n",
      "The output df#153 after split\n",
      "The output df#244 after split\n",
      "The output df#358 after split\n",
      "The output df#503 after split\n",
      "The output df#687 after split\n",
      "The output df#942 after split\n",
      "The output df#1343 after split\n",
      "The output df#2094 after split\n",
      "The output df#3223 after split\n"
     ]
    },
    {
     "name": "stderr",
     "output_type": "stream",
     "text": [
      "2018-09-09 16:33:55,545 util_log.py[34] INFO cost: 2.60 sec: ==='split_days' end ([], {}) \n"
     ]
    },
    {
     "name": "stdout",
     "output_type": "stream",
     "text": [
      "The output df#944769 after split\n",
      "Out loop: The new Df size is 944769\n"
     ]
    },
    {
     "name": "stderr",
     "output_type": "stream",
     "text": [
      "2018-09-09 16:34:01,027 util_log.py[34] INFO cost:11.54 sec: ==='split_days_all' end ([], {}) \n",
      "2018-09-09 16:34:01,029 util_log.py[29] INFO Begin to run extend_time with:[], {'span_no': 4}\n"
     ]
    },
    {
     "name": "stdout",
     "output_type": "stream",
     "text": [
      "Try to cal for range#0\n",
      "Try to cal for range#1\n",
      "Try to cal for range#2\n",
      "Try to cal for range#3\n"
     ]
    },
    {
     "name": "stderr",
     "output_type": "stream",
     "text": [
      "2018-09-09 16:35:39,434 util_log.py[34] INFO cost:98.41 sec: ==='extend_time' end ([], {'span_no': 4}) \n",
      "2018-09-09 16:35:39,436 util_log.py[29] INFO Begin to run get_percent_duration with:[['device']], {}\n",
      "2018-09-09 16:35:40,471 util_log.py[34] INFO cost: 1.04 sec: ==='get_percent_duration' end ([['device']], {}) \n",
      "2018-09-09 16:35:40,473 util_log.py[29] INFO Begin to run get_max_week with:[], {}\n",
      "2018-09-09 16:35:41,135 util_log.py[34] INFO cost: 0.66 sec: ==='get_max_week' end ([], {}) \n",
      "2018-09-09 16:35:41,351 util_log.py[29] INFO Begin to run get_percent_duration with:[['device']], {'prefix': 'max'}\n",
      "2018-09-09 16:35:41,718 util_log.py[34] INFO cost: 0.37 sec: ==='get_percent_duration' end ([['device']], {'prefix': 'max'}) \n",
      "2018-09-09 16:35:41,734 util_log.py[29] INFO Begin to run get_start_closed with:[], {}\n"
     ]
    },
    {
     "name": "stdout",
     "output_type": "stream",
     "text": [
      "Try to summary file:./output/start_close/deviceid_package_start_close_40_22_20715335_21656025.csv\n",
      "Sort the df#940690 by device(begin)\n"
     ]
    },
    {
     "name": "stderr",
     "output_type": "stream",
     "text": [
      "2018-09-09 16:35:43,206 util_log.py[34] INFO cost: 1.47 sec: ==='get_start_closed' end ([], {}) \n",
      "2018-09-09 16:35:43,207 util_log.py[29] INFO Begin to run split_days_all with:[], {}\n"
     ]
    },
    {
     "name": "stdout",
     "output_type": "stream",
     "text": [
      "Sort the df by device(end)\n",
      "Remove 0 records data\n"
     ]
    },
    {
     "name": "stderr",
     "output_type": "stream",
     "text": [
      "2018-09-09 16:35:46,783 util_log.py[29] INFO Begin to run split_days with:[], {}\n"
     ]
    },
    {
     "name": "stdout",
     "output_type": "stream",
     "text": [
      "Out loop: The original Df size is 940690\n",
      "The input df#940690 before split\n"
     ]
    },
    {
     "name": "stderr",
     "output_type": "stream",
     "text": [
      "2018-09-09 16:35:47,042 util_log.py[29] INFO Begin to run split_days with:[], {}\n",
      "2018-09-09 16:35:47,207 util_log.py[29] INFO Begin to run split_days with:[], {}\n"
     ]
    },
    {
     "name": "stdout",
     "output_type": "stream",
     "text": [
      "The input df#1275 before split\n",
      "The input df#892 before split\n"
     ]
    },
    {
     "name": "stderr",
     "output_type": "stream",
     "text": [
      "2018-09-09 16:35:47,371 util_log.py[29] INFO Begin to run split_days with:[], {}\n",
      "2018-09-09 16:35:47,529 util_log.py[29] INFO Begin to run split_days with:[], {}\n"
     ]
    },
    {
     "name": "stdout",
     "output_type": "stream",
     "text": [
      "The input df#494 before split\n",
      "The input df#324 before split\n"
     ]
    },
    {
     "name": "stderr",
     "output_type": "stream",
     "text": [
      "2018-09-09 16:35:47,682 util_log.py[29] INFO Begin to run split_days with:[], {}\n",
      "2018-09-09 16:35:47,839 util_log.py[29] INFO Begin to run split_days with:[], {}\n",
      "2018-09-09 16:35:47,992 util_log.py[29] INFO Begin to run split_days with:[], {}\n"
     ]
    },
    {
     "name": "stdout",
     "output_type": "stream",
     "text": [
      "The input df#236 before split\n",
      "The input df#179 before split\n"
     ]
    },
    {
     "name": "stderr",
     "output_type": "stream",
     "text": [
      "2018-09-09 16:35:48,143 util_log.py[29] INFO Begin to run split_days with:[], {}\n",
      "2018-09-09 16:35:48,291 util_log.py[29] INFO Begin to run split_days with:[], {}\n"
     ]
    },
    {
     "name": "stdout",
     "output_type": "stream",
     "text": [
      "The input df#140 before split\n",
      "The input df#115 before split\n"
     ]
    },
    {
     "name": "stderr",
     "output_type": "stream",
     "text": [
      "2018-09-09 16:35:48,439 util_log.py[29] INFO Begin to run split_days with:[], {}\n",
      "2018-09-09 16:35:48,592 util_log.py[29] INFO Begin to run split_days with:[], {}\n"
     ]
    },
    {
     "name": "stdout",
     "output_type": "stream",
     "text": [
      "The input df#83 before split\n",
      "The input df#53 before split\n",
      "The input df#42 before split"
     ]
    },
    {
     "name": "stderr",
     "output_type": "stream",
     "text": [
      "2018-09-09 16:35:48,750 util_log.py[29] INFO Begin to run split_days with:[], {}\n",
      "2018-09-09 16:35:48,900 util_log.py[29] INFO Begin to run split_days with:[], {}\n",
      "2018-09-09 16:35:49,042 util_log.py[29] INFO Begin to run split_days with:[], {}\n",
      "2018-09-09 16:35:49,045 util_log.py[34] INFO cost: 0.00 sec: ==='split_days' end ([], {}) \n",
      "2018-09-09 16:35:49,049 util_log.py[34] INFO cost: 0.15 sec: ==='split_days' end ([], {}) \n",
      "2018-09-09 16:35:49,052 util_log.py[34] INFO cost: 0.30 sec: ==='split_days' end ([], {}) \n",
      "2018-09-09 16:35:49,056 util_log.py[34] INFO cost: 0.46 sec: ==='split_days' end ([], {}) \n",
      "2018-09-09 16:35:49,058 util_log.py[34] INFO cost: 0.62 sec: ==='split_days' end ([], {}) \n",
      "2018-09-09 16:35:49,062 util_log.py[34] INFO cost: 0.77 sec: ==='split_days' end ([], {}) \n",
      "2018-09-09 16:35:49,065 util_log.py[34] INFO cost: 0.92 sec: ==='split_days' end ([], {}) \n",
      "2018-09-09 16:35:49,068 util_log.py[34] INFO cost: 1.08 sec: ==='split_days' end ([], {}) \n",
      "2018-09-09 16:35:49,071 util_log.py[34] INFO cost: 1.23 sec: ==='split_days' end ([], {}) \n",
      "2018-09-09 16:35:49,074 util_log.py[34] INFO cost: 1.39 sec: ==='split_days' end ([], {}) \n",
      "2018-09-09 16:35:49,077 util_log.py[34] INFO cost: 1.55 sec: ==='split_days' end ([], {}) \n",
      "2018-09-09 16:35:49,080 util_log.py[34] INFO cost: 1.71 sec: ==='split_days' end ([], {}) \n",
      "2018-09-09 16:35:49,083 util_log.py[34] INFO cost: 1.88 sec: ==='split_days' end ([], {}) \n",
      "2018-09-09 16:35:49,087 util_log.py[34] INFO cost: 2.04 sec: ==='split_days' end ([], {}) \n"
     ]
    },
    {
     "name": "stdout",
     "output_type": "stream",
     "text": [
      "\n",
      "The input df#28 before split\n",
      "The input df#12 before split\n",
      "The input df#8 before split\n",
      "The output df#20 after split\n",
      "The output df#48 after split\n",
      "The output df#90 after split\n",
      "The output df#143 after split\n",
      "The output df#226 after split\n",
      "The output df#341 after split\n",
      "The output df#481 after split\n",
      "The output df#660 after split\n",
      "The output df#896 after split\n",
      "The output df#1220 after split\n",
      "The output df#1714 after split\n",
      "The output df#2606 after split\n",
      "The output df#3881 after split\n"
     ]
    },
    {
     "name": "stderr",
     "output_type": "stream",
     "text": [
      "2018-09-09 16:35:49,156 util_log.py[34] INFO cost: 2.37 sec: ==='split_days' end ([], {}) \n"
     ]
    },
    {
     "name": "stdout",
     "output_type": "stream",
     "text": [
      "The output df#944571 after split\n",
      "Out loop: The new Df size is 944571\n"
     ]
    },
    {
     "name": "stderr",
     "output_type": "stream",
     "text": [
      "2018-09-09 16:35:54,667 util_log.py[34] INFO cost:11.46 sec: ==='split_days_all' end ([], {}) \n",
      "2018-09-09 16:35:54,669 util_log.py[29] INFO Begin to run extend_time with:[], {'span_no': 4}\n"
     ]
    },
    {
     "name": "stdout",
     "output_type": "stream",
     "text": [
      "Try to cal for range#0\n",
      "Try to cal for range#1\n",
      "Try to cal for range#2\n",
      "Try to cal for range#3\n"
     ]
    },
    {
     "name": "stderr",
     "output_type": "stream",
     "text": [
      "2018-09-09 16:37:31,966 util_log.py[34] INFO cost:97.30 sec: ==='extend_time' end ([], {'span_no': 4}) \n",
      "2018-09-09 16:37:31,968 util_log.py[29] INFO Begin to run get_percent_duration with:[['device']], {}\n",
      "2018-09-09 16:37:32,989 util_log.py[34] INFO cost: 1.02 sec: ==='get_percent_duration' end ([['device']], {}) \n",
      "2018-09-09 16:37:32,991 util_log.py[29] INFO Begin to run get_max_week with:[], {}\n",
      "2018-09-09 16:37:33,648 util_log.py[34] INFO cost: 0.66 sec: ==='get_max_week' end ([], {}) \n",
      "2018-09-09 16:37:33,865 util_log.py[29] INFO Begin to run get_percent_duration with:[['device']], {'prefix': 'max'}\n",
      "2018-09-09 16:37:34,221 util_log.py[34] INFO cost: 0.36 sec: ==='get_percent_duration' end ([['device']], {'prefix': 'max'}) \n",
      "2018-09-09 16:37:34,235 util_log.py[29] INFO Begin to run get_start_closed with:[], {}\n"
     ]
    },
    {
     "name": "stdout",
     "output_type": "stream",
     "text": [
      "Try to summary file:./output/start_close/deviceid_package_start_close_40_21_19772995_20715335.csv\n",
      "Sort the df#942340 by device(begin)\n",
      "Sort the df by device(end)\n",
      "Remove 3 records data\n"
     ]
    },
    {
     "name": "stderr",
     "output_type": "stream",
     "text": [
      "2018-09-09 16:37:35,795 util_log.py[34] INFO cost: 1.56 sec: ==='get_start_closed' end ([], {}) \n",
      "2018-09-09 16:37:35,797 util_log.py[29] INFO Begin to run split_days_all with:[], {}\n",
      "2018-09-09 16:37:39,271 util_log.py[29] INFO Begin to run split_days with:[], {}\n"
     ]
    },
    {
     "name": "stdout",
     "output_type": "stream",
     "text": [
      "Out loop: The original Df size is 942337\n",
      "The input df#942337 before split\n"
     ]
    },
    {
     "name": "stderr",
     "output_type": "stream",
     "text": [
      "2018-09-09 16:37:39,523 util_log.py[29] INFO Begin to run split_days with:[], {}\n",
      "2018-09-09 16:37:39,685 util_log.py[29] INFO Begin to run split_days with:[], {}\n"
     ]
    },
    {
     "name": "stdout",
     "output_type": "stream",
     "text": [
      "The input df#1239 before split\n"
     ]
    },
    {
     "name": "stderr",
     "output_type": "stream",
     "text": [
      "2018-09-09 16:37:39,842 util_log.py[29] INFO Begin to run split_days with:[], {}\n",
      "2018-09-09 16:37:39,994 util_log.py[29] INFO Begin to run split_days with:[], {}\n"
     ]
    },
    {
     "name": "stdout",
     "output_type": "stream",
     "text": [
      "The input df#853 before split\n",
      "The input df#478 before split\n",
      "The input df#323 before split\n"
     ]
    },
    {
     "name": "stderr",
     "output_type": "stream",
     "text": [
      "2018-09-09 16:37:40,151 util_log.py[29] INFO Begin to run split_days with:[], {}\n",
      "2018-09-09 16:37:40,303 util_log.py[29] INFO Begin to run split_days with:[], {}\n",
      "2018-09-09 16:37:40,456 util_log.py[29] INFO Begin to run split_days with:[], {}\n"
     ]
    },
    {
     "name": "stdout",
     "output_type": "stream",
     "text": [
      "The input df#241 before split\n",
      "The input df#179 before split\n",
      "The input df#139 before split"
     ]
    },
    {
     "name": "stderr",
     "output_type": "stream",
     "text": [
      "2018-09-09 16:37:40,608 util_log.py[29] INFO Begin to run split_days with:[], {}\n",
      "2018-09-09 16:37:40,764 util_log.py[29] INFO Begin to run split_days with:[], {}\n",
      "2018-09-09 16:37:40,919 util_log.py[29] INFO Begin to run split_days with:[], {}\n"
     ]
    },
    {
     "name": "stdout",
     "output_type": "stream",
     "text": [
      "\n",
      "The input df#113 before split\n",
      "The input df#75 before split\n"
     ]
    },
    {
     "name": "stderr",
     "output_type": "stream",
     "text": [
      "2018-09-09 16:37:41,067 util_log.py[29] INFO Begin to run split_days with:[], {}\n",
      "2018-09-09 16:37:41,217 util_log.py[29] INFO Begin to run split_days with:[], {}\n",
      "2018-09-09 16:37:41,374 util_log.py[29] INFO Begin to run split_days with:[], {}\n"
     ]
    },
    {
     "name": "stdout",
     "output_type": "stream",
     "text": [
      "The input df#52 before split\n",
      "The input df#30 before split\n",
      "The input df#23 before split\n",
      "The input df#16 before split\n"
     ]
    },
    {
     "name": "stderr",
     "output_type": "stream",
     "text": [
      "2018-09-09 16:37:41,527 util_log.py[29] INFO Begin to run split_days with:[], {}\n",
      "2018-09-09 16:37:41,530 util_log.py[34] INFO cost: 0.00 sec: ==='split_days' end ([], {}) \n",
      "2018-09-09 16:37:41,534 util_log.py[34] INFO cost: 0.16 sec: ==='split_days' end ([], {}) \n",
      "2018-09-09 16:37:41,537 util_log.py[34] INFO cost: 0.32 sec: ==='split_days' end ([], {}) \n",
      "2018-09-09 16:37:41,540 util_log.py[34] INFO cost: 0.47 sec: ==='split_days' end ([], {}) \n",
      "2018-09-09 16:37:41,543 util_log.py[34] INFO cost: 0.62 sec: ==='split_days' end ([], {}) \n",
      "2018-09-09 16:37:41,547 util_log.py[34] INFO cost: 0.78 sec: ==='split_days' end ([], {}) \n",
      "2018-09-09 16:37:41,550 util_log.py[34] INFO cost: 0.94 sec: ==='split_days' end ([], {}) \n",
      "2018-09-09 16:37:41,552 util_log.py[34] INFO cost: 1.10 sec: ==='split_days' end ([], {}) \n",
      "2018-09-09 16:37:41,556 util_log.py[34] INFO cost: 1.25 sec: ==='split_days' end ([], {}) \n",
      "2018-09-09 16:37:41,558 util_log.py[34] INFO cost: 1.41 sec: ==='split_days' end ([], {}) \n",
      "2018-09-09 16:37:41,562 util_log.py[34] INFO cost: 1.57 sec: ==='split_days' end ([], {}) \n",
      "2018-09-09 16:37:41,565 util_log.py[34] INFO cost: 1.72 sec: ==='split_days' end ([], {}) \n",
      "2018-09-09 16:37:41,568 util_log.py[34] INFO cost: 1.88 sec: ==='split_days' end ([], {}) \n",
      "2018-09-09 16:37:41,571 util_log.py[34] INFO cost: 2.05 sec: ==='split_days' end ([], {}) \n",
      "2018-09-09 16:37:41,640 util_log.py[34] INFO cost: 2.37 sec: ==='split_days' end ([], {}) \n"
     ]
    },
    {
     "name": "stdout",
     "output_type": "stream",
     "text": [
      "The input df#10 before split\n",
      "The output df#26 after split\n",
      "The output df#49 after split\n",
      "The output df#79 after split\n",
      "The output df#131 after split\n",
      "The output df#206 after split\n",
      "The output df#319 after split\n",
      "The output df#458 after split\n",
      "The output df#637 after split\n",
      "The output df#878 after split\n",
      "The output df#1201 after split\n",
      "The output df#1679 after split\n",
      "The output df#2532 after split\n",
      "The output df#3771 after split\n",
      "The output df#946108 after split\n",
      "Out loop: The new Df size is 946108\n"
     ]
    },
    {
     "name": "stderr",
     "output_type": "stream",
     "text": [
      "2018-09-09 16:37:47,009 util_log.py[34] INFO cost:11.21 sec: ==='split_days_all' end ([], {}) \n",
      "2018-09-09 16:37:47,010 util_log.py[29] INFO Begin to run extend_time with:[], {'span_no': 4}\n"
     ]
    },
    {
     "name": "stdout",
     "output_type": "stream",
     "text": [
      "Try to cal for range#0\n",
      "Try to cal for range#1\n",
      "Try to cal for range#2\n",
      "Try to cal for range#3\n"
     ]
    },
    {
     "name": "stderr",
     "output_type": "stream",
     "text": [
      "2018-09-09 16:39:29,543 util_log.py[34] INFO cost:102.53 sec: ==='extend_time' end ([], {'span_no': 4}) \n",
      "2018-09-09 16:39:29,551 util_log.py[29] INFO Begin to run get_percent_duration with:[['device']], {}\n",
      "2018-09-09 16:39:30,587 util_log.py[34] INFO cost: 1.04 sec: ==='get_percent_duration' end ([['device']], {}) \n",
      "2018-09-09 16:39:30,588 util_log.py[29] INFO Begin to run get_max_week with:[], {}\n",
      "2018-09-09 16:39:31,257 util_log.py[34] INFO cost: 0.67 sec: ==='get_max_week' end ([], {}) \n",
      "2018-09-09 16:39:31,485 util_log.py[29] INFO Begin to run get_percent_duration with:[['device']], {'prefix': 'max'}\n",
      "2018-09-09 16:39:31,858 util_log.py[34] INFO cost: 0.37 sec: ==='get_percent_duration' end ([['device']], {'prefix': 'max'}) \n",
      "2018-09-09 16:39:31,873 util_log.py[29] INFO Begin to run get_start_closed with:[], {}\n"
     ]
    },
    {
     "name": "stdout",
     "output_type": "stream",
     "text": [
      "Try to summary file:./output/start_close/deviceid_package_start_close_40_20_18835616_19772995.csv\n",
      "Sort the df#937379 by device(begin)\n",
      "Sort the df by device(end)\n",
      "Remove 4 records data\n"
     ]
    },
    {
     "name": "stderr",
     "output_type": "stream",
     "text": [
      "2018-09-09 16:39:33,482 util_log.py[34] INFO cost: 1.61 sec: ==='get_start_closed' end ([], {}) \n",
      "2018-09-09 16:39:33,484 util_log.py[29] INFO Begin to run split_days_all with:[], {}\n",
      "2018-09-09 16:39:36,995 util_log.py[29] INFO Begin to run split_days with:[], {}\n"
     ]
    },
    {
     "name": "stdout",
     "output_type": "stream",
     "text": [
      "Out loop: The original Df size is 937375\n",
      "The input df#937375 before split\n"
     ]
    },
    {
     "name": "stderr",
     "output_type": "stream",
     "text": [
      "2018-09-09 16:39:37,257 util_log.py[29] INFO Begin to run split_days with:[], {}\n",
      "2018-09-09 16:39:37,431 util_log.py[29] INFO Begin to run split_days with:[], {}\n"
     ]
    },
    {
     "name": "stdout",
     "output_type": "stream",
     "text": [
      "The input df#1285 before split\n",
      "The input df#858 before split\n"
     ]
    },
    {
     "name": "stderr",
     "output_type": "stream",
     "text": [
      "2018-09-09 16:39:37,596 util_log.py[29] INFO Begin to run split_days with:[], {}\n",
      "2018-09-09 16:39:37,756 util_log.py[29] INFO Begin to run split_days with:[], {}\n"
     ]
    },
    {
     "name": "stdout",
     "output_type": "stream",
     "text": [
      "The input df#473 before split\n",
      "The input df#315 before split"
     ]
    },
    {
     "name": "stderr",
     "output_type": "stream",
     "text": [
      "2018-09-09 16:39:37,923 util_log.py[29] INFO Begin to run split_days with:[], {}\n",
      "2018-09-09 16:39:38,085 util_log.py[29] INFO Begin to run split_days with:[], {}\n",
      "2018-09-09 16:39:38,240 util_log.py[29] INFO Begin to run split_days with:[], {}\n"
     ]
    },
    {
     "name": "stdout",
     "output_type": "stream",
     "text": [
      "\n",
      "The input df#222 before split\n",
      "The input df#167 before split\n",
      "The input df#127 before split"
     ]
    },
    {
     "name": "stderr",
     "output_type": "stream",
     "text": [
      "2018-09-09 16:39:38,408 util_log.py[29] INFO Begin to run split_days with:[], {}\n",
      "2018-09-09 16:39:38,581 util_log.py[29] INFO Begin to run split_days with:[], {}\n",
      "2018-09-09 16:39:38,738 util_log.py[29] INFO Begin to run split_days with:[], {}\n"
     ]
    },
    {
     "name": "stdout",
     "output_type": "stream",
     "text": [
      "\n",
      "The input df#106 before split\n",
      "The input df#70 before split\n",
      "The input df#45 before split"
     ]
    },
    {
     "name": "stderr",
     "output_type": "stream",
     "text": [
      "2018-09-09 16:39:38,906 util_log.py[29] INFO Begin to run split_days with:[], {}\n",
      "2018-09-09 16:39:39,069 util_log.py[29] INFO Begin to run split_days with:[], {}\n",
      "2018-09-09 16:39:39,211 util_log.py[29] INFO Begin to run split_days with:[], {}\n"
     ]
    },
    {
     "name": "stdout",
     "output_type": "stream",
     "text": [
      "\n",
      "The input df#30 before split\n",
      "The input df#19 before split\n"
     ]
    },
    {
     "name": "stderr",
     "output_type": "stream",
     "text": [
      "2018-09-09 16:39:39,361 util_log.py[29] INFO Begin to run split_days with:[], {}\n",
      "2018-09-09 16:39:39,366 util_log.py[34] INFO cost: 0.00 sec: ==='split_days' end ([], {}) \n",
      "2018-09-09 16:39:39,371 util_log.py[34] INFO cost: 0.16 sec: ==='split_days' end ([], {}) \n",
      "2018-09-09 16:39:39,375 util_log.py[34] INFO cost: 0.31 sec: ==='split_days' end ([], {}) \n",
      "2018-09-09 16:39:39,378 util_log.py[34] INFO cost: 0.47 sec: ==='split_days' end ([], {}) \n",
      "2018-09-09 16:39:39,381 util_log.py[34] INFO cost: 0.64 sec: ==='split_days' end ([], {}) \n",
      "2018-09-09 16:39:39,385 util_log.py[34] INFO cost: 0.80 sec: ==='split_days' end ([], {}) \n",
      "2018-09-09 16:39:39,388 util_log.py[34] INFO cost: 0.98 sec: ==='split_days' end ([], {}) \n",
      "2018-09-09 16:39:39,391 util_log.py[34] INFO cost: 1.15 sec: ==='split_days' end ([], {}) \n",
      "2018-09-09 16:39:39,394 util_log.py[34] INFO cost: 1.31 sec: ==='split_days' end ([], {}) \n",
      "2018-09-09 16:39:39,398 util_log.py[34] INFO cost: 1.47 sec: ==='split_days' end ([], {}) \n",
      "2018-09-09 16:39:39,401 util_log.py[34] INFO cost: 1.64 sec: ==='split_days' end ([], {}) \n",
      "2018-09-09 16:39:39,404 util_log.py[34] INFO cost: 1.81 sec: ==='split_days' end ([], {}) \n",
      "2018-09-09 16:39:39,407 util_log.py[34] INFO cost: 1.98 sec: ==='split_days' end ([], {}) \n",
      "2018-09-09 16:39:39,410 util_log.py[34] INFO cost: 2.15 sec: ==='split_days' end ([], {}) \n",
      "2018-09-09 16:39:39,484 util_log.py[34] INFO cost: 2.49 sec: ==='split_days' end ([], {}) \n"
     ]
    },
    {
     "name": "stdout",
     "output_type": "stream",
     "text": [
      "The input df#16 before split\n",
      "The input df#9 before split\n",
      "The output df#25 after split\n",
      "The output df#44 after split\n",
      "The output df#74 after split\n",
      "The output df#119 after split\n",
      "The output df#189 after split\n",
      "The output df#295 after split\n",
      "The output df#422 after split\n",
      "The output df#589 after split\n",
      "The output df#811 after split\n",
      "The output df#1126 after split\n",
      "The output df#1599 after split\n",
      "The output df#2457 after split\n",
      "The output df#3742 after split\n",
      "The output df#941117 after split\n",
      "Out loop: The new Df size is 941117\n"
     ]
    },
    {
     "name": "stderr",
     "output_type": "stream",
     "text": [
      "2018-09-09 16:39:45,126 util_log.py[34] INFO cost:11.64 sec: ==='split_days_all' end ([], {}) \n",
      "2018-09-09 16:39:45,128 util_log.py[29] INFO Begin to run extend_time with:[], {'span_no': 4}\n"
     ]
    },
    {
     "name": "stdout",
     "output_type": "stream",
     "text": [
      "Try to cal for range#0\n",
      "Try to cal for range#1\n",
      "Try to cal for range#2\n",
      "Try to cal for range#3\n"
     ]
    },
    {
     "name": "stderr",
     "output_type": "stream",
     "text": [
      "2018-09-09 16:41:28,005 util_log.py[34] INFO cost:102.88 sec: ==='extend_time' end ([], {'span_no': 4}) \n",
      "2018-09-09 16:41:28,013 util_log.py[29] INFO Begin to run get_percent_duration with:[['device']], {}\n",
      "2018-09-09 16:41:29,037 util_log.py[34] INFO cost: 1.02 sec: ==='get_percent_duration' end ([['device']], {}) \n",
      "2018-09-09 16:41:29,038 util_log.py[29] INFO Begin to run get_max_week with:[], {}\n",
      "2018-09-09 16:41:29,695 util_log.py[34] INFO cost: 0.66 sec: ==='get_max_week' end ([], {}) \n",
      "2018-09-09 16:41:29,911 util_log.py[29] INFO Begin to run get_percent_duration with:[['device']], {'prefix': 'max'}\n",
      "2018-09-09 16:41:30,276 util_log.py[34] INFO cost: 0.36 sec: ==='get_percent_duration' end ([['device']], {'prefix': 'max'}) \n",
      "2018-09-09 16:41:30,289 util_log.py[29] INFO Begin to run get_start_closed with:[], {}\n"
     ]
    },
    {
     "name": "stdout",
     "output_type": "stream",
     "text": [
      "Try to summary file:./output/start_close/deviceid_package_start_close_40_19_17889682_18835616.csv\n",
      "Sort the df#945934 by device(begin)\n",
      "Sort the df by device(end)\n",
      "Remove 36 records data\n"
     ]
    },
    {
     "name": "stderr",
     "output_type": "stream",
     "text": [
      "2018-09-09 16:41:31,855 util_log.py[34] INFO cost: 1.57 sec: ==='get_start_closed' end ([], {}) \n",
      "2018-09-09 16:41:31,856 util_log.py[29] INFO Begin to run split_days_all with:[], {}\n",
      "2018-09-09 16:41:35,499 util_log.py[29] INFO Begin to run split_days with:[], {}\n"
     ]
    },
    {
     "name": "stdout",
     "output_type": "stream",
     "text": [
      "Out loop: The original Df size is 945898\n",
      "The input df#945898 before split\n"
     ]
    },
    {
     "name": "stderr",
     "output_type": "stream",
     "text": [
      "2018-09-09 16:41:35,761 util_log.py[29] INFO Begin to run split_days with:[], {}\n",
      "2018-09-09 16:41:35,928 util_log.py[29] INFO Begin to run split_days with:[], {}\n"
     ]
    },
    {
     "name": "stdout",
     "output_type": "stream",
     "text": [
      "The input df#1374 before split\n"
     ]
    },
    {
     "name": "stderr",
     "output_type": "stream",
     "text": [
      "2018-09-09 16:41:36,094 util_log.py[29] INFO Begin to run split_days with:[], {}\n",
      "2018-09-09 16:41:36,253 util_log.py[29] INFO Begin to run split_days with:[], {}\n",
      "2018-09-09 16:41:36,410 util_log.py[29] INFO Begin to run split_days with:[], {}\n"
     ]
    },
    {
     "name": "stdout",
     "output_type": "stream",
     "text": [
      "The input df#947 before split\n",
      "The input df#523 before split\n",
      "The input df#318 before split\n"
     ]
    },
    {
     "name": "stderr",
     "output_type": "stream",
     "text": [
      "2018-09-09 16:41:36,566 util_log.py[29] INFO Begin to run split_days with:[], {}\n",
      "2018-09-09 16:41:36,724 util_log.py[29] INFO Begin to run split_days with:[], {}\n",
      "2018-09-09 16:41:36,880 util_log.py[29] INFO Begin to run split_days with:[], {}\n"
     ]
    },
    {
     "name": "stdout",
     "output_type": "stream",
     "text": [
      "The input df#239 before split\n",
      "The input df#179 before split\n",
      "The input df#149 before split\n"
     ]
    },
    {
     "name": "stderr",
     "output_type": "stream",
     "text": [
      "2018-09-09 16:41:37,035 util_log.py[29] INFO Begin to run split_days with:[], {}\n",
      "2018-09-09 16:41:37,190 util_log.py[29] INFO Begin to run split_days with:[], {}\n"
     ]
    },
    {
     "name": "stdout",
     "output_type": "stream",
     "text": [
      "The input df#127 before split\n",
      "The input df#85 before split\n",
      "The input df#59 before split\n"
     ]
    },
    {
     "name": "stderr",
     "output_type": "stream",
     "text": [
      "2018-09-09 16:41:37,342 util_log.py[29] INFO Begin to run split_days with:[], {}\n",
      "2018-09-09 16:41:37,490 util_log.py[29] INFO Begin to run split_days with:[], {}\n",
      "2018-09-09 16:41:37,642 util_log.py[29] INFO Begin to run split_days with:[], {}\n"
     ]
    },
    {
     "name": "stdout",
     "output_type": "stream",
     "text": [
      "The input df#33 before split\n",
      "The input df#20 before split\n"
     ]
    },
    {
     "name": "stderr",
     "output_type": "stream",
     "text": [
      "2018-09-09 16:41:37,794 util_log.py[29] INFO Begin to run split_days with:[], {}\n",
      "2018-09-09 16:41:37,798 util_log.py[34] INFO cost: 0.00 sec: ==='split_days' end ([], {}) \n",
      "2018-09-09 16:41:37,803 util_log.py[34] INFO cost: 0.16 sec: ==='split_days' end ([], {}) \n",
      "2018-09-09 16:41:37,806 util_log.py[34] INFO cost: 0.32 sec: ==='split_days' end ([], {}) \n",
      "2018-09-09 16:41:37,809 util_log.py[34] INFO cost: 0.47 sec: ==='split_days' end ([], {}) \n",
      "2018-09-09 16:41:37,812 util_log.py[34] INFO cost: 0.62 sec: ==='split_days' end ([], {}) \n",
      "2018-09-09 16:41:37,816 util_log.py[34] INFO cost: 0.78 sec: ==='split_days' end ([], {}) \n",
      "2018-09-09 16:41:37,819 util_log.py[34] INFO cost: 0.94 sec: ==='split_days' end ([], {}) \n",
      "2018-09-09 16:41:37,822 util_log.py[34] INFO cost: 1.10 sec: ==='split_days' end ([], {}) \n",
      "2018-09-09 16:41:37,825 util_log.py[34] INFO cost: 1.26 sec: ==='split_days' end ([], {}) \n",
      "2018-09-09 16:41:37,828 util_log.py[34] INFO cost: 1.42 sec: ==='split_days' end ([], {}) \n",
      "2018-09-09 16:41:37,831 util_log.py[34] INFO cost: 1.58 sec: ==='split_days' end ([], {}) \n",
      "2018-09-09 16:41:37,835 util_log.py[34] INFO cost: 1.74 sec: ==='split_days' end ([], {}) \n",
      "2018-09-09 16:41:37,838 util_log.py[34] INFO cost: 1.91 sec: ==='split_days' end ([], {}) \n",
      "2018-09-09 16:41:37,841 util_log.py[34] INFO cost: 2.08 sec: ==='split_days' end ([], {}) \n",
      "2018-09-09 16:41:37,914 util_log.py[34] INFO cost: 2.42 sec: ==='split_days' end ([], {}) \n"
     ]
    },
    {
     "name": "stdout",
     "output_type": "stream",
     "text": [
      "The input df#9 before split\n",
      "The input df#3 before split\n",
      "The output df#12 after split\n",
      "The output df#32 after split\n",
      "The output df#65 after split\n",
      "The output df#124 after split\n",
      "The output df#209 after split\n",
      "The output df#336 after split\n",
      "The output df#485 after split\n",
      "The output df#664 after split\n",
      "The output df#903 after split\n",
      "The output df#1221 after split\n",
      "The output df#1744 after split\n",
      "The output df#2691 after split\n",
      "The output df#4065 after split\n",
      "The output df#949963 after split\n",
      "Out loop: The new Df size is 949963\n"
     ]
    },
    {
     "name": "stderr",
     "output_type": "stream",
     "text": [
      "2018-09-09 16:41:43,679 util_log.py[34] INFO cost:11.82 sec: ==='split_days_all' end ([], {}) \n",
      "2018-09-09 16:41:43,681 util_log.py[29] INFO Begin to run extend_time with:[], {'span_no': 4}\n"
     ]
    },
    {
     "name": "stdout",
     "output_type": "stream",
     "text": [
      "Try to cal for range#0\n",
      "Try to cal for range#1\n",
      "Try to cal for range#2\n",
      "Try to cal for range#3\n"
     ]
    },
    {
     "name": "stderr",
     "output_type": "stream",
     "text": [
      "2018-09-09 16:43:21,269 util_log.py[34] INFO cost:97.59 sec: ==='extend_time' end ([], {'span_no': 4}) \n",
      "2018-09-09 16:43:21,271 util_log.py[29] INFO Begin to run get_percent_duration with:[['device']], {}\n",
      "2018-09-09 16:43:22,303 util_log.py[34] INFO cost: 1.03 sec: ==='get_percent_duration' end ([['device']], {}) \n",
      "2018-09-09 16:43:22,305 util_log.py[29] INFO Begin to run get_max_week with:[], {}\n",
      "2018-09-09 16:43:22,983 util_log.py[34] INFO cost: 0.68 sec: ==='get_max_week' end ([], {}) \n",
      "2018-09-09 16:43:23,200 util_log.py[29] INFO Begin to run get_percent_duration with:[['device']], {'prefix': 'max'}\n",
      "2018-09-09 16:43:23,557 util_log.py[34] INFO cost: 0.36 sec: ==='get_percent_duration' end ([['device']], {'prefix': 'max'}) \n",
      "2018-09-09 16:43:23,571 util_log.py[29] INFO Begin to run get_start_closed with:[], {}\n"
     ]
    },
    {
     "name": "stdout",
     "output_type": "stream",
     "text": [
      "Try to summary file:./output/start_close/deviceid_package_start_close_40_18_16948183_17889682.csv\n",
      "Sort the df#941499 by device(begin)\n",
      "Sort the df by device(end)\n",
      "Remove 5 records data\n"
     ]
    },
    {
     "name": "stderr",
     "output_type": "stream",
     "text": [
      "2018-09-09 16:43:25,124 util_log.py[34] INFO cost: 1.55 sec: ==='get_start_closed' end ([], {}) \n",
      "2018-09-09 16:43:25,125 util_log.py[29] INFO Begin to run split_days_all with:[], {}\n",
      "2018-09-09 16:43:28,686 util_log.py[29] INFO Begin to run split_days with:[], {}\n"
     ]
    },
    {
     "name": "stdout",
     "output_type": "stream",
     "text": [
      "Out loop: The original Df size is 941494\n",
      "The input df#941494 before split\n"
     ]
    },
    {
     "name": "stderr",
     "output_type": "stream",
     "text": [
      "2018-09-09 16:43:28,956 util_log.py[29] INFO Begin to run split_days with:[], {}\n",
      "2018-09-09 16:43:29,126 util_log.py[29] INFO Begin to run split_days with:[], {}\n"
     ]
    },
    {
     "name": "stdout",
     "output_type": "stream",
     "text": [
      "The input df#1341 before split\n",
      "The input df#883 before split\n"
     ]
    },
    {
     "name": "stderr",
     "output_type": "stream",
     "text": [
      "2018-09-09 16:43:29,292 util_log.py[29] INFO Begin to run split_days with:[], {}\n",
      "2018-09-09 16:43:29,452 util_log.py[29] INFO Begin to run split_days with:[], {}\n",
      "2018-09-09 16:43:29,608 util_log.py[29] INFO Begin to run split_days with:[], {}\n"
     ]
    },
    {
     "name": "stdout",
     "output_type": "stream",
     "text": [
      "The input df#477 before split\n",
      "The input df#311 before split\n",
      "The input df#216 before split"
     ]
    },
    {
     "name": "stderr",
     "output_type": "stream",
     "text": [
      "2018-09-09 16:43:29,770 util_log.py[29] INFO Begin to run split_days with:[], {}\n",
      "2018-09-09 16:43:29,927 util_log.py[29] INFO Begin to run split_days with:[], {}\n"
     ]
    },
    {
     "name": "stdout",
     "output_type": "stream",
     "text": [
      "\n",
      "The input df#167 before split\n",
      "The input df#134 before split\n"
     ]
    },
    {
     "name": "stderr",
     "output_type": "stream",
     "text": [
      "2018-09-09 16:43:30,084 util_log.py[29] INFO Begin to run split_days with:[], {}\n",
      "2018-09-09 16:43:30,241 util_log.py[29] INFO Begin to run split_days with:[], {}\n",
      "2018-09-09 16:43:30,397 util_log.py[29] INFO Begin to run split_days with:[], {}\n"
     ]
    },
    {
     "name": "stdout",
     "output_type": "stream",
     "text": [
      "The input df#113 before split\n",
      "The input df#85 before split\n"
     ]
    },
    {
     "name": "stderr",
     "output_type": "stream",
     "text": [
      "2018-09-09 16:43:30,554 util_log.py[29] INFO Begin to run split_days with:[], {}\n",
      "2018-09-09 16:43:30,722 util_log.py[29] INFO Begin to run split_days with:[], {}\n",
      "2018-09-09 16:43:30,876 util_log.py[29] INFO Begin to run split_days with:[], {}\n"
     ]
    },
    {
     "name": "stdout",
     "output_type": "stream",
     "text": [
      "The input df#67 before split\n",
      "The input df#50 before split\n",
      "The input df#34 before split\n"
     ]
    },
    {
     "name": "stderr",
     "output_type": "stream",
     "text": [
      "2018-09-09 16:43:31,034 util_log.py[29] INFO Begin to run split_days with:[], {}\n",
      "2018-09-09 16:43:31,037 util_log.py[34] INFO cost: 0.00 sec: ==='split_days' end ([], {}) \n",
      "2018-09-09 16:43:31,040 util_log.py[34] INFO cost: 0.16 sec: ==='split_days' end ([], {}) \n",
      "2018-09-09 16:43:31,044 util_log.py[34] INFO cost: 0.32 sec: ==='split_days' end ([], {}) \n",
      "2018-09-09 16:43:31,047 util_log.py[34] INFO cost: 0.49 sec: ==='split_days' end ([], {}) \n",
      "2018-09-09 16:43:31,051 util_log.py[34] INFO cost: 0.65 sec: ==='split_days' end ([], {}) \n",
      "2018-09-09 16:43:31,054 util_log.py[34] INFO cost: 0.81 sec: ==='split_days' end ([], {}) \n",
      "2018-09-09 16:43:31,057 util_log.py[34] INFO cost: 0.97 sec: ==='split_days' end ([], {}) \n",
      "2018-09-09 16:43:31,061 util_log.py[34] INFO cost: 1.13 sec: ==='split_days' end ([], {}) \n",
      "2018-09-09 16:43:31,064 util_log.py[34] INFO cost: 1.29 sec: ==='split_days' end ([], {}) \n",
      "2018-09-09 16:43:31,067 util_log.py[34] INFO cost: 1.46 sec: ==='split_days' end ([], {}) \n",
      "2018-09-09 16:43:31,070 util_log.py[34] INFO cost: 1.62 sec: ==='split_days' end ([], {}) \n",
      "2018-09-09 16:43:31,074 util_log.py[34] INFO cost: 1.78 sec: ==='split_days' end ([], {}) \n",
      "2018-09-09 16:43:31,077 util_log.py[34] INFO cost: 1.95 sec: ==='split_days' end ([], {}) \n",
      "2018-09-09 16:43:31,081 util_log.py[34] INFO cost: 2.12 sec: ==='split_days' end ([], {}) \n",
      "2018-09-09 16:43:31,153 util_log.py[34] INFO cost: 2.47 sec: ==='split_days' end ([], {}) \n"
     ]
    },
    {
     "name": "stdout",
     "output_type": "stream",
     "text": [
      "The input df#25 before split\n",
      "The input df#17 before split\n",
      "The output df#42 after split\n",
      "The output df#76 after split\n",
      "The output df#126 after split\n",
      "The output df#193 after split\n",
      "The output df#278 after split\n",
      "The output df#391 after split\n",
      "The output df#525 after split\n",
      "The output df#692 after split\n",
      "The output df#908 after split\n",
      "The output df#1219 after split\n",
      "The output df#1696 after split\n",
      "The output df#2579 after split\n",
      "The output df#3920 after split\n",
      "The output df#945414 after split\n",
      "Out loop: The new Df size is 945414\n"
     ]
    },
    {
     "name": "stderr",
     "output_type": "stream",
     "text": [
      "2018-09-09 16:43:36,757 util_log.py[34] INFO cost:11.63 sec: ==='split_days_all' end ([], {}) \n",
      "2018-09-09 16:43:36,758 util_log.py[29] INFO Begin to run extend_time with:[], {'span_no': 4}\n"
     ]
    },
    {
     "name": "stdout",
     "output_type": "stream",
     "text": [
      "Try to cal for range#0\n",
      "Try to cal for range#1\n",
      "Try to cal for range#2\n",
      "Try to cal for range#3\n"
     ]
    },
    {
     "name": "stderr",
     "output_type": "stream",
     "text": [
      "2018-09-09 16:45:17,956 util_log.py[34] INFO cost:101.20 sec: ==='extend_time' end ([], {'span_no': 4}) \n",
      "2018-09-09 16:45:17,965 util_log.py[29] INFO Begin to run get_percent_duration with:[['device']], {}\n",
      "2018-09-09 16:45:19,098 util_log.py[34] INFO cost: 1.13 sec: ==='get_percent_duration' end ([['device']], {}) \n",
      "2018-09-09 16:45:19,100 util_log.py[29] INFO Begin to run get_max_week with:[], {}\n",
      "2018-09-09 16:45:19,921 util_log.py[34] INFO cost: 0.82 sec: ==='get_max_week' end ([], {}) \n",
      "2018-09-09 16:45:20,431 util_log.py[29] INFO Begin to run get_percent_duration with:[['device']], {'prefix': 'max'}\n",
      "2018-09-09 16:45:20,832 util_log.py[34] INFO cost: 0.40 sec: ==='get_percent_duration' end ([['device']], {'prefix': 'max'}) \n",
      "2018-09-09 16:45:20,847 util_log.py[29] INFO Begin to run get_start_closed with:[], {}\n"
     ]
    },
    {
     "name": "stdout",
     "output_type": "stream",
     "text": [
      "Try to summary file:./output/start_close/deviceid_package_start_close_40_17_16007179_16948183.csv\n",
      "Sort the df#941004 by device(begin)\n",
      "Sort the df by device(end)\n",
      "Remove 5 records data\n"
     ]
    },
    {
     "name": "stderr",
     "output_type": "stream",
     "text": [
      "2018-09-09 16:45:22,712 util_log.py[34] INFO cost: 1.86 sec: ==='get_start_closed' end ([], {}) \n",
      "2018-09-09 16:45:22,714 util_log.py[29] INFO Begin to run split_days_all with:[], {}\n",
      "2018-09-09 16:45:26,488 util_log.py[29] INFO Begin to run split_days with:[], {}\n"
     ]
    },
    {
     "name": "stdout",
     "output_type": "stream",
     "text": [
      "Out loop: The original Df size is 940999\n",
      "The input df#940999 before split\n"
     ]
    },
    {
     "name": "stderr",
     "output_type": "stream",
     "text": [
      "2018-09-09 16:45:26,766 util_log.py[29] INFO Begin to run split_days with:[], {}\n",
      "2018-09-09 16:45:26,958 util_log.py[29] INFO Begin to run split_days with:[], {}\n"
     ]
    },
    {
     "name": "stdout",
     "output_type": "stream",
     "text": [
      "The input df#1273 before split\n",
      "The input df#896 before split"
     ]
    },
    {
     "name": "stderr",
     "output_type": "stream",
     "text": [
      "2018-09-09 16:45:27,159 util_log.py[29] INFO Begin to run split_days with:[], {}\n",
      "2018-09-09 16:45:27,329 util_log.py[29] INFO Begin to run split_days with:[], {}\n"
     ]
    },
    {
     "name": "stdout",
     "output_type": "stream",
     "text": [
      "\n",
      "The input df#464 before split\n"
     ]
    },
    {
     "name": "stderr",
     "output_type": "stream",
     "text": [
      "2018-09-09 16:45:27,488 util_log.py[29] INFO Begin to run split_days with:[], {}\n",
      "2018-09-09 16:45:27,645 util_log.py[29] INFO Begin to run split_days with:[], {}\n",
      "2018-09-09 16:45:27,821 util_log.py[29] INFO Begin to run split_days with:[], {}\n"
     ]
    },
    {
     "name": "stdout",
     "output_type": "stream",
     "text": [
      "The input df#283 before split\n",
      "The input df#184 before split\n",
      "The input df#142 before split\n",
      "The input df#116 before split"
     ]
    },
    {
     "name": "stderr",
     "output_type": "stream",
     "text": [
      "2018-09-09 16:45:27,986 util_log.py[29] INFO Begin to run split_days with:[], {}\n",
      "2018-09-09 16:45:28,163 util_log.py[29] INFO Begin to run split_days with:[], {}\n",
      "2018-09-09 16:45:28,337 util_log.py[29] INFO Begin to run split_days with:[], {}\n"
     ]
    },
    {
     "name": "stdout",
     "output_type": "stream",
     "text": [
      "\n",
      "The input df#95 before split\n",
      "The input df#62 before split\n"
     ]
    },
    {
     "name": "stderr",
     "output_type": "stream",
     "text": [
      "2018-09-09 16:45:28,501 util_log.py[29] INFO Begin to run split_days with:[], {}\n",
      "2018-09-09 16:45:28,685 util_log.py[29] INFO Begin to run split_days with:[], {}\n"
     ]
    },
    {
     "name": "stdout",
     "output_type": "stream",
     "text": [
      "The input df#41 before split\n",
      "The input df#25 before split\n",
      "The input df#16 before split\n"
     ]
    },
    {
     "name": "stderr",
     "output_type": "stream",
     "text": [
      "2018-09-09 16:45:28,858 util_log.py[29] INFO Begin to run split_days with:[], {}\n",
      "2018-09-09 16:45:29,037 util_log.py[29] INFO Begin to run split_days with:[], {}\n",
      "2018-09-09 16:45:29,041 util_log.py[34] INFO cost: 0.00 sec: ==='split_days' end ([], {}) \n",
      "2018-09-09 16:45:29,045 util_log.py[34] INFO cost: 0.19 sec: ==='split_days' end ([], {}) \n",
      "2018-09-09 16:45:29,049 util_log.py[34] INFO cost: 0.36 sec: ==='split_days' end ([], {}) \n",
      "2018-09-09 16:45:29,053 util_log.py[34] INFO cost: 0.55 sec: ==='split_days' end ([], {}) \n",
      "2018-09-09 16:45:29,056 util_log.py[34] INFO cost: 0.72 sec: ==='split_days' end ([], {}) \n",
      "2018-09-09 16:45:29,060 util_log.py[34] INFO cost: 0.90 sec: ==='split_days' end ([], {}) \n",
      "2018-09-09 16:45:29,064 util_log.py[34] INFO cost: 1.08 sec: ==='split_days' end ([], {}) \n",
      "2018-09-09 16:45:29,068 util_log.py[34] INFO cost: 1.25 sec: ==='split_days' end ([], {}) \n",
      "2018-09-09 16:45:29,076 util_log.py[34] INFO cost: 1.43 sec: ==='split_days' end ([], {}) \n",
      "2018-09-09 16:45:29,088 util_log.py[34] INFO cost: 1.60 sec: ==='split_days' end ([], {}) \n",
      "2018-09-09 16:45:29,093 util_log.py[34] INFO cost: 1.76 sec: ==='split_days' end ([], {}) \n",
      "2018-09-09 16:45:29,097 util_log.py[34] INFO cost: 1.94 sec: ==='split_days' end ([], {}) \n",
      "2018-09-09 16:45:29,101 util_log.py[34] INFO cost: 2.14 sec: ==='split_days' end ([], {}) \n",
      "2018-09-09 16:45:29,105 util_log.py[34] INFO cost: 2.34 sec: ==='split_days' end ([], {}) \n"
     ]
    },
    {
     "name": "stdout",
     "output_type": "stream",
     "text": [
      "The input df#8 before split\n",
      "The input df#2 before split\n",
      "The output df#10 after split\n",
      "The output df#26 after split\n",
      "The output df#51 after split\n",
      "The output df#92 after split\n",
      "The output df#154 after split\n",
      "The output df#249 after split\n",
      "The output df#365 after split\n",
      "The output df#507 after split\n",
      "The output df#691 after split\n",
      "The output df#974 after split\n",
      "The output df#1438 after split\n",
      "The output df#2334 after split\n",
      "The output df#3607 after split\n"
     ]
    },
    {
     "name": "stderr",
     "output_type": "stream",
     "text": [
      "2018-09-09 16:45:29,181 util_log.py[34] INFO cost: 2.69 sec: ==='split_days' end ([], {}) \n"
     ]
    },
    {
     "name": "stdout",
     "output_type": "stream",
     "text": [
      "The output df#944606 after split\n",
      "Out loop: The new Df size is 944606\n"
     ]
    },
    {
     "name": "stderr",
     "output_type": "stream",
     "text": [
      "2018-09-09 16:45:34,798 util_log.py[34] INFO cost:12.08 sec: ==='split_days_all' end ([], {}) \n",
      "2018-09-09 16:45:34,800 util_log.py[29] INFO Begin to run extend_time with:[], {'span_no': 4}\n"
     ]
    },
    {
     "name": "stdout",
     "output_type": "stream",
     "text": [
      "Try to cal for range#0\n",
      "Try to cal for range#1\n",
      "Try to cal for range#2\n",
      "Try to cal for range#3\n"
     ]
    },
    {
     "name": "stderr",
     "output_type": "stream",
     "text": [
      "2018-09-09 16:47:17,616 util_log.py[34] INFO cost:102.82 sec: ==='extend_time' end ([], {'span_no': 4}) \n",
      "2018-09-09 16:47:17,618 util_log.py[29] INFO Begin to run get_percent_duration with:[['device']], {}\n",
      "2018-09-09 16:47:18,716 util_log.py[34] INFO cost: 1.10 sec: ==='get_percent_duration' end ([['device']], {}) \n",
      "2018-09-09 16:47:18,717 util_log.py[29] INFO Begin to run get_max_week with:[], {}\n",
      "2018-09-09 16:47:19,555 util_log.py[34] INFO cost: 0.84 sec: ==='get_max_week' end ([], {}) \n",
      "2018-09-09 16:47:19,813 util_log.py[29] INFO Begin to run get_percent_duration with:[['device']], {'prefix': 'max'}\n",
      "2018-09-09 16:47:20,208 util_log.py[34] INFO cost: 0.40 sec: ==='get_percent_duration' end ([['device']], {'prefix': 'max'}) \n",
      "2018-09-09 16:47:20,222 util_log.py[29] INFO Begin to run get_start_closed with:[], {}\n"
     ]
    },
    {
     "name": "stdout",
     "output_type": "stream",
     "text": [
      "Try to summary file:./output/start_close/deviceid_package_start_close_40_16_15065494_16007179.csv\n",
      "Sort the df#941685 by device(begin)\n",
      "Sort the df by device(end)\n",
      "Remove 59 records data\n"
     ]
    },
    {
     "name": "stderr",
     "output_type": "stream",
     "text": [
      "2018-09-09 16:47:21,841 util_log.py[34] INFO cost: 1.62 sec: ==='get_start_closed' end ([], {}) \n",
      "2018-09-09 16:47:21,842 util_log.py[29] INFO Begin to run split_days_all with:[], {}\n",
      "2018-09-09 16:47:26,126 util_log.py[29] INFO Begin to run split_days with:[], {}\n"
     ]
    },
    {
     "name": "stdout",
     "output_type": "stream",
     "text": [
      "Out loop: The original Df size is 941626\n",
      "The input df#941626 before split\n"
     ]
    },
    {
     "name": "stderr",
     "output_type": "stream",
     "text": [
      "2018-09-09 16:47:26,414 util_log.py[29] INFO Begin to run split_days with:[], {}\n",
      "2018-09-09 16:47:26,620 util_log.py[29] INFO Begin to run split_days with:[], {}\n"
     ]
    },
    {
     "name": "stdout",
     "output_type": "stream",
     "text": [
      "The input df#1267 before split\n",
      "The input df#844 before split"
     ]
    },
    {
     "name": "stderr",
     "output_type": "stream",
     "text": [
      "2018-09-09 16:47:26,892 util_log.py[29] INFO Begin to run split_days with:[], {}\n"
     ]
    },
    {
     "name": "stdout",
     "output_type": "stream",
     "text": [
      "\n",
      "The input df#433 before split\n"
     ]
    },
    {
     "name": "stderr",
     "output_type": "stream",
     "text": [
      "2018-09-09 16:47:27,199 util_log.py[29] INFO Begin to run split_days with:[], {}\n",
      "2018-09-09 16:47:27,377 util_log.py[29] INFO Begin to run split_days with:[], {}\n"
     ]
    },
    {
     "name": "stdout",
     "output_type": "stream",
     "text": [
      "The input df#280 before split\n",
      "The input df#198 before split\n"
     ]
    },
    {
     "name": "stderr",
     "output_type": "stream",
     "text": [
      "2018-09-09 16:47:27,771 util_log.py[29] INFO Begin to run split_days with:[], {}\n",
      "2018-09-09 16:47:27,988 util_log.py[29] INFO Begin to run split_days with:[], {}\n"
     ]
    },
    {
     "name": "stdout",
     "output_type": "stream",
     "text": [
      "The input df#151 before split\n",
      "The input df#118 before split\n"
     ]
    },
    {
     "name": "stderr",
     "output_type": "stream",
     "text": [
      "2018-09-09 16:47:28,156 util_log.py[29] INFO Begin to run split_days with:[], {}\n",
      "2018-09-09 16:47:28,332 util_log.py[29] INFO Begin to run split_days with:[], {}\n",
      "2018-09-09 16:47:28,513 util_log.py[29] INFO Begin to run split_days with:[], {}\n"
     ]
    },
    {
     "name": "stdout",
     "output_type": "stream",
     "text": [
      "The input df#98 before split\n",
      "The input df#64 before split\n"
     ]
    },
    {
     "name": "stderr",
     "output_type": "stream",
     "text": [
      "2018-09-09 16:47:28,684 util_log.py[29] INFO Begin to run split_days with:[], {}\n",
      "2018-09-09 16:47:28,848 util_log.py[29] INFO Begin to run split_days with:[], {}\n",
      "2018-09-09 16:47:29,038 util_log.py[29] INFO Begin to run split_days with:[], {}\n"
     ]
    },
    {
     "name": "stdout",
     "output_type": "stream",
     "text": [
      "The input df#50 before split\n",
      "The input df#28 before split\n",
      "The input df#19 before split\n"
     ]
    },
    {
     "name": "stderr",
     "output_type": "stream",
     "text": [
      "2018-09-09 16:47:29,214 util_log.py[29] INFO Begin to run split_days with:[], {}\n",
      "2018-09-09 16:47:29,218 util_log.py[34] INFO cost: 0.00 sec: ==='split_days' end ([], {}) \n",
      "2018-09-09 16:47:29,223 util_log.py[34] INFO cost: 0.18 sec: ==='split_days' end ([], {}) \n",
      "2018-09-09 16:47:29,226 util_log.py[34] INFO cost: 0.38 sec: ==='split_days' end ([], {}) \n",
      "2018-09-09 16:47:29,231 util_log.py[34] INFO cost: 0.55 sec: ==='split_days' end ([], {}) \n",
      "2018-09-09 16:47:29,234 util_log.py[34] INFO cost: 0.72 sec: ==='split_days' end ([], {}) \n",
      "2018-09-09 16:47:29,237 util_log.py[34] INFO cost: 0.91 sec: ==='split_days' end ([], {}) \n",
      "2018-09-09 16:47:29,241 util_log.py[34] INFO cost: 1.09 sec: ==='split_days' end ([], {}) \n",
      "2018-09-09 16:47:29,245 util_log.py[34] INFO cost: 1.26 sec: ==='split_days' end ([], {}) \n",
      "2018-09-09 16:47:29,248 util_log.py[34] INFO cost: 1.48 sec: ==='split_days' end ([], {}) \n",
      "2018-09-09 16:47:29,252 util_log.py[34] INFO cost: 1.87 sec: ==='split_days' end ([], {}) \n",
      "2018-09-09 16:47:29,255 util_log.py[34] INFO cost: 2.06 sec: ==='split_days' end ([], {}) \n",
      "2018-09-09 16:47:29,258 util_log.py[34] INFO cost: 2.37 sec: ==='split_days' end ([], {}) \n",
      "2018-09-09 16:47:29,262 util_log.py[34] INFO cost: 2.64 sec: ==='split_days' end ([], {}) \n",
      "2018-09-09 16:47:29,265 util_log.py[34] INFO cost: 2.85 sec: ==='split_days' end ([], {}) \n",
      "2018-09-09 16:47:29,342 util_log.py[34] INFO cost: 3.22 sec: ==='split_days' end ([], {}) \n"
     ]
    },
    {
     "name": "stdout",
     "output_type": "stream",
     "text": [
      "The input df#12 before split\n",
      "The input df#5 before split\n",
      "The output df#17 after split\n",
      "The output df#36 after split\n",
      "The output df#64 after split\n",
      "The output df#114 after split\n",
      "The output df#178 after split\n",
      "The output df#276 after split\n",
      "The output df#394 after split\n",
      "The output df#545 after split\n",
      "The output df#743 after split\n",
      "The output df#1023 after split\n",
      "The output df#1456 after split\n",
      "The output df#2300 after split\n",
      "The output df#3567 after split\n",
      "The output df#945193 after split\n",
      "Out loop: The new Df size is 945193\n"
     ]
    },
    {
     "name": "stderr",
     "output_type": "stream",
     "text": [
      "2018-09-09 16:47:35,311 util_log.py[34] INFO cost:13.47 sec: ==='split_days_all' end ([], {}) \n",
      "2018-09-09 16:47:35,315 util_log.py[29] INFO Begin to run extend_time with:[], {'span_no': 4}\n"
     ]
    },
    {
     "name": "stdout",
     "output_type": "stream",
     "text": [
      "Try to cal for range#0\n",
      "Try to cal for range#1\n",
      "Try to cal for range#2\n",
      "Try to cal for range#3\n"
     ]
    },
    {
     "name": "stderr",
     "output_type": "stream",
     "text": [
      "2018-09-09 16:49:12,944 util_log.py[34] INFO cost:97.63 sec: ==='extend_time' end ([], {'span_no': 4}) \n",
      "2018-09-09 16:49:12,946 util_log.py[29] INFO Begin to run get_percent_duration with:[['device']], {}\n",
      "2018-09-09 16:49:13,970 util_log.py[34] INFO cost: 1.02 sec: ==='get_percent_duration' end ([['device']], {}) \n",
      "2018-09-09 16:49:13,971 util_log.py[29] INFO Begin to run get_max_week with:[], {}\n",
      "2018-09-09 16:49:14,637 util_log.py[34] INFO cost: 0.67 sec: ==='get_max_week' end ([], {}) \n",
      "2018-09-09 16:49:14,856 util_log.py[29] INFO Begin to run get_percent_duration with:[['device']], {'prefix': 'max'}\n",
      "2018-09-09 16:49:15,226 util_log.py[34] INFO cost: 0.37 sec: ==='get_percent_duration' end ([['device']], {'prefix': 'max'}) \n",
      "2018-09-09 16:49:15,240 util_log.py[29] INFO Begin to run get_start_closed with:[], {}\n"
     ]
    },
    {
     "name": "stdout",
     "output_type": "stream",
     "text": [
      "Try to summary file:./output/start_close/deviceid_package_start_close_40_15_14124453_15065494.csv\n",
      "Sort the df#941041 by device(begin)\n",
      "Sort the df by device(end)\n",
      "Remove 8 records data\n"
     ]
    },
    {
     "name": "stderr",
     "output_type": "stream",
     "text": [
      "2018-09-09 16:49:16,825 util_log.py[34] INFO cost: 1.59 sec: ==='get_start_closed' end ([], {}) \n",
      "2018-09-09 16:49:16,827 util_log.py[29] INFO Begin to run split_days_all with:[], {}\n",
      "2018-09-09 16:49:20,290 util_log.py[29] INFO Begin to run split_days with:[], {}\n"
     ]
    },
    {
     "name": "stdout",
     "output_type": "stream",
     "text": [
      "Out loop: The original Df size is 941033\n",
      "The input df#941033 before split\n"
     ]
    },
    {
     "name": "stderr",
     "output_type": "stream",
     "text": [
      "2018-09-09 16:49:20,540 util_log.py[29] INFO Begin to run split_days with:[], {}\n",
      "2018-09-09 16:49:20,711 util_log.py[29] INFO Begin to run split_days with:[], {}\n"
     ]
    },
    {
     "name": "stdout",
     "output_type": "stream",
     "text": [
      "The input df#1273 before split\n"
     ]
    },
    {
     "name": "stderr",
     "output_type": "stream",
     "text": [
      "2018-09-09 16:49:20,868 util_log.py[29] INFO Begin to run split_days with:[], {}\n",
      "2018-09-09 16:49:21,027 util_log.py[29] INFO Begin to run split_days with:[], {}\n"
     ]
    },
    {
     "name": "stdout",
     "output_type": "stream",
     "text": [
      "The input df#869 before split\n",
      "The input df#451 before split\n",
      "The input df#285 before split"
     ]
    },
    {
     "name": "stderr",
     "output_type": "stream",
     "text": [
      "2018-09-09 16:49:21,188 util_log.py[29] INFO Begin to run split_days with:[], {}\n",
      "2018-09-09 16:49:21,341 util_log.py[29] INFO Begin to run split_days with:[], {}\n",
      "2018-09-09 16:49:21,492 util_log.py[29] INFO Begin to run split_days with:[], {}\n"
     ]
    },
    {
     "name": "stdout",
     "output_type": "stream",
     "text": [
      "\n",
      "The input df#202 before split\n",
      "The input df#162 before split\n",
      "The input df#130 before split\n"
     ]
    },
    {
     "name": "stderr",
     "output_type": "stream",
     "text": [
      "2018-09-09 16:49:21,652 util_log.py[29] INFO Begin to run split_days with:[], {}\n",
      "2018-09-09 16:49:21,804 util_log.py[29] INFO Begin to run split_days with:[], {}\n"
     ]
    },
    {
     "name": "stdout",
     "output_type": "stream",
     "text": [
      "The input df#107 before split\n",
      "The input df#82 before split\n"
     ]
    },
    {
     "name": "stderr",
     "output_type": "stream",
     "text": [
      "2018-09-09 16:49:21,952 util_log.py[29] INFO Begin to run split_days with:[], {}\n",
      "2018-09-09 16:49:22,107 util_log.py[29] INFO Begin to run split_days with:[], {}\n"
     ]
    },
    {
     "name": "stdout",
     "output_type": "stream",
     "text": [
      "The input df#55 before split\n",
      "The input df#38 before split"
     ]
    },
    {
     "name": "stderr",
     "output_type": "stream",
     "text": [
      "2018-09-09 16:49:22,269 util_log.py[29] INFO Begin to run split_days with:[], {}\n",
      "2018-09-09 16:49:22,421 util_log.py[29] INFO Begin to run split_days with:[], {}\n"
     ]
    },
    {
     "name": "stdout",
     "output_type": "stream",
     "text": [
      "\n",
      "The input df#28 before split\n",
      "The input df#15 before split"
     ]
    },
    {
     "name": "stderr",
     "output_type": "stream",
     "text": [
      "2018-09-09 16:49:22,581 util_log.py[29] INFO Begin to run split_days with:[], {}\n",
      "2018-09-09 16:49:22,585 util_log.py[34] INFO cost: 0.00 sec: ==='split_days' end ([], {}) \n",
      "2018-09-09 16:49:22,588 util_log.py[34] INFO cost: 0.17 sec: ==='split_days' end ([], {}) \n",
      "2018-09-09 16:49:22,592 util_log.py[34] INFO cost: 0.32 sec: ==='split_days' end ([], {}) \n",
      "2018-09-09 16:49:22,595 util_log.py[34] INFO cost: 0.49 sec: ==='split_days' end ([], {}) \n",
      "2018-09-09 16:49:22,599 util_log.py[34] INFO cost: 0.65 sec: ==='split_days' end ([], {}) \n",
      "2018-09-09 16:49:22,602 util_log.py[34] INFO cost: 0.80 sec: ==='split_days' end ([], {}) \n",
      "2018-09-09 16:49:22,606 util_log.py[34] INFO cost: 0.95 sec: ==='split_days' end ([], {}) \n",
      "2018-09-09 16:49:22,609 util_log.py[34] INFO cost: 1.12 sec: ==='split_days' end ([], {}) \n",
      "2018-09-09 16:49:22,613 util_log.py[34] INFO cost: 1.27 sec: ==='split_days' end ([], {}) \n",
      "2018-09-09 16:49:22,616 util_log.py[34] INFO cost: 1.43 sec: ==='split_days' end ([], {}) \n",
      "2018-09-09 16:49:22,619 util_log.py[34] INFO cost: 1.59 sec: ==='split_days' end ([], {}) \n",
      "2018-09-09 16:49:22,627 util_log.py[34] INFO cost: 1.76 sec: ==='split_days' end ([], {}) \n",
      "2018-09-09 16:49:22,633 util_log.py[34] INFO cost: 1.92 sec: ==='split_days' end ([], {}) \n",
      "2018-09-09 16:49:22,636 util_log.py[34] INFO cost: 2.10 sec: ==='split_days' end ([], {}) \n",
      "2018-09-09 16:49:22,708 util_log.py[34] INFO cost: 2.42 sec: ==='split_days' end ([], {}) \n"
     ]
    },
    {
     "name": "stdout",
     "output_type": "stream",
     "text": [
      "\n",
      "The input df#4 before split\n",
      "The output df#19 after split\n",
      "The output df#47 after split\n",
      "The output df#85 after split\n",
      "The output df#140 after split\n",
      "The output df#222 after split\n",
      "The output df#329 after split\n",
      "The output df#459 after split\n",
      "The output df#621 after split\n",
      "The output df#823 after split\n",
      "The output df#1108 after split\n",
      "The output df#1559 after split\n",
      "The output df#2428 after split\n",
      "The output df#3701 after split\n",
      "The output df#944734 after split\n",
      "Out loop: The new Df size is 944734\n"
     ]
    },
    {
     "name": "stderr",
     "output_type": "stream",
     "text": [
      "2018-09-09 16:49:28,174 util_log.py[34] INFO cost:11.35 sec: ==='split_days_all' end ([], {}) \n",
      "2018-09-09 16:49:28,176 util_log.py[29] INFO Begin to run extend_time with:[], {'span_no': 4}\n"
     ]
    },
    {
     "name": "stdout",
     "output_type": "stream",
     "text": [
      "Try to cal for range#0\n",
      "Try to cal for range#1\n",
      "Try to cal for range#2\n",
      "Try to cal for range#3\n"
     ]
    },
    {
     "name": "stderr",
     "output_type": "stream",
     "text": [
      "2018-09-09 16:51:07,135 util_log.py[34] INFO cost:98.96 sec: ==='extend_time' end ([], {'span_no': 4}) \n",
      "2018-09-09 16:51:07,137 util_log.py[29] INFO Begin to run get_percent_duration with:[['device']], {}\n",
      "2018-09-09 16:51:08,183 util_log.py[34] INFO cost: 1.05 sec: ==='get_percent_duration' end ([['device']], {}) \n",
      "2018-09-09 16:51:08,185 util_log.py[29] INFO Begin to run get_max_week with:[], {}\n",
      "2018-09-09 16:51:08,859 util_log.py[34] INFO cost: 0.67 sec: ==='get_max_week' end ([], {}) \n",
      "2018-09-09 16:51:09,077 util_log.py[29] INFO Begin to run get_percent_duration with:[['device']], {'prefix': 'max'}\n",
      "2018-09-09 16:51:09,437 util_log.py[34] INFO cost: 0.36 sec: ==='get_percent_duration' end ([['device']], {'prefix': 'max'}) \n",
      "2018-09-09 16:51:09,452 util_log.py[29] INFO Begin to run get_start_closed with:[], {}\n"
     ]
    },
    {
     "name": "stdout",
     "output_type": "stream",
     "text": [
      "Try to summary file:./output/start_close/deviceid_package_start_close_40_14_13182781_14124453.csv\n",
      "Sort the df#941672 by device(begin)\n"
     ]
    },
    {
     "name": "stderr",
     "output_type": "stream",
     "text": [
      "2018-09-09 16:51:10,954 util_log.py[34] INFO cost: 1.50 sec: ==='get_start_closed' end ([], {}) \n",
      "2018-09-09 16:51:10,956 util_log.py[29] INFO Begin to run split_days_all with:[], {}\n"
     ]
    },
    {
     "name": "stdout",
     "output_type": "stream",
     "text": [
      "Sort the df by device(end)\n",
      "Remove 0 records data\n"
     ]
    },
    {
     "name": "stderr",
     "output_type": "stream",
     "text": [
      "2018-09-09 16:51:14,581 util_log.py[29] INFO Begin to run split_days with:[], {}\n"
     ]
    },
    {
     "name": "stdout",
     "output_type": "stream",
     "text": [
      "Out loop: The original Df size is 941672\n",
      "The input df#941672 before split\n"
     ]
    },
    {
     "name": "stderr",
     "output_type": "stream",
     "text": [
      "2018-09-09 16:51:14,846 util_log.py[29] INFO Begin to run split_days with:[], {}\n",
      "2018-09-09 16:51:15,017 util_log.py[29] INFO Begin to run split_days with:[], {}\n"
     ]
    },
    {
     "name": "stdout",
     "output_type": "stream",
     "text": [
      "The input df#1333 before split\n"
     ]
    },
    {
     "name": "stderr",
     "output_type": "stream",
     "text": [
      "2018-09-09 16:51:15,176 util_log.py[29] INFO Begin to run split_days with:[], {}\n",
      "2018-09-09 16:51:15,324 util_log.py[29] INFO Begin to run split_days with:[], {}\n"
     ]
    },
    {
     "name": "stdout",
     "output_type": "stream",
     "text": [
      "The input df#916 before split\n",
      "The input df#508 before split\n",
      "The input df#330 before split\n"
     ]
    },
    {
     "name": "stderr",
     "output_type": "stream",
     "text": [
      "2018-09-09 16:51:15,470 util_log.py[29] INFO Begin to run split_days with:[], {}\n",
      "2018-09-09 16:51:15,615 util_log.py[29] INFO Begin to run split_days with:[], {}\n"
     ]
    },
    {
     "name": "stdout",
     "output_type": "stream",
     "text": [
      "The input df#229 before split\n",
      "The input df#165 before split\n"
     ]
    },
    {
     "name": "stderr",
     "output_type": "stream",
     "text": [
      "2018-09-09 16:51:15,770 util_log.py[29] INFO Begin to run split_days with:[], {}\n",
      "2018-09-09 16:51:15,934 util_log.py[29] INFO Begin to run split_days with:[], {}\n",
      "2018-09-09 16:51:16,090 util_log.py[29] INFO Begin to run split_days with:[], {}\n"
     ]
    },
    {
     "name": "stdout",
     "output_type": "stream",
     "text": [
      "The input df#131 before split\n",
      "The input df#111 before split\n"
     ]
    },
    {
     "name": "stderr",
     "output_type": "stream",
     "text": [
      "2018-09-09 16:51:16,243 util_log.py[29] INFO Begin to run split_days with:[], {}\n",
      "2018-09-09 16:51:16,401 util_log.py[29] INFO Begin to run split_days with:[], {}\n"
     ]
    },
    {
     "name": "stdout",
     "output_type": "stream",
     "text": [
      "The input df#85 before split\n",
      "The input df#62 before split\n",
      "The input df#36 before split\n"
     ]
    },
    {
     "name": "stderr",
     "output_type": "stream",
     "text": [
      "2018-09-09 16:51:16,555 util_log.py[29] INFO Begin to run split_days with:[], {}\n",
      "2018-09-09 16:51:16,703 util_log.py[29] INFO Begin to run split_days with:[], {}\n"
     ]
    },
    {
     "name": "stdout",
     "output_type": "stream",
     "text": [
      "The input df#25 before split\n",
      "The input df#16 before split\n"
     ]
    },
    {
     "name": "stderr",
     "output_type": "stream",
     "text": [
      "2018-09-09 16:51:16,849 util_log.py[29] INFO Begin to run split_days with:[], {}\n",
      "2018-09-09 16:51:16,853 util_log.py[34] INFO cost: 0.00 sec: ==='split_days' end ([], {}) \n",
      "2018-09-09 16:51:16,856 util_log.py[34] INFO cost: 0.15 sec: ==='split_days' end ([], {}) \n",
      "2018-09-09 16:51:16,860 util_log.py[34] INFO cost: 0.30 sec: ==='split_days' end ([], {}) \n",
      "2018-09-09 16:51:16,863 util_log.py[34] INFO cost: 0.46 sec: ==='split_days' end ([], {}) \n",
      "2018-09-09 16:51:16,866 util_log.py[34] INFO cost: 0.62 sec: ==='split_days' end ([], {}) \n",
      "2018-09-09 16:51:16,869 util_log.py[34] INFO cost: 0.78 sec: ==='split_days' end ([], {}) \n",
      "2018-09-09 16:51:16,872 util_log.py[34] INFO cost: 0.94 sec: ==='split_days' end ([], {}) \n",
      "2018-09-09 16:51:16,875 util_log.py[34] INFO cost: 1.11 sec: ==='split_days' end ([], {}) \n",
      "2018-09-09 16:51:16,879 util_log.py[34] INFO cost: 1.26 sec: ==='split_days' end ([], {}) \n",
      "2018-09-09 16:51:16,882 util_log.py[34] INFO cost: 1.41 sec: ==='split_days' end ([], {}) \n",
      "2018-09-09 16:51:16,885 util_log.py[34] INFO cost: 1.56 sec: ==='split_days' end ([], {}) \n",
      "2018-09-09 16:51:16,888 util_log.py[34] INFO cost: 1.71 sec: ==='split_days' end ([], {}) \n",
      "2018-09-09 16:51:16,891 util_log.py[34] INFO cost: 1.87 sec: ==='split_days' end ([], {}) \n",
      "2018-09-09 16:51:16,894 util_log.py[34] INFO cost: 2.05 sec: ==='split_days' end ([], {}) \n",
      "2018-09-09 16:51:16,962 util_log.py[34] INFO cost: 2.38 sec: ==='split_days' end ([], {}) \n"
     ]
    },
    {
     "name": "stdout",
     "output_type": "stream",
     "text": [
      "The input df#7 before split\n",
      "The output df#23 after split\n",
      "The output df#48 after split\n",
      "The output df#84 after split\n",
      "The output df#146 after split\n",
      "The output df#231 after split\n",
      "The output df#342 after split\n",
      "The output df#473 after split\n",
      "The output df#638 after split\n",
      "The output df#867 after split\n",
      "The output df#1197 after split\n",
      "The output df#1705 after split\n",
      "The output df#2621 after split\n",
      "The output df#3954 after split\n",
      "The output df#945626 after split\n",
      "Out loop: The new Df size is 945626\n"
     ]
    },
    {
     "name": "stderr",
     "output_type": "stream",
     "text": [
      "2018-09-09 16:51:22,463 util_log.py[34] INFO cost:11.51 sec: ==='split_days_all' end ([], {}) \n",
      "2018-09-09 16:51:22,465 util_log.py[29] INFO Begin to run extend_time with:[], {'span_no': 4}\n"
     ]
    },
    {
     "name": "stdout",
     "output_type": "stream",
     "text": [
      "Try to cal for range#0\n",
      "Try to cal for range#1\n",
      "Try to cal for range#2\n",
      "Try to cal for range#3\n"
     ]
    },
    {
     "name": "stderr",
     "output_type": "stream",
     "text": [
      "2018-09-09 16:53:04,269 util_log.py[34] INFO cost:101.80 sec: ==='extend_time' end ([], {'span_no': 4}) \n",
      "2018-09-09 16:53:04,277 util_log.py[29] INFO Begin to run get_percent_duration with:[['device']], {}\n",
      "2018-09-09 16:53:05,383 util_log.py[34] INFO cost: 1.11 sec: ==='get_percent_duration' end ([['device']], {}) \n",
      "2018-09-09 16:53:05,385 util_log.py[29] INFO Begin to run get_max_week with:[], {}\n",
      "2018-09-09 16:53:06,113 util_log.py[34] INFO cost: 0.73 sec: ==='get_max_week' end ([], {}) \n",
      "2018-09-09 16:53:06,341 util_log.py[29] INFO Begin to run get_percent_duration with:[['device']], {'prefix': 'max'}\n",
      "2018-09-09 16:53:06,764 util_log.py[34] INFO cost: 0.42 sec: ==='get_percent_duration' end ([['device']], {'prefix': 'max'}) \n",
      "2018-09-09 16:53:06,778 util_log.py[29] INFO Begin to run get_start_closed with:[], {}\n"
     ]
    },
    {
     "name": "stdout",
     "output_type": "stream",
     "text": [
      "Try to summary file:./output/start_close/deviceid_package_start_close_40_13_12240880_13182781.csv\n",
      "Sort the df#941901 by device(begin)\n",
      "Sort the df by device(end)\n",
      "Remove 0 records data\n"
     ]
    },
    {
     "name": "stderr",
     "output_type": "stream",
     "text": [
      "2018-09-09 16:53:08,365 util_log.py[34] INFO cost: 1.59 sec: ==='get_start_closed' end ([], {}) \n",
      "2018-09-09 16:53:08,367 util_log.py[29] INFO Begin to run split_days_all with:[], {}\n",
      "2018-09-09 16:53:13,176 util_log.py[29] INFO Begin to run split_days with:[], {}\n"
     ]
    },
    {
     "name": "stdout",
     "output_type": "stream",
     "text": [
      "Out loop: The original Df size is 941901\n",
      "The input df#941901 before split\n"
     ]
    },
    {
     "name": "stderr",
     "output_type": "stream",
     "text": [
      "2018-09-09 16:53:13,701 util_log.py[29] INFO Begin to run split_days with:[], {}\n",
      "2018-09-09 16:53:13,904 util_log.py[29] INFO Begin to run split_days with:[], {}"
     ]
    },
    {
     "name": "stdout",
     "output_type": "stream",
     "text": [
      "The input df#1266 before split\n"
     ]
    },
    {
     "name": "stderr",
     "output_type": "stream",
     "text": [
      "\n",
      "2018-09-09 16:53:14,072 util_log.py[29] INFO Begin to run split_days with:[], {}\n"
     ]
    },
    {
     "name": "stdout",
     "output_type": "stream",
     "text": [
      "The input df#859 before split\n"
     ]
    },
    {
     "name": "stderr",
     "output_type": "stream",
     "text": [
      "2018-09-09 16:53:14,232 util_log.py[29] INFO Begin to run split_days with:[], {}\n",
      "2018-09-09 16:53:14,390 util_log.py[29] INFO Begin to run split_days with:[], {}\n",
      "2018-09-09 16:53:14,545 util_log.py[29] INFO Begin to run split_days with:[], {}\n"
     ]
    },
    {
     "name": "stdout",
     "output_type": "stream",
     "text": [
      "The input df#465 before split\n",
      "The input df#280 before split\n",
      "The input df#212 before split\n"
     ]
    },
    {
     "name": "stderr",
     "output_type": "stream",
     "text": [
      "2018-09-09 16:53:14,701 util_log.py[29] INFO Begin to run split_days with:[], {}\n",
      "2018-09-09 16:53:14,891 util_log.py[29] INFO Begin to run split_days with:[], {}\n"
     ]
    },
    {
     "name": "stdout",
     "output_type": "stream",
     "text": [
      "The input df#160 before split\n",
      "The input df#129 before split\n"
     ]
    },
    {
     "name": "stderr",
     "output_type": "stream",
     "text": [
      "2018-09-09 16:53:15,090 util_log.py[29] INFO Begin to run split_days with:[], {}\n",
      "2018-09-09 16:53:15,346 util_log.py[29] INFO Begin to run split_days with:[], {}\n"
     ]
    },
    {
     "name": "stdout",
     "output_type": "stream",
     "text": [
      "The input df#111 before split\n",
      "The input df#77 before split\n",
      "The input df#56 before split\n"
     ]
    },
    {
     "name": "stderr",
     "output_type": "stream",
     "text": [
      "2018-09-09 16:53:15,583 util_log.py[29] INFO Begin to run split_days with:[], {}\n",
      "2018-09-09 16:53:15,735 util_log.py[29] INFO Begin to run split_days with:[], {}\n"
     ]
    },
    {
     "name": "stdout",
     "output_type": "stream",
     "text": [
      "The input df#39 before split\n",
      "The input df#23 before split\n"
     ]
    },
    {
     "name": "stderr",
     "output_type": "stream",
     "text": [
      "2018-09-09 16:53:15,881 util_log.py[29] INFO Begin to run split_days with:[], {}\n",
      "2018-09-09 16:53:16,035 util_log.py[29] INFO Begin to run split_days with:[], {}\n",
      "2018-09-09 16:53:16,038 util_log.py[34] INFO cost: 0.00 sec: ==='split_days' end ([], {}) \n",
      "2018-09-09 16:53:16,042 util_log.py[34] INFO cost: 0.16 sec: ==='split_days' end ([], {}) \n",
      "2018-09-09 16:53:16,046 util_log.py[34] INFO cost: 0.31 sec: ==='split_days' end ([], {}) \n",
      "2018-09-09 16:53:16,049 util_log.py[34] INFO cost: 0.47 sec: ==='split_days' end ([], {}) \n",
      "2018-09-09 16:53:16,052 util_log.py[34] INFO cost: 0.71 sec: ==='split_days' end ([], {}) \n",
      "2018-09-09 16:53:16,056 util_log.py[34] INFO cost: 0.97 sec: ==='split_days' end ([], {}) \n",
      "2018-09-09 16:53:16,059 util_log.py[34] INFO cost: 1.17 sec: ==='split_days' end ([], {}) \n",
      "2018-09-09 16:53:16,062 util_log.py[34] INFO cost: 1.36 sec: ==='split_days' end ([], {}) \n",
      "2018-09-09 16:53:16,065 util_log.py[34] INFO cost: 1.52 sec: ==='split_days' end ([], {}) \n",
      "2018-09-09 16:53:16,069 util_log.py[34] INFO cost: 1.68 sec: ==='split_days' end ([], {}) \n",
      "2018-09-09 16:53:16,072 util_log.py[34] INFO cost: 1.84 sec: ==='split_days' end ([], {}) \n",
      "2018-09-09 16:53:16,075 util_log.py[34] INFO cost: 2.00 sec: ==='split_days' end ([], {}) \n",
      "2018-09-09 16:53:16,079 util_log.py[34] INFO cost: 2.18 sec: ==='split_days' end ([], {}) \n",
      "2018-09-09 16:53:16,082 util_log.py[34] INFO cost: 2.38 sec: ==='split_days' end ([], {}) \n",
      "2018-09-09 16:53:16,152 util_log.py[34] INFO cost: 2.98 sec: ==='split_days' end ([], {}) \n"
     ]
    },
    {
     "name": "stdout",
     "output_type": "stream",
     "text": [
      "The input df#13 before split\n",
      "The input df#7 before split\n",
      "The output df#20 after split\n",
      "The output df#43 after split\n",
      "The output df#82 after split\n",
      "The output df#138 after split\n",
      "The output df#215 after split\n",
      "The output df#326 after split\n",
      "The output df#455 after split\n",
      "The output df#615 after split\n",
      "The output df#827 after split\n",
      "The output df#1107 after split\n",
      "The output df#1572 after split\n",
      "The output df#2431 after split\n",
      "The output df#3697 after split\n",
      "The output df#945598 after split\n",
      "Out loop: The new Df size is 945598\n"
     ]
    },
    {
     "name": "stderr",
     "output_type": "stream",
     "text": [
      "2018-09-09 16:53:21,690 util_log.py[34] INFO cost:13.32 sec: ==='split_days_all' end ([], {}) \n",
      "2018-09-09 16:53:21,692 util_log.py[29] INFO Begin to run extend_time with:[], {'span_no': 4}\n"
     ]
    },
    {
     "name": "stdout",
     "output_type": "stream",
     "text": [
      "Try to cal for range#0\n",
      "Try to cal for range#1\n",
      "Try to cal for range#2\n"
     ]
    }
   ],
   "source": [
    "from  tiny.util import *\n",
    "feature = extend_feature(version='1')\n",
    "feature.head()\n"
   ]
  },
  {
   "cell_type": "code",
   "execution_count": null,
   "metadata": {},
   "outputs": [],
   "source": [
    "tmp"
   ]
  },
  {
   "cell_type": "code",
   "execution_count": null,
   "metadata": {},
   "outputs": [],
   "source": [
    "print(pd.to_datetime('1488332491588', unit='ms'))  #fc6383d2bdb463fd01db6731594a6d36\t07e967d75aab2f6a52c558695a572a7c\n",
    "print(pd.to_datetime('1488332506604', unit='ms'))\n",
    "print(pd.to_datetime('1488363700875', unit='ms'))\n",
    "print(pd.to_datetime('1488363707487', unit='ms'))"
   ]
  },
  {
   "cell_type": "code",
   "execution_count": null,
   "metadata": {
    "collapsed": true
   },
   "outputs": [],
   "source": [
    "tmp = extend_time(tmp,2)\n",
    "#tmp['start'].astype\n",
    "#tmp['start'] = pd.to_datetime(tmp['start'])\n",
    "#tmp['start'].dt.date"
   ]
  },
  {
   "cell_type": "code",
   "execution_count": null,
   "metadata": {
    "collapsed": true
   },
   "outputs": [],
   "source": [
    "\n",
    "# def extend_percent(df):\n",
    "#     total = get_percent_duration(df, ['device'], 'total')\n",
    "\n",
    "#     max_week = get_max_week(df)\n",
    "\n",
    "#     merge = df.merge(max_week, on=['device', 'weekbegin'])\n",
    "\n",
    "#     max = get_percent_duration(merge, ['device'], prefix='max')\n",
    "\n",
    "#     return pd.concat( [total, max], axis=1 )\n",
    "\n",
    "\n",
    "# total = get_percent_duration(df, ['device'], 'total')\n",
    "\n",
    "\n",
    "# df = tmp\n",
    "# max_week = get_max_week(df)\n",
    "# max_week.head()\n",
    "# merge = df.merge(max_week, on=['device', 'weekbegin'])\n",
    "\n",
    " \n",
    "# def get_percent_duration(df, groupby=['device', 'weekday'], prefix=None):\n",
    "#     prefix = groupby[-1] if prefix is None else prefix\n",
    "#     columns = [key for key in df.columns if 'span_' in key]\n",
    "#     gp_map = [(key, 'sum') for key in columns if 'span_' in key]\n",
    "#     gp_map = dict(gp_map)\n",
    "#     # print(gp_map)\n",
    "\n",
    "#     gp_map['package'] = 'nunique'\n",
    "#     gp_map['start_base'] = 'nunique'\n",
    "#     df = df.groupby(groupby).agg(gp_map)\n",
    "#     #     df = df.groupby(groupby).agg({'span_0':'sum','span_1':'sum','span_2':'sum',\n",
    "#     #                                                  'span_3':'sum','package':'nunique' })\n",
    "#     df['total'] = df[[key for key in columns if 'span_' in key]].sum(axis=1)\n",
    "\n",
    "#     for col in columns:\n",
    "#         df[f'{col}_p'] = round(df[col] / df['total'], 3)\n",
    "\n",
    "#     df.rename({'package':'package_cnt', 'start_base':'start_base_cnt'}, axis=1, inplace=True)\n",
    "\n",
    "#     df.columns = [f'{prefix}_{key}' for key in df.columns]\n",
    "#     return df\n",
    "\n",
    "per = extend_percent(tmp)\n",
    "per.head()\n",
    "\n",
    "# max_week = get_max_week(tmp)\n",
    "# max_week\n",
    "\n",
    "# merge= tmp.merge(max_week, on = ['device','weekbegin'])\n",
    "\n",
    "# print(len(merge))\n",
    "\n",
    "# get_percent_duration(merge, ['device'], prefix='max')\n",
    "\n",
    "\n",
    "    "
   ]
  },
  {
   "cell_type": "code",
   "execution_count": null,
   "metadata": {
    "collapsed": true
   },
   "outputs": [],
   "source": [
    "per\n",
    "#tmp[tmp.device=='fc6383d2bdb463fd01db6731594a6d36'].sort_values('start')"
   ]
  },
  {
   "cell_type": "code",
   "execution_count": null,
   "metadata": {
    "collapsed": true
   },
   "outputs": [],
   "source": [
    "print('yes')"
   ]
  },
  {
   "cell_type": "code",
   "execution_count": null,
   "metadata": {
    "collapsed": true
   },
   "outputs": [],
   "source": [
    "#tmp['start_base']  = tmp['start'].dt.date\n",
    "# tmp = tmp[tmp.device.isin(['fff885dafce62310951c835247f30a38',\n",
    "# 'fc65f1731b785a8ce82d20a30dee9259'])]\n",
    "\n",
    "df = tmp.groupby(['device','weekbegin']).package.nunique().to_frame().reset_index()\n",
    "\n",
    "# .to_frame().reset_index()\n",
    "# df.sort_values(['device', 'package'])\n",
    "\n",
    "df.sort_values(by=['device', 'package', 'weekbegin'], ascending=False).groupby('device').nth(0)\n"
   ]
  },
  {
   "cell_type": "code",
   "execution_count": null,
   "metadata": {
    "collapsed": true
   },
   "outputs": [],
   "source": [
    "xx = df\n",
    "\n"
   ]
  },
  {
   "cell_type": "code",
   "execution_count": null,
   "metadata": {
    "collapsed": true
   },
   "outputs": [],
   "source": [
    "sn=0\n",
    "df['check_start'] = df['start'].dt.date + pd.DateOffset(hours=6 * (sn) ) \n",
    "df['check_close'] = df['start'].dt.date + pd.DateOffset(hours=6 * (sn+1) ) \n",
    "\n",
    "\n",
    "df['merge_begin'] = df[['check_start', 'start']].max(axis=1)\n",
    "df['merge_end'] = df[['check_close', 'close']].min(axis=1)\n",
    "\n",
    "df[f'span_{sn}'] =   (df['merge_end'] - df['merge_begin']) / np.timedelta64(1, 's')\n",
    "\n",
    "df[f'span_{sn}'][df[f'span_{sn}']<=0] = 0\n",
    "df\n",
    "\n"
   ]
  },
  {
   "cell_type": "code",
   "execution_count": null,
   "metadata": {
    "collapsed": true
   },
   "outputs": [],
   "source": [
    "tmp = get_start_closed('full')\n"
   ]
  },
  {
   "cell_type": "code",
   "execution_count": null,
   "metadata": {
    "collapsed": true
   },
   "outputs": [],
   "source": [
    "tmp = extend_cols(tmp)\n",
    "tmp, tmp_new = split_days(tmp)\n",
    "\n",
    "tmp.head()"
   ]
  },
  {
   "cell_type": "code",
   "execution_count": null,
   "metadata": {
    "collapsed": true
   },
   "outputs": [],
   "source": [
    "tmp, tmp_new = split_days(tmp)\n",
    "tmp.head()"
   ]
  },
  {
   "cell_type": "code",
   "execution_count": null,
   "metadata": {
    "collapsed": true
   },
   "outputs": [],
   "source": [
    "trainn_label = get_train_label()\n",
    "trainn_label.head()"
   ]
  },
  {
   "cell_type": "code",
   "execution_count": null,
   "metadata": {
    "collapsed": true
   },
   "outputs": [],
   "source": []
  }
 ],
 "metadata": {
  "kernelspec": {
   "display_name": "Python 3",
   "language": "python",
   "name": "python3"
  },
  "language_info": {
   "codemirror_mode": {
    "name": "ipython",
    "version": 3
   },
   "file_extension": ".py",
   "mimetype": "text/x-python",
   "name": "python",
   "nbconvert_exporter": "python",
   "pygments_lexer": "ipython3",
   "version": "3.6.3"
  }
 },
 "nbformat": 4,
 "nbformat_minor": 2
}
